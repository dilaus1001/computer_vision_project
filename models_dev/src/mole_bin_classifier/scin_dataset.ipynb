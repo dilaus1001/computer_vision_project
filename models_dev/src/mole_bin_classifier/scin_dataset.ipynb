{
 "cells": [
  {
   "cell_type": "code",
   "execution_count": 29,
   "metadata": {},
   "outputs": [],
   "source": [
    "import collections\n",
    "import copy\n",
    "import hashlib\n",
    "import io\n",
    "import os\n",
    "import subprocess\n",
    "import textwrap\n",
    "import time\n",
    "\n",
    "from typing import List, Text\n",
    "\n",
    "from PIL import Image\n",
    "\n",
    "import numpy as np\n",
    "import pandas as pd\n",
    "# import tabulate\n",
    "\n",
    "\n",
    "import tensorflow as tf\n",
    "\n",
    "import matplotlib.pyplot as plt\n",
    "\n",
    "from imblearn.over_sampling import SMOTE\n",
    "from collections import Counter\n",
    "from sklearn.preprocessing import LabelEncoder\n"
   ]
  },
  {
   "cell_type": "code",
   "execution_count": 32,
   "metadata": {},
   "outputs": [
    {
     "name": "stdout",
     "output_type": "stream",
     "text": [
      "1902\n",
      "12345\n",
      "          image_id  patient_id   image_type copyright-license  split  \\\n",
      "607    DERM_172873  PID_152688  dermoscopic             CC-BY  train   \n",
      "608    DERM_204720  PID_152688  dermoscopic             CC-BY  train   \n",
      "609    DERM_355404  PID_152688  dermoscopic             CC-BY  train   \n",
      "610    DERM_263067  PID_233835  dermoscopic             CC-BY  train   \n",
      "611    DERM_912184  PID_233835  dermoscopic             CC-BY  train   \n",
      "...            ...         ...          ...               ...    ...   \n",
      "12324  DERM_175495  PID_996758  dermoscopic             CC-BY   test   \n",
      "12325  DERM_196069  PID_996758  dermoscopic             CC-BY   test   \n",
      "12326  DERM_985535  PID_999593  dermoscopic             CC-BY   test   \n",
      "12327  DERM_985554  PID_999597  dermoscopic             CC-BY   test   \n",
      "12328  DERM_985555  PID_999597  dermoscopic             CC-BY   test   \n",
      "\n",
      "          super_class     malignancy   main_class_1   main_class_2  \\\n",
      "607    nonmelanocytic  indeterminate  keratinocytic  keratinocytic   \n",
      "608    nonmelanocytic  indeterminate  keratinocytic  keratinocytic   \n",
      "609    nonmelanocytic  indeterminate  keratinocytic  keratinocytic   \n",
      "610    nonmelanocytic  indeterminate  keratinocytic  keratinocytic   \n",
      "611    nonmelanocytic  indeterminate  keratinocytic  keratinocytic   \n",
      "...               ...            ...            ...            ...   \n",
      "12324  nonmelanocytic         benign  keratinocytic  keratinocytic   \n",
      "12325  nonmelanocytic         benign  keratinocytic  keratinocytic   \n",
      "12326  nonmelanocytic         benign  keratinocytic  keratinocytic   \n",
      "12327  nonmelanocytic         benign  keratinocytic  keratinocytic   \n",
      "12328  nonmelanocytic         benign  keratinocytic  keratinocytic   \n",
      "\n",
      "                  sub_class   label     id  \n",
      "607       actinic_keratosis  others  False  \n",
      "608       actinic_keratosis  others  False  \n",
      "609       actinic_keratosis  others  False  \n",
      "610       actinic_keratosis  others  False  \n",
      "611       actinic_keratosis  others  False  \n",
      "...                     ...     ...    ...  \n",
      "12324  seborrheic_keratosis  others   True  \n",
      "12325  seborrheic_keratosis  others   True  \n",
      "12326  seborrheic_keratosis  others   True  \n",
      "12327  seborrheic_keratosis  others   True  \n",
      "12328  seborrheic_keratosis  others   True  \n",
      "\n",
      "[1902 rows x 12 columns]\n"
     ]
    },
    {
     "name": "stderr",
     "output_type": "stream",
     "text": [
      "/var/folders/kk/2c_8134s1jqf2s0cx82ytg3h0000gn/T/ipykernel_13928/683379235.py:15: SettingWithCopyWarning: \n",
      "A value is trying to be set on a copy of a slice from a DataFrame.\n",
      "Try using .loc[row_indexer,col_indexer] = value instead\n",
      "\n",
      "See the caveats in the documentation: https://pandas.pydata.org/pandas-docs/stable/user_guide/indexing.html#returning-a-view-versus-a-copy\n",
      "  df_filtered['label'] = 'others'\n"
     ]
    }
   ],
   "source": [
    "# Class to use: sk, lk, df, angk, ha, la, pg, sa, ak, bcc, bd, ch, mpd, scc, dfsp, ks\n",
    "train_dir = '/Users/francesco/repos/computer_vision_project/dataset/dataverse_files/derm12345_train'\n",
    "csv_train_dir = '/Users/francesco/repos/computer_vision_project/dataset/dataverse_files/derm12345_metadata_train.csv'\n",
    "test_dir = '/Users/francesco/repos/computer_vision_project/dataset/dataverse_files/derm12345_test'\n",
    "csv_test_dir = '/Users/francesco/repos/computer_vision_project/dataset/dataverse_files/derm12345_metadata_test.csv'\n",
    "\n",
    "df_train = pd.read_csv(csv_train_dir)\n",
    "df_test = pd.read_csv(csv_test_dir)\n",
    "df = pd.concat([df_train, df_test], ignore_index=True)\n",
    "\n",
    "\n",
    "df['id'] = (df['label'] == 'sk')\n",
    "target_labels = ['sk', 'lk', 'df', 'angk', 'ha', 'la', 'pg', 'sa', 'ak', 'bcc', 'bd', 'ch', 'mpd', 'scc', 'dfsp', 'ks']\n",
    "df_filtered = df[df['label'].isin(target_labels)]\n",
    "df_filtered['label'] = 'others'\n",
    "\n",
    "df_minimal = df_filtered[['image_id', 'label']].copy()\n",
    "df_minimal['class'] = 'others'\n",
    "print(len(df_filtered))\n",
    "print(len(df))\n",
    "print(df_filtered)\n"
   ]
  },
  {
   "cell_type": "code",
   "execution_count": 34,
   "metadata": {},
   "outputs": [
    {
     "name": "stdout",
     "output_type": "stream",
     "text": [
      "Original dataset size: 1902\n",
      "Augmented dataset size: 10000\n",
      "\n",
      "Original unique images: 1902\n",
      "Augmented unique images: 1902\n"
     ]
    }
   ],
   "source": [
    "X = pd.DataFrame(df_minimal['image_id'].astype('category').cat.codes)  # Convert image_id to numeric\n",
    "y = df_minimal['class']\n",
    "\n",
    "target_size = 10000  # Desired size of the augmented dataset\n",
    "current_size = len(df_minimal)\n",
    "multiplier = int(np.ceil(target_size / current_size))\n",
    "\n",
    "augmented_df = pd.concat([df_minimal] * multiplier, ignore_index=True)\n",
    "augmented_df = augmented_df.head(target_size)  # Trim to exact size if needed\n",
    "\n",
    "# Add the 'others' class label\n",
    "augmented_df['class'] = 'others'\n",
    "\n",
    "print(\"Original dataset size:\", len(df_filtered))\n",
    "print(\"Augmented dataset size:\", len(augmented_df))\n",
    "print(\"\\nOriginal unique images:\", len(df_minimal['image_id'].unique()))\n",
    "print(\"Augmented unique images:\", len(augmented_df['image_id'].unique()))"
   ]
  },
  {
   "cell_type": "code",
   "execution_count": 37,
   "metadata": {},
   "outputs": [
    {
     "name": "stdout",
     "output_type": "stream",
     "text": [
      "Image not found at path: /Users/francesco/repos/computer_vision_project/dataset/dataverse_files/derm12345_test/DERM_172873.jpg\n"
     ]
    }
   ],
   "source": [
    "import matplotlib.pyplot as plt\n",
    "import cv2\n",
    "from PIL import Image\n",
    "import os\n",
    "\n",
    "# Get a sample original image_id\n",
    "original_image_id = df_minimal['image_id'].iloc[0]\n",
    "\n",
    "# Construct paths for the image\n",
    "train_image_path = os.path.join(train_dir, f\"{original_image_id}.jpg\")\n",
    "test_image_path = os.path.join(test_dir, f\"{original_image_id}.jpg\")\n",
    "\n",
    "# Try both train and test paths since the image could be in either\n",
    "image_path = train_image_path if os.path.exists(train_image_path) else test_image_path\n",
    "\n",
    "# Load and display the image\n",
    "if os.path.exists(image_path):\n",
    "    # Read image\n",
    "    image = cv2.imread(image_path)\n",
    "    image = cv2.cvtColor(image, cv2.COLOR_BGR2RGB)  # Convert BGR to RGB\n",
    "    \n",
    "    # Create figure with two subplots\n",
    "    plt.figure(figsize=(12, 6))\n",
    "    \n",
    "    # Plot original image\n",
    "    plt.subplot(1, 2, 1)\n",
    "    plt.imshow(image)\n",
    "    plt.title('Original Image')\n",
    "    plt.axis('off')\n",
    "    \n",
    "    # In this case, the \"augmented\" image is the same since we're just duplicating\n",
    "    plt.subplot(1, 2, 2)\n",
    "    plt.imshow(image)\n",
    "    plt.title('Augmented Image (Duplicate)')\n",
    "    plt.axis('off')\n",
    "    \n",
    "    plt.tight_layout()\n",
    "    plt.show()\n",
    "    \n",
    "    # Print image details\n",
    "    print(f\"Image ID: {original_image_id}\")\n",
    "    print(f\"Image Shape: {image.shape}\")\n",
    "else:\n",
    "    print(f\"Image not found at path: {image_path}\")"
   ]
  }
 ],
 "metadata": {
  "kernelspec": {
   "display_name": "cvproj",
   "language": "python",
   "name": "python3"
  },
  "language_info": {
   "codemirror_mode": {
    "name": "ipython",
    "version": 3
   },
   "file_extension": ".py",
   "mimetype": "text/x-python",
   "name": "python",
   "nbconvert_exporter": "python",
   "pygments_lexer": "ipython3",
   "version": "3.10.16"
  }
 },
 "nbformat": 4,
 "nbformat_minor": 2
}
