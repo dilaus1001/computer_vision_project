{
 "cells": [
  {
   "cell_type": "code",
   "execution_count": 17,
   "metadata": {},
   "outputs": [],
   "source": [
    "import tensorflow as tf\n",
    "from ultralytics import YOLO\n",
    "from pathlib import Path"
   ]
  },
  {
   "cell_type": "code",
   "execution_count": null,
   "metadata": {},
   "outputs": [
    {
     "name": "stdout",
     "output_type": "stream",
     "text": [
      "/Users/francesco/Desktop/computer_vision_project/dataset/mix_dataset/train_images/ISIC_1868816.jpg\n"
     ]
    }
   ],
   "source": [
    "image_path = '/Users/francesco/Desktop/computer_vision_project/dataset/mix_dataset/train_images'\n",
    "yolo_dir = '/Users/francesco/Desktop/computer_vision_project/saved_models/yolo11n_float32.tflite'\n",
    "\n",
    "\n",
    "paths = list(Path(image_path).glob(\"*.jpg\"))[:10]\n",
    "for p in paths:\n",
    "    paths = str(p)\n",
    "print(len(paths))\n",
    "# ------------------ YOLO -------------------\n",
    "# model = YOLO(yolo_dir, task='detect')\n",
    "# results = model(paths)\n",
    "\n",
    "# for result in results:\n",
    "#     boxes = result.boxes  # Boxes object for bounding box outputs\n",
    "#     keypoints = result.keypoints  # Keypoints object for pose outputs\n",
    "#     probs = result.probs  # Probs object for classification outputs\n",
    "#     obb = result.obb  # Oriented boxes object for OBB outputs\n",
    "#     result.show()  # display to screen\n",
    "#     #result.save(filename=\"result.jpg\")  # save to disk"
   ]
  },
  {
   "cell_type": "code",
   "execution_count": null,
   "metadata": {},
   "outputs": [],
   "source": [
    "\n",
    "\n",
    "# Image preprocessing\n",
    "img = tf.io.read_file(image_path)\n",
    "img = tf.image.decode_image(img, channels=3, expand_animations=False)\n",
    "img = tf.cast(img, tf.float32) / 255"
   ]
  }
 ],
 "metadata": {
  "kernelspec": {
   "display_name": "cvproj",
   "language": "python",
   "name": "python3"
  },
  "language_info": {
   "codemirror_mode": {
    "name": "ipython",
    "version": 3
   },
   "file_extension": ".py",
   "mimetype": "text/x-python",
   "name": "python",
   "nbconvert_exporter": "python",
   "pygments_lexer": "ipython3",
   "version": "3.12.4"
  }
 },
 "nbformat": 4,
 "nbformat_minor": 2
}
