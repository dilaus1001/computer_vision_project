{
 "cells": [
  {
   "cell_type": "code",
   "execution_count": 1,
   "metadata": {},
   "outputs": [],
   "source": [
    "from ultralytics import YOLO"
   ]
  },
  {
   "cell_type": "code",
   "execution_count": 9,
   "metadata": {},
   "outputs": [
    {
     "name": "stdout",
     "output_type": "stream",
     "text": [
      "Image size: 600x450\n"
     ]
    }
   ],
   "source": [
    "import cv2\n",
    "img = cv2.imread('/Users/francesco/Repository/computer_vision_project/dataset/HAM10000/yolo_dataset/train/images/ISIC_0024308.jpg')\n",
    "height, width = img.shape[:2]\n",
    "print(f\"Image size: {width}x{height}\")"
   ]
  },
  {
   "cell_type": "code",
   "execution_count": 3,
   "metadata": {},
   "outputs": [
    {
     "name": "stdout",
     "output_type": "stream",
     "text": [
      "Ultralytics 8.3.57 🚀 Python-3.8.20 torch-2.4.1+cu118 CUDA:0 (NVIDIA GeForce GTX 1050 Ti with Max-Q Design, 4032MiB)\n",
      "\u001b[34m\u001b[1mengine/trainer: \u001b[0mtask=detect, mode=train, model=yolo11n.pt, data=/home/francesco/Desktop/archive/dataset_kaggle.yaml, epochs=1000, time=None, patience=20, batch=16, imgsz=608, save=True, save_period=-1, cache=False, device=cuda, workers=8, project=None, name=train10, exist_ok=False, pretrained=True, optimizer=auto, verbose=True, seed=0, deterministic=True, single_cls=False, rect=True, cos_lr=False, close_mosaic=10, resume=False, amp=True, fraction=1.0, profile=False, freeze=None, multi_scale=False, overlap_mask=True, mask_ratio=4, dropout=0.0, val=True, split=val, save_json=False, save_hybrid=False, conf=None, iou=0.7, max_det=300, half=False, dnn=False, plots=True, source=None, vid_stride=1, stream_buffer=False, visualize=False, augment=False, agnostic_nms=False, classes=None, retina_masks=False, embed=None, show=False, save_frames=False, save_txt=False, save_conf=False, save_crop=False, show_labels=True, show_conf=True, show_boxes=True, line_width=None, format=torchscript, keras=False, optimize=False, int8=False, dynamic=False, simplify=True, opset=None, workspace=None, nms=True, lr0=0.01, lrf=0.01, momentum=0.937, weight_decay=0.0005, warmup_epochs=3.0, warmup_momentum=0.8, warmup_bias_lr=0.1, box=7.5, cls=0.5, dfl=1.5, pose=12.0, kobj=1.0, nbs=64, hsv_h=0.015, hsv_s=0.7, hsv_v=0.4, degrees=0.0, translate=0.1, scale=0.5, shear=0.0, perspective=0.0, flipud=0.0, fliplr=0.5, bgr=0.0, mosaic=1.0, mixup=0.0, copy_paste=0.0, copy_paste_mode=flip, auto_augment=randaugment, erasing=0.4, crop_fraction=1.0, cfg=None, tracker=botsort.yaml, save_dir=runs/detect/train10\n",
      "Overriding model.yaml nc=80 with nc=1\n",
      "\n",
      "                   from  n    params  module                                       arguments                     \n",
      "  0                  -1  1       464  ultralytics.nn.modules.conv.Conv             [3, 16, 3, 2]                 \n",
      "  1                  -1  1      4672  ultralytics.nn.modules.conv.Conv             [16, 32, 3, 2]                \n",
      "  2                  -1  1      6640  ultralytics.nn.modules.block.C3k2            [32, 64, 1, False, 0.25]      \n",
      "  3                  -1  1     36992  ultralytics.nn.modules.conv.Conv             [64, 64, 3, 2]                \n",
      "  4                  -1  1     26080  ultralytics.nn.modules.block.C3k2            [64, 128, 1, False, 0.25]     \n",
      "  5                  -1  1    147712  ultralytics.nn.modules.conv.Conv             [128, 128, 3, 2]              \n",
      "  6                  -1  1     87040  ultralytics.nn.modules.block.C3k2            [128, 128, 1, True]           \n",
      "  7                  -1  1    295424  ultralytics.nn.modules.conv.Conv             [128, 256, 3, 2]              \n",
      "  8                  -1  1    346112  ultralytics.nn.modules.block.C3k2            [256, 256, 1, True]           \n",
      "  9                  -1  1    164608  ultralytics.nn.modules.block.SPPF            [256, 256, 5]                 \n",
      " 10                  -1  1    249728  ultralytics.nn.modules.block.C2PSA           [256, 256, 1]                 \n",
      " 11                  -1  1         0  torch.nn.modules.upsampling.Upsample         [None, 2, 'nearest']          \n",
      " 12             [-1, 6]  1         0  ultralytics.nn.modules.conv.Concat           [1]                           \n",
      " 13                  -1  1    111296  ultralytics.nn.modules.block.C3k2            [384, 128, 1, False]          \n",
      " 14                  -1  1         0  torch.nn.modules.upsampling.Upsample         [None, 2, 'nearest']          \n",
      " 15             [-1, 4]  1         0  ultralytics.nn.modules.conv.Concat           [1]                           \n",
      " 16                  -1  1     32096  ultralytics.nn.modules.block.C3k2            [256, 64, 1, False]           \n",
      " 17                  -1  1     36992  ultralytics.nn.modules.conv.Conv             [64, 64, 3, 2]                \n",
      " 18            [-1, 13]  1         0  ultralytics.nn.modules.conv.Concat           [1]                           \n",
      " 19                  -1  1     86720  ultralytics.nn.modules.block.C3k2            [192, 128, 1, False]          \n",
      " 20                  -1  1    147712  ultralytics.nn.modules.conv.Conv             [128, 128, 3, 2]              \n",
      " 21            [-1, 10]  1         0  ultralytics.nn.modules.conv.Concat           [1]                           \n",
      " 22                  -1  1    378880  ultralytics.nn.modules.block.C3k2            [384, 256, 1, True]           \n",
      " 23        [16, 19, 22]  1    430867  ultralytics.nn.modules.head.Detect           [1, [64, 128, 256]]           \n",
      "YOLO11n summary: 319 layers, 2,590,035 parameters, 2,590,019 gradients, 6.4 GFLOPs\n",
      "\n",
      "Transferred 448/499 items from pretrained weights\n",
      "Freezing layer 'model.23.dfl.conv.weight'\n",
      "\u001b[34m\u001b[1mAMP: \u001b[0mrunning Automatic Mixed Precision (AMP) checks...\n",
      "\u001b[34m\u001b[1mAMP: \u001b[0mchecks passed ✅\n"
     ]
    },
    {
     "name": "stderr",
     "output_type": "stream",
     "text": [
      "\u001b[34m\u001b[1mtrain: \u001b[0mScanning /home/francesco/Desktop/archive/yolo_dataset/yolo_dataset/train/labels.cache... 7009 images, 0 backgrounds, 0 corrupt: 100%|██████████| 7009/7009 [00:00<?, ?it/s]"
     ]
    },
    {
     "name": "stdout",
     "output_type": "stream",
     "text": [
      "WARNING ⚠️ 'rect=True' is incompatible with DataLoader shuffle, setting shuffle=False\n"
     ]
    },
    {
     "name": "stderr",
     "output_type": "stream",
     "text": [
      "\n",
      "\u001b[34m\u001b[1mval: \u001b[0mScanning /home/francesco/Desktop/archive/yolo_dataset/yolo_dataset/val/labels.cache... 1503 images, 0 backgrounds, 0 corrupt: 100%|██████████| 1503/1503 [00:00<?, ?it/s]\n"
     ]
    },
    {
     "name": "stdout",
     "output_type": "stream",
     "text": [
      "Plotting labels to runs/detect/train10/labels.jpg... \n",
      "\u001b[34m\u001b[1moptimizer:\u001b[0m 'optimizer=auto' found, ignoring 'lr0=0.01' and 'momentum=0.937' and determining best 'optimizer', 'lr0' and 'momentum' automatically... \n",
      "\u001b[34m\u001b[1moptimizer:\u001b[0m SGD(lr=0.01, momentum=0.9) with parameter groups 81 weight(decay=0.0), 88 weight(decay=0.0005), 87 bias(decay=0.0)\n",
      "Image sizes 608 train, 608 val\n",
      "Using 8 dataloader workers\n",
      "Logging results to \u001b[1mruns/detect/train10\u001b[0m\n",
      "Starting training for 1000 epochs...\n",
      "\n",
      "      Epoch    GPU_mem   box_loss   cls_loss   dfl_loss  Instances       Size\n"
     ]
    },
    {
     "name": "stderr",
     "output_type": "stream",
     "text": [
      "     1/1000      2.08G     0.8498      1.746      1.335          1        608: 100%|██████████| 439/439 [05:39<00:00,  1.29it/s]\n",
      "                 Class     Images  Instances      Box(P          R      mAP50  mAP50-95): 100%|██████████| 47/47 [00:28<00:00,  1.63it/s]\n"
     ]
    },
    {
     "name": "stdout",
     "output_type": "stream",
     "text": [
      "                   all       1503       1503      0.924      0.913      0.951      0.689\n",
      "\n",
      "      Epoch    GPU_mem   box_loss   cls_loss   dfl_loss  Instances       Size\n"
     ]
    },
    {
     "name": "stderr",
     "output_type": "stream",
     "text": [
      "     2/1000      2.26G     0.8197     0.8658      1.278          1        608: 100%|██████████| 439/439 [06:05<00:00,  1.20it/s]\n",
      "                 Class     Images  Instances      Box(P          R      mAP50  mAP50-95): 100%|██████████| 47/47 [00:26<00:00,  1.80it/s]\n"
     ]
    },
    {
     "name": "stdout",
     "output_type": "stream",
     "text": [
      "                   all       1503       1503      0.941      0.915      0.964       0.73\n",
      "\n",
      "      Epoch    GPU_mem   box_loss   cls_loss   dfl_loss  Instances       Size\n"
     ]
    },
    {
     "name": "stderr",
     "output_type": "stream",
     "text": [
      "     3/1000      2.25G     0.8866     0.6783      1.336          1        608: 100%|██████████| 439/439 [06:17<00:00,  1.16it/s]\n",
      "                 Class     Images  Instances      Box(P          R      mAP50  mAP50-95): 100%|██████████| 47/47 [00:27<00:00,  1.70it/s]"
     ]
    },
    {
     "name": "stdout",
     "output_type": "stream",
     "text": [
      "                   all       1503       1503      0.902       0.91      0.949      0.654\n"
     ]
    },
    {
     "name": "stderr",
     "output_type": "stream",
     "text": [
      "\n"
     ]
    },
    {
     "name": "stdout",
     "output_type": "stream",
     "text": [
      "\n",
      "      Epoch    GPU_mem   box_loss   cls_loss   dfl_loss  Instances       Size\n"
     ]
    },
    {
     "name": "stderr",
     "output_type": "stream",
     "text": [
      "     4/1000      2.25G     0.9094     0.6095      1.345          1        608: 100%|██████████| 439/439 [06:21<00:00,  1.15it/s]\n",
      "                 Class     Images  Instances      Box(P          R      mAP50  mAP50-95): 100%|██████████| 47/47 [00:27<00:00,  1.69it/s]"
     ]
    },
    {
     "name": "stdout",
     "output_type": "stream",
     "text": [
      "                   all       1503       1503      0.902      0.905      0.945       0.71\n"
     ]
    },
    {
     "name": "stderr",
     "output_type": "stream",
     "text": [
      "\n"
     ]
    },
    {
     "name": "stdout",
     "output_type": "stream",
     "text": [
      "\n",
      "      Epoch    GPU_mem   box_loss   cls_loss   dfl_loss  Instances       Size\n"
     ]
    },
    {
     "name": "stderr",
     "output_type": "stream",
     "text": [
      "     5/1000      2.24G     0.8503     0.5425      1.308          1        608: 100%|██████████| 439/439 [06:22<00:00,  1.15it/s]\n",
      "                 Class     Images  Instances      Box(P          R      mAP50  mAP50-95): 100%|██████████| 47/47 [00:27<00:00,  1.69it/s]"
     ]
    },
    {
     "name": "stdout",
     "output_type": "stream",
     "text": [
      "                   all       1503       1503      0.955      0.929       0.98      0.768\n"
     ]
    },
    {
     "name": "stderr",
     "output_type": "stream",
     "text": [
      "\n"
     ]
    },
    {
     "name": "stdout",
     "output_type": "stream",
     "text": [
      "\n",
      "      Epoch    GPU_mem   box_loss   cls_loss   dfl_loss  Instances       Size\n"
     ]
    },
    {
     "name": "stderr",
     "output_type": "stream",
     "text": [
      "     6/1000      2.24G     0.8091     0.4916      1.273          1        608: 100%|██████████| 439/439 [06:32<00:00,  1.12it/s]\n",
      "                 Class     Images  Instances      Box(P          R      mAP50  mAP50-95): 100%|██████████| 47/47 [00:28<00:00,  1.67it/s]"
     ]
    },
    {
     "name": "stdout",
     "output_type": "stream",
     "text": [
      "                   all       1503       1503      0.936       0.92      0.971      0.731\n"
     ]
    },
    {
     "name": "stderr",
     "output_type": "stream",
     "text": [
      "\n"
     ]
    },
    {
     "name": "stdout",
     "output_type": "stream",
     "text": [
      "\n",
      "      Epoch    GPU_mem   box_loss   cls_loss   dfl_loss  Instances       Size\n"
     ]
    },
    {
     "name": "stderr",
     "output_type": "stream",
     "text": [
      "     7/1000      2.23G     0.7816     0.4671      1.248          1        608: 100%|██████████| 439/439 [06:37<00:00,  1.11it/s]\n",
      "                 Class     Images  Instances      Box(P          R      mAP50  mAP50-95): 100%|██████████| 47/47 [00:29<00:00,  1.62it/s]"
     ]
    },
    {
     "name": "stdout",
     "output_type": "stream",
     "text": [
      "                   all       1503       1503      0.936      0.932      0.975      0.771\n"
     ]
    },
    {
     "name": "stderr",
     "output_type": "stream",
     "text": [
      "\n"
     ]
    },
    {
     "name": "stdout",
     "output_type": "stream",
     "text": [
      "\n",
      "      Epoch    GPU_mem   box_loss   cls_loss   dfl_loss  Instances       Size\n"
     ]
    },
    {
     "name": "stderr",
     "output_type": "stream",
     "text": [
      "     8/1000      2.25G     0.7632     0.4541      1.233          1        608: 100%|██████████| 439/439 [06:45<00:00,  1.08it/s]\n",
      "                 Class     Images  Instances      Box(P          R      mAP50  mAP50-95): 100%|██████████| 47/47 [00:28<00:00,  1.65it/s]"
     ]
    },
    {
     "name": "stdout",
     "output_type": "stream",
     "text": [
      "                   all       1503       1503      0.955      0.942       0.98      0.802\n"
     ]
    },
    {
     "name": "stderr",
     "output_type": "stream",
     "text": [
      "\n"
     ]
    },
    {
     "name": "stdout",
     "output_type": "stream",
     "text": [
      "\n",
      "      Epoch    GPU_mem   box_loss   cls_loss   dfl_loss  Instances       Size\n"
     ]
    },
    {
     "name": "stderr",
     "output_type": "stream",
     "text": [
      "     9/1000      2.24G     0.7436     0.4402      1.224          1        608: 100%|██████████| 439/439 [06:58<00:00,  1.05it/s]\n",
      "                 Class     Images  Instances      Box(P          R      mAP50  mAP50-95): 100%|██████████| 47/47 [00:28<00:00,  1.68it/s]"
     ]
    },
    {
     "name": "stdout",
     "output_type": "stream",
     "text": [
      "                   all       1503       1503      0.944      0.947      0.982       0.79\n"
     ]
    },
    {
     "name": "stderr",
     "output_type": "stream",
     "text": [
      "\n"
     ]
    },
    {
     "name": "stdout",
     "output_type": "stream",
     "text": [
      "\n",
      "      Epoch    GPU_mem   box_loss   cls_loss   dfl_loss  Instances       Size\n"
     ]
    },
    {
     "name": "stderr",
     "output_type": "stream",
     "text": [
      "    10/1000      2.24G     0.7245     0.4253      1.204          1        608: 100%|██████████| 439/439 [07:00<00:00,  1.04it/s]\n",
      "                 Class     Images  Instances      Box(P          R      mAP50  mAP50-95): 100%|██████████| 47/47 [00:29<00:00,  1.61it/s]"
     ]
    },
    {
     "name": "stdout",
     "output_type": "stream",
     "text": [
      "                   all       1503       1503      0.949      0.947      0.984      0.814\n"
     ]
    },
    {
     "name": "stderr",
     "output_type": "stream",
     "text": [
      "\n"
     ]
    },
    {
     "name": "stdout",
     "output_type": "stream",
     "text": [
      "\n",
      "      Epoch    GPU_mem   box_loss   cls_loss   dfl_loss  Instances       Size\n"
     ]
    },
    {
     "name": "stderr",
     "output_type": "stream",
     "text": [
      "    11/1000      2.23G     0.7225      0.422      1.209          1        608: 100%|██████████| 439/439 [07:06<00:00,  1.03it/s]\n",
      "                 Class     Images  Instances      Box(P          R      mAP50  mAP50-95): 100%|██████████| 47/47 [00:28<00:00,  1.65it/s]"
     ]
    },
    {
     "name": "stdout",
     "output_type": "stream",
     "text": [
      "                   all       1503       1503      0.951      0.961      0.985      0.822\n"
     ]
    },
    {
     "name": "stderr",
     "output_type": "stream",
     "text": [
      "\n"
     ]
    },
    {
     "name": "stdout",
     "output_type": "stream",
     "text": [
      "\n",
      "      Epoch    GPU_mem   box_loss   cls_loss   dfl_loss  Instances       Size\n"
     ]
    },
    {
     "name": "stderr",
     "output_type": "stream",
     "text": [
      "    12/1000      2.25G     0.7149     0.4067      1.192          1        608: 100%|██████████| 439/439 [07:14<00:00,  1.01it/s]\n",
      "                 Class     Images  Instances      Box(P          R      mAP50  mAP50-95): 100%|██████████| 47/47 [00:29<00:00,  1.59it/s]"
     ]
    },
    {
     "name": "stdout",
     "output_type": "stream",
     "text": [
      "                   all       1503       1503      0.956      0.936      0.982      0.806\n"
     ]
    },
    {
     "name": "stderr",
     "output_type": "stream",
     "text": [
      "\n"
     ]
    },
    {
     "name": "stdout",
     "output_type": "stream",
     "text": [
      "\n",
      "      Epoch    GPU_mem   box_loss   cls_loss   dfl_loss  Instances       Size\n"
     ]
    },
    {
     "name": "stderr",
     "output_type": "stream",
     "text": [
      "    13/1000      2.24G      0.699     0.4043      1.191          1        608: 100%|██████████| 439/439 [07:12<00:00,  1.01it/s]\n",
      "                 Class     Images  Instances      Box(P          R      mAP50  mAP50-95): 100%|██████████| 47/47 [00:30<00:00,  1.55it/s]"
     ]
    },
    {
     "name": "stdout",
     "output_type": "stream",
     "text": [
      "                   all       1503       1503       0.95      0.942       0.98      0.812\n"
     ]
    },
    {
     "name": "stderr",
     "output_type": "stream",
     "text": [
      "\n"
     ]
    },
    {
     "name": "stdout",
     "output_type": "stream",
     "text": [
      "\n",
      "      Epoch    GPU_mem   box_loss   cls_loss   dfl_loss  Instances       Size\n"
     ]
    },
    {
     "name": "stderr",
     "output_type": "stream",
     "text": [
      "    14/1000      2.24G     0.6933     0.3962      1.182          1        608: 100%|██████████| 439/439 [07:20<00:00,  1.00s/it]\n",
      "                 Class     Images  Instances      Box(P          R      mAP50  mAP50-95): 100%|██████████| 47/47 [00:28<00:00,  1.64it/s]"
     ]
    },
    {
     "name": "stdout",
     "output_type": "stream",
     "text": [
      "                   all       1503       1503      0.957      0.944      0.984      0.826\n"
     ]
    },
    {
     "name": "stderr",
     "output_type": "stream",
     "text": [
      "\n"
     ]
    },
    {
     "name": "stdout",
     "output_type": "stream",
     "text": [
      "\n",
      "      Epoch    GPU_mem   box_loss   cls_loss   dfl_loss  Instances       Size\n"
     ]
    },
    {
     "name": "stderr",
     "output_type": "stream",
     "text": [
      "    15/1000      2.23G     0.6815     0.3877      1.177          1        608: 100%|██████████| 439/439 [07:19<00:00,  1.00s/it]\n",
      "                 Class     Images  Instances      Box(P          R      mAP50  mAP50-95): 100%|██████████| 47/47 [00:28<00:00,  1.65it/s]"
     ]
    },
    {
     "name": "stdout",
     "output_type": "stream",
     "text": [
      "                   all       1503       1503      0.948      0.936      0.981      0.815\n"
     ]
    },
    {
     "name": "stderr",
     "output_type": "stream",
     "text": [
      "\n"
     ]
    },
    {
     "name": "stdout",
     "output_type": "stream",
     "text": [
      "\n",
      "      Epoch    GPU_mem   box_loss   cls_loss   dfl_loss  Instances       Size\n"
     ]
    },
    {
     "name": "stderr",
     "output_type": "stream",
     "text": [
      "    16/1000      2.25G     0.6751      0.391      1.177          1        608: 100%|██████████| 439/439 [07:25<00:00,  1.01s/it]\n",
      "                 Class     Images  Instances      Box(P          R      mAP50  mAP50-95): 100%|██████████| 47/47 [00:30<00:00,  1.53it/s]"
     ]
    },
    {
     "name": "stdout",
     "output_type": "stream",
     "text": [
      "                   all       1503       1503      0.965      0.948      0.987      0.823\n"
     ]
    },
    {
     "name": "stderr",
     "output_type": "stream",
     "text": [
      "\n"
     ]
    },
    {
     "name": "stdout",
     "output_type": "stream",
     "text": [
      "\n",
      "      Epoch    GPU_mem   box_loss   cls_loss   dfl_loss  Instances       Size\n"
     ]
    },
    {
     "name": "stderr",
     "output_type": "stream",
     "text": [
      "    17/1000      2.24G     0.6731     0.3847      1.174          1        608: 100%|██████████| 439/439 [07:30<00:00,  1.03s/it]\n",
      "                 Class     Images  Instances      Box(P          R      mAP50  mAP50-95): 100%|██████████| 47/47 [00:28<00:00,  1.63it/s]"
     ]
    },
    {
     "name": "stdout",
     "output_type": "stream",
     "text": [
      "                   all       1503       1503      0.964      0.954      0.987      0.815\n"
     ]
    },
    {
     "name": "stderr",
     "output_type": "stream",
     "text": [
      "\n"
     ]
    },
    {
     "name": "stdout",
     "output_type": "stream",
     "text": [
      "\n",
      "      Epoch    GPU_mem   box_loss   cls_loss   dfl_loss  Instances       Size\n"
     ]
    },
    {
     "name": "stderr",
     "output_type": "stream",
     "text": [
      "    18/1000      2.24G     0.6654     0.3779      1.161          1        608: 100%|██████████| 439/439 [07:41<00:00,  1.05s/it]\n",
      "                 Class     Images  Instances      Box(P          R      mAP50  mAP50-95): 100%|██████████| 47/47 [00:29<00:00,  1.60it/s]"
     ]
    },
    {
     "name": "stdout",
     "output_type": "stream",
     "text": [
      "                   all       1503       1503      0.967      0.971       0.99      0.839\n"
     ]
    },
    {
     "name": "stderr",
     "output_type": "stream",
     "text": [
      "\n"
     ]
    },
    {
     "name": "stdout",
     "output_type": "stream",
     "text": [
      "\n",
      "      Epoch    GPU_mem   box_loss   cls_loss   dfl_loss  Instances       Size\n"
     ]
    },
    {
     "name": "stderr",
     "output_type": "stream",
     "text": [
      "    19/1000      2.23G     0.6653     0.3759      1.162          1        608: 100%|██████████| 439/439 [07:40<00:00,  1.05s/it]\n",
      "                 Class     Images  Instances      Box(P          R      mAP50  mAP50-95): 100%|██████████| 47/47 [00:29<00:00,  1.58it/s]"
     ]
    },
    {
     "name": "stdout",
     "output_type": "stream",
     "text": [
      "                   all       1503       1503      0.964      0.968      0.988      0.843\n"
     ]
    },
    {
     "name": "stderr",
     "output_type": "stream",
     "text": [
      "\n"
     ]
    },
    {
     "name": "stdout",
     "output_type": "stream",
     "text": [
      "\n",
      "      Epoch    GPU_mem   box_loss   cls_loss   dfl_loss  Instances       Size\n"
     ]
    },
    {
     "name": "stderr",
     "output_type": "stream",
     "text": [
      "    20/1000      2.25G     0.6602     0.3687      1.158          1        608: 100%|██████████| 439/439 [07:43<00:00,  1.06s/it]\n",
      "                 Class     Images  Instances      Box(P          R      mAP50  mAP50-95): 100%|██████████| 47/47 [00:28<00:00,  1.63it/s]"
     ]
    },
    {
     "name": "stdout",
     "output_type": "stream",
     "text": [
      "                   all       1503       1503       0.95      0.956      0.984      0.819\n"
     ]
    },
    {
     "name": "stderr",
     "output_type": "stream",
     "text": [
      "\n"
     ]
    },
    {
     "name": "stdout",
     "output_type": "stream",
     "text": [
      "\n",
      "      Epoch    GPU_mem   box_loss   cls_loss   dfl_loss  Instances       Size\n"
     ]
    },
    {
     "name": "stderr",
     "output_type": "stream",
     "text": [
      "    21/1000      2.24G     0.6532     0.3642      1.154          1        608: 100%|██████████| 439/439 [07:42<00:00,  1.05s/it]\n",
      "                 Class     Images  Instances      Box(P          R      mAP50  mAP50-95): 100%|██████████| 47/47 [00:29<00:00,  1.57it/s]"
     ]
    },
    {
     "name": "stdout",
     "output_type": "stream",
     "text": [
      "                   all       1503       1503      0.967      0.962      0.989      0.836\n"
     ]
    },
    {
     "name": "stderr",
     "output_type": "stream",
     "text": [
      "\n"
     ]
    },
    {
     "name": "stdout",
     "output_type": "stream",
     "text": [
      "\n",
      "      Epoch    GPU_mem   box_loss   cls_loss   dfl_loss  Instances       Size\n"
     ]
    },
    {
     "name": "stderr",
     "output_type": "stream",
     "text": [
      "    22/1000      2.24G     0.6527     0.3603      1.152          1        608: 100%|██████████| 439/439 [07:52<00:00,  1.08s/it]\n",
      "                 Class     Images  Instances      Box(P          R      mAP50  mAP50-95): 100%|██████████| 47/47 [00:29<00:00,  1.60it/s]"
     ]
    },
    {
     "name": "stdout",
     "output_type": "stream",
     "text": [
      "                   all       1503       1503      0.963      0.961      0.989      0.835\n"
     ]
    },
    {
     "name": "stderr",
     "output_type": "stream",
     "text": [
      "\n"
     ]
    },
    {
     "name": "stdout",
     "output_type": "stream",
     "text": [
      "\n",
      "      Epoch    GPU_mem   box_loss   cls_loss   dfl_loss  Instances       Size\n"
     ]
    },
    {
     "name": "stderr",
     "output_type": "stream",
     "text": [
      "    23/1000      2.23G     0.6532     0.3621       1.15          1        608: 100%|██████████| 439/439 [07:53<00:00,  1.08s/it]\n",
      "                 Class     Images  Instances      Box(P          R      mAP50  mAP50-95): 100%|██████████| 47/47 [00:28<00:00,  1.64it/s]"
     ]
    },
    {
     "name": "stdout",
     "output_type": "stream",
     "text": [
      "                   all       1503       1503      0.973      0.962      0.991      0.842\n"
     ]
    },
    {
     "name": "stderr",
     "output_type": "stream",
     "text": [
      "\n"
     ]
    },
    {
     "name": "stdout",
     "output_type": "stream",
     "text": [
      "\n",
      "      Epoch    GPU_mem   box_loss   cls_loss   dfl_loss  Instances       Size\n"
     ]
    },
    {
     "name": "stderr",
     "output_type": "stream",
     "text": [
      "    24/1000      2.25G     0.6455     0.3625      1.146          1        608: 100%|██████████| 439/439 [07:47<00:00,  1.06s/it]\n",
      "                 Class     Images  Instances      Box(P          R      mAP50  mAP50-95): 100%|██████████| 47/47 [00:29<00:00,  1.62it/s]"
     ]
    },
    {
     "name": "stdout",
     "output_type": "stream",
     "text": [
      "                   all       1503       1503      0.971      0.944      0.988      0.835\n"
     ]
    },
    {
     "name": "stderr",
     "output_type": "stream",
     "text": [
      "\n"
     ]
    },
    {
     "name": "stdout",
     "output_type": "stream",
     "text": [
      "\n",
      "      Epoch    GPU_mem   box_loss   cls_loss   dfl_loss  Instances       Size\n"
     ]
    },
    {
     "name": "stderr",
     "output_type": "stream",
     "text": [
      "    25/1000      2.24G     0.6449     0.3588      1.146          1        608: 100%|██████████| 439/439 [07:50<00:00,  1.07s/it]\n",
      "                 Class     Images  Instances      Box(P          R      mAP50  mAP50-95): 100%|██████████| 47/47 [00:30<00:00,  1.52it/s]"
     ]
    },
    {
     "name": "stdout",
     "output_type": "stream",
     "text": [
      "                   all       1503       1503      0.965      0.967      0.989      0.838\n"
     ]
    },
    {
     "name": "stderr",
     "output_type": "stream",
     "text": [
      "\n"
     ]
    },
    {
     "name": "stdout",
     "output_type": "stream",
     "text": [
      "\n",
      "      Epoch    GPU_mem   box_loss   cls_loss   dfl_loss  Instances       Size\n"
     ]
    },
    {
     "name": "stderr",
     "output_type": "stream",
     "text": [
      "    26/1000      2.24G      0.641     0.3517      1.146          1        608: 100%|██████████| 439/439 [07:51<00:00,  1.07s/it]\n",
      "                 Class     Images  Instances      Box(P          R      mAP50  mAP50-95): 100%|██████████| 47/47 [00:30<00:00,  1.55it/s]"
     ]
    },
    {
     "name": "stdout",
     "output_type": "stream",
     "text": [
      "                   all       1503       1503      0.964      0.972       0.99      0.838\n"
     ]
    },
    {
     "name": "stderr",
     "output_type": "stream",
     "text": [
      "\n"
     ]
    },
    {
     "name": "stdout",
     "output_type": "stream",
     "text": [
      "\n",
      "      Epoch    GPU_mem   box_loss   cls_loss   dfl_loss  Instances       Size\n"
     ]
    },
    {
     "name": "stderr",
     "output_type": "stream",
     "text": [
      "    27/1000      2.23G     0.6314     0.3504      1.134          1        608: 100%|██████████| 439/439 [07:57<00:00,  1.09s/it]\n",
      "                 Class     Images  Instances      Box(P          R      mAP50  mAP50-95): 100%|██████████| 47/47 [00:30<00:00,  1.53it/s]"
     ]
    },
    {
     "name": "stdout",
     "output_type": "stream",
     "text": [
      "                   all       1503       1503      0.967      0.965       0.99       0.85\n"
     ]
    },
    {
     "name": "stderr",
     "output_type": "stream",
     "text": [
      "\n"
     ]
    },
    {
     "name": "stdout",
     "output_type": "stream",
     "text": [
      "\n",
      "      Epoch    GPU_mem   box_loss   cls_loss   dfl_loss  Instances       Size\n"
     ]
    },
    {
     "name": "stderr",
     "output_type": "stream",
     "text": [
      "    28/1000      2.25G     0.6221     0.3472      1.129          1        608: 100%|██████████| 439/439 [07:53<00:00,  1.08s/it]\n",
      "                 Class     Images  Instances      Box(P          R      mAP50  mAP50-95): 100%|██████████| 47/47 [00:30<00:00,  1.53it/s]"
     ]
    },
    {
     "name": "stdout",
     "output_type": "stream",
     "text": [
      "                   all       1503       1503       0.96      0.973      0.989      0.848\n"
     ]
    },
    {
     "name": "stderr",
     "output_type": "stream",
     "text": [
      "\n"
     ]
    },
    {
     "name": "stdout",
     "output_type": "stream",
     "text": [
      "\n",
      "      Epoch    GPU_mem   box_loss   cls_loss   dfl_loss  Instances       Size\n"
     ]
    },
    {
     "name": "stderr",
     "output_type": "stream",
     "text": [
      "    29/1000      2.24G     0.6269     0.3526      1.132          1        608: 100%|██████████| 439/439 [08:07<00:00,  1.11s/it]\n",
      "                 Class     Images  Instances      Box(P          R      mAP50  mAP50-95): 100%|██████████| 47/47 [00:29<00:00,  1.58it/s]"
     ]
    },
    {
     "name": "stdout",
     "output_type": "stream",
     "text": [
      "                   all       1503       1503      0.963      0.963      0.989      0.842\n"
     ]
    },
    {
     "name": "stderr",
     "output_type": "stream",
     "text": [
      "\n"
     ]
    },
    {
     "name": "stdout",
     "output_type": "stream",
     "text": [
      "\n",
      "      Epoch    GPU_mem   box_loss   cls_loss   dfl_loss  Instances       Size\n"
     ]
    },
    {
     "name": "stderr",
     "output_type": "stream",
     "text": [
      "    30/1000      2.24G     0.6238     0.3452       1.13          1        608: 100%|██████████| 439/439 [08:02<00:00,  1.10s/it]\n",
      "                 Class     Images  Instances      Box(P          R      mAP50  mAP50-95): 100%|██████████| 47/47 [00:29<00:00,  1.59it/s]"
     ]
    },
    {
     "name": "stdout",
     "output_type": "stream",
     "text": [
      "                   all       1503       1503      0.973      0.974       0.99      0.846\n"
     ]
    },
    {
     "name": "stderr",
     "output_type": "stream",
     "text": [
      "\n"
     ]
    },
    {
     "name": "stdout",
     "output_type": "stream",
     "text": [
      "\n",
      "      Epoch    GPU_mem   box_loss   cls_loss   dfl_loss  Instances       Size\n"
     ]
    },
    {
     "name": "stderr",
     "output_type": "stream",
     "text": [
      "    31/1000      2.23G     0.6269     0.3437      1.132          1        608: 100%|██████████| 439/439 [08:07<00:00,  1.11s/it]\n",
      "                 Class     Images  Instances      Box(P          R      mAP50  mAP50-95): 100%|██████████| 47/47 [00:30<00:00,  1.56it/s]"
     ]
    },
    {
     "name": "stdout",
     "output_type": "stream",
     "text": [
      "                   all       1503       1503      0.957      0.962      0.987      0.846\n"
     ]
    },
    {
     "name": "stderr",
     "output_type": "stream",
     "text": [
      "\n"
     ]
    },
    {
     "name": "stdout",
     "output_type": "stream",
     "text": [
      "\n",
      "      Epoch    GPU_mem   box_loss   cls_loss   dfl_loss  Instances       Size\n"
     ]
    },
    {
     "name": "stderr",
     "output_type": "stream",
     "text": [
      "    32/1000      2.25G     0.6159     0.3434      1.122          1        608: 100%|██████████| 439/439 [08:03<00:00,  1.10s/it]\n",
      "                 Class     Images  Instances      Box(P          R      mAP50  mAP50-95): 100%|██████████| 47/47 [00:30<00:00,  1.54it/s]"
     ]
    },
    {
     "name": "stdout",
     "output_type": "stream",
     "text": [
      "                   all       1503       1503      0.966      0.959      0.988      0.839\n"
     ]
    },
    {
     "name": "stderr",
     "output_type": "stream",
     "text": [
      "\n"
     ]
    },
    {
     "name": "stdout",
     "output_type": "stream",
     "text": [
      "\n",
      "      Epoch    GPU_mem   box_loss   cls_loss   dfl_loss  Instances       Size\n"
     ]
    },
    {
     "name": "stderr",
     "output_type": "stream",
     "text": [
      "    33/1000      2.24G     0.6183     0.3387      1.128          1        608: 100%|██████████| 439/439 [07:58<00:00,  1.09s/it]\n",
      "                 Class     Images  Instances      Box(P          R      mAP50  mAP50-95): 100%|██████████| 47/47 [00:29<00:00,  1.58it/s]"
     ]
    },
    {
     "name": "stdout",
     "output_type": "stream",
     "text": [
      "                   all       1503       1503      0.973      0.965       0.99      0.847\n"
     ]
    },
    {
     "name": "stderr",
     "output_type": "stream",
     "text": [
      "\n"
     ]
    },
    {
     "name": "stdout",
     "output_type": "stream",
     "text": [
      "\n",
      "      Epoch    GPU_mem   box_loss   cls_loss   dfl_loss  Instances       Size\n"
     ]
    },
    {
     "name": "stderr",
     "output_type": "stream",
     "text": [
      "    34/1000      2.33G      0.619     0.3407      1.122          1        608: 100%|██████████| 439/439 [08:01<00:00,  1.10s/it]\n",
      "                 Class     Images  Instances      Box(P          R      mAP50  mAP50-95): 100%|██████████| 47/47 [00:30<00:00,  1.54it/s]"
     ]
    },
    {
     "name": "stdout",
     "output_type": "stream",
     "text": [
      "                   all       1503       1503      0.971      0.971      0.991      0.857\n"
     ]
    },
    {
     "name": "stderr",
     "output_type": "stream",
     "text": [
      "\n"
     ]
    },
    {
     "name": "stdout",
     "output_type": "stream",
     "text": [
      "\n",
      "      Epoch    GPU_mem   box_loss   cls_loss   dfl_loss  Instances       Size\n"
     ]
    },
    {
     "name": "stderr",
     "output_type": "stream",
     "text": [
      "    35/1000      2.23G       0.61     0.3385      1.116          1        608: 100%|██████████| 439/439 [08:03<00:00,  1.10s/it]\n",
      "                 Class     Images  Instances      Box(P          R      mAP50  mAP50-95): 100%|██████████| 47/47 [00:31<00:00,  1.48it/s]"
     ]
    },
    {
     "name": "stdout",
     "output_type": "stream",
     "text": [
      "                   all       1503       1503      0.968      0.972       0.99      0.859\n"
     ]
    },
    {
     "name": "stderr",
     "output_type": "stream",
     "text": [
      "\n"
     ]
    },
    {
     "name": "stdout",
     "output_type": "stream",
     "text": [
      "\n",
      "      Epoch    GPU_mem   box_loss   cls_loss   dfl_loss  Instances       Size\n"
     ]
    },
    {
     "name": "stderr",
     "output_type": "stream",
     "text": [
      "    36/1000      2.25G     0.6142     0.3376       1.12          1        608: 100%|██████████| 439/439 [08:05<00:00,  1.11s/it]\n",
      "                 Class     Images  Instances      Box(P          R      mAP50  mAP50-95): 100%|██████████| 47/47 [00:30<00:00,  1.54it/s]"
     ]
    },
    {
     "name": "stdout",
     "output_type": "stream",
     "text": [
      "                   all       1503       1503      0.967      0.965       0.99      0.851\n"
     ]
    },
    {
     "name": "stderr",
     "output_type": "stream",
     "text": [
      "\n"
     ]
    },
    {
     "name": "stdout",
     "output_type": "stream",
     "text": [
      "\n",
      "      Epoch    GPU_mem   box_loss   cls_loss   dfl_loss  Instances       Size\n"
     ]
    },
    {
     "name": "stderr",
     "output_type": "stream",
     "text": [
      "    37/1000      2.24G     0.6082     0.3343      1.117          1        608: 100%|██████████| 439/439 [08:11<00:00,  1.12s/it]\n",
      "                 Class     Images  Instances      Box(P          R      mAP50  mAP50-95): 100%|██████████| 47/47 [00:30<00:00,  1.56it/s]"
     ]
    },
    {
     "name": "stdout",
     "output_type": "stream",
     "text": [
      "                   all       1503       1503      0.959      0.972      0.991      0.858\n"
     ]
    },
    {
     "name": "stderr",
     "output_type": "stream",
     "text": [
      "\n"
     ]
    },
    {
     "name": "stdout",
     "output_type": "stream",
     "text": [
      "\n",
      "      Epoch    GPU_mem   box_loss   cls_loss   dfl_loss  Instances       Size\n"
     ]
    },
    {
     "name": "stderr",
     "output_type": "stream",
     "text": [
      "    38/1000      2.24G     0.6047     0.3244       1.11          1        608: 100%|██████████| 439/439 [08:07<00:00,  1.11s/it]\n",
      "                 Class     Images  Instances      Box(P          R      mAP50  mAP50-95): 100%|██████████| 47/47 [00:29<00:00,  1.59it/s]"
     ]
    },
    {
     "name": "stdout",
     "output_type": "stream",
     "text": [
      "                   all       1503       1503      0.964      0.968      0.989      0.855\n"
     ]
    },
    {
     "name": "stderr",
     "output_type": "stream",
     "text": [
      "\n"
     ]
    },
    {
     "name": "stdout",
     "output_type": "stream",
     "text": [
      "\n",
      "      Epoch    GPU_mem   box_loss   cls_loss   dfl_loss  Instances       Size\n"
     ]
    },
    {
     "name": "stderr",
     "output_type": "stream",
     "text": [
      "    39/1000      2.23G     0.6075      0.332      1.117          1        608: 100%|██████████| 439/439 [08:17<00:00,  1.13s/it]\n",
      "                 Class     Images  Instances      Box(P          R      mAP50  mAP50-95): 100%|██████████| 47/47 [00:31<00:00,  1.49it/s]"
     ]
    },
    {
     "name": "stdout",
     "output_type": "stream",
     "text": [
      "                   all       1503       1503      0.969      0.971      0.991      0.856\n"
     ]
    },
    {
     "name": "stderr",
     "output_type": "stream",
     "text": [
      "\n"
     ]
    },
    {
     "name": "stdout",
     "output_type": "stream",
     "text": [
      "\n",
      "      Epoch    GPU_mem   box_loss   cls_loss   dfl_loss  Instances       Size\n"
     ]
    },
    {
     "name": "stderr",
     "output_type": "stream",
     "text": [
      "    40/1000      2.25G     0.6011     0.3289       1.11          1        608: 100%|██████████| 439/439 [08:13<00:00,  1.12s/it]\n",
      "                 Class     Images  Instances      Box(P          R      mAP50  mAP50-95): 100%|██████████| 47/47 [00:30<00:00,  1.52it/s]"
     ]
    },
    {
     "name": "stdout",
     "output_type": "stream",
     "text": [
      "                   all       1503       1503      0.969      0.973      0.991      0.858\n"
     ]
    },
    {
     "name": "stderr",
     "output_type": "stream",
     "text": [
      "\n"
     ]
    },
    {
     "name": "stdout",
     "output_type": "stream",
     "text": [
      "\n",
      "      Epoch    GPU_mem   box_loss   cls_loss   dfl_loss  Instances       Size\n"
     ]
    },
    {
     "name": "stderr",
     "output_type": "stream",
     "text": [
      "    41/1000      2.24G     0.5968     0.3219      1.109          1        608: 100%|██████████| 439/439 [08:23<00:00,  1.15s/it]\n",
      "                 Class     Images  Instances      Box(P          R      mAP50  mAP50-95): 100%|██████████| 47/47 [00:30<00:00,  1.52it/s]"
     ]
    },
    {
     "name": "stdout",
     "output_type": "stream",
     "text": [
      "                   all       1503       1503      0.975      0.966      0.992      0.855\n"
     ]
    },
    {
     "name": "stderr",
     "output_type": "stream",
     "text": [
      "\n"
     ]
    },
    {
     "name": "stdout",
     "output_type": "stream",
     "text": [
      "\n",
      "      Epoch    GPU_mem   box_loss   cls_loss   dfl_loss  Instances       Size\n"
     ]
    },
    {
     "name": "stderr",
     "output_type": "stream",
     "text": [
      "    42/1000      2.24G     0.6036       0.32      1.113          1        608: 100%|██████████| 439/439 [08:25<00:00,  1.15s/it]\n",
      "                 Class     Images  Instances      Box(P          R      mAP50  mAP50-95): 100%|██████████| 47/47 [00:30<00:00,  1.56it/s]"
     ]
    },
    {
     "name": "stdout",
     "output_type": "stream",
     "text": [
      "                   all       1503       1503      0.966      0.973      0.992      0.861\n"
     ]
    },
    {
     "name": "stderr",
     "output_type": "stream",
     "text": [
      "\n"
     ]
    },
    {
     "name": "stdout",
     "output_type": "stream",
     "text": [
      "\n",
      "      Epoch    GPU_mem   box_loss   cls_loss   dfl_loss  Instances       Size\n"
     ]
    },
    {
     "name": "stderr",
     "output_type": "stream",
     "text": [
      "    43/1000      2.23G     0.5971     0.3198      1.108          1        608: 100%|██████████| 439/439 [08:30<00:00,  1.16s/it]\n",
      "                 Class     Images  Instances      Box(P          R      mAP50  mAP50-95): 100%|██████████| 47/47 [00:30<00:00,  1.53it/s]"
     ]
    },
    {
     "name": "stdout",
     "output_type": "stream",
     "text": [
      "                   all       1503       1503      0.974       0.97      0.992      0.856\n"
     ]
    },
    {
     "name": "stderr",
     "output_type": "stream",
     "text": [
      "\n"
     ]
    },
    {
     "name": "stdout",
     "output_type": "stream",
     "text": [
      "\n",
      "      Epoch    GPU_mem   box_loss   cls_loss   dfl_loss  Instances       Size\n"
     ]
    },
    {
     "name": "stderr",
     "output_type": "stream",
     "text": [
      "    44/1000      2.25G     0.6001     0.3232       1.11          1        608: 100%|██████████| 439/439 [08:25<00:00,  1.15s/it]\n",
      "                 Class     Images  Instances      Box(P          R      mAP50  mAP50-95): 100%|██████████| 47/47 [00:30<00:00,  1.56it/s]"
     ]
    },
    {
     "name": "stdout",
     "output_type": "stream",
     "text": [
      "                   all       1503       1503      0.971      0.978      0.991      0.862\n"
     ]
    },
    {
     "name": "stderr",
     "output_type": "stream",
     "text": [
      "\n"
     ]
    },
    {
     "name": "stdout",
     "output_type": "stream",
     "text": [
      "\n",
      "      Epoch    GPU_mem   box_loss   cls_loss   dfl_loss  Instances       Size\n"
     ]
    },
    {
     "name": "stderr",
     "output_type": "stream",
     "text": [
      "    45/1000      2.24G     0.5997     0.3247      1.114          1        608: 100%|██████████| 439/439 [08:30<00:00,  1.16s/it]\n",
      "                 Class     Images  Instances      Box(P          R      mAP50  mAP50-95): 100%|██████████| 47/47 [00:30<00:00,  1.55it/s]"
     ]
    },
    {
     "name": "stdout",
     "output_type": "stream",
     "text": [
      "                   all       1503       1503      0.971      0.971      0.991      0.865\n"
     ]
    },
    {
     "name": "stderr",
     "output_type": "stream",
     "text": [
      "\n"
     ]
    },
    {
     "name": "stdout",
     "output_type": "stream",
     "text": [
      "\n",
      "      Epoch    GPU_mem   box_loss   cls_loss   dfl_loss  Instances       Size\n"
     ]
    },
    {
     "name": "stderr",
     "output_type": "stream",
     "text": [
      "    46/1000      2.24G     0.5899     0.3209      1.106          1        608: 100%|██████████| 439/439 [08:28<00:00,  1.16s/it]\n",
      "                 Class     Images  Instances      Box(P          R      mAP50  mAP50-95): 100%|██████████| 47/47 [00:29<00:00,  1.58it/s]"
     ]
    },
    {
     "name": "stdout",
     "output_type": "stream",
     "text": [
      "                   all       1503       1503      0.975      0.965      0.992       0.86\n"
     ]
    },
    {
     "name": "stderr",
     "output_type": "stream",
     "text": [
      "\n"
     ]
    },
    {
     "name": "stdout",
     "output_type": "stream",
     "text": [
      "\n",
      "      Epoch    GPU_mem   box_loss   cls_loss   dfl_loss  Instances       Size\n"
     ]
    },
    {
     "name": "stderr",
     "output_type": "stream",
     "text": [
      "    47/1000      2.23G     0.5954     0.3226      1.107          1        608: 100%|██████████| 439/439 [08:28<00:00,  1.16s/it]\n",
      "                 Class     Images  Instances      Box(P          R      mAP50  mAP50-95): 100%|██████████| 47/47 [00:30<00:00,  1.52it/s]"
     ]
    },
    {
     "name": "stdout",
     "output_type": "stream",
     "text": [
      "                   all       1503       1503      0.971      0.977      0.992      0.868\n"
     ]
    },
    {
     "name": "stderr",
     "output_type": "stream",
     "text": [
      "\n"
     ]
    },
    {
     "name": "stdout",
     "output_type": "stream",
     "text": [
      "\n",
      "      Epoch    GPU_mem   box_loss   cls_loss   dfl_loss  Instances       Size\n"
     ]
    },
    {
     "name": "stderr",
     "output_type": "stream",
     "text": [
      "    48/1000      2.25G     0.6014     0.3275      1.108          1        608: 100%|██████████| 439/439 [08:23<00:00,  1.15s/it]\n",
      "                 Class     Images  Instances      Box(P          R      mAP50  mAP50-95): 100%|██████████| 47/47 [00:29<00:00,  1.61it/s]"
     ]
    },
    {
     "name": "stdout",
     "output_type": "stream",
     "text": [
      "                   all       1503       1503      0.973      0.969      0.991      0.865\n"
     ]
    },
    {
     "name": "stderr",
     "output_type": "stream",
     "text": [
      "\n"
     ]
    },
    {
     "name": "stdout",
     "output_type": "stream",
     "text": [
      "\n",
      "      Epoch    GPU_mem   box_loss   cls_loss   dfl_loss  Instances       Size\n"
     ]
    },
    {
     "name": "stderr",
     "output_type": "stream",
     "text": [
      "    49/1000      2.24G     0.5902     0.3179        1.1          1        608: 100%|██████████| 439/439 [08:22<00:00,  1.15s/it]\n",
      "                 Class     Images  Instances      Box(P          R      mAP50  mAP50-95): 100%|██████████| 47/47 [00:30<00:00,  1.57it/s]"
     ]
    },
    {
     "name": "stdout",
     "output_type": "stream",
     "text": [
      "                   all       1503       1503      0.973      0.977      0.992      0.861\n"
     ]
    },
    {
     "name": "stderr",
     "output_type": "stream",
     "text": [
      "\n"
     ]
    },
    {
     "name": "stdout",
     "output_type": "stream",
     "text": [
      "\n",
      "      Epoch    GPU_mem   box_loss   cls_loss   dfl_loss  Instances       Size\n"
     ]
    },
    {
     "name": "stderr",
     "output_type": "stream",
     "text": [
      "    50/1000      2.24G     0.5918     0.3151      1.103          1        608: 100%|██████████| 439/439 [08:21<00:00,  1.14s/it]\n",
      "                 Class     Images  Instances      Box(P          R      mAP50  mAP50-95): 100%|██████████| 47/47 [00:29<00:00,  1.57it/s]"
     ]
    },
    {
     "name": "stdout",
     "output_type": "stream",
     "text": [
      "                   all       1503       1503      0.978      0.964      0.991      0.866\n"
     ]
    },
    {
     "name": "stderr",
     "output_type": "stream",
     "text": [
      "\n"
     ]
    },
    {
     "name": "stdout",
     "output_type": "stream",
     "text": [
      "\n",
      "      Epoch    GPU_mem   box_loss   cls_loss   dfl_loss  Instances       Size\n"
     ]
    },
    {
     "name": "stderr",
     "output_type": "stream",
     "text": [
      "    51/1000      2.23G     0.5927       0.32      1.108          1        608: 100%|██████████| 439/439 [08:19<00:00,  1.14s/it]\n",
      "                 Class     Images  Instances      Box(P          R      mAP50  mAP50-95): 100%|██████████| 47/47 [00:31<00:00,  1.47it/s]"
     ]
    },
    {
     "name": "stdout",
     "output_type": "stream",
     "text": [
      "                   all       1503       1503      0.974      0.972      0.991      0.867\n"
     ]
    },
    {
     "name": "stderr",
     "output_type": "stream",
     "text": [
      "\n"
     ]
    },
    {
     "name": "stdout",
     "output_type": "stream",
     "text": [
      "\n",
      "      Epoch    GPU_mem   box_loss   cls_loss   dfl_loss  Instances       Size\n"
     ]
    },
    {
     "name": "stderr",
     "output_type": "stream",
     "text": [
      "    52/1000      2.25G     0.5844     0.3139        1.1          1        608: 100%|██████████| 439/439 [08:28<00:00,  1.16s/it]\n",
      "                 Class     Images  Instances      Box(P          R      mAP50  mAP50-95): 100%|██████████| 47/47 [00:29<00:00,  1.59it/s]"
     ]
    },
    {
     "name": "stdout",
     "output_type": "stream",
     "text": [
      "                   all       1503       1503      0.969      0.975       0.99      0.866\n"
     ]
    },
    {
     "name": "stderr",
     "output_type": "stream",
     "text": [
      "\n"
     ]
    },
    {
     "name": "stdout",
     "output_type": "stream",
     "text": [
      "\n",
      "      Epoch    GPU_mem   box_loss   cls_loss   dfl_loss  Instances       Size\n"
     ]
    },
    {
     "name": "stderr",
     "output_type": "stream",
     "text": [
      "    53/1000      2.24G     0.5911     0.3175      1.102          1        608: 100%|██████████| 439/439 [08:27<00:00,  1.16s/it]\n",
      "                 Class     Images  Instances      Box(P          R      mAP50  mAP50-95): 100%|██████████| 47/47 [00:29<00:00,  1.59it/s]"
     ]
    },
    {
     "name": "stdout",
     "output_type": "stream",
     "text": [
      "                   all       1503       1503      0.978      0.968      0.992       0.87\n"
     ]
    },
    {
     "name": "stderr",
     "output_type": "stream",
     "text": [
      "\n"
     ]
    },
    {
     "name": "stdout",
     "output_type": "stream",
     "text": [
      "\n",
      "      Epoch    GPU_mem   box_loss   cls_loss   dfl_loss  Instances       Size\n"
     ]
    },
    {
     "name": "stderr",
     "output_type": "stream",
     "text": [
      "    54/1000      2.24G     0.5861      0.312      1.102          1        608: 100%|██████████| 439/439 [08:38<00:00,  1.18s/it]\n",
      "                 Class     Images  Instances      Box(P          R      mAP50  mAP50-95): 100%|██████████| 47/47 [00:30<00:00,  1.55it/s]"
     ]
    },
    {
     "name": "stdout",
     "output_type": "stream",
     "text": [
      "                   all       1503       1503      0.978      0.975      0.993      0.869\n"
     ]
    },
    {
     "name": "stderr",
     "output_type": "stream",
     "text": [
      "\n"
     ]
    },
    {
     "name": "stdout",
     "output_type": "stream",
     "text": [
      "\n",
      "      Epoch    GPU_mem   box_loss   cls_loss   dfl_loss  Instances       Size\n"
     ]
    },
    {
     "name": "stderr",
     "output_type": "stream",
     "text": [
      "    55/1000      2.23G     0.5835     0.3099      1.094          1        608: 100%|██████████| 439/439 [08:31<00:00,  1.16s/it]\n",
      "                 Class     Images  Instances      Box(P          R      mAP50  mAP50-95): 100%|██████████| 47/47 [00:30<00:00,  1.56it/s]"
     ]
    },
    {
     "name": "stdout",
     "output_type": "stream",
     "text": [
      "                   all       1503       1503      0.977      0.975      0.993      0.866\n"
     ]
    },
    {
     "name": "stderr",
     "output_type": "stream",
     "text": [
      "\n"
     ]
    },
    {
     "name": "stdout",
     "output_type": "stream",
     "text": [
      "\n",
      "      Epoch    GPU_mem   box_loss   cls_loss   dfl_loss  Instances       Size\n"
     ]
    },
    {
     "name": "stderr",
     "output_type": "stream",
     "text": [
      "    56/1000      2.25G     0.5806     0.3165      1.094          1        608: 100%|██████████| 439/439 [08:37<00:00,  1.18s/it]\n",
      "                 Class     Images  Instances      Box(P          R      mAP50  mAP50-95): 100%|██████████| 47/47 [00:30<00:00,  1.56it/s]"
     ]
    },
    {
     "name": "stdout",
     "output_type": "stream",
     "text": [
      "                   all       1503       1503      0.969      0.971      0.991      0.871\n"
     ]
    },
    {
     "name": "stderr",
     "output_type": "stream",
     "text": [
      "\n"
     ]
    },
    {
     "name": "stdout",
     "output_type": "stream",
     "text": [
      "\n",
      "      Epoch    GPU_mem   box_loss   cls_loss   dfl_loss  Instances       Size\n"
     ]
    },
    {
     "name": "stderr",
     "output_type": "stream",
     "text": [
      "    57/1000      2.24G     0.5836     0.3138      1.096          1        608: 100%|██████████| 439/439 [08:33<00:00,  1.17s/it]\n",
      "                 Class     Images  Instances      Box(P          R      mAP50  mAP50-95): 100%|██████████| 47/47 [00:30<00:00,  1.53it/s]"
     ]
    },
    {
     "name": "stdout",
     "output_type": "stream",
     "text": [
      "                   all       1503       1503      0.974      0.973      0.992      0.867\n"
     ]
    },
    {
     "name": "stderr",
     "output_type": "stream",
     "text": [
      "\n"
     ]
    },
    {
     "name": "stdout",
     "output_type": "stream",
     "text": [
      "\n",
      "      Epoch    GPU_mem   box_loss   cls_loss   dfl_loss  Instances       Size\n"
     ]
    },
    {
     "name": "stderr",
     "output_type": "stream",
     "text": [
      "    58/1000      2.33G     0.5803     0.3052      1.099          1        608: 100%|██████████| 439/439 [08:26<00:00,  1.15s/it]\n",
      "                 Class     Images  Instances      Box(P          R      mAP50  mAP50-95): 100%|██████████| 47/47 [00:29<00:00,  1.57it/s]"
     ]
    },
    {
     "name": "stdout",
     "output_type": "stream",
     "text": [
      "                   all       1503       1503      0.976      0.969      0.991      0.873\n"
     ]
    },
    {
     "name": "stderr",
     "output_type": "stream",
     "text": [
      "\n"
     ]
    },
    {
     "name": "stdout",
     "output_type": "stream",
     "text": [
      "\n",
      "      Epoch    GPU_mem   box_loss   cls_loss   dfl_loss  Instances       Size\n"
     ]
    },
    {
     "name": "stderr",
     "output_type": "stream",
     "text": [
      "    59/1000      2.23G     0.5751     0.3108       1.09          1        608: 100%|██████████| 439/439 [08:37<00:00,  1.18s/it]\n",
      "                 Class     Images  Instances      Box(P          R      mAP50  mAP50-95): 100%|██████████| 47/47 [00:30<00:00,  1.53it/s]"
     ]
    },
    {
     "name": "stdout",
     "output_type": "stream",
     "text": [
      "                   all       1503       1503      0.966      0.977      0.992      0.869\n"
     ]
    },
    {
     "name": "stderr",
     "output_type": "stream",
     "text": [
      "\n"
     ]
    },
    {
     "name": "stdout",
     "output_type": "stream",
     "text": [
      "\n",
      "      Epoch    GPU_mem   box_loss   cls_loss   dfl_loss  Instances       Size\n"
     ]
    },
    {
     "name": "stderr",
     "output_type": "stream",
     "text": [
      "    60/1000      2.25G     0.5776     0.3098      1.096          1        608: 100%|██████████| 439/439 [08:36<00:00,  1.18s/it]\n",
      "                 Class     Images  Instances      Box(P          R      mAP50  mAP50-95): 100%|██████████| 47/47 [00:31<00:00,  1.50it/s]"
     ]
    },
    {
     "name": "stdout",
     "output_type": "stream",
     "text": [
      "                   all       1503       1503      0.966      0.981      0.992       0.87\n"
     ]
    },
    {
     "name": "stderr",
     "output_type": "stream",
     "text": [
      "\n"
     ]
    },
    {
     "name": "stdout",
     "output_type": "stream",
     "text": [
      "\n",
      "      Epoch    GPU_mem   box_loss   cls_loss   dfl_loss  Instances       Size\n"
     ]
    },
    {
     "name": "stderr",
     "output_type": "stream",
     "text": [
      "    61/1000      2.24G     0.5751     0.3054      1.089          1        608: 100%|██████████| 439/439 [08:27<00:00,  1.16s/it]\n",
      "                 Class     Images  Instances      Box(P          R      mAP50  mAP50-95): 100%|██████████| 47/47 [00:30<00:00,  1.53it/s]"
     ]
    },
    {
     "name": "stdout",
     "output_type": "stream",
     "text": [
      "                   all       1503       1503      0.969      0.977      0.992      0.877\n"
     ]
    },
    {
     "name": "stderr",
     "output_type": "stream",
     "text": [
      "\n"
     ]
    },
    {
     "name": "stdout",
     "output_type": "stream",
     "text": [
      "\n",
      "      Epoch    GPU_mem   box_loss   cls_loss   dfl_loss  Instances       Size\n"
     ]
    },
    {
     "name": "stderr",
     "output_type": "stream",
     "text": [
      "    62/1000      2.24G     0.5818     0.3107      1.096          1        608: 100%|██████████| 439/439 [08:33<00:00,  1.17s/it]\n",
      "                 Class     Images  Instances      Box(P          R      mAP50  mAP50-95): 100%|██████████| 47/47 [00:30<00:00,  1.53it/s]"
     ]
    },
    {
     "name": "stdout",
     "output_type": "stream",
     "text": [
      "                   all       1503       1503      0.972      0.977      0.991      0.873\n"
     ]
    },
    {
     "name": "stderr",
     "output_type": "stream",
     "text": [
      "\n"
     ]
    },
    {
     "name": "stdout",
     "output_type": "stream",
     "text": [
      "\n",
      "      Epoch    GPU_mem   box_loss   cls_loss   dfl_loss  Instances       Size\n"
     ]
    },
    {
     "name": "stderr",
     "output_type": "stream",
     "text": [
      "    63/1000      2.23G      0.569      0.305      1.088          1        608: 100%|██████████| 439/439 [08:38<00:00,  1.18s/it]\n",
      "                 Class     Images  Instances      Box(P          R      mAP50  mAP50-95): 100%|██████████| 47/47 [00:31<00:00,  1.51it/s]"
     ]
    },
    {
     "name": "stdout",
     "output_type": "stream",
     "text": [
      "                   all       1503       1503      0.972      0.979      0.992      0.872\n"
     ]
    },
    {
     "name": "stderr",
     "output_type": "stream",
     "text": [
      "\n"
     ]
    },
    {
     "name": "stdout",
     "output_type": "stream",
     "text": [
      "\n",
      "      Epoch    GPU_mem   box_loss   cls_loss   dfl_loss  Instances       Size\n"
     ]
    },
    {
     "name": "stderr",
     "output_type": "stream",
     "text": [
      "    64/1000      2.25G     0.5739     0.3063      1.087          1        608: 100%|██████████| 439/439 [08:22<00:00,  1.15s/it]\n",
      "                 Class     Images  Instances      Box(P          R      mAP50  mAP50-95): 100%|██████████| 47/47 [00:29<00:00,  1.57it/s]"
     ]
    },
    {
     "name": "stdout",
     "output_type": "stream",
     "text": [
      "                   all       1503       1503      0.976      0.975      0.992      0.873\n"
     ]
    },
    {
     "name": "stderr",
     "output_type": "stream",
     "text": [
      "\n"
     ]
    },
    {
     "name": "stdout",
     "output_type": "stream",
     "text": [
      "\n",
      "      Epoch    GPU_mem   box_loss   cls_loss   dfl_loss  Instances       Size\n"
     ]
    },
    {
     "name": "stderr",
     "output_type": "stream",
     "text": [
      "    65/1000      2.24G     0.5721     0.3054      1.092          1        608: 100%|██████████| 439/439 [08:31<00:00,  1.17s/it]\n",
      "                 Class     Images  Instances      Box(P          R      mAP50  mAP50-95): 100%|██████████| 47/47 [00:29<00:00,  1.57it/s]"
     ]
    },
    {
     "name": "stdout",
     "output_type": "stream",
     "text": [
      "                   all       1503       1503      0.976      0.973      0.992      0.876\n"
     ]
    },
    {
     "name": "stderr",
     "output_type": "stream",
     "text": [
      "\n"
     ]
    },
    {
     "name": "stdout",
     "output_type": "stream",
     "text": [
      "\n",
      "      Epoch    GPU_mem   box_loss   cls_loss   dfl_loss  Instances       Size\n"
     ]
    },
    {
     "name": "stderr",
     "output_type": "stream",
     "text": [
      "    66/1000      2.24G      0.568      0.302      1.082          1        608: 100%|██████████| 439/439 [08:36<00:00,  1.18s/it]\n",
      "                 Class     Images  Instances      Box(P          R      mAP50  mAP50-95): 100%|██████████| 47/47 [00:30<00:00,  1.56it/s]"
     ]
    },
    {
     "name": "stdout",
     "output_type": "stream",
     "text": [
      "                   all       1503       1503      0.977      0.979      0.993      0.879\n"
     ]
    },
    {
     "name": "stderr",
     "output_type": "stream",
     "text": [
      "\n"
     ]
    },
    {
     "name": "stdout",
     "output_type": "stream",
     "text": [
      "\n",
      "      Epoch    GPU_mem   box_loss   cls_loss   dfl_loss  Instances       Size\n"
     ]
    },
    {
     "name": "stderr",
     "output_type": "stream",
     "text": [
      "    67/1000      2.23G     0.5682     0.3046      1.085          1        608: 100%|██████████| 439/439 [08:32<00:00,  1.17s/it]\n",
      "                 Class     Images  Instances      Box(P          R      mAP50  mAP50-95): 100%|██████████| 47/47 [00:31<00:00,  1.48it/s]"
     ]
    },
    {
     "name": "stdout",
     "output_type": "stream",
     "text": [
      "                   all       1503       1503      0.976      0.981      0.993      0.877\n"
     ]
    },
    {
     "name": "stderr",
     "output_type": "stream",
     "text": [
      "\n"
     ]
    },
    {
     "name": "stdout",
     "output_type": "stream",
     "text": [
      "\n",
      "      Epoch    GPU_mem   box_loss   cls_loss   dfl_loss  Instances       Size\n"
     ]
    },
    {
     "name": "stderr",
     "output_type": "stream",
     "text": [
      "    68/1000      2.25G     0.5669     0.2957      1.084          1        608: 100%|██████████| 439/439 [08:28<00:00,  1.16s/it]\n",
      "                 Class     Images  Instances      Box(P          R      mAP50  mAP50-95): 100%|██████████| 47/47 [00:30<00:00,  1.55it/s]"
     ]
    },
    {
     "name": "stdout",
     "output_type": "stream",
     "text": [
      "                   all       1503       1503      0.977      0.975      0.992      0.877\n"
     ]
    },
    {
     "name": "stderr",
     "output_type": "stream",
     "text": [
      "\n"
     ]
    },
    {
     "name": "stdout",
     "output_type": "stream",
     "text": [
      "\n",
      "      Epoch    GPU_mem   box_loss   cls_loss   dfl_loss  Instances       Size\n"
     ]
    },
    {
     "name": "stderr",
     "output_type": "stream",
     "text": [
      "    69/1000      2.24G     0.5706     0.3024      1.083          1        608: 100%|██████████| 439/439 [08:27<00:00,  1.16s/it]\n",
      "                 Class     Images  Instances      Box(P          R      mAP50  mAP50-95): 100%|██████████| 47/47 [00:29<00:00,  1.58it/s]"
     ]
    },
    {
     "name": "stdout",
     "output_type": "stream",
     "text": [
      "                   all       1503       1503      0.972      0.977      0.992      0.878\n"
     ]
    },
    {
     "name": "stderr",
     "output_type": "stream",
     "text": [
      "\n"
     ]
    },
    {
     "name": "stdout",
     "output_type": "stream",
     "text": [
      "\n",
      "      Epoch    GPU_mem   box_loss   cls_loss   dfl_loss  Instances       Size\n"
     ]
    },
    {
     "name": "stderr",
     "output_type": "stream",
     "text": [
      "    70/1000      2.24G     0.5717     0.3011      1.087          1        608: 100%|██████████| 439/439 [08:34<00:00,  1.17s/it]\n",
      "                 Class     Images  Instances      Box(P          R      mAP50  mAP50-95): 100%|██████████| 47/47 [00:29<00:00,  1.58it/s]"
     ]
    },
    {
     "name": "stdout",
     "output_type": "stream",
     "text": [
      "                   all       1503       1503      0.971      0.977      0.992      0.879\n"
     ]
    },
    {
     "name": "stderr",
     "output_type": "stream",
     "text": [
      "\n"
     ]
    },
    {
     "name": "stdout",
     "output_type": "stream",
     "text": [
      "\n",
      "      Epoch    GPU_mem   box_loss   cls_loss   dfl_loss  Instances       Size\n"
     ]
    },
    {
     "name": "stderr",
     "output_type": "stream",
     "text": [
      "    71/1000      2.23G     0.5699     0.3008      1.085          1        608: 100%|██████████| 439/439 [08:27<00:00,  1.16s/it]\n",
      "                 Class     Images  Instances      Box(P          R      mAP50  mAP50-95): 100%|██████████| 47/47 [00:31<00:00,  1.49it/s]"
     ]
    },
    {
     "name": "stdout",
     "output_type": "stream",
     "text": [
      "                   all       1503       1503      0.976      0.979      0.992       0.88\n"
     ]
    },
    {
     "name": "stderr",
     "output_type": "stream",
     "text": [
      "\n"
     ]
    },
    {
     "name": "stdout",
     "output_type": "stream",
     "text": [
      "\n",
      "      Epoch    GPU_mem   box_loss   cls_loss   dfl_loss  Instances       Size\n"
     ]
    },
    {
     "name": "stderr",
     "output_type": "stream",
     "text": [
      "    72/1000      2.25G      0.567     0.2969      1.081          1        608: 100%|██████████| 439/439 [08:21<00:00,  1.14s/it]\n",
      "                 Class     Images  Instances      Box(P          R      mAP50  mAP50-95): 100%|██████████| 47/47 [00:29<00:00,  1.58it/s]"
     ]
    },
    {
     "name": "stdout",
     "output_type": "stream",
     "text": [
      "                   all       1503       1503      0.977      0.977      0.993      0.881\n"
     ]
    },
    {
     "name": "stderr",
     "output_type": "stream",
     "text": [
      "\n"
     ]
    },
    {
     "name": "stdout",
     "output_type": "stream",
     "text": [
      "\n",
      "      Epoch    GPU_mem   box_loss   cls_loss   dfl_loss  Instances       Size\n"
     ]
    },
    {
     "name": "stderr",
     "output_type": "stream",
     "text": [
      "    73/1000      2.24G     0.5614     0.3002      1.075          1        608: 100%|██████████| 439/439 [08:22<00:00,  1.14s/it]\n",
      "                 Class     Images  Instances      Box(P          R      mAP50  mAP50-95): 100%|██████████| 47/47 [00:28<00:00,  1.62it/s]"
     ]
    },
    {
     "name": "stdout",
     "output_type": "stream",
     "text": [
      "                   all       1503       1503      0.978      0.979      0.993       0.88\n"
     ]
    },
    {
     "name": "stderr",
     "output_type": "stream",
     "text": [
      "\n"
     ]
    },
    {
     "name": "stdout",
     "output_type": "stream",
     "text": [
      "\n",
      "      Epoch    GPU_mem   box_loss   cls_loss   dfl_loss  Instances       Size\n"
     ]
    },
    {
     "name": "stderr",
     "output_type": "stream",
     "text": [
      "    74/1000      2.33G     0.5602     0.3028      1.074          1        608: 100%|██████████| 439/439 [08:21<00:00,  1.14s/it]\n",
      "                 Class     Images  Instances      Box(P          R      mAP50  mAP50-95): 100%|██████████| 47/47 [00:30<00:00,  1.53it/s]"
     ]
    },
    {
     "name": "stdout",
     "output_type": "stream",
     "text": [
      "                   all       1503       1503      0.982      0.977      0.993      0.879\n"
     ]
    },
    {
     "name": "stderr",
     "output_type": "stream",
     "text": [
      "\n"
     ]
    },
    {
     "name": "stdout",
     "output_type": "stream",
     "text": [
      "\n",
      "      Epoch    GPU_mem   box_loss   cls_loss   dfl_loss  Instances       Size\n"
     ]
    },
    {
     "name": "stderr",
     "output_type": "stream",
     "text": [
      "    75/1000      2.32G     0.5657     0.2986      1.076          1        608: 100%|██████████| 439/439 [08:18<00:00,  1.14s/it]\n",
      "                 Class     Images  Instances      Box(P          R      mAP50  mAP50-95): 100%|██████████| 47/47 [00:29<00:00,  1.58it/s]"
     ]
    },
    {
     "name": "stdout",
     "output_type": "stream",
     "text": [
      "                   all       1503       1503      0.981      0.975      0.993      0.877\n"
     ]
    },
    {
     "name": "stderr",
     "output_type": "stream",
     "text": [
      "\n"
     ]
    },
    {
     "name": "stdout",
     "output_type": "stream",
     "text": [
      "\n",
      "      Epoch    GPU_mem   box_loss   cls_loss   dfl_loss  Instances       Size\n"
     ]
    },
    {
     "name": "stderr",
     "output_type": "stream",
     "text": [
      "    76/1000      2.25G     0.5651     0.2973      1.083          1        608: 100%|██████████| 439/439 [08:10<00:00,  1.12s/it]\n",
      "                 Class     Images  Instances      Box(P          R      mAP50  mAP50-95): 100%|██████████| 47/47 [00:30<00:00,  1.56it/s]"
     ]
    },
    {
     "name": "stdout",
     "output_type": "stream",
     "text": [
      "                   all       1503       1503       0.98      0.977      0.993      0.879\n"
     ]
    },
    {
     "name": "stderr",
     "output_type": "stream",
     "text": [
      "\n"
     ]
    },
    {
     "name": "stdout",
     "output_type": "stream",
     "text": [
      "\n",
      "      Epoch    GPU_mem   box_loss   cls_loss   dfl_loss  Instances       Size\n"
     ]
    },
    {
     "name": "stderr",
     "output_type": "stream",
     "text": [
      "    77/1000      2.24G      0.565     0.2967      1.079          1        608: 100%|██████████| 439/439 [08:00<00:00,  1.09s/it]\n",
      "                 Class     Images  Instances      Box(P          R      mAP50  mAP50-95): 100%|██████████| 47/47 [00:29<00:00,  1.58it/s]"
     ]
    },
    {
     "name": "stdout",
     "output_type": "stream",
     "text": [
      "                   all       1503       1503      0.971      0.984      0.993      0.884\n"
     ]
    },
    {
     "name": "stderr",
     "output_type": "stream",
     "text": [
      "\n"
     ]
    },
    {
     "name": "stdout",
     "output_type": "stream",
     "text": [
      "\n",
      "      Epoch    GPU_mem   box_loss   cls_loss   dfl_loss  Instances       Size\n"
     ]
    },
    {
     "name": "stderr",
     "output_type": "stream",
     "text": [
      "    78/1000      2.24G     0.5649     0.2919       1.08          1        608: 100%|██████████| 439/439 [08:12<00:00,  1.12s/it]\n",
      "                 Class     Images  Instances      Box(P          R      mAP50  mAP50-95): 100%|██████████| 47/47 [00:29<00:00,  1.60it/s]"
     ]
    },
    {
     "name": "stdout",
     "output_type": "stream",
     "text": [
      "                   all       1503       1503       0.98       0.98      0.993      0.881\n"
     ]
    },
    {
     "name": "stderr",
     "output_type": "stream",
     "text": [
      "\n"
     ]
    },
    {
     "name": "stdout",
     "output_type": "stream",
     "text": [
      "\n",
      "      Epoch    GPU_mem   box_loss   cls_loss   dfl_loss  Instances       Size\n"
     ]
    },
    {
     "name": "stderr",
     "output_type": "stream",
     "text": [
      "    79/1000      2.23G     0.5608     0.2931      1.076          1        608: 100%|██████████| 439/439 [08:05<00:00,  1.10s/it]\n",
      "                 Class     Images  Instances      Box(P          R      mAP50  mAP50-95): 100%|██████████| 47/47 [00:29<00:00,  1.58it/s]"
     ]
    },
    {
     "name": "stdout",
     "output_type": "stream",
     "text": [
      "                   all       1503       1503      0.975      0.982      0.993      0.883\n"
     ]
    },
    {
     "name": "stderr",
     "output_type": "stream",
     "text": [
      "\n"
     ]
    },
    {
     "name": "stdout",
     "output_type": "stream",
     "text": [
      "\n",
      "      Epoch    GPU_mem   box_loss   cls_loss   dfl_loss  Instances       Size\n"
     ]
    },
    {
     "name": "stderr",
     "output_type": "stream",
     "text": [
      "    80/1000      2.25G     0.5561     0.2907      1.075          1        608: 100%|██████████| 439/439 [08:02<00:00,  1.10s/it]\n",
      "                 Class     Images  Instances      Box(P          R      mAP50  mAP50-95): 100%|██████████| 47/47 [00:29<00:00,  1.57it/s]"
     ]
    },
    {
     "name": "stdout",
     "output_type": "stream",
     "text": [
      "                   all       1503       1503      0.981      0.976      0.993      0.884\n"
     ]
    },
    {
     "name": "stderr",
     "output_type": "stream",
     "text": [
      "\n"
     ]
    },
    {
     "name": "stdout",
     "output_type": "stream",
     "text": [
      "\n",
      "      Epoch    GPU_mem   box_loss   cls_loss   dfl_loss  Instances       Size\n"
     ]
    },
    {
     "name": "stderr",
     "output_type": "stream",
     "text": [
      "    81/1000      2.24G      0.556     0.2909      1.072          1        608: 100%|██████████| 439/439 [07:59<00:00,  1.09s/it]\n",
      "                 Class     Images  Instances      Box(P          R      mAP50  mAP50-95): 100%|██████████| 47/47 [00:31<00:00,  1.48it/s]"
     ]
    },
    {
     "name": "stdout",
     "output_type": "stream",
     "text": [
      "                   all       1503       1503      0.978      0.978      0.993      0.883\n"
     ]
    },
    {
     "name": "stderr",
     "output_type": "stream",
     "text": [
      "\n"
     ]
    },
    {
     "name": "stdout",
     "output_type": "stream",
     "text": [
      "\n",
      "      Epoch    GPU_mem   box_loss   cls_loss   dfl_loss  Instances       Size\n"
     ]
    },
    {
     "name": "stderr",
     "output_type": "stream",
     "text": [
      "    82/1000      2.24G     0.5593     0.2934      1.075          1        608: 100%|██████████| 439/439 [08:00<00:00,  1.10s/it]\n",
      "                 Class     Images  Instances      Box(P          R      mAP50  mAP50-95): 100%|██████████| 47/47 [00:29<00:00,  1.58it/s]"
     ]
    },
    {
     "name": "stdout",
     "output_type": "stream",
     "text": [
      "                   all       1503       1503      0.977       0.98      0.993      0.885\n"
     ]
    },
    {
     "name": "stderr",
     "output_type": "stream",
     "text": [
      "\n"
     ]
    },
    {
     "name": "stdout",
     "output_type": "stream",
     "text": [
      "\n",
      "      Epoch    GPU_mem   box_loss   cls_loss   dfl_loss  Instances       Size\n"
     ]
    },
    {
     "name": "stderr",
     "output_type": "stream",
     "text": [
      "    83/1000      2.23G     0.5618     0.2925      1.078          1        608: 100%|██████████| 439/439 [07:54<00:00,  1.08s/it]\n",
      "                 Class     Images  Instances      Box(P          R      mAP50  mAP50-95): 100%|██████████| 47/47 [00:29<00:00,  1.59it/s]"
     ]
    },
    {
     "name": "stdout",
     "output_type": "stream",
     "text": [
      "                   all       1503       1503      0.976      0.984      0.993      0.882\n"
     ]
    },
    {
     "name": "stderr",
     "output_type": "stream",
     "text": [
      "\n"
     ]
    },
    {
     "name": "stdout",
     "output_type": "stream",
     "text": [
      "\n",
      "      Epoch    GPU_mem   box_loss   cls_loss   dfl_loss  Instances       Size\n"
     ]
    },
    {
     "name": "stderr",
     "output_type": "stream",
     "text": [
      "    84/1000      2.25G     0.5529     0.2882      1.074          1        608: 100%|██████████| 439/439 [07:56<00:00,  1.09s/it]\n",
      "                 Class     Images  Instances      Box(P          R      mAP50  mAP50-95): 100%|██████████| 47/47 [00:30<00:00,  1.53it/s]"
     ]
    },
    {
     "name": "stdout",
     "output_type": "stream",
     "text": [
      "                   all       1503       1503      0.976       0.98      0.993      0.883\n"
     ]
    },
    {
     "name": "stderr",
     "output_type": "stream",
     "text": [
      "\n"
     ]
    },
    {
     "name": "stdout",
     "output_type": "stream",
     "text": [
      "\n",
      "      Epoch    GPU_mem   box_loss   cls_loss   dfl_loss  Instances       Size\n"
     ]
    },
    {
     "name": "stderr",
     "output_type": "stream",
     "text": [
      "    85/1000      2.24G     0.5599     0.2919      1.071          1        608: 100%|██████████| 439/439 [07:55<00:00,  1.08s/it]\n",
      "                 Class     Images  Instances      Box(P          R      mAP50  mAP50-95): 100%|██████████| 47/47 [00:29<00:00,  1.61it/s]"
     ]
    },
    {
     "name": "stdout",
     "output_type": "stream",
     "text": [
      "                   all       1503       1503      0.976      0.987      0.993      0.883\n"
     ]
    },
    {
     "name": "stderr",
     "output_type": "stream",
     "text": [
      "\n"
     ]
    },
    {
     "name": "stdout",
     "output_type": "stream",
     "text": [
      "\n",
      "      Epoch    GPU_mem   box_loss   cls_loss   dfl_loss  Instances       Size\n"
     ]
    },
    {
     "name": "stderr",
     "output_type": "stream",
     "text": [
      "    86/1000      2.24G     0.5522     0.2904      1.072          1        608: 100%|██████████| 439/439 [07:52<00:00,  1.08s/it]\n",
      "                 Class     Images  Instances      Box(P          R      mAP50  mAP50-95): 100%|██████████| 47/47 [00:30<00:00,  1.56it/s]"
     ]
    },
    {
     "name": "stdout",
     "output_type": "stream",
     "text": [
      "                   all       1503       1503      0.976      0.985      0.993      0.885\n"
     ]
    },
    {
     "name": "stderr",
     "output_type": "stream",
     "text": [
      "\n"
     ]
    },
    {
     "name": "stdout",
     "output_type": "stream",
     "text": [
      "\n",
      "      Epoch    GPU_mem   box_loss   cls_loss   dfl_loss  Instances       Size\n"
     ]
    },
    {
     "name": "stderr",
     "output_type": "stream",
     "text": [
      "    87/1000      2.23G     0.5568     0.2911       1.07          1        608: 100%|██████████| 439/439 [07:55<00:00,  1.08s/it]\n",
      "                 Class     Images  Instances      Box(P          R      mAP50  mAP50-95): 100%|██████████| 47/47 [00:29<00:00,  1.57it/s]"
     ]
    },
    {
     "name": "stdout",
     "output_type": "stream",
     "text": [
      "                   all       1503       1503      0.979      0.986      0.993      0.886\n"
     ]
    },
    {
     "name": "stderr",
     "output_type": "stream",
     "text": [
      "\n"
     ]
    },
    {
     "name": "stdout",
     "output_type": "stream",
     "text": [
      "\n",
      "      Epoch    GPU_mem   box_loss   cls_loss   dfl_loss  Instances       Size\n"
     ]
    },
    {
     "name": "stderr",
     "output_type": "stream",
     "text": [
      "    88/1000      2.25G     0.5567     0.2906      1.074          1        608: 100%|██████████| 439/439 [07:47<00:00,  1.07s/it]\n",
      "                 Class     Images  Instances      Box(P          R      mAP50  mAP50-95): 100%|██████████| 47/47 [00:29<00:00,  1.60it/s]"
     ]
    },
    {
     "name": "stdout",
     "output_type": "stream",
     "text": [
      "                   all       1503       1503       0.98      0.984      0.993      0.886\n"
     ]
    },
    {
     "name": "stderr",
     "output_type": "stream",
     "text": [
      "\n"
     ]
    },
    {
     "name": "stdout",
     "output_type": "stream",
     "text": [
      "\n",
      "      Epoch    GPU_mem   box_loss   cls_loss   dfl_loss  Instances       Size\n"
     ]
    },
    {
     "name": "stderr",
     "output_type": "stream",
     "text": [
      "    89/1000      2.24G     0.5556     0.2912      1.071          1        608: 100%|██████████| 439/439 [07:50<00:00,  1.07s/it]\n",
      "                 Class     Images  Instances      Box(P          R      mAP50  mAP50-95): 100%|██████████| 47/47 [00:29<00:00,  1.59it/s]"
     ]
    },
    {
     "name": "stdout",
     "output_type": "stream",
     "text": [
      "                   all       1503       1503       0.98      0.983      0.993      0.886\n"
     ]
    },
    {
     "name": "stderr",
     "output_type": "stream",
     "text": [
      "\n"
     ]
    },
    {
     "name": "stdout",
     "output_type": "stream",
     "text": [
      "\n",
      "      Epoch    GPU_mem   box_loss   cls_loss   dfl_loss  Instances       Size\n"
     ]
    },
    {
     "name": "stderr",
     "output_type": "stream",
     "text": [
      "    90/1000      2.24G     0.5484     0.2868      1.061          1        608: 100%|██████████| 439/439 [07:41<00:00,  1.05s/it]\n",
      "                 Class     Images  Instances      Box(P          R      mAP50  mAP50-95): 100%|██████████| 47/47 [00:30<00:00,  1.57it/s]"
     ]
    },
    {
     "name": "stdout",
     "output_type": "stream",
     "text": [
      "                   all       1503       1503      0.978      0.981      0.993      0.885\n"
     ]
    },
    {
     "name": "stderr",
     "output_type": "stream",
     "text": [
      "\n"
     ]
    },
    {
     "name": "stdout",
     "output_type": "stream",
     "text": [
      "\n",
      "      Epoch    GPU_mem   box_loss   cls_loss   dfl_loss  Instances       Size\n"
     ]
    },
    {
     "name": "stderr",
     "output_type": "stream",
     "text": [
      "    91/1000      2.23G     0.5444     0.2847      1.065          1        608: 100%|██████████| 439/439 [07:52<00:00,  1.08s/it]\n",
      "                 Class     Images  Instances      Box(P          R      mAP50  mAP50-95): 100%|██████████| 47/47 [00:29<00:00,  1.59it/s]"
     ]
    },
    {
     "name": "stdout",
     "output_type": "stream",
     "text": [
      "                   all       1503       1503      0.979      0.982      0.993      0.886\n"
     ]
    },
    {
     "name": "stderr",
     "output_type": "stream",
     "text": [
      "\n"
     ]
    },
    {
     "name": "stdout",
     "output_type": "stream",
     "text": [
      "\n",
      "      Epoch    GPU_mem   box_loss   cls_loss   dfl_loss  Instances       Size\n"
     ]
    },
    {
     "name": "stderr",
     "output_type": "stream",
     "text": [
      "    92/1000      2.25G     0.5524     0.2914      1.071          1        608: 100%|██████████| 439/439 [07:50<00:00,  1.07s/it]\n",
      "                 Class     Images  Instances      Box(P          R      mAP50  mAP50-95): 100%|██████████| 47/47 [00:29<00:00,  1.59it/s]"
     ]
    },
    {
     "name": "stdout",
     "output_type": "stream",
     "text": [
      "                   all       1503       1503      0.977      0.982      0.993      0.888\n"
     ]
    },
    {
     "name": "stderr",
     "output_type": "stream",
     "text": [
      "\n"
     ]
    },
    {
     "name": "stdout",
     "output_type": "stream",
     "text": [
      "\n",
      "      Epoch    GPU_mem   box_loss   cls_loss   dfl_loss  Instances       Size\n"
     ]
    },
    {
     "name": "stderr",
     "output_type": "stream",
     "text": [
      "    93/1000      2.24G     0.5496     0.2851      1.068          1        608: 100%|██████████| 439/439 [07:58<00:00,  1.09s/it]\n",
      "                 Class     Images  Instances      Box(P          R      mAP50  mAP50-95): 100%|██████████| 47/47 [00:28<00:00,  1.67it/s]"
     ]
    },
    {
     "name": "stdout",
     "output_type": "stream",
     "text": [
      "                   all       1503       1503      0.978      0.984      0.993      0.889\n"
     ]
    },
    {
     "name": "stderr",
     "output_type": "stream",
     "text": [
      "\n"
     ]
    },
    {
     "name": "stdout",
     "output_type": "stream",
     "text": [
      "\n",
      "      Epoch    GPU_mem   box_loss   cls_loss   dfl_loss  Instances       Size\n"
     ]
    },
    {
     "name": "stderr",
     "output_type": "stream",
     "text": [
      "    94/1000      2.24G     0.5482     0.2856      1.064          1        608: 100%|██████████| 439/439 [07:49<00:00,  1.07s/it]\n",
      "                 Class     Images  Instances      Box(P          R      mAP50  mAP50-95): 100%|██████████| 47/47 [00:31<00:00,  1.51it/s]"
     ]
    },
    {
     "name": "stdout",
     "output_type": "stream",
     "text": [
      "                   all       1503       1503      0.976      0.986      0.994      0.888\n"
     ]
    },
    {
     "name": "stderr",
     "output_type": "stream",
     "text": [
      "\n"
     ]
    },
    {
     "name": "stdout",
     "output_type": "stream",
     "text": [
      "\n",
      "      Epoch    GPU_mem   box_loss   cls_loss   dfl_loss  Instances       Size\n"
     ]
    },
    {
     "name": "stderr",
     "output_type": "stream",
     "text": [
      "    95/1000      2.23G     0.5433     0.2847      1.065          1        608: 100%|██████████| 439/439 [07:45<00:00,  1.06s/it]\n",
      "                 Class     Images  Instances      Box(P          R      mAP50  mAP50-95): 100%|██████████| 47/47 [00:29<00:00,  1.61it/s]"
     ]
    },
    {
     "name": "stdout",
     "output_type": "stream",
     "text": [
      "                   all       1503       1503       0.98      0.985      0.994      0.887\n"
     ]
    },
    {
     "name": "stderr",
     "output_type": "stream",
     "text": [
      "\n"
     ]
    },
    {
     "name": "stdout",
     "output_type": "stream",
     "text": [
      "\n",
      "      Epoch    GPU_mem   box_loss   cls_loss   dfl_loss  Instances       Size\n"
     ]
    },
    {
     "name": "stderr",
     "output_type": "stream",
     "text": [
      "    96/1000      2.25G     0.5431     0.2825      1.064          1        608: 100%|██████████| 439/439 [07:18<00:00,  1.00it/s]\n",
      "                 Class     Images  Instances      Box(P          R      mAP50  mAP50-95): 100%|██████████| 47/47 [00:27<00:00,  1.71it/s]"
     ]
    },
    {
     "name": "stdout",
     "output_type": "stream",
     "text": [
      "                   all       1503       1503       0.98      0.987      0.993       0.89\n"
     ]
    },
    {
     "name": "stderr",
     "output_type": "stream",
     "text": [
      "\n"
     ]
    },
    {
     "name": "stdout",
     "output_type": "stream",
     "text": [
      "\n",
      "      Epoch    GPU_mem   box_loss   cls_loss   dfl_loss  Instances       Size\n"
     ]
    },
    {
     "name": "stderr",
     "output_type": "stream",
     "text": [
      "    97/1000      2.24G     0.5449     0.2807      1.064          1        608: 100%|██████████| 439/439 [07:01<00:00,  1.04it/s]\n",
      "                 Class     Images  Instances      Box(P          R      mAP50  mAP50-95): 100%|██████████| 47/47 [00:27<00:00,  1.73it/s]"
     ]
    },
    {
     "name": "stdout",
     "output_type": "stream",
     "text": [
      "                   all       1503       1503      0.978      0.988      0.993      0.889\n"
     ]
    },
    {
     "name": "stderr",
     "output_type": "stream",
     "text": [
      "\n"
     ]
    },
    {
     "name": "stdout",
     "output_type": "stream",
     "text": [
      "\n",
      "      Epoch    GPU_mem   box_loss   cls_loss   dfl_loss  Instances       Size\n"
     ]
    },
    {
     "name": "stderr",
     "output_type": "stream",
     "text": [
      "    98/1000      2.24G     0.5496     0.2852      1.069          1        608: 100%|██████████| 439/439 [07:11<00:00,  1.02it/s]\n",
      "                 Class     Images  Instances      Box(P          R      mAP50  mAP50-95): 100%|██████████| 47/47 [00:29<00:00,  1.61it/s]"
     ]
    },
    {
     "name": "stdout",
     "output_type": "stream",
     "text": [
      "                   all       1503       1503      0.977      0.983      0.993      0.888\n"
     ]
    },
    {
     "name": "stderr",
     "output_type": "stream",
     "text": [
      "\n"
     ]
    },
    {
     "name": "stdout",
     "output_type": "stream",
     "text": [
      "\n",
      "      Epoch    GPU_mem   box_loss   cls_loss   dfl_loss  Instances       Size\n"
     ]
    },
    {
     "name": "stderr",
     "output_type": "stream",
     "text": [
      "    99/1000      2.23G     0.5457     0.2808      1.058          1        608: 100%|██████████| 439/439 [07:19<00:00,  1.00s/it]\n",
      "                 Class     Images  Instances      Box(P          R      mAP50  mAP50-95): 100%|██████████| 47/47 [00:28<00:00,  1.64it/s]"
     ]
    },
    {
     "name": "stdout",
     "output_type": "stream",
     "text": [
      "                   all       1503       1503      0.978      0.985      0.994      0.888\n"
     ]
    },
    {
     "name": "stderr",
     "output_type": "stream",
     "text": [
      "\n"
     ]
    },
    {
     "name": "stdout",
     "output_type": "stream",
     "text": [
      "\n",
      "      Epoch    GPU_mem   box_loss   cls_loss   dfl_loss  Instances       Size\n"
     ]
    },
    {
     "name": "stderr",
     "output_type": "stream",
     "text": [
      "   100/1000      2.25G     0.5362      0.282      1.055          1        608: 100%|██████████| 439/439 [07:23<00:00,  1.01s/it]\n",
      "                 Class     Images  Instances      Box(P          R      mAP50  mAP50-95): 100%|██████████| 47/47 [00:28<00:00,  1.62it/s]"
     ]
    },
    {
     "name": "stdout",
     "output_type": "stream",
     "text": [
      "                   all       1503       1503      0.981      0.983      0.993      0.888\n"
     ]
    },
    {
     "name": "stderr",
     "output_type": "stream",
     "text": [
      "\n"
     ]
    },
    {
     "name": "stdout",
     "output_type": "stream",
     "text": [
      "\n",
      "      Epoch    GPU_mem   box_loss   cls_loss   dfl_loss  Instances       Size\n"
     ]
    },
    {
     "name": "stderr",
     "output_type": "stream",
     "text": [
      "   101/1000      2.24G      0.534     0.2772      1.055          1        608: 100%|██████████| 439/439 [07:22<00:00,  1.01s/it]\n",
      "                 Class     Images  Instances      Box(P          R      mAP50  mAP50-95): 100%|██████████| 47/47 [00:29<00:00,  1.62it/s]"
     ]
    },
    {
     "name": "stdout",
     "output_type": "stream",
     "text": [
      "                   all       1503       1503      0.982      0.984      0.994      0.889\n"
     ]
    },
    {
     "name": "stderr",
     "output_type": "stream",
     "text": [
      "\n"
     ]
    },
    {
     "name": "stdout",
     "output_type": "stream",
     "text": [
      "\n",
      "      Epoch    GPU_mem   box_loss   cls_loss   dfl_loss  Instances       Size\n"
     ]
    },
    {
     "name": "stderr",
     "output_type": "stream",
     "text": [
      "   102/1000      2.24G     0.5408     0.2779      1.058          1        608: 100%|██████████| 439/439 [07:29<00:00,  1.02s/it]\n",
      "                 Class     Images  Instances      Box(P          R      mAP50  mAP50-95): 100%|██████████| 47/47 [00:29<00:00,  1.62it/s]"
     ]
    },
    {
     "name": "stdout",
     "output_type": "stream",
     "text": [
      "                   all       1503       1503      0.984      0.981      0.993      0.889\n"
     ]
    },
    {
     "name": "stderr",
     "output_type": "stream",
     "text": [
      "\n"
     ]
    },
    {
     "name": "stdout",
     "output_type": "stream",
     "text": [
      "\n",
      "      Epoch    GPU_mem   box_loss   cls_loss   dfl_loss  Instances       Size\n"
     ]
    },
    {
     "name": "stderr",
     "output_type": "stream",
     "text": [
      "   103/1000      2.23G      0.548     0.2817      1.065          1        608: 100%|██████████| 439/439 [07:29<00:00,  1.02s/it]\n",
      "                 Class     Images  Instances      Box(P          R      mAP50  mAP50-95): 100%|██████████| 47/47 [00:28<00:00,  1.65it/s]"
     ]
    },
    {
     "name": "stdout",
     "output_type": "stream",
     "text": [
      "                   all       1503       1503      0.984      0.982      0.994       0.89\n"
     ]
    },
    {
     "name": "stderr",
     "output_type": "stream",
     "text": [
      "\n"
     ]
    },
    {
     "name": "stdout",
     "output_type": "stream",
     "text": [
      "\n",
      "      Epoch    GPU_mem   box_loss   cls_loss   dfl_loss  Instances       Size\n"
     ]
    },
    {
     "name": "stderr",
     "output_type": "stream",
     "text": [
      "   104/1000      2.25G     0.5446      0.282      1.065          1        608: 100%|██████████| 439/439 [07:31<00:00,  1.03s/it]\n",
      "                 Class     Images  Instances      Box(P          R      mAP50  mAP50-95): 100%|██████████| 47/47 [00:29<00:00,  1.58it/s]"
     ]
    },
    {
     "name": "stdout",
     "output_type": "stream",
     "text": [
      "                   all       1503       1503      0.984      0.981      0.994       0.89\n"
     ]
    },
    {
     "name": "stderr",
     "output_type": "stream",
     "text": [
      "\n"
     ]
    },
    {
     "name": "stdout",
     "output_type": "stream",
     "text": [
      "\n",
      "      Epoch    GPU_mem   box_loss   cls_loss   dfl_loss  Instances       Size\n"
     ]
    },
    {
     "name": "stderr",
     "output_type": "stream",
     "text": [
      "   105/1000      2.24G     0.5396     0.2793      1.061          1        608: 100%|██████████| 439/439 [07:32<00:00,  1.03s/it]\n",
      "                 Class     Images  Instances      Box(P          R      mAP50  mAP50-95): 100%|██████████| 47/47 [00:29<00:00,  1.59it/s]"
     ]
    },
    {
     "name": "stdout",
     "output_type": "stream",
     "text": [
      "                   all       1503       1503      0.983      0.983      0.993      0.891\n"
     ]
    },
    {
     "name": "stderr",
     "output_type": "stream",
     "text": [
      "\n"
     ]
    },
    {
     "name": "stdout",
     "output_type": "stream",
     "text": [
      "\n",
      "      Epoch    GPU_mem   box_loss   cls_loss   dfl_loss  Instances       Size\n"
     ]
    },
    {
     "name": "stderr",
     "output_type": "stream",
     "text": [
      "   106/1000      2.24G     0.5386     0.2779      1.062          1        608: 100%|██████████| 439/439 [07:32<00:00,  1.03s/it]\n",
      "                 Class     Images  Instances      Box(P          R      mAP50  mAP50-95): 100%|██████████| 47/47 [00:28<00:00,  1.66it/s]"
     ]
    },
    {
     "name": "stdout",
     "output_type": "stream",
     "text": [
      "                   all       1503       1503      0.983      0.986      0.994      0.891\n"
     ]
    },
    {
     "name": "stderr",
     "output_type": "stream",
     "text": [
      "\n"
     ]
    },
    {
     "name": "stdout",
     "output_type": "stream",
     "text": [
      "\n",
      "      Epoch    GPU_mem   box_loss   cls_loss   dfl_loss  Instances       Size\n"
     ]
    },
    {
     "name": "stderr",
     "output_type": "stream",
     "text": [
      "   107/1000      2.23G     0.5302     0.2785      1.049          1        608: 100%|██████████| 439/439 [07:31<00:00,  1.03s/it]\n",
      "                 Class     Images  Instances      Box(P          R      mAP50  mAP50-95): 100%|██████████| 47/47 [00:29<00:00,  1.60it/s]"
     ]
    },
    {
     "name": "stdout",
     "output_type": "stream",
     "text": [
      "                   all       1503       1503      0.981      0.984      0.994      0.891\n"
     ]
    },
    {
     "name": "stderr",
     "output_type": "stream",
     "text": [
      "\n"
     ]
    },
    {
     "name": "stdout",
     "output_type": "stream",
     "text": [
      "\n",
      "      Epoch    GPU_mem   box_loss   cls_loss   dfl_loss  Instances       Size\n"
     ]
    },
    {
     "name": "stderr",
     "output_type": "stream",
     "text": [
      "   108/1000      2.25G     0.5442     0.2792      1.062          1        608: 100%|██████████| 439/439 [07:26<00:00,  1.02s/it]\n",
      "                 Class     Images  Instances      Box(P          R      mAP50  mAP50-95): 100%|██████████| 47/47 [00:28<00:00,  1.66it/s]"
     ]
    },
    {
     "name": "stdout",
     "output_type": "stream",
     "text": [
      "                   all       1503       1503      0.983      0.984      0.994      0.891\n"
     ]
    },
    {
     "name": "stderr",
     "output_type": "stream",
     "text": [
      "\n"
     ]
    },
    {
     "name": "stdout",
     "output_type": "stream",
     "text": [
      "\n",
      "      Epoch    GPU_mem   box_loss   cls_loss   dfl_loss  Instances       Size\n"
     ]
    },
    {
     "name": "stderr",
     "output_type": "stream",
     "text": [
      "   109/1000      2.24G     0.5369     0.2777      1.057          1        608: 100%|██████████| 439/439 [07:27<00:00,  1.02s/it]\n",
      "                 Class     Images  Instances      Box(P          R      mAP50  mAP50-95): 100%|██████████| 47/47 [00:29<00:00,  1.62it/s]"
     ]
    },
    {
     "name": "stdout",
     "output_type": "stream",
     "text": [
      "                   all       1503       1503      0.984      0.985      0.994       0.89\n"
     ]
    },
    {
     "name": "stderr",
     "output_type": "stream",
     "text": [
      "\n"
     ]
    },
    {
     "name": "stdout",
     "output_type": "stream",
     "text": [
      "\n",
      "      Epoch    GPU_mem   box_loss   cls_loss   dfl_loss  Instances       Size\n"
     ]
    },
    {
     "name": "stderr",
     "output_type": "stream",
     "text": [
      "   110/1000      2.33G     0.5308     0.2774       1.05          1        608: 100%|██████████| 439/439 [07:22<00:00,  1.01s/it]\n",
      "                 Class     Images  Instances      Box(P          R      mAP50  mAP50-95): 100%|██████████| 47/47 [00:29<00:00,  1.59it/s]"
     ]
    },
    {
     "name": "stdout",
     "output_type": "stream",
     "text": [
      "                   all       1503       1503      0.984      0.987      0.994      0.891\n"
     ]
    },
    {
     "name": "stderr",
     "output_type": "stream",
     "text": [
      "\n"
     ]
    },
    {
     "name": "stdout",
     "output_type": "stream",
     "text": [
      "\n",
      "      Epoch    GPU_mem   box_loss   cls_loss   dfl_loss  Instances       Size\n"
     ]
    },
    {
     "name": "stderr",
     "output_type": "stream",
     "text": [
      "   111/1000      2.23G     0.5347     0.2763      1.056          1        608: 100%|██████████| 439/439 [07:26<00:00,  1.02s/it]\n",
      "                 Class     Images  Instances      Box(P          R      mAP50  mAP50-95): 100%|██████████| 47/47 [00:28<00:00,  1.65it/s]"
     ]
    },
    {
     "name": "stdout",
     "output_type": "stream",
     "text": [
      "                   all       1503       1503      0.983      0.987      0.994      0.892\n"
     ]
    },
    {
     "name": "stderr",
     "output_type": "stream",
     "text": [
      "\n"
     ]
    },
    {
     "name": "stdout",
     "output_type": "stream",
     "text": [
      "\n",
      "      Epoch    GPU_mem   box_loss   cls_loss   dfl_loss  Instances       Size\n"
     ]
    },
    {
     "name": "stderr",
     "output_type": "stream",
     "text": [
      "   112/1000      2.25G     0.5352     0.2733      1.056          1        608: 100%|██████████| 439/439 [07:25<00:00,  1.01s/it]\n",
      "                 Class     Images  Instances      Box(P          R      mAP50  mAP50-95): 100%|██████████| 47/47 [00:28<00:00,  1.63it/s]"
     ]
    },
    {
     "name": "stdout",
     "output_type": "stream",
     "text": [
      "                   all       1503       1503      0.985      0.987      0.994       0.89\n"
     ]
    },
    {
     "name": "stderr",
     "output_type": "stream",
     "text": [
      "\n"
     ]
    },
    {
     "name": "stdout",
     "output_type": "stream",
     "text": [
      "\n",
      "      Epoch    GPU_mem   box_loss   cls_loss   dfl_loss  Instances       Size\n"
     ]
    },
    {
     "name": "stderr",
     "output_type": "stream",
     "text": [
      "   113/1000      2.24G     0.5328     0.2738      1.052          1        608: 100%|██████████| 439/439 [07:27<00:00,  1.02s/it]\n",
      "                 Class     Images  Instances      Box(P          R      mAP50  mAP50-95): 100%|██████████| 47/47 [00:29<00:00,  1.60it/s]"
     ]
    },
    {
     "name": "stdout",
     "output_type": "stream",
     "text": [
      "                   all       1503       1503      0.984      0.987      0.994       0.89\n"
     ]
    },
    {
     "name": "stderr",
     "output_type": "stream",
     "text": [
      "\n"
     ]
    },
    {
     "name": "stdout",
     "output_type": "stream",
     "text": [
      "\n",
      "      Epoch    GPU_mem   box_loss   cls_loss   dfl_loss  Instances       Size\n"
     ]
    },
    {
     "name": "stderr",
     "output_type": "stream",
     "text": [
      "   114/1000      2.24G     0.5296     0.2741      1.051          1        608: 100%|██████████| 439/439 [07:29<00:00,  1.02s/it]\n",
      "                 Class     Images  Instances      Box(P          R      mAP50  mAP50-95): 100%|██████████| 47/47 [00:28<00:00,  1.66it/s]"
     ]
    },
    {
     "name": "stdout",
     "output_type": "stream",
     "text": [
      "                   all       1503       1503      0.984      0.983      0.994      0.892\n"
     ]
    },
    {
     "name": "stderr",
     "output_type": "stream",
     "text": [
      "\n"
     ]
    },
    {
     "name": "stdout",
     "output_type": "stream",
     "text": [
      "\n",
      "      Epoch    GPU_mem   box_loss   cls_loss   dfl_loss  Instances       Size\n"
     ]
    },
    {
     "name": "stderr",
     "output_type": "stream",
     "text": [
      "   115/1000      2.23G     0.5367     0.2782      1.057          1        608: 100%|██████████| 439/439 [07:27<00:00,  1.02s/it]\n",
      "                 Class     Images  Instances      Box(P          R      mAP50  mAP50-95): 100%|██████████| 47/47 [00:28<00:00,  1.64it/s]"
     ]
    },
    {
     "name": "stdout",
     "output_type": "stream",
     "text": [
      "                   all       1503       1503      0.981      0.987      0.994      0.892\n"
     ]
    },
    {
     "name": "stderr",
     "output_type": "stream",
     "text": [
      "\n"
     ]
    },
    {
     "name": "stdout",
     "output_type": "stream",
     "text": [
      "\n",
      "      Epoch    GPU_mem   box_loss   cls_loss   dfl_loss  Instances       Size\n"
     ]
    },
    {
     "name": "stderr",
     "output_type": "stream",
     "text": [
      "   116/1000      2.25G     0.5374     0.2768      1.057          1        608: 100%|██████████| 439/439 [07:31<00:00,  1.03s/it]\n",
      "                 Class     Images  Instances      Box(P          R      mAP50  mAP50-95): 100%|██████████| 47/47 [00:27<00:00,  1.69it/s]"
     ]
    },
    {
     "name": "stdout",
     "output_type": "stream",
     "text": [
      "                   all       1503       1503      0.983      0.987      0.994      0.892\n"
     ]
    },
    {
     "name": "stderr",
     "output_type": "stream",
     "text": [
      "\n"
     ]
    },
    {
     "name": "stdout",
     "output_type": "stream",
     "text": [
      "\n",
      "      Epoch    GPU_mem   box_loss   cls_loss   dfl_loss  Instances       Size\n"
     ]
    },
    {
     "name": "stderr",
     "output_type": "stream",
     "text": [
      "   117/1000      2.33G     0.5382      0.276      1.054          1        608: 100%|██████████| 439/439 [07:24<00:00,  1.01s/it]\n",
      "                 Class     Images  Instances      Box(P          R      mAP50  mAP50-95): 100%|██████████| 47/47 [00:28<00:00,  1.63it/s]"
     ]
    },
    {
     "name": "stdout",
     "output_type": "stream",
     "text": [
      "                   all       1503       1503      0.983      0.986      0.994      0.891\n"
     ]
    },
    {
     "name": "stderr",
     "output_type": "stream",
     "text": [
      "\n"
     ]
    },
    {
     "name": "stdout",
     "output_type": "stream",
     "text": [
      "\n",
      "      Epoch    GPU_mem   box_loss   cls_loss   dfl_loss  Instances       Size\n"
     ]
    },
    {
     "name": "stderr",
     "output_type": "stream",
     "text": [
      "   118/1000      2.24G     0.5295     0.2731      1.048          1        608: 100%|██████████| 439/439 [07:22<00:00,  1.01s/it]\n",
      "                 Class     Images  Instances      Box(P          R      mAP50  mAP50-95): 100%|██████████| 47/47 [00:27<00:00,  1.68it/s]"
     ]
    },
    {
     "name": "stdout",
     "output_type": "stream",
     "text": [
      "                   all       1503       1503      0.979      0.988      0.994      0.891\n"
     ]
    },
    {
     "name": "stderr",
     "output_type": "stream",
     "text": [
      "\n"
     ]
    },
    {
     "name": "stdout",
     "output_type": "stream",
     "text": [
      "\n",
      "      Epoch    GPU_mem   box_loss   cls_loss   dfl_loss  Instances       Size\n"
     ]
    },
    {
     "name": "stderr",
     "output_type": "stream",
     "text": [
      "   119/1000      2.23G     0.5331     0.2696      1.054          1        608: 100%|██████████| 439/439 [07:23<00:00,  1.01s/it]\n",
      "                 Class     Images  Instances      Box(P          R      mAP50  mAP50-95): 100%|██████████| 47/47 [00:28<00:00,  1.65it/s]"
     ]
    },
    {
     "name": "stdout",
     "output_type": "stream",
     "text": [
      "                   all       1503       1503       0.98      0.988      0.994      0.892\n"
     ]
    },
    {
     "name": "stderr",
     "output_type": "stream",
     "text": [
      "\n"
     ]
    },
    {
     "name": "stdout",
     "output_type": "stream",
     "text": [
      "\n",
      "      Epoch    GPU_mem   box_loss   cls_loss   dfl_loss  Instances       Size\n"
     ]
    },
    {
     "name": "stderr",
     "output_type": "stream",
     "text": [
      "   120/1000      2.25G     0.5291     0.2726       1.05          1        608: 100%|██████████| 439/439 [07:26<00:00,  1.02s/it]\n",
      "                 Class     Images  Instances      Box(P          R      mAP50  mAP50-95): 100%|██████████| 47/47 [00:28<00:00,  1.64it/s]"
     ]
    },
    {
     "name": "stdout",
     "output_type": "stream",
     "text": [
      "                   all       1503       1503      0.981      0.987      0.994      0.892\n"
     ]
    },
    {
     "name": "stderr",
     "output_type": "stream",
     "text": [
      "\n"
     ]
    },
    {
     "name": "stdout",
     "output_type": "stream",
     "text": [
      "\n",
      "      Epoch    GPU_mem   box_loss   cls_loss   dfl_loss  Instances       Size\n"
     ]
    },
    {
     "name": "stderr",
     "output_type": "stream",
     "text": [
      "   121/1000      2.24G     0.5208     0.2707      1.045          1        608: 100%|██████████| 439/439 [07:21<00:00,  1.01s/it]\n",
      "                 Class     Images  Instances      Box(P          R      mAP50  mAP50-95): 100%|██████████| 47/47 [00:28<00:00,  1.65it/s]"
     ]
    },
    {
     "name": "stdout",
     "output_type": "stream",
     "text": [
      "                   all       1503       1503      0.981      0.987      0.994      0.892\n"
     ]
    },
    {
     "name": "stderr",
     "output_type": "stream",
     "text": [
      "\n"
     ]
    },
    {
     "name": "stdout",
     "output_type": "stream",
     "text": [
      "\n",
      "      Epoch    GPU_mem   box_loss   cls_loss   dfl_loss  Instances       Size\n"
     ]
    },
    {
     "name": "stderr",
     "output_type": "stream",
     "text": [
      "   122/1000      2.33G     0.5277     0.2737      1.052          1        608: 100%|██████████| 439/439 [07:24<00:00,  1.01s/it]\n",
      "                 Class     Images  Instances      Box(P          R      mAP50  mAP50-95): 100%|██████████| 47/47 [00:28<00:00,  1.67it/s]"
     ]
    },
    {
     "name": "stdout",
     "output_type": "stream",
     "text": [
      "                   all       1503       1503      0.981      0.986      0.994      0.893\n"
     ]
    },
    {
     "name": "stderr",
     "output_type": "stream",
     "text": [
      "\n"
     ]
    },
    {
     "name": "stdout",
     "output_type": "stream",
     "text": [
      "\n",
      "      Epoch    GPU_mem   box_loss   cls_loss   dfl_loss  Instances       Size\n"
     ]
    },
    {
     "name": "stderr",
     "output_type": "stream",
     "text": [
      "   123/1000      2.23G     0.5289     0.2731      1.052          1        608: 100%|██████████| 439/439 [07:21<00:00,  1.01s/it]\n",
      "                 Class     Images  Instances      Box(P          R      mAP50  mAP50-95): 100%|██████████| 47/47 [00:29<00:00,  1.60it/s]"
     ]
    },
    {
     "name": "stdout",
     "output_type": "stream",
     "text": [
      "                   all       1503       1503      0.983      0.986      0.994      0.892\n"
     ]
    },
    {
     "name": "stderr",
     "output_type": "stream",
     "text": [
      "\n"
     ]
    },
    {
     "name": "stdout",
     "output_type": "stream",
     "text": [
      "\n",
      "      Epoch    GPU_mem   box_loss   cls_loss   dfl_loss  Instances       Size\n"
     ]
    },
    {
     "name": "stderr",
     "output_type": "stream",
     "text": [
      "   124/1000      2.25G     0.5307      0.271      1.048          1        608: 100%|██████████| 439/439 [07:23<00:00,  1.01s/it]\n",
      "                 Class     Images  Instances      Box(P          R      mAP50  mAP50-95): 100%|██████████| 47/47 [00:28<00:00,  1.66it/s]"
     ]
    },
    {
     "name": "stdout",
     "output_type": "stream",
     "text": [
      "                   all       1503       1503      0.983      0.987      0.994      0.892\n"
     ]
    },
    {
     "name": "stderr",
     "output_type": "stream",
     "text": [
      "\n"
     ]
    },
    {
     "name": "stdout",
     "output_type": "stream",
     "text": [
      "\n",
      "      Epoch    GPU_mem   box_loss   cls_loss   dfl_loss  Instances       Size\n"
     ]
    },
    {
     "name": "stderr",
     "output_type": "stream",
     "text": [
      "   125/1000      2.24G      0.527     0.2699      1.051          1        608: 100%|██████████| 439/439 [07:25<00:00,  1.01s/it]\n",
      "                 Class     Images  Instances      Box(P          R      mAP50  mAP50-95): 100%|██████████| 47/47 [00:28<00:00,  1.64it/s]"
     ]
    },
    {
     "name": "stdout",
     "output_type": "stream",
     "text": [
      "                   all       1503       1503      0.984      0.987      0.994      0.892\n"
     ]
    },
    {
     "name": "stderr",
     "output_type": "stream",
     "text": [
      "\n"
     ]
    },
    {
     "name": "stdout",
     "output_type": "stream",
     "text": [
      "\n",
      "      Epoch    GPU_mem   box_loss   cls_loss   dfl_loss  Instances       Size\n"
     ]
    },
    {
     "name": "stderr",
     "output_type": "stream",
     "text": [
      "   126/1000      2.24G      0.529     0.2746      1.049          1        608: 100%|██████████| 439/439 [07:21<00:00,  1.00s/it]\n",
      "                 Class     Images  Instances      Box(P          R      mAP50  mAP50-95): 100%|██████████| 47/47 [00:28<00:00,  1.66it/s]"
     ]
    },
    {
     "name": "stdout",
     "output_type": "stream",
     "text": [
      "                   all       1503       1503      0.985      0.987      0.994      0.893\n"
     ]
    },
    {
     "name": "stderr",
     "output_type": "stream",
     "text": [
      "\n"
     ]
    },
    {
     "name": "stdout",
     "output_type": "stream",
     "text": [
      "\n",
      "      Epoch    GPU_mem   box_loss   cls_loss   dfl_loss  Instances       Size\n"
     ]
    },
    {
     "name": "stderr",
     "output_type": "stream",
     "text": [
      "   127/1000      2.23G     0.5241      0.272       1.05          1        608: 100%|██████████| 439/439 [07:22<00:00,  1.01s/it]\n",
      "                 Class     Images  Instances      Box(P          R      mAP50  mAP50-95): 100%|██████████| 47/47 [00:29<00:00,  1.61it/s]"
     ]
    },
    {
     "name": "stdout",
     "output_type": "stream",
     "text": [
      "                   all       1503       1503      0.983      0.988      0.994      0.894\n"
     ]
    },
    {
     "name": "stderr",
     "output_type": "stream",
     "text": [
      "\n"
     ]
    },
    {
     "name": "stdout",
     "output_type": "stream",
     "text": [
      "\n",
      "      Epoch    GPU_mem   box_loss   cls_loss   dfl_loss  Instances       Size\n"
     ]
    },
    {
     "name": "stderr",
     "output_type": "stream",
     "text": [
      "   128/1000      2.25G     0.5232     0.2693      1.046          1        608: 100%|██████████| 439/439 [07:23<00:00,  1.01s/it]\n",
      "                 Class     Images  Instances      Box(P          R      mAP50  mAP50-95): 100%|██████████| 47/47 [00:28<00:00,  1.66it/s]"
     ]
    },
    {
     "name": "stdout",
     "output_type": "stream",
     "text": [
      "                   all       1503       1503      0.985      0.987      0.994      0.893\n"
     ]
    },
    {
     "name": "stderr",
     "output_type": "stream",
     "text": [
      "\n"
     ]
    },
    {
     "name": "stdout",
     "output_type": "stream",
     "text": [
      "\n",
      "      Epoch    GPU_mem   box_loss   cls_loss   dfl_loss  Instances       Size\n"
     ]
    },
    {
     "name": "stderr",
     "output_type": "stream",
     "text": [
      "   129/1000      2.24G     0.5187     0.2694      1.042          1        608: 100%|██████████| 439/439 [07:21<00:00,  1.01s/it]\n",
      "                 Class     Images  Instances      Box(P          R      mAP50  mAP50-95): 100%|██████████| 47/47 [00:28<00:00,  1.66it/s]"
     ]
    },
    {
     "name": "stdout",
     "output_type": "stream",
     "text": [
      "                   all       1503       1503      0.985      0.987      0.994      0.894\n"
     ]
    },
    {
     "name": "stderr",
     "output_type": "stream",
     "text": [
      "\n"
     ]
    },
    {
     "name": "stdout",
     "output_type": "stream",
     "text": [
      "\n",
      "      Epoch    GPU_mem   box_loss   cls_loss   dfl_loss  Instances       Size\n"
     ]
    },
    {
     "name": "stderr",
     "output_type": "stream",
     "text": [
      "   130/1000      2.33G     0.5199      0.266      1.046          1        608: 100%|██████████| 439/439 [07:26<00:00,  1.02s/it]\n",
      "                 Class     Images  Instances      Box(P          R      mAP50  mAP50-95): 100%|██████████| 47/47 [00:28<00:00,  1.65it/s]"
     ]
    },
    {
     "name": "stdout",
     "output_type": "stream",
     "text": [
      "                   all       1503       1503      0.985      0.987      0.994      0.894\n"
     ]
    },
    {
     "name": "stderr",
     "output_type": "stream",
     "text": [
      "\n"
     ]
    },
    {
     "name": "stdout",
     "output_type": "stream",
     "text": [
      "\n",
      "      Epoch    GPU_mem   box_loss   cls_loss   dfl_loss  Instances       Size\n"
     ]
    },
    {
     "name": "stderr",
     "output_type": "stream",
     "text": [
      "   131/1000      2.32G     0.5274     0.2727      1.049          1        608: 100%|██████████| 439/439 [07:19<00:00,  1.00s/it]\n",
      "                 Class     Images  Instances      Box(P          R      mAP50  mAP50-95): 100%|██████████| 47/47 [00:28<00:00,  1.64it/s]"
     ]
    },
    {
     "name": "stdout",
     "output_type": "stream",
     "text": [
      "                   all       1503       1503      0.985      0.989      0.994      0.894\n"
     ]
    },
    {
     "name": "stderr",
     "output_type": "stream",
     "text": [
      "\n"
     ]
    },
    {
     "name": "stdout",
     "output_type": "stream",
     "text": [
      "\n",
      "      Epoch    GPU_mem   box_loss   cls_loss   dfl_loss  Instances       Size\n"
     ]
    },
    {
     "name": "stderr",
     "output_type": "stream",
     "text": [
      "   132/1000      2.25G     0.5209     0.2696      1.043          1        608: 100%|██████████| 439/439 [07:21<00:00,  1.01s/it]\n",
      "                 Class     Images  Instances      Box(P          R      mAP50  mAP50-95): 100%|██████████| 47/47 [00:28<00:00,  1.66it/s]"
     ]
    },
    {
     "name": "stdout",
     "output_type": "stream",
     "text": [
      "                   all       1503       1503      0.985      0.989      0.994      0.894\n"
     ]
    },
    {
     "name": "stderr",
     "output_type": "stream",
     "text": [
      "\n"
     ]
    },
    {
     "name": "stdout",
     "output_type": "stream",
     "text": [
      "\n",
      "      Epoch    GPU_mem   box_loss   cls_loss   dfl_loss  Instances       Size\n"
     ]
    },
    {
     "name": "stderr",
     "output_type": "stream",
     "text": [
      "   133/1000      2.24G     0.5292      0.272      1.052          1        608: 100%|██████████| 439/439 [07:18<00:00,  1.00it/s]\n",
      "                 Class     Images  Instances      Box(P          R      mAP50  mAP50-95): 100%|██████████| 47/47 [00:29<00:00,  1.61it/s]"
     ]
    },
    {
     "name": "stdout",
     "output_type": "stream",
     "text": [
      "                   all       1503       1503      0.985      0.986      0.994      0.894\n"
     ]
    },
    {
     "name": "stderr",
     "output_type": "stream",
     "text": [
      "\n"
     ]
    },
    {
     "name": "stdout",
     "output_type": "stream",
     "text": [
      "\n",
      "      Epoch    GPU_mem   box_loss   cls_loss   dfl_loss  Instances       Size\n"
     ]
    },
    {
     "name": "stderr",
     "output_type": "stream",
     "text": [
      "   134/1000      2.24G     0.5245     0.2698      1.048          1        608: 100%|██████████| 439/439 [07:22<00:00,  1.01s/it]\n",
      "                 Class     Images  Instances      Box(P          R      mAP50  mAP50-95): 100%|██████████| 47/47 [00:28<00:00,  1.63it/s]"
     ]
    },
    {
     "name": "stdout",
     "output_type": "stream",
     "text": [
      "                   all       1503       1503      0.983      0.986      0.994      0.894\n"
     ]
    },
    {
     "name": "stderr",
     "output_type": "stream",
     "text": [
      "\n"
     ]
    },
    {
     "name": "stdout",
     "output_type": "stream",
     "text": [
      "\n",
      "      Epoch    GPU_mem   box_loss   cls_loss   dfl_loss  Instances       Size\n"
     ]
    },
    {
     "name": "stderr",
     "output_type": "stream",
     "text": [
      "   135/1000      2.23G     0.5188     0.2675      1.041          1        608: 100%|██████████| 439/439 [07:20<00:00,  1.00s/it]\n",
      "                 Class     Images  Instances      Box(P          R      mAP50  mAP50-95): 100%|██████████| 47/47 [00:28<00:00,  1.64it/s]"
     ]
    },
    {
     "name": "stdout",
     "output_type": "stream",
     "text": [
      "                   all       1503       1503      0.983      0.986      0.994      0.894\n"
     ]
    },
    {
     "name": "stderr",
     "output_type": "stream",
     "text": [
      "\n"
     ]
    },
    {
     "name": "stdout",
     "output_type": "stream",
     "text": [
      "\n",
      "      Epoch    GPU_mem   box_loss   cls_loss   dfl_loss  Instances       Size\n"
     ]
    },
    {
     "name": "stderr",
     "output_type": "stream",
     "text": [
      "   136/1000      2.25G     0.5262     0.2686      1.046          1        608: 100%|██████████| 439/439 [07:19<00:00,  1.00s/it]\n",
      "                 Class     Images  Instances      Box(P          R      mAP50  mAP50-95): 100%|██████████| 47/47 [00:27<00:00,  1.70it/s]"
     ]
    },
    {
     "name": "stdout",
     "output_type": "stream",
     "text": [
      "                   all       1503       1503      0.984      0.985      0.994      0.896\n"
     ]
    },
    {
     "name": "stderr",
     "output_type": "stream",
     "text": [
      "\n"
     ]
    },
    {
     "name": "stdout",
     "output_type": "stream",
     "text": [
      "\n",
      "      Epoch    GPU_mem   box_loss   cls_loss   dfl_loss  Instances       Size\n"
     ]
    },
    {
     "name": "stderr",
     "output_type": "stream",
     "text": [
      "   137/1000      2.24G     0.5157     0.2672      1.042          1        608: 100%|██████████| 439/439 [07:17<00:00,  1.00it/s]\n",
      "                 Class     Images  Instances      Box(P          R      mAP50  mAP50-95): 100%|██████████| 47/47 [00:27<00:00,  1.68it/s]"
     ]
    },
    {
     "name": "stdout",
     "output_type": "stream",
     "text": [
      "                   all       1503       1503      0.984      0.986      0.994      0.895\n"
     ]
    },
    {
     "name": "stderr",
     "output_type": "stream",
     "text": [
      "\n"
     ]
    },
    {
     "name": "stdout",
     "output_type": "stream",
     "text": [
      "\n",
      "      Epoch    GPU_mem   box_loss   cls_loss   dfl_loss  Instances       Size\n"
     ]
    },
    {
     "name": "stderr",
     "output_type": "stream",
     "text": [
      "   138/1000      2.24G     0.5224      0.268      1.041          1        608: 100%|██████████| 439/439 [07:18<00:00,  1.00it/s]\n",
      "                 Class     Images  Instances      Box(P          R      mAP50  mAP50-95): 100%|██████████| 47/47 [00:28<00:00,  1.66it/s]"
     ]
    },
    {
     "name": "stdout",
     "output_type": "stream",
     "text": [
      "                   all       1503       1503      0.984      0.986      0.994      0.895\n"
     ]
    },
    {
     "name": "stderr",
     "output_type": "stream",
     "text": [
      "\n"
     ]
    },
    {
     "name": "stdout",
     "output_type": "stream",
     "text": [
      "\n",
      "      Epoch    GPU_mem   box_loss   cls_loss   dfl_loss  Instances       Size\n"
     ]
    },
    {
     "name": "stderr",
     "output_type": "stream",
     "text": [
      "   139/1000      2.23G     0.5196     0.2685      1.039          1        608: 100%|██████████| 439/439 [07:16<00:00,  1.01it/s]\n",
      "                 Class     Images  Instances      Box(P          R      mAP50  mAP50-95): 100%|██████████| 47/47 [00:28<00:00,  1.66it/s]"
     ]
    },
    {
     "name": "stdout",
     "output_type": "stream",
     "text": [
      "                   all       1503       1503      0.984      0.987      0.994      0.896\n"
     ]
    },
    {
     "name": "stderr",
     "output_type": "stream",
     "text": [
      "\n"
     ]
    },
    {
     "name": "stdout",
     "output_type": "stream",
     "text": [
      "\n",
      "      Epoch    GPU_mem   box_loss   cls_loss   dfl_loss  Instances       Size\n"
     ]
    },
    {
     "name": "stderr",
     "output_type": "stream",
     "text": [
      "   140/1000      2.25G     0.5237     0.2659      1.047          1        608: 100%|██████████| 439/439 [07:05<00:00,  1.03it/s]\n",
      "                 Class     Images  Instances      Box(P          R      mAP50  mAP50-95): 100%|██████████| 47/47 [00:27<00:00,  1.72it/s]"
     ]
    },
    {
     "name": "stdout",
     "output_type": "stream",
     "text": [
      "                   all       1503       1503      0.984      0.987      0.994      0.895\n"
     ]
    },
    {
     "name": "stderr",
     "output_type": "stream",
     "text": [
      "\n"
     ]
    },
    {
     "name": "stdout",
     "output_type": "stream",
     "text": [
      "\n",
      "      Epoch    GPU_mem   box_loss   cls_loss   dfl_loss  Instances       Size\n"
     ]
    },
    {
     "name": "stderr",
     "output_type": "stream",
     "text": [
      "   141/1000      2.24G      0.518     0.2716      1.041          1        608: 100%|██████████| 439/439 [07:09<00:00,  1.02it/s]\n",
      "                 Class     Images  Instances      Box(P          R      mAP50  mAP50-95): 100%|██████████| 47/47 [00:27<00:00,  1.70it/s]"
     ]
    },
    {
     "name": "stdout",
     "output_type": "stream",
     "text": [
      "                   all       1503       1503      0.983      0.987      0.994      0.895\n"
     ]
    },
    {
     "name": "stderr",
     "output_type": "stream",
     "text": [
      "\n"
     ]
    },
    {
     "name": "stdout",
     "output_type": "stream",
     "text": [
      "\n",
      "      Epoch    GPU_mem   box_loss   cls_loss   dfl_loss  Instances       Size\n"
     ]
    },
    {
     "name": "stderr",
     "output_type": "stream",
     "text": [
      "   142/1000      2.24G     0.5223     0.2697      1.042          1        608: 100%|██████████| 439/439 [06:44<00:00,  1.09it/s]\n",
      "                 Class     Images  Instances      Box(P          R      mAP50  mAP50-95): 100%|██████████| 47/47 [00:26<00:00,  1.76it/s]"
     ]
    },
    {
     "name": "stdout",
     "output_type": "stream",
     "text": [
      "                   all       1503       1503      0.983      0.987      0.994      0.895\n"
     ]
    },
    {
     "name": "stderr",
     "output_type": "stream",
     "text": [
      "\n"
     ]
    },
    {
     "name": "stdout",
     "output_type": "stream",
     "text": [
      "\n",
      "      Epoch    GPU_mem   box_loss   cls_loss   dfl_loss  Instances       Size\n"
     ]
    },
    {
     "name": "stderr",
     "output_type": "stream",
     "text": [
      "   143/1000      2.23G     0.5168     0.2655      1.044          1        608: 100%|██████████| 439/439 [06:35<00:00,  1.11it/s]\n",
      "                 Class     Images  Instances      Box(P          R      mAP50  mAP50-95): 100%|██████████| 47/47 [00:27<00:00,  1.72it/s]"
     ]
    },
    {
     "name": "stdout",
     "output_type": "stream",
     "text": [
      "                   all       1503       1503      0.984      0.988      0.994      0.895\n"
     ]
    },
    {
     "name": "stderr",
     "output_type": "stream",
     "text": [
      "\n"
     ]
    },
    {
     "name": "stdout",
     "output_type": "stream",
     "text": [
      "\n",
      "      Epoch    GPU_mem   box_loss   cls_loss   dfl_loss  Instances       Size\n"
     ]
    },
    {
     "name": "stderr",
     "output_type": "stream",
     "text": [
      "   144/1000      2.25G     0.5187     0.2636      1.041          1        608: 100%|██████████| 439/439 [06:50<00:00,  1.07it/s]\n",
      "                 Class     Images  Instances      Box(P          R      mAP50  mAP50-95): 100%|██████████| 47/47 [00:27<00:00,  1.74it/s]"
     ]
    },
    {
     "name": "stdout",
     "output_type": "stream",
     "text": [
      "                   all       1503       1503      0.984      0.988      0.994      0.894\n"
     ]
    },
    {
     "name": "stderr",
     "output_type": "stream",
     "text": [
      "\n"
     ]
    },
    {
     "name": "stdout",
     "output_type": "stream",
     "text": [
      "\n",
      "      Epoch    GPU_mem   box_loss   cls_loss   dfl_loss  Instances       Size\n"
     ]
    },
    {
     "name": "stderr",
     "output_type": "stream",
     "text": [
      "   145/1000      2.24G     0.5166     0.2637      1.041          1        608: 100%|██████████| 439/439 [06:45<00:00,  1.08it/s]\n",
      "                 Class     Images  Instances      Box(P          R      mAP50  mAP50-95): 100%|██████████| 47/47 [00:27<00:00,  1.69it/s]"
     ]
    },
    {
     "name": "stdout",
     "output_type": "stream",
     "text": [
      "                   all       1503       1503      0.985      0.987      0.994      0.894\n"
     ]
    },
    {
     "name": "stderr",
     "output_type": "stream",
     "text": [
      "\n"
     ]
    },
    {
     "name": "stdout",
     "output_type": "stream",
     "text": [
      "\n",
      "      Epoch    GPU_mem   box_loss   cls_loss   dfl_loss  Instances       Size\n"
     ]
    },
    {
     "name": "stderr",
     "output_type": "stream",
     "text": [
      "   146/1000      2.24G     0.5125     0.2628      1.035          1        608: 100%|██████████| 439/439 [06:56<00:00,  1.05it/s]\n",
      "                 Class     Images  Instances      Box(P          R      mAP50  mAP50-95): 100%|██████████| 47/47 [00:28<00:00,  1.66it/s]"
     ]
    },
    {
     "name": "stdout",
     "output_type": "stream",
     "text": [
      "                   all       1503       1503      0.985      0.985      0.994      0.894\n"
     ]
    },
    {
     "name": "stderr",
     "output_type": "stream",
     "text": [
      "\n"
     ]
    },
    {
     "name": "stdout",
     "output_type": "stream",
     "text": [
      "\n",
      "      Epoch    GPU_mem   box_loss   cls_loss   dfl_loss  Instances       Size\n"
     ]
    },
    {
     "name": "stderr",
     "output_type": "stream",
     "text": [
      "   147/1000      2.32G     0.5111     0.2632      1.039          1        608: 100%|██████████| 439/439 [07:02<00:00,  1.04it/s]\n",
      "                 Class     Images  Instances      Box(P          R      mAP50  mAP50-95): 100%|██████████| 47/47 [00:27<00:00,  1.70it/s]"
     ]
    },
    {
     "name": "stdout",
     "output_type": "stream",
     "text": [
      "                   all       1503       1503      0.985      0.985      0.994      0.894\n"
     ]
    },
    {
     "name": "stderr",
     "output_type": "stream",
     "text": [
      "\n"
     ]
    },
    {
     "name": "stdout",
     "output_type": "stream",
     "text": [
      "\n",
      "      Epoch    GPU_mem   box_loss   cls_loss   dfl_loss  Instances       Size\n"
     ]
    },
    {
     "name": "stderr",
     "output_type": "stream",
     "text": [
      "   148/1000      2.25G     0.5138     0.2646       1.04          1        608: 100%|██████████| 439/439 [07:03<00:00,  1.04it/s]\n",
      "                 Class     Images  Instances      Box(P          R      mAP50  mAP50-95): 100%|██████████| 47/47 [00:27<00:00,  1.69it/s]"
     ]
    },
    {
     "name": "stdout",
     "output_type": "stream",
     "text": [
      "                   all       1503       1503      0.985      0.986      0.994      0.895\n"
     ]
    },
    {
     "name": "stderr",
     "output_type": "stream",
     "text": [
      "\n"
     ]
    },
    {
     "name": "stdout",
     "output_type": "stream",
     "text": [
      "\n",
      "      Epoch    GPU_mem   box_loss   cls_loss   dfl_loss  Instances       Size\n"
     ]
    },
    {
     "name": "stderr",
     "output_type": "stream",
     "text": [
      "   149/1000      2.24G     0.5102     0.2624      1.039          1        608: 100%|██████████| 439/439 [07:06<00:00,  1.03it/s]\n",
      "                 Class     Images  Instances      Box(P          R      mAP50  mAP50-95): 100%|██████████| 47/47 [00:27<00:00,  1.71it/s]"
     ]
    },
    {
     "name": "stdout",
     "output_type": "stream",
     "text": [
      "                   all       1503       1503      0.985      0.986      0.994      0.894\n"
     ]
    },
    {
     "name": "stderr",
     "output_type": "stream",
     "text": [
      "\n"
     ]
    },
    {
     "name": "stdout",
     "output_type": "stream",
     "text": [
      "\n",
      "      Epoch    GPU_mem   box_loss   cls_loss   dfl_loss  Instances       Size\n"
     ]
    },
    {
     "name": "stderr",
     "output_type": "stream",
     "text": [
      "   150/1000      2.24G      0.514     0.2625      1.045          1        608: 100%|██████████| 439/439 [07:19<00:00,  1.00s/it]\n",
      "                 Class     Images  Instances      Box(P          R      mAP50  mAP50-95): 100%|██████████| 47/47 [00:29<00:00,  1.61it/s]"
     ]
    },
    {
     "name": "stdout",
     "output_type": "stream",
     "text": [
      "                   all       1503       1503      0.985      0.986      0.994      0.894\n"
     ]
    },
    {
     "name": "stderr",
     "output_type": "stream",
     "text": [
      "\n"
     ]
    },
    {
     "name": "stdout",
     "output_type": "stream",
     "text": [
      "\n",
      "      Epoch    GPU_mem   box_loss   cls_loss   dfl_loss  Instances       Size\n"
     ]
    },
    {
     "name": "stderr",
     "output_type": "stream",
     "text": [
      "   151/1000      2.23G     0.5107     0.2616      1.041          1        608: 100%|██████████| 439/439 [07:23<00:00,  1.01s/it]\n",
      "                 Class     Images  Instances      Box(P          R      mAP50  mAP50-95): 100%|██████████| 47/47 [00:28<00:00,  1.65it/s]"
     ]
    },
    {
     "name": "stdout",
     "output_type": "stream",
     "text": [
      "                   all       1503       1503      0.985      0.986      0.994      0.895\n"
     ]
    },
    {
     "name": "stderr",
     "output_type": "stream",
     "text": [
      "\n"
     ]
    },
    {
     "name": "stdout",
     "output_type": "stream",
     "text": [
      "\n",
      "      Epoch    GPU_mem   box_loss   cls_loss   dfl_loss  Instances       Size\n"
     ]
    },
    {
     "name": "stderr",
     "output_type": "stream",
     "text": [
      "   152/1000      2.25G     0.5121     0.2602      1.034          1        608: 100%|██████████| 439/439 [07:22<00:00,  1.01s/it]\n",
      "                 Class     Images  Instances      Box(P          R      mAP50  mAP50-95): 100%|██████████| 47/47 [00:28<00:00,  1.63it/s]"
     ]
    },
    {
     "name": "stdout",
     "output_type": "stream",
     "text": [
      "                   all       1503       1503      0.985      0.986      0.994      0.895\n"
     ]
    },
    {
     "name": "stderr",
     "output_type": "stream",
     "text": [
      "\n"
     ]
    },
    {
     "name": "stdout",
     "output_type": "stream",
     "text": [
      "\n",
      "      Epoch    GPU_mem   box_loss   cls_loss   dfl_loss  Instances       Size\n"
     ]
    },
    {
     "name": "stderr",
     "output_type": "stream",
     "text": [
      "   153/1000      2.24G     0.5127     0.2604      1.035          1        608: 100%|██████████| 439/439 [07:23<00:00,  1.01s/it]\n",
      "                 Class     Images  Instances      Box(P          R      mAP50  mAP50-95): 100%|██████████| 47/47 [00:28<00:00,  1.66it/s]"
     ]
    },
    {
     "name": "stdout",
     "output_type": "stream",
     "text": [
      "                   all       1503       1503      0.985      0.986      0.994      0.896\n"
     ]
    },
    {
     "name": "stderr",
     "output_type": "stream",
     "text": [
      "\n"
     ]
    },
    {
     "name": "stdout",
     "output_type": "stream",
     "text": [
      "\n",
      "      Epoch    GPU_mem   box_loss   cls_loss   dfl_loss  Instances       Size\n"
     ]
    },
    {
     "name": "stderr",
     "output_type": "stream",
     "text": [
      "   154/1000      2.24G     0.5112     0.2611      1.037          1        608: 100%|██████████| 439/439 [07:30<00:00,  1.03s/it]\n",
      "                 Class     Images  Instances      Box(P          R      mAP50  mAP50-95): 100%|██████████| 47/47 [00:29<00:00,  1.61it/s]"
     ]
    },
    {
     "name": "stdout",
     "output_type": "stream",
     "text": [
      "                   all       1503       1503      0.983      0.989      0.994      0.896\n"
     ]
    },
    {
     "name": "stderr",
     "output_type": "stream",
     "text": [
      "\n"
     ]
    },
    {
     "name": "stdout",
     "output_type": "stream",
     "text": [
      "\n",
      "      Epoch    GPU_mem   box_loss   cls_loss   dfl_loss  Instances       Size\n"
     ]
    },
    {
     "name": "stderr",
     "output_type": "stream",
     "text": [
      "   155/1000      2.23G     0.5148     0.2609      1.038          1        608: 100%|██████████| 439/439 [07:26<00:00,  1.02s/it]\n",
      "                 Class     Images  Instances      Box(P          R      mAP50  mAP50-95): 100%|██████████| 47/47 [00:30<00:00,  1.55it/s]"
     ]
    },
    {
     "name": "stdout",
     "output_type": "stream",
     "text": [
      "                   all       1503       1503      0.983      0.988      0.994      0.895\n"
     ]
    },
    {
     "name": "stderr",
     "output_type": "stream",
     "text": [
      "\n"
     ]
    },
    {
     "name": "stdout",
     "output_type": "stream",
     "text": [
      "\n",
      "      Epoch    GPU_mem   box_loss   cls_loss   dfl_loss  Instances       Size\n"
     ]
    },
    {
     "name": "stderr",
     "output_type": "stream",
     "text": [
      "   156/1000      2.25G     0.5169       0.26      1.041          1        608: 100%|██████████| 439/439 [07:38<00:00,  1.04s/it]\n",
      "                 Class     Images  Instances      Box(P          R      mAP50  mAP50-95): 100%|██████████| 47/47 [00:28<00:00,  1.63it/s]"
     ]
    },
    {
     "name": "stdout",
     "output_type": "stream",
     "text": [
      "                   all       1503       1503      0.983      0.988      0.994      0.895\n"
     ]
    },
    {
     "name": "stderr",
     "output_type": "stream",
     "text": [
      "\n"
     ]
    },
    {
     "name": "stdout",
     "output_type": "stream",
     "text": [
      "\n",
      "      Epoch    GPU_mem   box_loss   cls_loss   dfl_loss  Instances       Size\n"
     ]
    },
    {
     "name": "stderr",
     "output_type": "stream",
     "text": [
      "   157/1000      2.24G     0.5137     0.2601       1.04          1        608: 100%|██████████| 439/439 [07:40<00:00,  1.05s/it]\n",
      "                 Class     Images  Instances      Box(P          R      mAP50  mAP50-95): 100%|██████████| 47/47 [00:29<00:00,  1.61it/s]"
     ]
    },
    {
     "name": "stdout",
     "output_type": "stream",
     "text": [
      "                   all       1503       1503      0.983      0.989      0.994      0.895\n"
     ]
    },
    {
     "name": "stderr",
     "output_type": "stream",
     "text": [
      "\n"
     ]
    },
    {
     "name": "stdout",
     "output_type": "stream",
     "text": [
      "\n",
      "      Epoch    GPU_mem   box_loss   cls_loss   dfl_loss  Instances       Size\n"
     ]
    },
    {
     "name": "stderr",
     "output_type": "stream",
     "text": [
      "   158/1000      2.24G     0.5025     0.2548      1.031          1        608: 100%|██████████| 439/439 [07:41<00:00,  1.05s/it]\n",
      "                 Class     Images  Instances      Box(P          R      mAP50  mAP50-95): 100%|██████████| 47/47 [00:28<00:00,  1.63it/s]"
     ]
    },
    {
     "name": "stdout",
     "output_type": "stream",
     "text": [
      "                   all       1503       1503      0.983      0.989      0.994      0.895\n"
     ]
    },
    {
     "name": "stderr",
     "output_type": "stream",
     "text": [
      "\n"
     ]
    },
    {
     "name": "stdout",
     "output_type": "stream",
     "text": [
      "\n",
      "      Epoch    GPU_mem   box_loss   cls_loss   dfl_loss  Instances       Size\n"
     ]
    },
    {
     "name": "stderr",
     "output_type": "stream",
     "text": [
      "   159/1000      2.23G     0.5059     0.2595       1.03          1        608: 100%|██████████| 439/439 [07:43<00:00,  1.06s/it]\n",
      "                 Class     Images  Instances      Box(P          R      mAP50  mAP50-95): 100%|██████████| 47/47 [00:29<00:00,  1.62it/s]"
     ]
    },
    {
     "name": "stdout",
     "output_type": "stream",
     "text": [
      "                   all       1503       1503      0.983      0.989      0.994      0.895\n"
     ]
    },
    {
     "name": "stderr",
     "output_type": "stream",
     "text": [
      "\n"
     ]
    },
    {
     "name": "stdout",
     "output_type": "stream",
     "text": [
      "\n",
      "      Epoch    GPU_mem   box_loss   cls_loss   dfl_loss  Instances       Size\n"
     ]
    },
    {
     "name": "stderr",
     "output_type": "stream",
     "text": [
      "   160/1000      2.25G     0.5077     0.2592      1.034          1        608: 100%|██████████| 439/439 [07:40<00:00,  1.05s/it]\n",
      "                 Class     Images  Instances      Box(P          R      mAP50  mAP50-95): 100%|██████████| 47/47 [00:29<00:00,  1.59it/s]"
     ]
    },
    {
     "name": "stdout",
     "output_type": "stream",
     "text": [
      "                   all       1503       1503      0.983      0.989      0.994      0.895\n"
     ]
    },
    {
     "name": "stderr",
     "output_type": "stream",
     "text": [
      "\n"
     ]
    },
    {
     "name": "stdout",
     "output_type": "stream",
     "text": [
      "\n",
      "      Epoch    GPU_mem   box_loss   cls_loss   dfl_loss  Instances       Size\n"
     ]
    },
    {
     "name": "stderr",
     "output_type": "stream",
     "text": [
      "   161/1000      2.24G     0.5013     0.2579      1.029          1        608: 100%|██████████| 439/439 [07:41<00:00,  1.05s/it]\n",
      "                 Class     Images  Instances      Box(P          R      mAP50  mAP50-95): 100%|██████████| 47/47 [00:28<00:00,  1.64it/s]"
     ]
    },
    {
     "name": "stdout",
     "output_type": "stream",
     "text": [
      "                   all       1503       1503      0.983      0.989      0.994      0.895\n"
     ]
    },
    {
     "name": "stderr",
     "output_type": "stream",
     "text": [
      "\n"
     ]
    },
    {
     "name": "stdout",
     "output_type": "stream",
     "text": [
      "\n",
      "      Epoch    GPU_mem   box_loss   cls_loss   dfl_loss  Instances       Size\n"
     ]
    },
    {
     "name": "stderr",
     "output_type": "stream",
     "text": [
      "   162/1000      2.24G      0.509     0.2619      1.036          1        608: 100%|██████████| 439/439 [07:41<00:00,  1.05s/it]\n",
      "                 Class     Images  Instances      Box(P          R      mAP50  mAP50-95): 100%|██████████| 47/47 [00:29<00:00,  1.61it/s]"
     ]
    },
    {
     "name": "stdout",
     "output_type": "stream",
     "text": [
      "                   all       1503       1503      0.983      0.989      0.994      0.895\n"
     ]
    },
    {
     "name": "stderr",
     "output_type": "stream",
     "text": [
      "\n"
     ]
    },
    {
     "name": "stdout",
     "output_type": "stream",
     "text": [
      "\n",
      "      Epoch    GPU_mem   box_loss   cls_loss   dfl_loss  Instances       Size\n"
     ]
    },
    {
     "name": "stderr",
     "output_type": "stream",
     "text": [
      "   163/1000      2.23G      0.507     0.2602      1.029          1        608: 100%|██████████| 439/439 [07:47<00:00,  1.06s/it]\n",
      "                 Class     Images  Instances      Box(P          R      mAP50  mAP50-95): 100%|██████████| 47/47 [00:28<00:00,  1.64it/s]"
     ]
    },
    {
     "name": "stdout",
     "output_type": "stream",
     "text": [
      "                   all       1503       1503      0.983      0.989      0.994      0.895\n"
     ]
    },
    {
     "name": "stderr",
     "output_type": "stream",
     "text": [
      "\n"
     ]
    },
    {
     "name": "stdout",
     "output_type": "stream",
     "text": [
      "\n",
      "      Epoch    GPU_mem   box_loss   cls_loss   dfl_loss  Instances       Size\n"
     ]
    },
    {
     "name": "stderr",
     "output_type": "stream",
     "text": [
      "   164/1000      2.25G      0.508     0.2567      1.032          1        608: 100%|██████████| 439/439 [07:51<00:00,  1.07s/it]\n",
      "                 Class     Images  Instances      Box(P          R      mAP50  mAP50-95): 100%|██████████| 47/47 [00:28<00:00,  1.64it/s]"
     ]
    },
    {
     "name": "stdout",
     "output_type": "stream",
     "text": [
      "                   all       1503       1503      0.983      0.989      0.994      0.895\n"
     ]
    },
    {
     "name": "stderr",
     "output_type": "stream",
     "text": [
      "\n"
     ]
    },
    {
     "name": "stdout",
     "output_type": "stream",
     "text": [
      "\n",
      "      Epoch    GPU_mem   box_loss   cls_loss   dfl_loss  Instances       Size\n"
     ]
    },
    {
     "name": "stderr",
     "output_type": "stream",
     "text": [
      "   165/1000      2.24G     0.5001     0.2552      1.025          1        608: 100%|██████████| 439/439 [07:56<00:00,  1.09s/it]\n",
      "                 Class     Images  Instances      Box(P          R      mAP50  mAP50-95): 100%|██████████| 47/47 [00:29<00:00,  1.61it/s]"
     ]
    },
    {
     "name": "stdout",
     "output_type": "stream",
     "text": [
      "                   all       1503       1503      0.983      0.989      0.994      0.895\n"
     ]
    },
    {
     "name": "stderr",
     "output_type": "stream",
     "text": [
      "\n"
     ]
    },
    {
     "name": "stdout",
     "output_type": "stream",
     "text": [
      "\n",
      "      Epoch    GPU_mem   box_loss   cls_loss   dfl_loss  Instances       Size\n"
     ]
    },
    {
     "name": "stderr",
     "output_type": "stream",
     "text": [
      "   166/1000      2.33G     0.5019     0.2566      1.029          1        608: 100%|██████████| 439/439 [07:47<00:00,  1.07s/it]\n",
      "                 Class     Images  Instances      Box(P          R      mAP50  mAP50-95): 100%|██████████| 47/47 [00:30<00:00,  1.53it/s]"
     ]
    },
    {
     "name": "stdout",
     "output_type": "stream",
     "text": [
      "                   all       1503       1503      0.983      0.988      0.994      0.895\n"
     ]
    },
    {
     "name": "stderr",
     "output_type": "stream",
     "text": [
      "\n"
     ]
    },
    {
     "name": "stdout",
     "output_type": "stream",
     "text": [
      "\n",
      "      Epoch    GPU_mem   box_loss   cls_loss   dfl_loss  Instances       Size\n"
     ]
    },
    {
     "name": "stderr",
     "output_type": "stream",
     "text": [
      "   167/1000      2.32G     0.5002     0.2538      1.029          1        608: 100%|██████████| 439/439 [08:06<00:00,  1.11s/it]\n",
      "                 Class     Images  Instances      Box(P          R      mAP50  mAP50-95): 100%|██████████| 47/47 [00:29<00:00,  1.57it/s]"
     ]
    },
    {
     "name": "stdout",
     "output_type": "stream",
     "text": [
      "                   all       1503       1503      0.984      0.988      0.994      0.895\n"
     ]
    },
    {
     "name": "stderr",
     "output_type": "stream",
     "text": [
      "\n"
     ]
    },
    {
     "name": "stdout",
     "output_type": "stream",
     "text": [
      "\n",
      "      Epoch    GPU_mem   box_loss   cls_loss   dfl_loss  Instances       Size\n"
     ]
    },
    {
     "name": "stderr",
     "output_type": "stream",
     "text": [
      "   168/1000      2.25G     0.5052     0.2533      1.029          1        608: 100%|██████████| 439/439 [07:57<00:00,  1.09s/it]\n",
      "                 Class     Images  Instances      Box(P          R      mAP50  mAP50-95): 100%|██████████| 47/47 [00:30<00:00,  1.56it/s]"
     ]
    },
    {
     "name": "stdout",
     "output_type": "stream",
     "text": [
      "                   all       1503       1503      0.984      0.988      0.994      0.895\n"
     ]
    },
    {
     "name": "stderr",
     "output_type": "stream",
     "text": [
      "\n"
     ]
    },
    {
     "name": "stdout",
     "output_type": "stream",
     "text": [
      "\n",
      "      Epoch    GPU_mem   box_loss   cls_loss   dfl_loss  Instances       Size\n"
     ]
    },
    {
     "name": "stderr",
     "output_type": "stream",
     "text": [
      "   169/1000      2.24G     0.4998     0.2549      1.027          1        608: 100%|██████████| 439/439 [08:04<00:00,  1.10s/it]\n",
      "                 Class     Images  Instances      Box(P          R      mAP50  mAP50-95): 100%|██████████| 47/47 [00:30<00:00,  1.56it/s]"
     ]
    },
    {
     "name": "stdout",
     "output_type": "stream",
     "text": [
      "                   all       1503       1503      0.984      0.988      0.994      0.895\n"
     ]
    },
    {
     "name": "stderr",
     "output_type": "stream",
     "text": [
      "\n"
     ]
    },
    {
     "name": "stdout",
     "output_type": "stream",
     "text": [
      "\n",
      "      Epoch    GPU_mem   box_loss   cls_loss   dfl_loss  Instances       Size\n"
     ]
    },
    {
     "name": "stderr",
     "output_type": "stream",
     "text": [
      "   170/1000      2.24G     0.4991     0.2556      1.028          1        608: 100%|██████████| 439/439 [08:04<00:00,  1.10s/it]\n",
      "                 Class     Images  Instances      Box(P          R      mAP50  mAP50-95): 100%|██████████| 47/47 [00:29<00:00,  1.57it/s]"
     ]
    },
    {
     "name": "stdout",
     "output_type": "stream",
     "text": [
      "                   all       1503       1503      0.983      0.988      0.994      0.895\n"
     ]
    },
    {
     "name": "stderr",
     "output_type": "stream",
     "text": [
      "\n"
     ]
    },
    {
     "name": "stdout",
     "output_type": "stream",
     "text": [
      "\n",
      "      Epoch    GPU_mem   box_loss   cls_loss   dfl_loss  Instances       Size\n"
     ]
    },
    {
     "name": "stderr",
     "output_type": "stream",
     "text": [
      "   171/1000      2.32G     0.5015     0.2541      1.025          1        608: 100%|██████████| 439/439 [08:16<00:00,  1.13s/it]\n",
      "                 Class     Images  Instances      Box(P          R      mAP50  mAP50-95): 100%|██████████| 47/47 [00:30<00:00,  1.52it/s]"
     ]
    },
    {
     "name": "stdout",
     "output_type": "stream",
     "text": [
      "                   all       1503       1503      0.983      0.988      0.994      0.895\n"
     ]
    },
    {
     "name": "stderr",
     "output_type": "stream",
     "text": [
      "\n"
     ]
    },
    {
     "name": "stdout",
     "output_type": "stream",
     "text": [
      "\n",
      "      Epoch    GPU_mem   box_loss   cls_loss   dfl_loss  Instances       Size\n"
     ]
    },
    {
     "name": "stderr",
     "output_type": "stream",
     "text": [
      "   172/1000      2.25G     0.5006     0.2582      1.031          1        608: 100%|██████████| 439/439 [08:16<00:00,  1.13s/it]\n",
      "                 Class     Images  Instances      Box(P          R      mAP50  mAP50-95): 100%|██████████| 47/47 [00:29<00:00,  1.58it/s]"
     ]
    },
    {
     "name": "stdout",
     "output_type": "stream",
     "text": [
      "                   all       1503       1503      0.983      0.988      0.994      0.895\n"
     ]
    },
    {
     "name": "stderr",
     "output_type": "stream",
     "text": [
      "\n"
     ]
    },
    {
     "name": "stdout",
     "output_type": "stream",
     "text": [
      "\n",
      "      Epoch    GPU_mem   box_loss   cls_loss   dfl_loss  Instances       Size\n"
     ]
    },
    {
     "name": "stderr",
     "output_type": "stream",
     "text": [
      "   173/1000      2.33G     0.5015     0.2506      1.025          1        608: 100%|██████████| 439/439 [08:15<00:00,  1.13s/it]\n",
      "                 Class     Images  Instances      Box(P          R      mAP50  mAP50-95): 100%|██████████| 47/47 [00:29<00:00,  1.58it/s]"
     ]
    },
    {
     "name": "stdout",
     "output_type": "stream",
     "text": [
      "                   all       1503       1503      0.983      0.987      0.994      0.895\n",
      "\u001b[34m\u001b[1mEarlyStopping: \u001b[0mTraining stopped early as no improvement observed in last 20 epochs. Best results observed at epoch 153, best model saved as best.pt.\n",
      "To update EarlyStopping(patience=20) pass a new patience value, i.e. `patience=300` or use `patience=0` to disable EarlyStopping.\n"
     ]
    },
    {
     "name": "stderr",
     "output_type": "stream",
     "text": [
      "\n"
     ]
    },
    {
     "name": "stdout",
     "output_type": "stream",
     "text": [
      "\n",
      "173 epochs completed in 23.721 hours.\n",
      "Optimizer stripped from runs/detect/train10/weights/last.pt, 5.5MB\n",
      "Optimizer stripped from runs/detect/train10/weights/best.pt, 5.5MB\n",
      "\n",
      "Validating runs/detect/train10/weights/best.pt...\n",
      "Ultralytics 8.3.57 🚀 Python-3.8.20 torch-2.4.1+cu118 CUDA:0 (NVIDIA GeForce GTX 1050 Ti with Max-Q Design, 4032MiB)\n",
      "YOLO11n summary (fused): 238 layers, 2,582,347 parameters, 0 gradients, 6.3 GFLOPs\n"
     ]
    },
    {
     "name": "stderr",
     "output_type": "stream",
     "text": [
      "                 Class     Images  Instances      Box(P          R      mAP50  mAP50-95): 100%|██████████| 47/47 [00:30<00:00,  1.54it/s]\n"
     ]
    },
    {
     "name": "stdout",
     "output_type": "stream",
     "text": [
      "                   all       1503       1503      0.985      0.986      0.994      0.896\n",
      "Speed: 0.5ms preprocess, 14.4ms inference, 0.0ms loss, 1.2ms postprocess per image\n",
      "Results saved to \u001b[1mruns/detect/train10\u001b[0m\n"
     ]
    }
   ],
   "source": [
    "# dataset_yaml_dir = '/Users/francesco/Repository/computer_vision_project/dataset/HAM10000/yolo_dataset/dataset.yaml'\n",
    "dataset_yaml_dir = '/home/francesco/Desktop/archive/dataset_kaggle.yaml'\n",
    "\n",
    "model = YOLO('yolov11n.pt') \n",
    "results = model.train(\n",
    "    data=dataset_yaml_dir,\n",
    "    epochs=1000,\n",
    "    imgsz=600,\n",
    "    rect=True,\n",
    "    batch=16,\n",
    "    device='cuda',\n",
    "    patience=50,\n",
    "    augment=True,\n",
    "    mixup=0.1,\n",
    "    mosaic=0.5,\n",
    "    degrees=20,\n",
    "    scale=0.5,\n",
    "    flipud=0.3,\n",
    "    fliplr=0.5,\n",
    "    hsv_h=0.015,\n",
    "    hsv_s=0.4,\n",
    "    hsv_v=0.4,\n",
    "    save=True,\n",
    "    project='mole_detection'\n",
    ")\n"
   ]
  },
  {
   "cell_type": "code",
   "execution_count": 8,
   "metadata": {},
   "outputs": [
    {
     "name": "stdout",
     "output_type": "stream",
     "text": [
      "Ultralytics 8.3.57 🚀 Python-3.12.4 torch-2.3.1 CPU (Apple M1 Pro)\n",
      "YOLO11n summary (fused): 238 layers, 2,616,248 parameters, 0 gradients, 6.5 GFLOPs\n"
     ]
    },
    {
     "name": "stderr",
     "output_type": "stream",
     "text": [
      "\u001b[34m\u001b[1mval: \u001b[0mScanning /Users/francesco/Repository/computer_vision_project/dataset/HAM10000/yolo_dataset/val/labels.cache... 1503 images, 0 backgrounds, 0 corrupt: 100%|██████████| 1503/1503 [00:00<?, ?it/s]\n",
      "                 Class     Images  Instances      Box(P          R      mAP50  mAP50-95): 100%|██████████| 94/94 [04:17<00:00,  2.74s/it]\n"
     ]
    },
    {
     "name": "stdout",
     "output_type": "stream",
     "text": [
      "                   all       1503       1503      0.309      0.593       0.31      0.182\n",
      "                person       1503       1503      0.309      0.593       0.31      0.182\n",
      "Speed: 0.3ms preprocess, 165.5ms inference, 0.0ms loss, 0.3ms postprocess per image\n",
      "Results saved to \u001b[1mruns/detect/val6\u001b[0m\n",
      "\n",
      "\n",
      "WARNING ⚠️ inference results will accumulate in RAM unless `stream=True` is passed, causing potential out-of-memory\n",
      "errors for large sources or long-running streams and videos. See https://docs.ultralytics.com/modes/predict/ for help.\n",
      "\n",
      "Example:\n",
      "    results = model(source=..., stream=True)  # generator of Results objects\n",
      "    for r in results:\n",
      "        boxes = r.boxes  # Boxes object for bbox outputs\n",
      "        masks = r.masks  # Masks object for segment masks outputs\n",
      "        probs = r.probs  # Class probabilities for classification outputs\n",
      "\n",
      "image 1/1503 /Users/francesco/Repository/computer_vision_project/dataset/HAM10000/yolo_dataset/test/images/ISIC_0024307.jpg: 480x640 (no detections), 30.9ms\n",
      "image 2/1503 /Users/francesco/Repository/computer_vision_project/dataset/HAM10000/yolo_dataset/test/images/ISIC_0024310.jpg: 480x640 1 donut, 33.7ms\n",
      "image 3/1503 /Users/francesco/Repository/computer_vision_project/dataset/HAM10000/yolo_dataset/test/images/ISIC_0024311.jpg: 480x640 (no detections), 32.8ms\n",
      "image 4/1503 /Users/francesco/Repository/computer_vision_project/dataset/HAM10000/yolo_dataset/test/images/ISIC_0024314.jpg: 480x640 (no detections), 32.8ms\n",
      "image 5/1503 /Users/francesco/Repository/computer_vision_project/dataset/HAM10000/yolo_dataset/test/images/ISIC_0024323.jpg: 480x640 (no detections), 35.0ms\n",
      "image 6/1503 /Users/francesco/Repository/computer_vision_project/dataset/HAM10000/yolo_dataset/test/images/ISIC_0024331.jpg: 480x640 (no detections), 31.1ms\n",
      "image 7/1503 /Users/francesco/Repository/computer_vision_project/dataset/HAM10000/yolo_dataset/test/images/ISIC_0024333.jpg: 480x640 (no detections), 34.1ms\n",
      "image 8/1503 /Users/francesco/Repository/computer_vision_project/dataset/HAM10000/yolo_dataset/test/images/ISIC_0024338.jpg: 480x640 (no detections), 32.3ms\n",
      "image 9/1503 /Users/francesco/Repository/computer_vision_project/dataset/HAM10000/yolo_dataset/test/images/ISIC_0024341.jpg: 480x640 1 cat, 31.4ms\n",
      "image 10/1503 /Users/francesco/Repository/computer_vision_project/dataset/HAM10000/yolo_dataset/test/images/ISIC_0024342.jpg: 480x640 1 umbrella, 30.9ms\n",
      "image 11/1503 /Users/francesco/Repository/computer_vision_project/dataset/HAM10000/yolo_dataset/test/images/ISIC_0024343.jpg: 480x640 1 cat, 39.0ms\n",
      "image 12/1503 /Users/francesco/Repository/computer_vision_project/dataset/HAM10000/yolo_dataset/test/images/ISIC_0024345.jpg: 480x640 (no detections), 36.5ms\n",
      "image 13/1503 /Users/francesco/Repository/computer_vision_project/dataset/HAM10000/yolo_dataset/test/images/ISIC_0024351.jpg: 480x640 1 donut, 31.7ms\n",
      "image 14/1503 /Users/francesco/Repository/computer_vision_project/dataset/HAM10000/yolo_dataset/test/images/ISIC_0024359.jpg: 480x640 1 cat, 33.6ms\n",
      "image 15/1503 /Users/francesco/Repository/computer_vision_project/dataset/HAM10000/yolo_dataset/test/images/ISIC_0024360.jpg: 480x640 (no detections), 32.9ms\n",
      "image 16/1503 /Users/francesco/Repository/computer_vision_project/dataset/HAM10000/yolo_dataset/test/images/ISIC_0024365.jpg: 480x640 (no detections), 41.4ms\n",
      "image 17/1503 /Users/francesco/Repository/computer_vision_project/dataset/HAM10000/yolo_dataset/test/images/ISIC_0024367.jpg: 480x640 1 cat, 65.4ms\n",
      "image 18/1503 /Users/francesco/Repository/computer_vision_project/dataset/HAM10000/yolo_dataset/test/images/ISIC_0024372.jpg: 480x640 (no detections), 42.0ms\n",
      "image 19/1503 /Users/francesco/Repository/computer_vision_project/dataset/HAM10000/yolo_dataset/test/images/ISIC_0024373.jpg: 480x640 (no detections), 41.1ms\n",
      "image 20/1503 /Users/francesco/Repository/computer_vision_project/dataset/HAM10000/yolo_dataset/test/images/ISIC_0024374.jpg: 480x640 1 cat, 37.7ms\n",
      "image 21/1503 /Users/francesco/Repository/computer_vision_project/dataset/HAM10000/yolo_dataset/test/images/ISIC_0024376.jpg: 480x640 (no detections), 33.1ms\n",
      "image 22/1503 /Users/francesco/Repository/computer_vision_project/dataset/HAM10000/yolo_dataset/test/images/ISIC_0024377.jpg: 480x640 (no detections), 31.5ms\n",
      "image 23/1503 /Users/francesco/Repository/computer_vision_project/dataset/HAM10000/yolo_dataset/test/images/ISIC_0024382.jpg: 480x640 (no detections), 31.7ms\n",
      "image 24/1503 /Users/francesco/Repository/computer_vision_project/dataset/HAM10000/yolo_dataset/test/images/ISIC_0024385.jpg: 480x640 (no detections), 30.8ms\n",
      "image 25/1503 /Users/francesco/Repository/computer_vision_project/dataset/HAM10000/yolo_dataset/test/images/ISIC_0024386.jpg: 480x640 (no detections), 32.1ms\n",
      "image 26/1503 /Users/francesco/Repository/computer_vision_project/dataset/HAM10000/yolo_dataset/test/images/ISIC_0024391.jpg: 480x640 (no detections), 33.5ms\n",
      "image 27/1503 /Users/francesco/Repository/computer_vision_project/dataset/HAM10000/yolo_dataset/test/images/ISIC_0024410.jpg: 480x640 (no detections), 31.6ms\n",
      "image 28/1503 /Users/francesco/Repository/computer_vision_project/dataset/HAM10000/yolo_dataset/test/images/ISIC_0024421.jpg: 480x640 (no detections), 30.9ms\n",
      "image 29/1503 /Users/francesco/Repository/computer_vision_project/dataset/HAM10000/yolo_dataset/test/images/ISIC_0024426.jpg: 480x640 (no detections), 47.3ms\n",
      "image 30/1503 /Users/francesco/Repository/computer_vision_project/dataset/HAM10000/yolo_dataset/test/images/ISIC_0024432.jpg: 480x640 2 bowls, 32.5ms\n",
      "image 31/1503 /Users/francesco/Repository/computer_vision_project/dataset/HAM10000/yolo_dataset/test/images/ISIC_0024446.jpg: 480x640 1 airplane, 31.7ms\n",
      "image 32/1503 /Users/francesco/Repository/computer_vision_project/dataset/HAM10000/yolo_dataset/test/images/ISIC_0024448.jpg: 480x640 (no detections), 36.1ms\n",
      "image 33/1503 /Users/francesco/Repository/computer_vision_project/dataset/HAM10000/yolo_dataset/test/images/ISIC_0024455.jpg: 480x640 (no detections), 38.0ms\n",
      "image 34/1503 /Users/francesco/Repository/computer_vision_project/dataset/HAM10000/yolo_dataset/test/images/ISIC_0024460.jpg: 480x640 1 cat, 41.3ms\n",
      "image 35/1503 /Users/francesco/Repository/computer_vision_project/dataset/HAM10000/yolo_dataset/test/images/ISIC_0024462.jpg: 480x640 1 cat, 41.0ms\n",
      "image 36/1503 /Users/francesco/Repository/computer_vision_project/dataset/HAM10000/yolo_dataset/test/images/ISIC_0024465.jpg: 480x640 (no detections), 43.2ms\n",
      "image 37/1503 /Users/francesco/Repository/computer_vision_project/dataset/HAM10000/yolo_dataset/test/images/ISIC_0024486.jpg: 480x640 (no detections), 36.3ms\n",
      "image 38/1503 /Users/francesco/Repository/computer_vision_project/dataset/HAM10000/yolo_dataset/test/images/ISIC_0024490.jpg: 480x640 1 orange, 1 cake, 37.4ms\n",
      "image 39/1503 /Users/francesco/Repository/computer_vision_project/dataset/HAM10000/yolo_dataset/test/images/ISIC_0024495.jpg: 480x640 (no detections), 38.0ms\n",
      "image 40/1503 /Users/francesco/Repository/computer_vision_project/dataset/HAM10000/yolo_dataset/test/images/ISIC_0024498.jpg: 480x640 1 cake, 33.1ms\n",
      "image 41/1503 /Users/francesco/Repository/computer_vision_project/dataset/HAM10000/yolo_dataset/test/images/ISIC_0024500.jpg: 480x640 1 cat, 35.0ms\n",
      "image 42/1503 /Users/francesco/Repository/computer_vision_project/dataset/HAM10000/yolo_dataset/test/images/ISIC_0024507.jpg: 480x640 (no detections), 37.8ms\n",
      "image 43/1503 /Users/francesco/Repository/computer_vision_project/dataset/HAM10000/yolo_dataset/test/images/ISIC_0024509.jpg: 480x640 1 cat, 36.4ms\n",
      "image 44/1503 /Users/francesco/Repository/computer_vision_project/dataset/HAM10000/yolo_dataset/test/images/ISIC_0024510.jpg: 480x640 (no detections), 91.8ms\n",
      "image 45/1503 /Users/francesco/Repository/computer_vision_project/dataset/HAM10000/yolo_dataset/test/images/ISIC_0024513.jpg: 480x640 (no detections), 33.2ms\n",
      "image 46/1503 /Users/francesco/Repository/computer_vision_project/dataset/HAM10000/yolo_dataset/test/images/ISIC_0024517.jpg: 480x640 (no detections), 33.5ms\n",
      "image 47/1503 /Users/francesco/Repository/computer_vision_project/dataset/HAM10000/yolo_dataset/test/images/ISIC_0024538.jpg: 480x640 (no detections), 37.1ms\n",
      "image 48/1503 /Users/francesco/Repository/computer_vision_project/dataset/HAM10000/yolo_dataset/test/images/ISIC_0024544.jpg: 480x640 (no detections), 35.8ms\n",
      "image 49/1503 /Users/francesco/Repository/computer_vision_project/dataset/HAM10000/yolo_dataset/test/images/ISIC_0024553.jpg: 480x640 (no detections), 31.9ms\n",
      "image 50/1503 /Users/francesco/Repository/computer_vision_project/dataset/HAM10000/yolo_dataset/test/images/ISIC_0024555.jpg: 480x640 (no detections), 37.7ms\n",
      "image 51/1503 /Users/francesco/Repository/computer_vision_project/dataset/HAM10000/yolo_dataset/test/images/ISIC_0024564.jpg: 480x640 (no detections), 31.3ms\n",
      "image 52/1503 /Users/francesco/Repository/computer_vision_project/dataset/HAM10000/yolo_dataset/test/images/ISIC_0024567.jpg: 480x640 (no detections), 29.8ms\n",
      "image 53/1503 /Users/francesco/Repository/computer_vision_project/dataset/HAM10000/yolo_dataset/test/images/ISIC_0024584.jpg: 480x640 1 cat, 31.9ms\n",
      "image 54/1503 /Users/francesco/Repository/computer_vision_project/dataset/HAM10000/yolo_dataset/test/images/ISIC_0024586.jpg: 480x640 (no detections), 33.0ms\n",
      "image 55/1503 /Users/francesco/Repository/computer_vision_project/dataset/HAM10000/yolo_dataset/test/images/ISIC_0024593.jpg: 480x640 1 cat, 29.4ms\n",
      "image 56/1503 /Users/francesco/Repository/computer_vision_project/dataset/HAM10000/yolo_dataset/test/images/ISIC_0024596.jpg: 480x640 1 cat, 31.0ms\n",
      "image 57/1503 /Users/francesco/Repository/computer_vision_project/dataset/HAM10000/yolo_dataset/test/images/ISIC_0024598.jpg: 480x640 1 cat, 32.3ms\n",
      "image 58/1503 /Users/francesco/Repository/computer_vision_project/dataset/HAM10000/yolo_dataset/test/images/ISIC_0024609.jpg: 480x640 (no detections), 32.7ms\n",
      "image 59/1503 /Users/francesco/Repository/computer_vision_project/dataset/HAM10000/yolo_dataset/test/images/ISIC_0024610.jpg: 480x640 1 cat, 33.4ms\n",
      "image 60/1503 /Users/francesco/Repository/computer_vision_project/dataset/HAM10000/yolo_dataset/test/images/ISIC_0024620.jpg: 480x640 (no detections), 37.3ms\n",
      "image 61/1503 /Users/francesco/Repository/computer_vision_project/dataset/HAM10000/yolo_dataset/test/images/ISIC_0024622.jpg: 480x640 (no detections), 32.6ms\n",
      "image 62/1503 /Users/francesco/Repository/computer_vision_project/dataset/HAM10000/yolo_dataset/test/images/ISIC_0024625.jpg: 480x640 (no detections), 40.5ms\n",
      "image 63/1503 /Users/francesco/Repository/computer_vision_project/dataset/HAM10000/yolo_dataset/test/images/ISIC_0024633.jpg: 480x640 (no detections), 46.7ms\n",
      "image 64/1503 /Users/francesco/Repository/computer_vision_project/dataset/HAM10000/yolo_dataset/test/images/ISIC_0024650.jpg: 480x640 (no detections), 70.7ms\n",
      "image 65/1503 /Users/francesco/Repository/computer_vision_project/dataset/HAM10000/yolo_dataset/test/images/ISIC_0024655.jpg: 480x640 (no detections), 37.8ms\n",
      "image 66/1503 /Users/francesco/Repository/computer_vision_project/dataset/HAM10000/yolo_dataset/test/images/ISIC_0024659.jpg: 480x640 1 umbrella, 34.3ms\n",
      "image 67/1503 /Users/francesco/Repository/computer_vision_project/dataset/HAM10000/yolo_dataset/test/images/ISIC_0024679.jpg: 480x640 (no detections), 30.0ms\n",
      "image 68/1503 /Users/francesco/Repository/computer_vision_project/dataset/HAM10000/yolo_dataset/test/images/ISIC_0024691.jpg: 480x640 (no detections), 32.3ms\n",
      "image 69/1503 /Users/francesco/Repository/computer_vision_project/dataset/HAM10000/yolo_dataset/test/images/ISIC_0024698.jpg: 480x640 (no detections), 31.3ms\n",
      "image 70/1503 /Users/francesco/Repository/computer_vision_project/dataset/HAM10000/yolo_dataset/test/images/ISIC_0024699.jpg: 480x640 1 cat, 30.3ms\n",
      "image 71/1503 /Users/francesco/Repository/computer_vision_project/dataset/HAM10000/yolo_dataset/test/images/ISIC_0024710.jpg: 480x640 (no detections), 31.7ms\n",
      "image 72/1503 /Users/francesco/Repository/computer_vision_project/dataset/HAM10000/yolo_dataset/test/images/ISIC_0024714.jpg: 480x640 (no detections), 30.8ms\n",
      "image 73/1503 /Users/francesco/Repository/computer_vision_project/dataset/HAM10000/yolo_dataset/test/images/ISIC_0024717.jpg: 480x640 1 kite, 30.4ms\n",
      "image 74/1503 /Users/francesco/Repository/computer_vision_project/dataset/HAM10000/yolo_dataset/test/images/ISIC_0024719.jpg: 480x640 (no detections), 44.3ms\n",
      "image 75/1503 /Users/francesco/Repository/computer_vision_project/dataset/HAM10000/yolo_dataset/test/images/ISIC_0024723.jpg: 480x640 1 cat, 34.0ms\n",
      "image 76/1503 /Users/francesco/Repository/computer_vision_project/dataset/HAM10000/yolo_dataset/test/images/ISIC_0024726.jpg: 480x640 1 cat, 62.4ms\n",
      "image 77/1503 /Users/francesco/Repository/computer_vision_project/dataset/HAM10000/yolo_dataset/test/images/ISIC_0024734.jpg: 480x640 (no detections), 28.8ms\n",
      "image 78/1503 /Users/francesco/Repository/computer_vision_project/dataset/HAM10000/yolo_dataset/test/images/ISIC_0024735.jpg: 480x640 (no detections), 33.3ms\n",
      "image 79/1503 /Users/francesco/Repository/computer_vision_project/dataset/HAM10000/yolo_dataset/test/images/ISIC_0024759.jpg: 480x640 (no detections), 32.3ms\n",
      "image 80/1503 /Users/francesco/Repository/computer_vision_project/dataset/HAM10000/yolo_dataset/test/images/ISIC_0024767.jpg: 480x640 1 apple, 35.2ms\n",
      "image 81/1503 /Users/francesco/Repository/computer_vision_project/dataset/HAM10000/yolo_dataset/test/images/ISIC_0024772.jpg: 480x640 (no detections), 42.7ms\n",
      "image 82/1503 /Users/francesco/Repository/computer_vision_project/dataset/HAM10000/yolo_dataset/test/images/ISIC_0024784.jpg: 480x640 (no detections), 29.8ms\n",
      "image 83/1503 /Users/francesco/Repository/computer_vision_project/dataset/HAM10000/yolo_dataset/test/images/ISIC_0024786.jpg: 480x640 (no detections), 59.3ms\n",
      "image 84/1503 /Users/francesco/Repository/computer_vision_project/dataset/HAM10000/yolo_dataset/test/images/ISIC_0024787.jpg: 480x640 (no detections), 35.1ms\n",
      "image 85/1503 /Users/francesco/Repository/computer_vision_project/dataset/HAM10000/yolo_dataset/test/images/ISIC_0024790.jpg: 480x640 (no detections), 38.8ms\n",
      "image 86/1503 /Users/francesco/Repository/computer_vision_project/dataset/HAM10000/yolo_dataset/test/images/ISIC_0024793.jpg: 480x640 1 cat, 32.3ms\n",
      "image 87/1503 /Users/francesco/Repository/computer_vision_project/dataset/HAM10000/yolo_dataset/test/images/ISIC_0024794.jpg: 480x640 (no detections), 35.5ms\n",
      "image 88/1503 /Users/francesco/Repository/computer_vision_project/dataset/HAM10000/yolo_dataset/test/images/ISIC_0024796.jpg: 480x640 (no detections), 34.3ms\n",
      "image 89/1503 /Users/francesco/Repository/computer_vision_project/dataset/HAM10000/yolo_dataset/test/images/ISIC_0024811.jpg: 480x640 (no detections), 30.4ms\n",
      "image 90/1503 /Users/francesco/Repository/computer_vision_project/dataset/HAM10000/yolo_dataset/test/images/ISIC_0024814.jpg: 480x640 (no detections), 34.5ms\n",
      "image 91/1503 /Users/francesco/Repository/computer_vision_project/dataset/HAM10000/yolo_dataset/test/images/ISIC_0024819.jpg: 480x640 (no detections), 29.1ms\n",
      "image 92/1503 /Users/francesco/Repository/computer_vision_project/dataset/HAM10000/yolo_dataset/test/images/ISIC_0024829.jpg: 480x640 (no detections), 31.7ms\n",
      "image 93/1503 /Users/francesco/Repository/computer_vision_project/dataset/HAM10000/yolo_dataset/test/images/ISIC_0024845.jpg: 480x640 (no detections), 29.7ms\n",
      "image 94/1503 /Users/francesco/Repository/computer_vision_project/dataset/HAM10000/yolo_dataset/test/images/ISIC_0024856.jpg: 480x640 1 umbrella, 30.5ms\n",
      "image 95/1503 /Users/francesco/Repository/computer_vision_project/dataset/HAM10000/yolo_dataset/test/images/ISIC_0024860.jpg: 480x640 1 umbrella, 33.5ms\n",
      "image 96/1503 /Users/francesco/Repository/computer_vision_project/dataset/HAM10000/yolo_dataset/test/images/ISIC_0024866.jpg: 480x640 1 cat, 31.4ms\n",
      "image 97/1503 /Users/francesco/Repository/computer_vision_project/dataset/HAM10000/yolo_dataset/test/images/ISIC_0024868.jpg: 480x640 (no detections), 29.1ms\n",
      "image 98/1503 /Users/francesco/Repository/computer_vision_project/dataset/HAM10000/yolo_dataset/test/images/ISIC_0024872.jpg: 480x640 (no detections), 32.9ms\n",
      "image 99/1503 /Users/francesco/Repository/computer_vision_project/dataset/HAM10000/yolo_dataset/test/images/ISIC_0024877.jpg: 480x640 (no detections), 32.6ms\n",
      "image 100/1503 /Users/francesco/Repository/computer_vision_project/dataset/HAM10000/yolo_dataset/test/images/ISIC_0024881.jpg: 480x640 (no detections), 31.8ms\n",
      "image 101/1503 /Users/francesco/Repository/computer_vision_project/dataset/HAM10000/yolo_dataset/test/images/ISIC_0024891.jpg: 480x640 1 cat, 35.5ms\n",
      "image 102/1503 /Users/francesco/Repository/computer_vision_project/dataset/HAM10000/yolo_dataset/test/images/ISIC_0024895.jpg: 480x640 (no detections), 29.1ms\n",
      "image 103/1503 /Users/francesco/Repository/computer_vision_project/dataset/HAM10000/yolo_dataset/test/images/ISIC_0024903.jpg: 480x640 1 cat, 35.3ms\n",
      "image 104/1503 /Users/francesco/Repository/computer_vision_project/dataset/HAM10000/yolo_dataset/test/images/ISIC_0024905.jpg: 480x640 (no detections), 33.6ms\n",
      "image 105/1503 /Users/francesco/Repository/computer_vision_project/dataset/HAM10000/yolo_dataset/test/images/ISIC_0024907.jpg: 480x640 1 cat, 31.9ms\n",
      "image 106/1503 /Users/francesco/Repository/computer_vision_project/dataset/HAM10000/yolo_dataset/test/images/ISIC_0024909.jpg: 480x640 (no detections), 29.3ms\n",
      "image 107/1503 /Users/francesco/Repository/computer_vision_project/dataset/HAM10000/yolo_dataset/test/images/ISIC_0024923.jpg: 480x640 (no detections), 30.2ms\n",
      "image 108/1503 /Users/francesco/Repository/computer_vision_project/dataset/HAM10000/yolo_dataset/test/images/ISIC_0024924.jpg: 480x640 1 cat, 29.4ms\n",
      "image 109/1503 /Users/francesco/Repository/computer_vision_project/dataset/HAM10000/yolo_dataset/test/images/ISIC_0024926.jpg: 480x640 (no detections), 34.9ms\n",
      "image 110/1503 /Users/francesco/Repository/computer_vision_project/dataset/HAM10000/yolo_dataset/test/images/ISIC_0024935.jpg: 480x640 1 orange, 32.7ms\n",
      "image 111/1503 /Users/francesco/Repository/computer_vision_project/dataset/HAM10000/yolo_dataset/test/images/ISIC_0024938.jpg: 480x640 1 cat, 39.4ms\n",
      "image 112/1503 /Users/francesco/Repository/computer_vision_project/dataset/HAM10000/yolo_dataset/test/images/ISIC_0024941.jpg: 480x640 (no detections), 33.1ms\n",
      "image 113/1503 /Users/francesco/Repository/computer_vision_project/dataset/HAM10000/yolo_dataset/test/images/ISIC_0024946.jpg: 480x640 (no detections), 30.1ms\n",
      "image 114/1503 /Users/francesco/Repository/computer_vision_project/dataset/HAM10000/yolo_dataset/test/images/ISIC_0024949.jpg: 480x640 (no detections), 31.0ms\n",
      "image 115/1503 /Users/francesco/Repository/computer_vision_project/dataset/HAM10000/yolo_dataset/test/images/ISIC_0024959.jpg: 480x640 (no detections), 34.1ms\n",
      "image 116/1503 /Users/francesco/Repository/computer_vision_project/dataset/HAM10000/yolo_dataset/test/images/ISIC_0024965.jpg: 480x640 1 umbrella, 43.5ms\n",
      "image 117/1503 /Users/francesco/Repository/computer_vision_project/dataset/HAM10000/yolo_dataset/test/images/ISIC_0024975.jpg: 480x640 1 cake, 38.0ms\n",
      "image 118/1503 /Users/francesco/Repository/computer_vision_project/dataset/HAM10000/yolo_dataset/test/images/ISIC_0024989.jpg: 480x640 (no detections), 33.0ms\n",
      "image 119/1503 /Users/francesco/Repository/computer_vision_project/dataset/HAM10000/yolo_dataset/test/images/ISIC_0024996.jpg: 480x640 1 pizza, 1 donut, 1 bed, 89.0ms\n",
      "image 120/1503 /Users/francesco/Repository/computer_vision_project/dataset/HAM10000/yolo_dataset/test/images/ISIC_0025001.jpg: 480x640 1 person, 1 bed, 49.1ms\n",
      "image 121/1503 /Users/francesco/Repository/computer_vision_project/dataset/HAM10000/yolo_dataset/test/images/ISIC_0025004.jpg: 480x640 1 umbrella, 48.6ms\n",
      "image 122/1503 /Users/francesco/Repository/computer_vision_project/dataset/HAM10000/yolo_dataset/test/images/ISIC_0025005.jpg: 480x640 1 cake, 49.5ms\n",
      "image 123/1503 /Users/francesco/Repository/computer_vision_project/dataset/HAM10000/yolo_dataset/test/images/ISIC_0025006.jpg: 480x640 (no detections), 52.5ms\n",
      "image 124/1503 /Users/francesco/Repository/computer_vision_project/dataset/HAM10000/yolo_dataset/test/images/ISIC_0025009.jpg: 480x640 (no detections), 34.4ms\n",
      "image 125/1503 /Users/francesco/Repository/computer_vision_project/dataset/HAM10000/yolo_dataset/test/images/ISIC_0025016.jpg: 480x640 (no detections), 29.6ms\n",
      "image 126/1503 /Users/francesco/Repository/computer_vision_project/dataset/HAM10000/yolo_dataset/test/images/ISIC_0025018.jpg: 480x640 1 cat, 34.7ms\n",
      "image 127/1503 /Users/francesco/Repository/computer_vision_project/dataset/HAM10000/yolo_dataset/test/images/ISIC_0025022.jpg: 480x640 (no detections), 46.2ms\n",
      "image 128/1503 /Users/francesco/Repository/computer_vision_project/dataset/HAM10000/yolo_dataset/test/images/ISIC_0025027.jpg: 480x640 1 toilet, 106.4ms\n",
      "image 129/1503 /Users/francesco/Repository/computer_vision_project/dataset/HAM10000/yolo_dataset/test/images/ISIC_0025072.jpg: 480x640 (no detections), 46.0ms\n",
      "image 130/1503 /Users/francesco/Repository/computer_vision_project/dataset/HAM10000/yolo_dataset/test/images/ISIC_0025074.jpg: 480x640 1 cat, 40.4ms\n",
      "image 131/1503 /Users/francesco/Repository/computer_vision_project/dataset/HAM10000/yolo_dataset/test/images/ISIC_0025094.jpg: 480x640 1 donut, 1 bed, 33.4ms\n",
      "image 132/1503 /Users/francesco/Repository/computer_vision_project/dataset/HAM10000/yolo_dataset/test/images/ISIC_0025106.jpg: 480x640 1 cat, 32.2ms\n",
      "image 133/1503 /Users/francesco/Repository/computer_vision_project/dataset/HAM10000/yolo_dataset/test/images/ISIC_0025123.jpg: 480x640 (no detections), 30.6ms\n",
      "image 134/1503 /Users/francesco/Repository/computer_vision_project/dataset/HAM10000/yolo_dataset/test/images/ISIC_0025130.jpg: 480x640 (no detections), 29.4ms\n",
      "image 135/1503 /Users/francesco/Repository/computer_vision_project/dataset/HAM10000/yolo_dataset/test/images/ISIC_0025131.jpg: 480x640 (no detections), 30.0ms\n",
      "image 136/1503 /Users/francesco/Repository/computer_vision_project/dataset/HAM10000/yolo_dataset/test/images/ISIC_0025136.jpg: 480x640 1 orange, 1 donut, 40.7ms\n",
      "image 137/1503 /Users/francesco/Repository/computer_vision_project/dataset/HAM10000/yolo_dataset/test/images/ISIC_0025155.jpg: 480x640 (no detections), 28.9ms\n",
      "image 138/1503 /Users/francesco/Repository/computer_vision_project/dataset/HAM10000/yolo_dataset/test/images/ISIC_0025162.jpg: 480x640 1 umbrella, 30.4ms\n",
      "image 139/1503 /Users/francesco/Repository/computer_vision_project/dataset/HAM10000/yolo_dataset/test/images/ISIC_0025166.jpg: 480x640 1 bed, 1 teddy bear, 30.0ms\n",
      "image 140/1503 /Users/francesco/Repository/computer_vision_project/dataset/HAM10000/yolo_dataset/test/images/ISIC_0025169.jpg: 480x640 (no detections), 30.7ms\n",
      "image 141/1503 /Users/francesco/Repository/computer_vision_project/dataset/HAM10000/yolo_dataset/test/images/ISIC_0025172.jpg: 480x640 (no detections), 40.4ms\n",
      "image 142/1503 /Users/francesco/Repository/computer_vision_project/dataset/HAM10000/yolo_dataset/test/images/ISIC_0025204.jpg: 480x640 1 cat, 29.1ms\n",
      "image 143/1503 /Users/francesco/Repository/computer_vision_project/dataset/HAM10000/yolo_dataset/test/images/ISIC_0025218.jpg: 480x640 (no detections), 27.9ms\n",
      "image 144/1503 /Users/francesco/Repository/computer_vision_project/dataset/HAM10000/yolo_dataset/test/images/ISIC_0025244.jpg: 480x640 (no detections), 30.9ms\n",
      "image 145/1503 /Users/francesco/Repository/computer_vision_project/dataset/HAM10000/yolo_dataset/test/images/ISIC_0025249.jpg: 480x640 (no detections), 31.2ms\n",
      "image 146/1503 /Users/francesco/Repository/computer_vision_project/dataset/HAM10000/yolo_dataset/test/images/ISIC_0025253.jpg: 480x640 1 cake, 46.2ms\n",
      "image 147/1503 /Users/francesco/Repository/computer_vision_project/dataset/HAM10000/yolo_dataset/test/images/ISIC_0025267.jpg: 480x640 (no detections), 42.4ms\n",
      "image 148/1503 /Users/francesco/Repository/computer_vision_project/dataset/HAM10000/yolo_dataset/test/images/ISIC_0025273.jpg: 480x640 1 cat, 28.9ms\n",
      "image 149/1503 /Users/francesco/Repository/computer_vision_project/dataset/HAM10000/yolo_dataset/test/images/ISIC_0025277.jpg: 480x640 (no detections), 31.0ms\n",
      "image 150/1503 /Users/francesco/Repository/computer_vision_project/dataset/HAM10000/yolo_dataset/test/images/ISIC_0025278.jpg: 480x640 1 cat, 32.3ms\n",
      "image 151/1503 /Users/francesco/Repository/computer_vision_project/dataset/HAM10000/yolo_dataset/test/images/ISIC_0025284.jpg: 480x640 (no detections), 35.9ms\n",
      "image 152/1503 /Users/francesco/Repository/computer_vision_project/dataset/HAM10000/yolo_dataset/test/images/ISIC_0025285.jpg: 480x640 (no detections), 28.1ms\n",
      "image 153/1503 /Users/francesco/Repository/computer_vision_project/dataset/HAM10000/yolo_dataset/test/images/ISIC_0025287.jpg: 480x640 (no detections), 30.3ms\n",
      "image 154/1503 /Users/francesco/Repository/computer_vision_project/dataset/HAM10000/yolo_dataset/test/images/ISIC_0025297.jpg: 480x640 (no detections), 29.3ms\n",
      "image 155/1503 /Users/francesco/Repository/computer_vision_project/dataset/HAM10000/yolo_dataset/test/images/ISIC_0025299.jpg: 480x640 (no detections), 32.5ms\n",
      "image 156/1503 /Users/francesco/Repository/computer_vision_project/dataset/HAM10000/yolo_dataset/test/images/ISIC_0025301.jpg: 480x640 (no detections), 30.0ms\n",
      "image 157/1503 /Users/francesco/Repository/computer_vision_project/dataset/HAM10000/yolo_dataset/test/images/ISIC_0025305.jpg: 480x640 (no detections), 35.3ms\n",
      "image 158/1503 /Users/francesco/Repository/computer_vision_project/dataset/HAM10000/yolo_dataset/test/images/ISIC_0025313.jpg: 480x640 1 cat, 29.8ms\n",
      "image 159/1503 /Users/francesco/Repository/computer_vision_project/dataset/HAM10000/yolo_dataset/test/images/ISIC_0025323.jpg: 480x640 (no detections), 34.2ms\n",
      "image 160/1503 /Users/francesco/Repository/computer_vision_project/dataset/HAM10000/yolo_dataset/test/images/ISIC_0025350.jpg: 480x640 (no detections), 28.5ms\n",
      "image 161/1503 /Users/francesco/Repository/computer_vision_project/dataset/HAM10000/yolo_dataset/test/images/ISIC_0025355.jpg: 480x640 1 donut, 27.2ms\n",
      "image 162/1503 /Users/francesco/Repository/computer_vision_project/dataset/HAM10000/yolo_dataset/test/images/ISIC_0025362.jpg: 480x640 (no detections), 27.1ms\n",
      "image 163/1503 /Users/francesco/Repository/computer_vision_project/dataset/HAM10000/yolo_dataset/test/images/ISIC_0025370.jpg: 480x640 (no detections), 28.9ms\n",
      "image 164/1503 /Users/francesco/Repository/computer_vision_project/dataset/HAM10000/yolo_dataset/test/images/ISIC_0025376.jpg: 480x640 (no detections), 28.3ms\n",
      "image 165/1503 /Users/francesco/Repository/computer_vision_project/dataset/HAM10000/yolo_dataset/test/images/ISIC_0025382.jpg: 480x640 1 cat, 28.9ms\n",
      "image 166/1503 /Users/francesco/Repository/computer_vision_project/dataset/HAM10000/yolo_dataset/test/images/ISIC_0025397.jpg: 480x640 1 cat, 29.6ms\n",
      "image 167/1503 /Users/francesco/Repository/computer_vision_project/dataset/HAM10000/yolo_dataset/test/images/ISIC_0025410.jpg: 480x640 (no detections), 27.7ms\n",
      "image 168/1503 /Users/francesco/Repository/computer_vision_project/dataset/HAM10000/yolo_dataset/test/images/ISIC_0025412.jpg: 480x640 1 cat, 40.2ms\n",
      "image 169/1503 /Users/francesco/Repository/computer_vision_project/dataset/HAM10000/yolo_dataset/test/images/ISIC_0025422.jpg: 480x640 (no detections), 28.3ms\n",
      "image 170/1503 /Users/francesco/Repository/computer_vision_project/dataset/HAM10000/yolo_dataset/test/images/ISIC_0025425.jpg: 480x640 (no detections), 30.5ms\n",
      "image 171/1503 /Users/francesco/Repository/computer_vision_project/dataset/HAM10000/yolo_dataset/test/images/ISIC_0025446.jpg: 480x640 (no detections), 32.0ms\n",
      "image 172/1503 /Users/francesco/Repository/computer_vision_project/dataset/HAM10000/yolo_dataset/test/images/ISIC_0025450.jpg: 480x640 (no detections), 31.8ms\n",
      "image 173/1503 /Users/francesco/Repository/computer_vision_project/dataset/HAM10000/yolo_dataset/test/images/ISIC_0025452.jpg: 480x640 (no detections), 28.6ms\n",
      "image 174/1503 /Users/francesco/Repository/computer_vision_project/dataset/HAM10000/yolo_dataset/test/images/ISIC_0025461.jpg: 480x640 1 airplane, 1 umbrella, 30.1ms\n",
      "image 175/1503 /Users/francesco/Repository/computer_vision_project/dataset/HAM10000/yolo_dataset/test/images/ISIC_0025462.jpg: 480x640 1 cat, 32.0ms\n",
      "image 176/1503 /Users/francesco/Repository/computer_vision_project/dataset/HAM10000/yolo_dataset/test/images/ISIC_0025473.jpg: 480x640 (no detections), 29.9ms\n",
      "image 177/1503 /Users/francesco/Repository/computer_vision_project/dataset/HAM10000/yolo_dataset/test/images/ISIC_0025474.jpg: 480x640 (no detections), 29.0ms\n",
      "image 178/1503 /Users/francesco/Repository/computer_vision_project/dataset/HAM10000/yolo_dataset/test/images/ISIC_0025477.jpg: 480x640 (no detections), 34.0ms\n",
      "image 179/1503 /Users/francesco/Repository/computer_vision_project/dataset/HAM10000/yolo_dataset/test/images/ISIC_0025479.jpg: 480x640 1 cat, 60.1ms\n",
      "image 180/1503 /Users/francesco/Repository/computer_vision_project/dataset/HAM10000/yolo_dataset/test/images/ISIC_0025494.jpg: 480x640 1 umbrella, 29.6ms\n",
      "image 181/1503 /Users/francesco/Repository/computer_vision_project/dataset/HAM10000/yolo_dataset/test/images/ISIC_0025506.jpg: 480x640 (no detections), 30.4ms\n",
      "image 182/1503 /Users/francesco/Repository/computer_vision_project/dataset/HAM10000/yolo_dataset/test/images/ISIC_0025509.jpg: 480x640 1 teddy bear, 31.6ms\n",
      "image 183/1503 /Users/francesco/Repository/computer_vision_project/dataset/HAM10000/yolo_dataset/test/images/ISIC_0025519.jpg: 480x640 (no detections), 29.1ms\n",
      "image 184/1503 /Users/francesco/Repository/computer_vision_project/dataset/HAM10000/yolo_dataset/test/images/ISIC_0025526.jpg: 480x640 (no detections), 37.4ms\n",
      "image 185/1503 /Users/francesco/Repository/computer_vision_project/dataset/HAM10000/yolo_dataset/test/images/ISIC_0025534.jpg: 480x640 1 cat, 27.7ms\n",
      "image 186/1503 /Users/francesco/Repository/computer_vision_project/dataset/HAM10000/yolo_dataset/test/images/ISIC_0025543.jpg: 480x640 (no detections), 35.6ms\n",
      "image 187/1503 /Users/francesco/Repository/computer_vision_project/dataset/HAM10000/yolo_dataset/test/images/ISIC_0025550.jpg: 480x640 (no detections), 56.9ms\n",
      "image 188/1503 /Users/francesco/Repository/computer_vision_project/dataset/HAM10000/yolo_dataset/test/images/ISIC_0025553.jpg: 480x640 (no detections), 55.0ms\n",
      "image 189/1503 /Users/francesco/Repository/computer_vision_project/dataset/HAM10000/yolo_dataset/test/images/ISIC_0025564.jpg: 480x640 (no detections), 30.4ms\n",
      "image 190/1503 /Users/francesco/Repository/computer_vision_project/dataset/HAM10000/yolo_dataset/test/images/ISIC_0025565.jpg: 480x640 1 cat, 28.1ms\n",
      "image 191/1503 /Users/francesco/Repository/computer_vision_project/dataset/HAM10000/yolo_dataset/test/images/ISIC_0025566.jpg: 480x640 (no detections), 29.8ms\n",
      "image 192/1503 /Users/francesco/Repository/computer_vision_project/dataset/HAM10000/yolo_dataset/test/images/ISIC_0025572.jpg: 480x640 (no detections), 30.8ms\n",
      "image 193/1503 /Users/francesco/Repository/computer_vision_project/dataset/HAM10000/yolo_dataset/test/images/ISIC_0025576.jpg: 480x640 (no detections), 37.0ms\n",
      "image 194/1503 /Users/francesco/Repository/computer_vision_project/dataset/HAM10000/yolo_dataset/test/images/ISIC_0025577.jpg: 480x640 (no detections), 30.9ms\n",
      "image 195/1503 /Users/francesco/Repository/computer_vision_project/dataset/HAM10000/yolo_dataset/test/images/ISIC_0025595.jpg: 480x640 2 cats, 30.0ms\n",
      "image 196/1503 /Users/francesco/Repository/computer_vision_project/dataset/HAM10000/yolo_dataset/test/images/ISIC_0025599.jpg: 480x640 (no detections), 31.0ms\n",
      "image 197/1503 /Users/francesco/Repository/computer_vision_project/dataset/HAM10000/yolo_dataset/test/images/ISIC_0025612.jpg: 480x640 (no detections), 31.0ms\n",
      "image 198/1503 /Users/francesco/Repository/computer_vision_project/dataset/HAM10000/yolo_dataset/test/images/ISIC_0025615.jpg: 480x640 (no detections), 103.7ms\n",
      "image 199/1503 /Users/francesco/Repository/computer_vision_project/dataset/HAM10000/yolo_dataset/test/images/ISIC_0025618.jpg: 480x640 1 cake, 74.3ms\n",
      "image 200/1503 /Users/francesco/Repository/computer_vision_project/dataset/HAM10000/yolo_dataset/test/images/ISIC_0025633.jpg: 480x640 (no detections), 40.5ms\n",
      "image 201/1503 /Users/francesco/Repository/computer_vision_project/dataset/HAM10000/yolo_dataset/test/images/ISIC_0025640.jpg: 480x640 (no detections), 31.3ms\n",
      "image 202/1503 /Users/francesco/Repository/computer_vision_project/dataset/HAM10000/yolo_dataset/test/images/ISIC_0025641.jpg: 480x640 1 person, 1 donut, 28.8ms\n",
      "image 203/1503 /Users/francesco/Repository/computer_vision_project/dataset/HAM10000/yolo_dataset/test/images/ISIC_0025643.jpg: 480x640 (no detections), 29.8ms\n",
      "image 204/1503 /Users/francesco/Repository/computer_vision_project/dataset/HAM10000/yolo_dataset/test/images/ISIC_0025647.jpg: 480x640 (no detections), 29.2ms\n",
      "image 205/1503 /Users/francesco/Repository/computer_vision_project/dataset/HAM10000/yolo_dataset/test/images/ISIC_0025648.jpg: 480x640 (no detections), 27.9ms\n",
      "image 206/1503 /Users/francesco/Repository/computer_vision_project/dataset/HAM10000/yolo_dataset/test/images/ISIC_0025656.jpg: 480x640 (no detections), 28.4ms\n",
      "image 207/1503 /Users/francesco/Repository/computer_vision_project/dataset/HAM10000/yolo_dataset/test/images/ISIC_0025665.jpg: 480x640 1 cake, 29.7ms\n",
      "image 208/1503 /Users/francesco/Repository/computer_vision_project/dataset/HAM10000/yolo_dataset/test/images/ISIC_0025669.jpg: 480x640 (no detections), 38.9ms\n",
      "image 209/1503 /Users/francesco/Repository/computer_vision_project/dataset/HAM10000/yolo_dataset/test/images/ISIC_0025675.jpg: 480x640 (no detections), 28.3ms\n",
      "image 210/1503 /Users/francesco/Repository/computer_vision_project/dataset/HAM10000/yolo_dataset/test/images/ISIC_0025682.jpg: 480x640 1 cat, 28.8ms\n",
      "image 211/1503 /Users/francesco/Repository/computer_vision_project/dataset/HAM10000/yolo_dataset/test/images/ISIC_0025684.jpg: 480x640 (no detections), 30.2ms\n",
      "image 212/1503 /Users/francesco/Repository/computer_vision_project/dataset/HAM10000/yolo_dataset/test/images/ISIC_0025690.jpg: 480x640 (no detections), 28.9ms\n",
      "image 213/1503 /Users/francesco/Repository/computer_vision_project/dataset/HAM10000/yolo_dataset/test/images/ISIC_0025712.jpg: 480x640 (no detections), 57.0ms\n",
      "image 214/1503 /Users/francesco/Repository/computer_vision_project/dataset/HAM10000/yolo_dataset/test/images/ISIC_0025713.jpg: 480x640 1 cat, 28.4ms\n",
      "image 215/1503 /Users/francesco/Repository/computer_vision_project/dataset/HAM10000/yolo_dataset/test/images/ISIC_0025728.jpg: 480x640 1 umbrella, 29.2ms\n",
      "image 216/1503 /Users/francesco/Repository/computer_vision_project/dataset/HAM10000/yolo_dataset/test/images/ISIC_0025739.jpg: 480x640 (no detections), 30.0ms\n",
      "image 217/1503 /Users/francesco/Repository/computer_vision_project/dataset/HAM10000/yolo_dataset/test/images/ISIC_0025741.jpg: 480x640 1 cat, 29.6ms\n",
      "image 218/1503 /Users/francesco/Repository/computer_vision_project/dataset/HAM10000/yolo_dataset/test/images/ISIC_0025753.jpg: 480x640 (no detections), 32.3ms\n",
      "image 219/1503 /Users/francesco/Repository/computer_vision_project/dataset/HAM10000/yolo_dataset/test/images/ISIC_0025756.jpg: 480x640 1 cat, 32.1ms\n",
      "image 220/1503 /Users/francesco/Repository/computer_vision_project/dataset/HAM10000/yolo_dataset/test/images/ISIC_0025769.jpg: 480x640 (no detections), 28.5ms\n",
      "image 221/1503 /Users/francesco/Repository/computer_vision_project/dataset/HAM10000/yolo_dataset/test/images/ISIC_0025789.jpg: 480x640 (no detections), 29.8ms\n",
      "image 222/1503 /Users/francesco/Repository/computer_vision_project/dataset/HAM10000/yolo_dataset/test/images/ISIC_0025802.jpg: 480x640 (no detections), 34.8ms\n",
      "image 223/1503 /Users/francesco/Repository/computer_vision_project/dataset/HAM10000/yolo_dataset/test/images/ISIC_0025822.jpg: 480x640 1 umbrella, 39.1ms\n",
      "image 224/1503 /Users/francesco/Repository/computer_vision_project/dataset/HAM10000/yolo_dataset/test/images/ISIC_0025840.jpg: 480x640 1 cat, 30.4ms\n",
      "image 225/1503 /Users/francesco/Repository/computer_vision_project/dataset/HAM10000/yolo_dataset/test/images/ISIC_0025848.jpg: 480x640 (no detections), 30.2ms\n",
      "image 226/1503 /Users/francesco/Repository/computer_vision_project/dataset/HAM10000/yolo_dataset/test/images/ISIC_0025856.jpg: 480x640 (no detections), 30.1ms\n",
      "image 227/1503 /Users/francesco/Repository/computer_vision_project/dataset/HAM10000/yolo_dataset/test/images/ISIC_0025857.jpg: 480x640 (no detections), 27.2ms\n",
      "image 228/1503 /Users/francesco/Repository/computer_vision_project/dataset/HAM10000/yolo_dataset/test/images/ISIC_0025863.jpg: 480x640 (no detections), 30.6ms\n",
      "image 229/1503 /Users/francesco/Repository/computer_vision_project/dataset/HAM10000/yolo_dataset/test/images/ISIC_0025865.jpg: 480x640 (no detections), 29.3ms\n",
      "image 230/1503 /Users/francesco/Repository/computer_vision_project/dataset/HAM10000/yolo_dataset/test/images/ISIC_0025880.jpg: 480x640 (no detections), 27.4ms\n",
      "image 231/1503 /Users/francesco/Repository/computer_vision_project/dataset/HAM10000/yolo_dataset/test/images/ISIC_0025888.jpg: 480x640 1 cat, 28.6ms\n",
      "image 232/1503 /Users/francesco/Repository/computer_vision_project/dataset/HAM10000/yolo_dataset/test/images/ISIC_0025894.jpg: 480x640 (no detections), 33.7ms\n",
      "image 233/1503 /Users/francesco/Repository/computer_vision_project/dataset/HAM10000/yolo_dataset/test/images/ISIC_0025898.jpg: 480x640 (no detections), 31.9ms\n",
      "image 234/1503 /Users/francesco/Repository/computer_vision_project/dataset/HAM10000/yolo_dataset/test/images/ISIC_0025900.jpg: 480x640 (no detections), 35.0ms\n",
      "image 235/1503 /Users/francesco/Repository/computer_vision_project/dataset/HAM10000/yolo_dataset/test/images/ISIC_0025904.jpg: 480x640 1 apple, 30.0ms\n",
      "image 236/1503 /Users/francesco/Repository/computer_vision_project/dataset/HAM10000/yolo_dataset/test/images/ISIC_0025911.jpg: 480x640 (no detections), 28.9ms\n",
      "image 237/1503 /Users/francesco/Repository/computer_vision_project/dataset/HAM10000/yolo_dataset/test/images/ISIC_0025922.jpg: 480x640 (no detections), 27.7ms\n",
      "image 238/1503 /Users/francesco/Repository/computer_vision_project/dataset/HAM10000/yolo_dataset/test/images/ISIC_0025946.jpg: 480x640 (no detections), 28.4ms\n",
      "image 239/1503 /Users/francesco/Repository/computer_vision_project/dataset/HAM10000/yolo_dataset/test/images/ISIC_0025951.jpg: 480x640 (no detections), 28.6ms\n",
      "image 240/1503 /Users/francesco/Repository/computer_vision_project/dataset/HAM10000/yolo_dataset/test/images/ISIC_0025955.jpg: 480x640 1 cat, 33.3ms\n",
      "image 241/1503 /Users/francesco/Repository/computer_vision_project/dataset/HAM10000/yolo_dataset/test/images/ISIC_0025977.jpg: 480x640 1 cat, 29.7ms\n",
      "image 242/1503 /Users/francesco/Repository/computer_vision_project/dataset/HAM10000/yolo_dataset/test/images/ISIC_0025979.jpg: 480x640 (no detections), 28.5ms\n",
      "image 243/1503 /Users/francesco/Repository/computer_vision_project/dataset/HAM10000/yolo_dataset/test/images/ISIC_0025980.jpg: 480x640 (no detections), 56.0ms\n",
      "image 244/1503 /Users/francesco/Repository/computer_vision_project/dataset/HAM10000/yolo_dataset/test/images/ISIC_0025981.jpg: 480x640 1 cat, 38.2ms\n",
      "image 245/1503 /Users/francesco/Repository/computer_vision_project/dataset/HAM10000/yolo_dataset/test/images/ISIC_0025984.jpg: 480x640 1 apple, 28.4ms\n",
      "image 246/1503 /Users/francesco/Repository/computer_vision_project/dataset/HAM10000/yolo_dataset/test/images/ISIC_0026004.jpg: 480x640 (no detections), 28.6ms\n",
      "image 247/1503 /Users/francesco/Repository/computer_vision_project/dataset/HAM10000/yolo_dataset/test/images/ISIC_0026012.jpg: 480x640 (no detections), 28.0ms\n",
      "image 248/1503 /Users/francesco/Repository/computer_vision_project/dataset/HAM10000/yolo_dataset/test/images/ISIC_0026014.jpg: 480x640 1 donut, 1 cake, 28.4ms\n",
      "image 249/1503 /Users/francesco/Repository/computer_vision_project/dataset/HAM10000/yolo_dataset/test/images/ISIC_0026021.jpg: 480x640 1 cat, 60.2ms\n",
      "image 250/1503 /Users/francesco/Repository/computer_vision_project/dataset/HAM10000/yolo_dataset/test/images/ISIC_0026027.jpg: 480x640 (no detections), 28.5ms\n",
      "image 251/1503 /Users/francesco/Repository/computer_vision_project/dataset/HAM10000/yolo_dataset/test/images/ISIC_0026039.jpg: 480x640 (no detections), 30.6ms\n",
      "image 252/1503 /Users/francesco/Repository/computer_vision_project/dataset/HAM10000/yolo_dataset/test/images/ISIC_0026041.jpg: 480x640 1 cat, 29.0ms\n",
      "image 253/1503 /Users/francesco/Repository/computer_vision_project/dataset/HAM10000/yolo_dataset/test/images/ISIC_0026059.jpg: 480x640 (no detections), 30.1ms\n",
      "image 254/1503 /Users/francesco/Repository/computer_vision_project/dataset/HAM10000/yolo_dataset/test/images/ISIC_0026068.jpg: 480x640 (no detections), 27.6ms\n",
      "image 255/1503 /Users/francesco/Repository/computer_vision_project/dataset/HAM10000/yolo_dataset/test/images/ISIC_0026080.jpg: 480x640 1 donut, 27.8ms\n",
      "image 256/1503 /Users/francesco/Repository/computer_vision_project/dataset/HAM10000/yolo_dataset/test/images/ISIC_0026082.jpg: 480x640 (no detections), 30.4ms\n",
      "image 257/1503 /Users/francesco/Repository/computer_vision_project/dataset/HAM10000/yolo_dataset/test/images/ISIC_0026084.jpg: 480x640 (no detections), 28.7ms\n",
      "image 258/1503 /Users/francesco/Repository/computer_vision_project/dataset/HAM10000/yolo_dataset/test/images/ISIC_0026101.jpg: 480x640 1 cat, 29.8ms\n",
      "image 259/1503 /Users/francesco/Repository/computer_vision_project/dataset/HAM10000/yolo_dataset/test/images/ISIC_0026122.jpg: 480x640 (no detections), 28.9ms\n",
      "image 260/1503 /Users/francesco/Repository/computer_vision_project/dataset/HAM10000/yolo_dataset/test/images/ISIC_0026128.jpg: 480x640 (no detections), 27.7ms\n",
      "image 261/1503 /Users/francesco/Repository/computer_vision_project/dataset/HAM10000/yolo_dataset/test/images/ISIC_0026129.jpg: 480x640 (no detections), 30.1ms\n",
      "image 262/1503 /Users/francesco/Repository/computer_vision_project/dataset/HAM10000/yolo_dataset/test/images/ISIC_0026135.jpg: 480x640 (no detections), 30.8ms\n",
      "image 263/1503 /Users/francesco/Repository/computer_vision_project/dataset/HAM10000/yolo_dataset/test/images/ISIC_0026137.jpg: 480x640 1 cat, 28.8ms\n",
      "image 264/1503 /Users/francesco/Repository/computer_vision_project/dataset/HAM10000/yolo_dataset/test/images/ISIC_0026141.jpg: 480x640 (no detections), 27.9ms\n",
      "image 265/1503 /Users/francesco/Repository/computer_vision_project/dataset/HAM10000/yolo_dataset/test/images/ISIC_0026154.jpg: 480x640 (no detections), 29.5ms\n",
      "image 266/1503 /Users/francesco/Repository/computer_vision_project/dataset/HAM10000/yolo_dataset/test/images/ISIC_0026161.jpg: 480x640 1 cat, 105.0ms\n",
      "image 267/1503 /Users/francesco/Repository/computer_vision_project/dataset/HAM10000/yolo_dataset/test/images/ISIC_0026175.jpg: 480x640 1 cat, 37.2ms\n",
      "image 268/1503 /Users/francesco/Repository/computer_vision_project/dataset/HAM10000/yolo_dataset/test/images/ISIC_0026178.jpg: 480x640 (no detections), 76.9ms\n",
      "image 269/1503 /Users/francesco/Repository/computer_vision_project/dataset/HAM10000/yolo_dataset/test/images/ISIC_0026181.jpg: 480x640 1 cat, 40.1ms\n",
      "image 270/1503 /Users/francesco/Repository/computer_vision_project/dataset/HAM10000/yolo_dataset/test/images/ISIC_0026185.jpg: 480x640 1 cat, 29.8ms\n",
      "image 271/1503 /Users/francesco/Repository/computer_vision_project/dataset/HAM10000/yolo_dataset/test/images/ISIC_0026190.jpg: 480x640 (no detections), 27.8ms\n",
      "image 272/1503 /Users/francesco/Repository/computer_vision_project/dataset/HAM10000/yolo_dataset/test/images/ISIC_0026198.jpg: 480x640 (no detections), 31.0ms\n",
      "image 273/1503 /Users/francesco/Repository/computer_vision_project/dataset/HAM10000/yolo_dataset/test/images/ISIC_0026202.jpg: 480x640 (no detections), 42.7ms\n",
      "image 274/1503 /Users/francesco/Repository/computer_vision_project/dataset/HAM10000/yolo_dataset/test/images/ISIC_0026209.jpg: 480x640 1 cat, 30.8ms\n",
      "image 275/1503 /Users/francesco/Repository/computer_vision_project/dataset/HAM10000/yolo_dataset/test/images/ISIC_0026217.jpg: 480x640 (no detections), 31.0ms\n",
      "image 276/1503 /Users/francesco/Repository/computer_vision_project/dataset/HAM10000/yolo_dataset/test/images/ISIC_0026218.jpg: 480x640 1 person, 27.0ms\n",
      "image 277/1503 /Users/francesco/Repository/computer_vision_project/dataset/HAM10000/yolo_dataset/test/images/ISIC_0026229.jpg: 480x640 (no detections), 28.8ms\n",
      "image 278/1503 /Users/francesco/Repository/computer_vision_project/dataset/HAM10000/yolo_dataset/test/images/ISIC_0026236.jpg: 480x640 (no detections), 33.8ms\n",
      "image 279/1503 /Users/francesco/Repository/computer_vision_project/dataset/HAM10000/yolo_dataset/test/images/ISIC_0026243.jpg: 480x640 1 umbrella, 32.2ms\n",
      "image 280/1503 /Users/francesco/Repository/computer_vision_project/dataset/HAM10000/yolo_dataset/test/images/ISIC_0026245.jpg: 480x640 (no detections), 63.9ms\n",
      "image 281/1503 /Users/francesco/Repository/computer_vision_project/dataset/HAM10000/yolo_dataset/test/images/ISIC_0026249.jpg: 480x640 (no detections), 37.0ms\n",
      "image 282/1503 /Users/francesco/Repository/computer_vision_project/dataset/HAM10000/yolo_dataset/test/images/ISIC_0026268.jpg: 480x640 1 pizza, 31.0ms\n",
      "image 283/1503 /Users/francesco/Repository/computer_vision_project/dataset/HAM10000/yolo_dataset/test/images/ISIC_0026282.jpg: 480x640 1 apple, 1 donut, 28.2ms\n",
      "image 284/1503 /Users/francesco/Repository/computer_vision_project/dataset/HAM10000/yolo_dataset/test/images/ISIC_0026292.jpg: 480x640 1 cat, 34.9ms\n",
      "image 285/1503 /Users/francesco/Repository/computer_vision_project/dataset/HAM10000/yolo_dataset/test/images/ISIC_0026295.jpg: 480x640 (no detections), 28.9ms\n",
      "image 286/1503 /Users/francesco/Repository/computer_vision_project/dataset/HAM10000/yolo_dataset/test/images/ISIC_0026303.jpg: 480x640 (no detections), 26.9ms\n",
      "image 287/1503 /Users/francesco/Repository/computer_vision_project/dataset/HAM10000/yolo_dataset/test/images/ISIC_0026312.jpg: 480x640 (no detections), 32.5ms\n",
      "image 288/1503 /Users/francesco/Repository/computer_vision_project/dataset/HAM10000/yolo_dataset/test/images/ISIC_0026314.jpg: 480x640 (no detections), 29.4ms\n",
      "image 289/1503 /Users/francesco/Repository/computer_vision_project/dataset/HAM10000/yolo_dataset/test/images/ISIC_0026325.jpg: 480x640 1 cat, 28.7ms\n",
      "image 290/1503 /Users/francesco/Repository/computer_vision_project/dataset/HAM10000/yolo_dataset/test/images/ISIC_0026326.jpg: 480x640 (no detections), 28.4ms\n",
      "image 291/1503 /Users/francesco/Repository/computer_vision_project/dataset/HAM10000/yolo_dataset/test/images/ISIC_0026328.jpg: 480x640 (no detections), 27.8ms\n",
      "image 292/1503 /Users/francesco/Repository/computer_vision_project/dataset/HAM10000/yolo_dataset/test/images/ISIC_0026329.jpg: 480x640 (no detections), 28.8ms\n",
      "image 293/1503 /Users/francesco/Repository/computer_vision_project/dataset/HAM10000/yolo_dataset/test/images/ISIC_0026334.jpg: 480x640 (no detections), 38.0ms\n",
      "image 294/1503 /Users/francesco/Repository/computer_vision_project/dataset/HAM10000/yolo_dataset/test/images/ISIC_0026335.jpg: 480x640 1 bird, 31.3ms\n",
      "image 295/1503 /Users/francesco/Repository/computer_vision_project/dataset/HAM10000/yolo_dataset/test/images/ISIC_0026336.jpg: 480x640 (no detections), 26.8ms\n",
      "image 296/1503 /Users/francesco/Repository/computer_vision_project/dataset/HAM10000/yolo_dataset/test/images/ISIC_0026337.jpg: 480x640 (no detections), 28.9ms\n",
      "image 297/1503 /Users/francesco/Repository/computer_vision_project/dataset/HAM10000/yolo_dataset/test/images/ISIC_0026353.jpg: 480x640 1 cat, 28.8ms\n",
      "image 298/1503 /Users/francesco/Repository/computer_vision_project/dataset/HAM10000/yolo_dataset/test/images/ISIC_0026358.jpg: 480x640 (no detections), 31.4ms\n",
      "image 299/1503 /Users/francesco/Repository/computer_vision_project/dataset/HAM10000/yolo_dataset/test/images/ISIC_0026363.jpg: 480x640 1 cat, 29.1ms\n",
      "image 300/1503 /Users/francesco/Repository/computer_vision_project/dataset/HAM10000/yolo_dataset/test/images/ISIC_0026369.jpg: 480x640 1 cat, 26.6ms\n",
      "image 301/1503 /Users/francesco/Repository/computer_vision_project/dataset/HAM10000/yolo_dataset/test/images/ISIC_0026373.jpg: 480x640 1 cat, 1 umbrella, 28.3ms\n",
      "image 302/1503 /Users/francesco/Repository/computer_vision_project/dataset/HAM10000/yolo_dataset/test/images/ISIC_0026377.jpg: 480x640 (no detections), 27.3ms\n",
      "image 303/1503 /Users/francesco/Repository/computer_vision_project/dataset/HAM10000/yolo_dataset/test/images/ISIC_0026383.jpg: 480x640 (no detections), 28.8ms\n",
      "image 304/1503 /Users/francesco/Repository/computer_vision_project/dataset/HAM10000/yolo_dataset/test/images/ISIC_0026394.jpg: 480x640 (no detections), 38.4ms\n",
      "image 305/1503 /Users/francesco/Repository/computer_vision_project/dataset/HAM10000/yolo_dataset/test/images/ISIC_0026419.jpg: 480x640 (no detections), 28.0ms\n",
      "image 306/1503 /Users/francesco/Repository/computer_vision_project/dataset/HAM10000/yolo_dataset/test/images/ISIC_0026422.jpg: 480x640 (no detections), 29.8ms\n",
      "image 307/1503 /Users/francesco/Repository/computer_vision_project/dataset/HAM10000/yolo_dataset/test/images/ISIC_0026428.jpg: 480x640 1 cat, 28.7ms\n",
      "image 308/1503 /Users/francesco/Repository/computer_vision_project/dataset/HAM10000/yolo_dataset/test/images/ISIC_0026430.jpg: 480x640 (no detections), 28.1ms\n",
      "image 309/1503 /Users/francesco/Repository/computer_vision_project/dataset/HAM10000/yolo_dataset/test/images/ISIC_0026442.jpg: 480x640 (no detections), 31.0ms\n",
      "image 310/1503 /Users/francesco/Repository/computer_vision_project/dataset/HAM10000/yolo_dataset/test/images/ISIC_0026451.jpg: 480x640 1 cat, 43.8ms\n",
      "image 311/1503 /Users/francesco/Repository/computer_vision_project/dataset/HAM10000/yolo_dataset/test/images/ISIC_0026454.jpg: 480x640 (no detections), 30.7ms\n",
      "image 312/1503 /Users/francesco/Repository/computer_vision_project/dataset/HAM10000/yolo_dataset/test/images/ISIC_0026463.jpg: 480x640 (no detections), 30.0ms\n",
      "image 313/1503 /Users/francesco/Repository/computer_vision_project/dataset/HAM10000/yolo_dataset/test/images/ISIC_0026464.jpg: 480x640 (no detections), 28.5ms\n",
      "image 314/1503 /Users/francesco/Repository/computer_vision_project/dataset/HAM10000/yolo_dataset/test/images/ISIC_0026471.jpg: 480x640 (no detections), 27.2ms\n",
      "image 315/1503 /Users/francesco/Repository/computer_vision_project/dataset/HAM10000/yolo_dataset/test/images/ISIC_0026475.jpg: 480x640 (no detections), 28.0ms\n",
      "image 316/1503 /Users/francesco/Repository/computer_vision_project/dataset/HAM10000/yolo_dataset/test/images/ISIC_0026476.jpg: 480x640 1 cat, 28.8ms\n",
      "image 317/1503 /Users/francesco/Repository/computer_vision_project/dataset/HAM10000/yolo_dataset/test/images/ISIC_0026482.jpg: 480x640 (no detections), 31.4ms\n",
      "image 318/1503 /Users/francesco/Repository/computer_vision_project/dataset/HAM10000/yolo_dataset/test/images/ISIC_0026492.jpg: 480x640 (no detections), 27.8ms\n",
      "image 319/1503 /Users/francesco/Repository/computer_vision_project/dataset/HAM10000/yolo_dataset/test/images/ISIC_0026512.jpg: 480x640 1 cat, 32.8ms\n",
      "image 320/1503 /Users/francesco/Repository/computer_vision_project/dataset/HAM10000/yolo_dataset/test/images/ISIC_0026515.jpg: 480x640 (no detections), 26.4ms\n",
      "image 321/1503 /Users/francesco/Repository/computer_vision_project/dataset/HAM10000/yolo_dataset/test/images/ISIC_0026521.jpg: 480x640 (no detections), 32.5ms\n",
      "image 322/1503 /Users/francesco/Repository/computer_vision_project/dataset/HAM10000/yolo_dataset/test/images/ISIC_0026529.jpg: 480x640 1 cat, 26.9ms\n",
      "image 323/1503 /Users/francesco/Repository/computer_vision_project/dataset/HAM10000/yolo_dataset/test/images/ISIC_0026530.jpg: 480x640 (no detections), 27.3ms\n",
      "image 324/1503 /Users/francesco/Repository/computer_vision_project/dataset/HAM10000/yolo_dataset/test/images/ISIC_0026543.jpg: 480x640 (no detections), 26.7ms\n",
      "image 325/1503 /Users/francesco/Repository/computer_vision_project/dataset/HAM10000/yolo_dataset/test/images/ISIC_0026546.jpg: 480x640 (no detections), 27.3ms\n",
      "image 326/1503 /Users/francesco/Repository/computer_vision_project/dataset/HAM10000/yolo_dataset/test/images/ISIC_0026550.jpg: 480x640 (no detections), 31.4ms\n",
      "image 327/1503 /Users/francesco/Repository/computer_vision_project/dataset/HAM10000/yolo_dataset/test/images/ISIC_0026564.jpg: 480x640 (no detections), 29.6ms\n",
      "image 328/1503 /Users/francesco/Repository/computer_vision_project/dataset/HAM10000/yolo_dataset/test/images/ISIC_0026567.jpg: 480x640 (no detections), 27.5ms\n",
      "image 329/1503 /Users/francesco/Repository/computer_vision_project/dataset/HAM10000/yolo_dataset/test/images/ISIC_0026570.jpg: 480x640 (no detections), 29.1ms\n",
      "image 330/1503 /Users/francesco/Repository/computer_vision_project/dataset/HAM10000/yolo_dataset/test/images/ISIC_0026589.jpg: 480x640 (no detections), 28.7ms\n",
      "image 331/1503 /Users/francesco/Repository/computer_vision_project/dataset/HAM10000/yolo_dataset/test/images/ISIC_0026595.jpg: 480x640 1 umbrella, 27.1ms\n",
      "image 332/1503 /Users/francesco/Repository/computer_vision_project/dataset/HAM10000/yolo_dataset/test/images/ISIC_0026603.jpg: 480x640 1 donut, 29.5ms\n",
      "image 333/1503 /Users/francesco/Repository/computer_vision_project/dataset/HAM10000/yolo_dataset/test/images/ISIC_0026604.jpg: 480x640 (no detections), 31.3ms\n",
      "image 334/1503 /Users/francesco/Repository/computer_vision_project/dataset/HAM10000/yolo_dataset/test/images/ISIC_0026620.jpg: 480x640 (no detections), 27.7ms\n",
      "image 335/1503 /Users/francesco/Repository/computer_vision_project/dataset/HAM10000/yolo_dataset/test/images/ISIC_0026622.jpg: 480x640 1 pizza, 26.5ms\n",
      "image 336/1503 /Users/francesco/Repository/computer_vision_project/dataset/HAM10000/yolo_dataset/test/images/ISIC_0026628.jpg: 480x640 1 cat, 29.4ms\n",
      "image 337/1503 /Users/francesco/Repository/computer_vision_project/dataset/HAM10000/yolo_dataset/test/images/ISIC_0026630.jpg: 480x640 1 cat, 26.5ms\n",
      "image 338/1503 /Users/francesco/Repository/computer_vision_project/dataset/HAM10000/yolo_dataset/test/images/ISIC_0026632.jpg: 480x640 (no detections), 29.3ms\n",
      "image 339/1503 /Users/francesco/Repository/computer_vision_project/dataset/HAM10000/yolo_dataset/test/images/ISIC_0026636.jpg: 480x640 2 cats, 26.8ms\n",
      "image 340/1503 /Users/francesco/Repository/computer_vision_project/dataset/HAM10000/yolo_dataset/test/images/ISIC_0026649.jpg: 480x640 (no detections), 27.8ms\n",
      "image 341/1503 /Users/francesco/Repository/computer_vision_project/dataset/HAM10000/yolo_dataset/test/images/ISIC_0026658.jpg: 480x640 1 cat, 27.4ms\n",
      "image 342/1503 /Users/francesco/Repository/computer_vision_project/dataset/HAM10000/yolo_dataset/test/images/ISIC_0026661.jpg: 480x640 1 cat, 31.6ms\n",
      "image 343/1503 /Users/francesco/Repository/computer_vision_project/dataset/HAM10000/yolo_dataset/test/images/ISIC_0026685.jpg: 480x640 (no detections), 26.8ms\n",
      "image 344/1503 /Users/francesco/Repository/computer_vision_project/dataset/HAM10000/yolo_dataset/test/images/ISIC_0026702.jpg: 480x640 (no detections), 27.4ms\n",
      "image 345/1503 /Users/francesco/Repository/computer_vision_project/dataset/HAM10000/yolo_dataset/test/images/ISIC_0026707.jpg: 480x640 1 bed, 31.4ms\n",
      "image 346/1503 /Users/francesco/Repository/computer_vision_project/dataset/HAM10000/yolo_dataset/test/images/ISIC_0026708.jpg: 480x640 (no detections), 34.4ms\n",
      "image 347/1503 /Users/francesco/Repository/computer_vision_project/dataset/HAM10000/yolo_dataset/test/images/ISIC_0026713.jpg: 480x640 (no detections), 44.5ms\n",
      "image 348/1503 /Users/francesco/Repository/computer_vision_project/dataset/HAM10000/yolo_dataset/test/images/ISIC_0026719.jpg: 480x640 1 umbrella, 28.9ms\n",
      "image 349/1503 /Users/francesco/Repository/computer_vision_project/dataset/HAM10000/yolo_dataset/test/images/ISIC_0026727.jpg: 480x640 1 umbrella, 57.7ms\n",
      "image 350/1503 /Users/francesco/Repository/computer_vision_project/dataset/HAM10000/yolo_dataset/test/images/ISIC_0026734.jpg: 480x640 (no detections), 37.8ms\n",
      "image 351/1503 /Users/francesco/Repository/computer_vision_project/dataset/HAM10000/yolo_dataset/test/images/ISIC_0026747.jpg: 480x640 (no detections), 28.8ms\n",
      "image 352/1503 /Users/francesco/Repository/computer_vision_project/dataset/HAM10000/yolo_dataset/test/images/ISIC_0026752.jpg: 480x640 1 cat, 26.2ms\n",
      "image 353/1503 /Users/francesco/Repository/computer_vision_project/dataset/HAM10000/yolo_dataset/test/images/ISIC_0026759.jpg: 480x640 1 cat, 30.1ms\n",
      "image 354/1503 /Users/francesco/Repository/computer_vision_project/dataset/HAM10000/yolo_dataset/test/images/ISIC_0026764.jpg: 480x640 (no detections), 28.4ms\n",
      "image 355/1503 /Users/francesco/Repository/computer_vision_project/dataset/HAM10000/yolo_dataset/test/images/ISIC_0026790.jpg: 480x640 1 cat, 28.3ms\n",
      "image 356/1503 /Users/francesco/Repository/computer_vision_project/dataset/HAM10000/yolo_dataset/test/images/ISIC_0026795.jpg: 480x640 (no detections), 27.7ms\n",
      "image 357/1503 /Users/francesco/Repository/computer_vision_project/dataset/HAM10000/yolo_dataset/test/images/ISIC_0026796.jpg: 480x640 (no detections), 37.5ms\n",
      "image 358/1503 /Users/francesco/Repository/computer_vision_project/dataset/HAM10000/yolo_dataset/test/images/ISIC_0026800.jpg: 480x640 (no detections), 30.7ms\n",
      "image 359/1503 /Users/francesco/Repository/computer_vision_project/dataset/HAM10000/yolo_dataset/test/images/ISIC_0026804.jpg: 480x640 1 donut, 26.8ms\n",
      "image 360/1503 /Users/francesco/Repository/computer_vision_project/dataset/HAM10000/yolo_dataset/test/images/ISIC_0026805.jpg: 480x640 1 cake, 27.1ms\n",
      "image 361/1503 /Users/francesco/Repository/computer_vision_project/dataset/HAM10000/yolo_dataset/test/images/ISIC_0026808.jpg: 480x640 (no detections), 36.2ms\n",
      "image 362/1503 /Users/francesco/Repository/computer_vision_project/dataset/HAM10000/yolo_dataset/test/images/ISIC_0026812.jpg: 480x640 (no detections), 30.0ms\n",
      "image 363/1503 /Users/francesco/Repository/computer_vision_project/dataset/HAM10000/yolo_dataset/test/images/ISIC_0026815.jpg: 480x640 (no detections), 27.3ms\n",
      "image 364/1503 /Users/francesco/Repository/computer_vision_project/dataset/HAM10000/yolo_dataset/test/images/ISIC_0026824.jpg: 480x640 (no detections), 29.8ms\n",
      "image 365/1503 /Users/francesco/Repository/computer_vision_project/dataset/HAM10000/yolo_dataset/test/images/ISIC_0026829.jpg: 480x640 (no detections), 27.8ms\n",
      "image 366/1503 /Users/francesco/Repository/computer_vision_project/dataset/HAM10000/yolo_dataset/test/images/ISIC_0026840.jpg: 480x640 (no detections), 27.1ms\n",
      "image 367/1503 /Users/francesco/Repository/computer_vision_project/dataset/HAM10000/yolo_dataset/test/images/ISIC_0026847.jpg: 480x640 (no detections), 26.1ms\n",
      "image 368/1503 /Users/francesco/Repository/computer_vision_project/dataset/HAM10000/yolo_dataset/test/images/ISIC_0026851.jpg: 480x640 1 cat, 26.7ms\n",
      "image 369/1503 /Users/francesco/Repository/computer_vision_project/dataset/HAM10000/yolo_dataset/test/images/ISIC_0026862.jpg: 480x640 (no detections), 29.0ms\n",
      "image 370/1503 /Users/francesco/Repository/computer_vision_project/dataset/HAM10000/yolo_dataset/test/images/ISIC_0026864.jpg: 480x640 1 umbrella, 33.6ms\n",
      "image 371/1503 /Users/francesco/Repository/computer_vision_project/dataset/HAM10000/yolo_dataset/test/images/ISIC_0026873.jpg: 480x640 (no detections), 28.0ms\n",
      "image 372/1503 /Users/francesco/Repository/computer_vision_project/dataset/HAM10000/yolo_dataset/test/images/ISIC_0026874.jpg: 480x640 1 donut, 28.5ms\n",
      "image 373/1503 /Users/francesco/Repository/computer_vision_project/dataset/HAM10000/yolo_dataset/test/images/ISIC_0026885.jpg: 480x640 (no detections), 26.2ms\n",
      "image 374/1503 /Users/francesco/Repository/computer_vision_project/dataset/HAM10000/yolo_dataset/test/images/ISIC_0026896.jpg: 480x640 1 cat, 27.5ms\n",
      "image 375/1503 /Users/francesco/Repository/computer_vision_project/dataset/HAM10000/yolo_dataset/test/images/ISIC_0026901.jpg: 480x640 1 cat, 27.1ms\n",
      "image 376/1503 /Users/francesco/Repository/computer_vision_project/dataset/HAM10000/yolo_dataset/test/images/ISIC_0026916.jpg: 480x640 (no detections), 54.6ms\n",
      "image 377/1503 /Users/francesco/Repository/computer_vision_project/dataset/HAM10000/yolo_dataset/test/images/ISIC_0026920.jpg: 480x640 (no detections), 30.9ms\n",
      "image 378/1503 /Users/francesco/Repository/computer_vision_project/dataset/HAM10000/yolo_dataset/test/images/ISIC_0026938.jpg: 480x640 (no detections), 27.5ms\n",
      "image 379/1503 /Users/francesco/Repository/computer_vision_project/dataset/HAM10000/yolo_dataset/test/images/ISIC_0026940.jpg: 480x640 (no detections), 31.0ms\n",
      "image 380/1503 /Users/francesco/Repository/computer_vision_project/dataset/HAM10000/yolo_dataset/test/images/ISIC_0026942.jpg: 480x640 1 bowl, 1 apple, 1 orange, 26.1ms\n",
      "image 381/1503 /Users/francesco/Repository/computer_vision_project/dataset/HAM10000/yolo_dataset/test/images/ISIC_0026943.jpg: 480x640 (no detections), 26.5ms\n",
      "image 382/1503 /Users/francesco/Repository/computer_vision_project/dataset/HAM10000/yolo_dataset/test/images/ISIC_0026956.jpg: 480x640 (no detections), 28.0ms\n",
      "image 383/1503 /Users/francesco/Repository/computer_vision_project/dataset/HAM10000/yolo_dataset/test/images/ISIC_0026957.jpg: 480x640 (no detections), 33.4ms\n",
      "image 384/1503 /Users/francesco/Repository/computer_vision_project/dataset/HAM10000/yolo_dataset/test/images/ISIC_0026961.jpg: 480x640 (no detections), 31.7ms\n",
      "image 385/1503 /Users/francesco/Repository/computer_vision_project/dataset/HAM10000/yolo_dataset/test/images/ISIC_0026963.jpg: 480x640 (no detections), 26.7ms\n",
      "image 386/1503 /Users/francesco/Repository/computer_vision_project/dataset/HAM10000/yolo_dataset/test/images/ISIC_0026969.jpg: 480x640 (no detections), 28.9ms\n",
      "image 387/1503 /Users/francesco/Repository/computer_vision_project/dataset/HAM10000/yolo_dataset/test/images/ISIC_0026977.jpg: 480x640 (no detections), 27.0ms\n",
      "image 388/1503 /Users/francesco/Repository/computer_vision_project/dataset/HAM10000/yolo_dataset/test/images/ISIC_0026983.jpg: 480x640 1 cat, 31.9ms\n",
      "image 389/1503 /Users/francesco/Repository/computer_vision_project/dataset/HAM10000/yolo_dataset/test/images/ISIC_0026986.jpg: 480x640 (no detections), 26.7ms\n",
      "image 390/1503 /Users/francesco/Repository/computer_vision_project/dataset/HAM10000/yolo_dataset/test/images/ISIC_0026989.jpg: 480x640 1 umbrella, 35.9ms\n",
      "image 391/1503 /Users/francesco/Repository/computer_vision_project/dataset/HAM10000/yolo_dataset/test/images/ISIC_0027000.jpg: 480x640 (no detections), 30.4ms\n",
      "image 392/1503 /Users/francesco/Repository/computer_vision_project/dataset/HAM10000/yolo_dataset/test/images/ISIC_0027006.jpg: 480x640 (no detections), 27.1ms\n",
      "image 393/1503 /Users/francesco/Repository/computer_vision_project/dataset/HAM10000/yolo_dataset/test/images/ISIC_0027010.jpg: 480x640 (no detections), 27.9ms\n",
      "image 394/1503 /Users/francesco/Repository/computer_vision_project/dataset/HAM10000/yolo_dataset/test/images/ISIC_0027012.jpg: 480x640 (no detections), 28.1ms\n",
      "image 395/1503 /Users/francesco/Repository/computer_vision_project/dataset/HAM10000/yolo_dataset/test/images/ISIC_0027015.jpg: 480x640 (no detections), 25.9ms\n",
      "image 396/1503 /Users/francesco/Repository/computer_vision_project/dataset/HAM10000/yolo_dataset/test/images/ISIC_0027020.jpg: 480x640 1 cat, 26.7ms\n",
      "image 397/1503 /Users/francesco/Repository/computer_vision_project/dataset/HAM10000/yolo_dataset/test/images/ISIC_0027023.jpg: 480x640 (no detections), 26.8ms\n",
      "image 398/1503 /Users/francesco/Repository/computer_vision_project/dataset/HAM10000/yolo_dataset/test/images/ISIC_0027026.jpg: 480x640 (no detections), 30.4ms\n",
      "image 399/1503 /Users/francesco/Repository/computer_vision_project/dataset/HAM10000/yolo_dataset/test/images/ISIC_0027030.jpg: 480x640 1 cake, 31.4ms\n",
      "image 400/1503 /Users/francesco/Repository/computer_vision_project/dataset/HAM10000/yolo_dataset/test/images/ISIC_0027042.jpg: 480x640 1 donut, 28.3ms\n",
      "image 401/1503 /Users/francesco/Repository/computer_vision_project/dataset/HAM10000/yolo_dataset/test/images/ISIC_0027043.jpg: 480x640 1 cat, 27.7ms\n",
      "image 402/1503 /Users/francesco/Repository/computer_vision_project/dataset/HAM10000/yolo_dataset/test/images/ISIC_0027045.jpg: 480x640 (no detections), 33.8ms\n",
      "image 403/1503 /Users/francesco/Repository/computer_vision_project/dataset/HAM10000/yolo_dataset/test/images/ISIC_0027048.jpg: 480x640 (no detections), 28.0ms\n",
      "image 404/1503 /Users/francesco/Repository/computer_vision_project/dataset/HAM10000/yolo_dataset/test/images/ISIC_0027053.jpg: 480x640 1 cat, 27.3ms\n",
      "image 405/1503 /Users/francesco/Repository/computer_vision_project/dataset/HAM10000/yolo_dataset/test/images/ISIC_0027064.jpg: 480x640 (no detections), 29.3ms\n",
      "image 406/1503 /Users/francesco/Repository/computer_vision_project/dataset/HAM10000/yolo_dataset/test/images/ISIC_0027082.jpg: 480x640 (no detections), 28.8ms\n",
      "image 407/1503 /Users/francesco/Repository/computer_vision_project/dataset/HAM10000/yolo_dataset/test/images/ISIC_0027095.jpg: 480x640 (no detections), 28.2ms\n",
      "image 408/1503 /Users/francesco/Repository/computer_vision_project/dataset/HAM10000/yolo_dataset/test/images/ISIC_0027101.jpg: 480x640 (no detections), 27.1ms\n",
      "image 409/1503 /Users/francesco/Repository/computer_vision_project/dataset/HAM10000/yolo_dataset/test/images/ISIC_0027107.jpg: 480x640 (no detections), 31.5ms\n",
      "image 410/1503 /Users/francesco/Repository/computer_vision_project/dataset/HAM10000/yolo_dataset/test/images/ISIC_0027114.jpg: 480x640 (no detections), 31.4ms\n",
      "image 411/1503 /Users/francesco/Repository/computer_vision_project/dataset/HAM10000/yolo_dataset/test/images/ISIC_0027118.jpg: 480x640 1 person, 27.7ms\n",
      "image 412/1503 /Users/francesco/Repository/computer_vision_project/dataset/HAM10000/yolo_dataset/test/images/ISIC_0027122.jpg: 480x640 1 cat, 34.4ms\n",
      "image 413/1503 /Users/francesco/Repository/computer_vision_project/dataset/HAM10000/yolo_dataset/test/images/ISIC_0027125.jpg: 480x640 (no detections), 26.9ms\n",
      "image 414/1503 /Users/francesco/Repository/computer_vision_project/dataset/HAM10000/yolo_dataset/test/images/ISIC_0027130.jpg: 480x640 1 cat, 27.2ms\n",
      "image 415/1503 /Users/francesco/Repository/computer_vision_project/dataset/HAM10000/yolo_dataset/test/images/ISIC_0027136.jpg: 480x640 (no detections), 108.0ms\n",
      "image 416/1503 /Users/francesco/Repository/computer_vision_project/dataset/HAM10000/yolo_dataset/test/images/ISIC_0027141.jpg: 480x640 (no detections), 38.4ms\n",
      "image 417/1503 /Users/francesco/Repository/computer_vision_project/dataset/HAM10000/yolo_dataset/test/images/ISIC_0027148.jpg: 480x640 (no detections), 27.4ms\n",
      "image 418/1503 /Users/francesco/Repository/computer_vision_project/dataset/HAM10000/yolo_dataset/test/images/ISIC_0027158.jpg: 480x640 (no detections), 30.1ms\n",
      "image 419/1503 /Users/francesco/Repository/computer_vision_project/dataset/HAM10000/yolo_dataset/test/images/ISIC_0027164.jpg: 480x640 (no detections), 40.0ms\n",
      "image 420/1503 /Users/francesco/Repository/computer_vision_project/dataset/HAM10000/yolo_dataset/test/images/ISIC_0027180.jpg: 480x640 1 cat, 26.0ms\n",
      "image 421/1503 /Users/francesco/Repository/computer_vision_project/dataset/HAM10000/yolo_dataset/test/images/ISIC_0027183.jpg: 480x640 (no detections), 29.9ms\n",
      "image 422/1503 /Users/francesco/Repository/computer_vision_project/dataset/HAM10000/yolo_dataset/test/images/ISIC_0027187.jpg: 480x640 (no detections), 27.5ms\n",
      "image 423/1503 /Users/francesco/Repository/computer_vision_project/dataset/HAM10000/yolo_dataset/test/images/ISIC_0027188.jpg: 480x640 1 person, 29.1ms\n",
      "image 424/1503 /Users/francesco/Repository/computer_vision_project/dataset/HAM10000/yolo_dataset/test/images/ISIC_0027207.jpg: 480x640 (no detections), 27.0ms\n",
      "image 425/1503 /Users/francesco/Repository/computer_vision_project/dataset/HAM10000/yolo_dataset/test/images/ISIC_0027227.jpg: 480x640 1 cat, 30.3ms\n",
      "image 426/1503 /Users/francesco/Repository/computer_vision_project/dataset/HAM10000/yolo_dataset/test/images/ISIC_0027231.jpg: 480x640 (no detections), 30.1ms\n",
      "image 427/1503 /Users/francesco/Repository/computer_vision_project/dataset/HAM10000/yolo_dataset/test/images/ISIC_0027234.jpg: 480x640 1 cat, 26.6ms\n",
      "image 428/1503 /Users/francesco/Repository/computer_vision_project/dataset/HAM10000/yolo_dataset/test/images/ISIC_0027235.jpg: 480x640 (no detections), 27.0ms\n",
      "image 429/1503 /Users/francesco/Repository/computer_vision_project/dataset/HAM10000/yolo_dataset/test/images/ISIC_0027254.jpg: 480x640 1 bird, 26.8ms\n",
      "image 430/1503 /Users/francesco/Repository/computer_vision_project/dataset/HAM10000/yolo_dataset/test/images/ISIC_0027258.jpg: 480x640 (no detections), 32.3ms\n",
      "image 431/1503 /Users/francesco/Repository/computer_vision_project/dataset/HAM10000/yolo_dataset/test/images/ISIC_0027261.jpg: 480x640 (no detections), 26.5ms\n",
      "image 432/1503 /Users/francesco/Repository/computer_vision_project/dataset/HAM10000/yolo_dataset/test/images/ISIC_0027265.jpg: 480x640 (no detections), 26.0ms\n",
      "image 433/1503 /Users/francesco/Repository/computer_vision_project/dataset/HAM10000/yolo_dataset/test/images/ISIC_0027276.jpg: 480x640 (no detections), 33.6ms\n",
      "image 434/1503 /Users/francesco/Repository/computer_vision_project/dataset/HAM10000/yolo_dataset/test/images/ISIC_0027278.jpg: 480x640 1 umbrella, 27.7ms\n",
      "image 435/1503 /Users/francesco/Repository/computer_vision_project/dataset/HAM10000/yolo_dataset/test/images/ISIC_0027283.jpg: 480x640 1 cat, 27.5ms\n",
      "image 436/1503 /Users/francesco/Repository/computer_vision_project/dataset/HAM10000/yolo_dataset/test/images/ISIC_0027295.jpg: 480x640 (no detections), 27.4ms\n",
      "image 437/1503 /Users/francesco/Repository/computer_vision_project/dataset/HAM10000/yolo_dataset/test/images/ISIC_0027307.jpg: 480x640 (no detections), 29.5ms\n",
      "image 438/1503 /Users/francesco/Repository/computer_vision_project/dataset/HAM10000/yolo_dataset/test/images/ISIC_0027309.jpg: 480x640 (no detections), 26.6ms\n",
      "image 439/1503 /Users/francesco/Repository/computer_vision_project/dataset/HAM10000/yolo_dataset/test/images/ISIC_0027310.jpg: 480x640 (no detections), 29.9ms\n",
      "image 440/1503 /Users/francesco/Repository/computer_vision_project/dataset/HAM10000/yolo_dataset/test/images/ISIC_0027323.jpg: 480x640 1 cat, 26.8ms\n",
      "image 441/1503 /Users/francesco/Repository/computer_vision_project/dataset/HAM10000/yolo_dataset/test/images/ISIC_0027330.jpg: 480x640 (no detections), 26.9ms\n",
      "image 442/1503 /Users/francesco/Repository/computer_vision_project/dataset/HAM10000/yolo_dataset/test/images/ISIC_0027333.jpg: 480x640 1 donut, 52.5ms\n",
      "image 443/1503 /Users/francesco/Repository/computer_vision_project/dataset/HAM10000/yolo_dataset/test/images/ISIC_0027339.jpg: 480x640 (no detections), 28.8ms\n",
      "image 444/1503 /Users/francesco/Repository/computer_vision_project/dataset/HAM10000/yolo_dataset/test/images/ISIC_0027348.jpg: 480x640 (no detections), 27.2ms\n",
      "image 445/1503 /Users/francesco/Repository/computer_vision_project/dataset/HAM10000/yolo_dataset/test/images/ISIC_0027351.jpg: 480x640 1 cat, 27.9ms\n",
      "image 446/1503 /Users/francesco/Repository/computer_vision_project/dataset/HAM10000/yolo_dataset/test/images/ISIC_0027358.jpg: 480x640 (no detections), 28.1ms\n",
      "image 447/1503 /Users/francesco/Repository/computer_vision_project/dataset/HAM10000/yolo_dataset/test/images/ISIC_0027391.jpg: 480x640 1 cat, 27.3ms\n",
      "image 448/1503 /Users/francesco/Repository/computer_vision_project/dataset/HAM10000/yolo_dataset/test/images/ISIC_0027395.jpg: 480x640 1 cat, 25.8ms\n",
      "image 449/1503 /Users/francesco/Repository/computer_vision_project/dataset/HAM10000/yolo_dataset/test/images/ISIC_0027407.jpg: 480x640 (no detections), 38.0ms\n",
      "image 450/1503 /Users/francesco/Repository/computer_vision_project/dataset/HAM10000/yolo_dataset/test/images/ISIC_0027418.jpg: 480x640 1 cat, 33.5ms\n",
      "image 451/1503 /Users/francesco/Repository/computer_vision_project/dataset/HAM10000/yolo_dataset/test/images/ISIC_0027424.jpg: 480x640 1 cat, 35.9ms\n",
      "image 452/1503 /Users/francesco/Repository/computer_vision_project/dataset/HAM10000/yolo_dataset/test/images/ISIC_0027426.jpg: 480x640 (no detections), 29.7ms\n",
      "image 453/1503 /Users/francesco/Repository/computer_vision_project/dataset/HAM10000/yolo_dataset/test/images/ISIC_0027431.jpg: 480x640 (no detections), 35.2ms\n",
      "image 454/1503 /Users/francesco/Repository/computer_vision_project/dataset/HAM10000/yolo_dataset/test/images/ISIC_0027440.jpg: 480x640 1 cat, 44.6ms\n",
      "image 455/1503 /Users/francesco/Repository/computer_vision_project/dataset/HAM10000/yolo_dataset/test/images/ISIC_0027441.jpg: 480x640 (no detections), 30.3ms\n",
      "image 456/1503 /Users/francesco/Repository/computer_vision_project/dataset/HAM10000/yolo_dataset/test/images/ISIC_0027459.jpg: 480x640 1 cat, 79.9ms\n",
      "image 457/1503 /Users/francesco/Repository/computer_vision_project/dataset/HAM10000/yolo_dataset/test/images/ISIC_0027461.jpg: 480x640 1 cat, 32.4ms\n",
      "image 458/1503 /Users/francesco/Repository/computer_vision_project/dataset/HAM10000/yolo_dataset/test/images/ISIC_0027466.jpg: 480x640 (no detections), 26.5ms\n",
      "image 459/1503 /Users/francesco/Repository/computer_vision_project/dataset/HAM10000/yolo_dataset/test/images/ISIC_0027485.jpg: 480x640 (no detections), 31.2ms\n",
      "image 460/1503 /Users/francesco/Repository/computer_vision_project/dataset/HAM10000/yolo_dataset/test/images/ISIC_0027488.jpg: 480x640 (no detections), 26.8ms\n",
      "image 461/1503 /Users/francesco/Repository/computer_vision_project/dataset/HAM10000/yolo_dataset/test/images/ISIC_0027497.jpg: 480x640 (no detections), 27.1ms\n",
      "image 462/1503 /Users/francesco/Repository/computer_vision_project/dataset/HAM10000/yolo_dataset/test/images/ISIC_0027507.jpg: 480x640 (no detections), 28.5ms\n",
      "image 463/1503 /Users/francesco/Repository/computer_vision_project/dataset/HAM10000/yolo_dataset/test/images/ISIC_0027508.jpg: 480x640 (no detections), 26.7ms\n",
      "image 464/1503 /Users/francesco/Repository/computer_vision_project/dataset/HAM10000/yolo_dataset/test/images/ISIC_0027538.jpg: 480x640 1 bird, 25.7ms\n",
      "image 465/1503 /Users/francesco/Repository/computer_vision_project/dataset/HAM10000/yolo_dataset/test/images/ISIC_0027539.jpg: 480x640 1 cat, 29.4ms\n",
      "image 466/1503 /Users/francesco/Repository/computer_vision_project/dataset/HAM10000/yolo_dataset/test/images/ISIC_0027555.jpg: 480x640 1 cat, 27.4ms\n",
      "image 467/1503 /Users/francesco/Repository/computer_vision_project/dataset/HAM10000/yolo_dataset/test/images/ISIC_0027556.jpg: 480x640 (no detections), 27.5ms\n",
      "image 468/1503 /Users/francesco/Repository/computer_vision_project/dataset/HAM10000/yolo_dataset/test/images/ISIC_0027567.jpg: 480x640 1 cup, 25.2ms\n",
      "image 469/1503 /Users/francesco/Repository/computer_vision_project/dataset/HAM10000/yolo_dataset/test/images/ISIC_0027604.jpg: 480x640 (no detections), 25.5ms\n",
      "image 470/1503 /Users/francesco/Repository/computer_vision_project/dataset/HAM10000/yolo_dataset/test/images/ISIC_0027609.jpg: 480x640 1 umbrella, 29.3ms\n",
      "image 471/1503 /Users/francesco/Repository/computer_vision_project/dataset/HAM10000/yolo_dataset/test/images/ISIC_0027616.jpg: 480x640 (no detections), 25.3ms\n",
      "image 472/1503 /Users/francesco/Repository/computer_vision_project/dataset/HAM10000/yolo_dataset/test/images/ISIC_0027617.jpg: 480x640 (no detections), 29.1ms\n",
      "image 473/1503 /Users/francesco/Repository/computer_vision_project/dataset/HAM10000/yolo_dataset/test/images/ISIC_0027640.jpg: 480x640 (no detections), 39.9ms\n",
      "image 474/1503 /Users/francesco/Repository/computer_vision_project/dataset/HAM10000/yolo_dataset/test/images/ISIC_0027641.jpg: 480x640 (no detections), 31.0ms\n",
      "image 475/1503 /Users/francesco/Repository/computer_vision_project/dataset/HAM10000/yolo_dataset/test/images/ISIC_0027644.jpg: 480x640 (no detections), 34.2ms\n",
      "image 476/1503 /Users/francesco/Repository/computer_vision_project/dataset/HAM10000/yolo_dataset/test/images/ISIC_0027652.jpg: 480x640 (no detections), 29.3ms\n",
      "image 477/1503 /Users/francesco/Repository/computer_vision_project/dataset/HAM10000/yolo_dataset/test/images/ISIC_0027660.jpg: 480x640 (no detections), 27.9ms\n",
      "image 478/1503 /Users/francesco/Repository/computer_vision_project/dataset/HAM10000/yolo_dataset/test/images/ISIC_0027665.jpg: 480x640 (no detections), 29.1ms\n",
      "image 479/1503 /Users/francesco/Repository/computer_vision_project/dataset/HAM10000/yolo_dataset/test/images/ISIC_0027666.jpg: 480x640 (no detections), 29.6ms\n",
      "image 480/1503 /Users/francesco/Repository/computer_vision_project/dataset/HAM10000/yolo_dataset/test/images/ISIC_0027671.jpg: 480x640 (no detections), 25.7ms\n",
      "image 481/1503 /Users/francesco/Repository/computer_vision_project/dataset/HAM10000/yolo_dataset/test/images/ISIC_0027679.jpg: 480x640 (no detections), 30.7ms\n",
      "image 482/1503 /Users/francesco/Repository/computer_vision_project/dataset/HAM10000/yolo_dataset/test/images/ISIC_0027682.jpg: 480x640 (no detections), 46.3ms\n",
      "image 483/1503 /Users/francesco/Repository/computer_vision_project/dataset/HAM10000/yolo_dataset/test/images/ISIC_0027692.jpg: 480x640 1 cat, 37.2ms\n",
      "image 484/1503 /Users/francesco/Repository/computer_vision_project/dataset/HAM10000/yolo_dataset/test/images/ISIC_0027704.jpg: 480x640 (no detections), 25.9ms\n",
      "image 485/1503 /Users/francesco/Repository/computer_vision_project/dataset/HAM10000/yolo_dataset/test/images/ISIC_0027728.jpg: 480x640 (no detections), 26.2ms\n",
      "image 486/1503 /Users/francesco/Repository/computer_vision_project/dataset/HAM10000/yolo_dataset/test/images/ISIC_0027734.jpg: 480x640 (no detections), 26.8ms\n",
      "image 487/1503 /Users/francesco/Repository/computer_vision_project/dataset/HAM10000/yolo_dataset/test/images/ISIC_0027762.jpg: 480x640 1 cat, 25.9ms\n",
      "image 488/1503 /Users/francesco/Repository/computer_vision_project/dataset/HAM10000/yolo_dataset/test/images/ISIC_0027765.jpg: 480x640 1 cat, 25.4ms\n",
      "image 489/1503 /Users/francesco/Repository/computer_vision_project/dataset/HAM10000/yolo_dataset/test/images/ISIC_0027775.jpg: 480x640 1 umbrella, 25.3ms\n",
      "image 490/1503 /Users/francesco/Repository/computer_vision_project/dataset/HAM10000/yolo_dataset/test/images/ISIC_0027778.jpg: 480x640 (no detections), 39.8ms\n",
      "image 491/1503 /Users/francesco/Repository/computer_vision_project/dataset/HAM10000/yolo_dataset/test/images/ISIC_0027780.jpg: 480x640 1 cat, 52.6ms\n",
      "image 492/1503 /Users/francesco/Repository/computer_vision_project/dataset/HAM10000/yolo_dataset/test/images/ISIC_0027781.jpg: 480x640 (no detections), 85.8ms\n",
      "image 493/1503 /Users/francesco/Repository/computer_vision_project/dataset/HAM10000/yolo_dataset/test/images/ISIC_0027789.jpg: 480x640 (no detections), 27.5ms\n",
      "image 494/1503 /Users/francesco/Repository/computer_vision_project/dataset/HAM10000/yolo_dataset/test/images/ISIC_0027806.jpg: 480x640 (no detections), 28.3ms\n",
      "image 495/1503 /Users/francesco/Repository/computer_vision_project/dataset/HAM10000/yolo_dataset/test/images/ISIC_0027811.jpg: 480x640 1 apple, 29.1ms\n",
      "image 496/1503 /Users/francesco/Repository/computer_vision_project/dataset/HAM10000/yolo_dataset/test/images/ISIC_0027813.jpg: 480x640 (no detections), 32.5ms\n",
      "image 497/1503 /Users/francesco/Repository/computer_vision_project/dataset/HAM10000/yolo_dataset/test/images/ISIC_0027821.jpg: 480x640 1 dog, 25.7ms\n",
      "image 498/1503 /Users/francesco/Repository/computer_vision_project/dataset/HAM10000/yolo_dataset/test/images/ISIC_0027825.jpg: 480x640 (no detections), 26.8ms\n",
      "image 499/1503 /Users/francesco/Repository/computer_vision_project/dataset/HAM10000/yolo_dataset/test/images/ISIC_0027827.jpg: 480x640 (no detections), 26.7ms\n",
      "image 500/1503 /Users/francesco/Repository/computer_vision_project/dataset/HAM10000/yolo_dataset/test/images/ISIC_0027838.jpg: 480x640 (no detections), 25.9ms\n",
      "image 501/1503 /Users/francesco/Repository/computer_vision_project/dataset/HAM10000/yolo_dataset/test/images/ISIC_0027841.jpg: 480x640 (no detections), 26.4ms\n",
      "image 502/1503 /Users/francesco/Repository/computer_vision_project/dataset/HAM10000/yolo_dataset/test/images/ISIC_0027844.jpg: 480x640 1 umbrella, 27.2ms\n",
      "image 503/1503 /Users/francesco/Repository/computer_vision_project/dataset/HAM10000/yolo_dataset/test/images/ISIC_0027847.jpg: 480x640 (no detections), 55.7ms\n",
      "image 504/1503 /Users/francesco/Repository/computer_vision_project/dataset/HAM10000/yolo_dataset/test/images/ISIC_0027855.jpg: 480x640 (no detections), 33.8ms\n",
      "image 505/1503 /Users/francesco/Repository/computer_vision_project/dataset/HAM10000/yolo_dataset/test/images/ISIC_0027865.jpg: 480x640 (no detections), 29.0ms\n",
      "image 506/1503 /Users/francesco/Repository/computer_vision_project/dataset/HAM10000/yolo_dataset/test/images/ISIC_0027867.jpg: 480x640 1 donut, 30.0ms\n",
      "image 507/1503 /Users/francesco/Repository/computer_vision_project/dataset/HAM10000/yolo_dataset/test/images/ISIC_0027880.jpg: 480x640 1 cat, 27.4ms\n",
      "image 508/1503 /Users/francesco/Repository/computer_vision_project/dataset/HAM10000/yolo_dataset/test/images/ISIC_0027883.jpg: 480x640 (no detections), 25.9ms\n",
      "image 509/1503 /Users/francesco/Repository/computer_vision_project/dataset/HAM10000/yolo_dataset/test/images/ISIC_0027887.jpg: 480x640 1 cat, 32.0ms\n",
      "image 510/1503 /Users/francesco/Repository/computer_vision_project/dataset/HAM10000/yolo_dataset/test/images/ISIC_0027888.jpg: 480x640 1 sports ball, 26.8ms\n",
      "image 511/1503 /Users/francesco/Repository/computer_vision_project/dataset/HAM10000/yolo_dataset/test/images/ISIC_0027889.jpg: 480x640 (no detections), 28.7ms\n",
      "image 512/1503 /Users/francesco/Repository/computer_vision_project/dataset/HAM10000/yolo_dataset/test/images/ISIC_0027890.jpg: 480x640 (no detections), 26.2ms\n",
      "image 513/1503 /Users/francesco/Repository/computer_vision_project/dataset/HAM10000/yolo_dataset/test/images/ISIC_0027898.jpg: 480x640 (no detections), 26.9ms\n",
      "image 514/1503 /Users/francesco/Repository/computer_vision_project/dataset/HAM10000/yolo_dataset/test/images/ISIC_0027922.jpg: 480x640 (no detections), 26.1ms\n",
      "image 515/1503 /Users/francesco/Repository/computer_vision_project/dataset/HAM10000/yolo_dataset/test/images/ISIC_0027937.jpg: 480x640 1 cat, 28.0ms\n",
      "image 516/1503 /Users/francesco/Repository/computer_vision_project/dataset/HAM10000/yolo_dataset/test/images/ISIC_0027938.jpg: 480x640 1 cat, 36.8ms\n",
      "image 517/1503 /Users/francesco/Repository/computer_vision_project/dataset/HAM10000/yolo_dataset/test/images/ISIC_0027942.jpg: 480x640 1 cat, 30.3ms\n",
      "image 518/1503 /Users/francesco/Repository/computer_vision_project/dataset/HAM10000/yolo_dataset/test/images/ISIC_0027948.jpg: 480x640 (no detections), 26.4ms\n",
      "image 519/1503 /Users/francesco/Repository/computer_vision_project/dataset/HAM10000/yolo_dataset/test/images/ISIC_0027967.jpg: 480x640 (no detections), 27.2ms\n",
      "image 520/1503 /Users/francesco/Repository/computer_vision_project/dataset/HAM10000/yolo_dataset/test/images/ISIC_0027968.jpg: 480x640 (no detections), 32.4ms\n",
      "image 521/1503 /Users/francesco/Repository/computer_vision_project/dataset/HAM10000/yolo_dataset/test/images/ISIC_0027983.jpg: 480x640 (no detections), 27.9ms\n",
      "image 522/1503 /Users/francesco/Repository/computer_vision_project/dataset/HAM10000/yolo_dataset/test/images/ISIC_0027990.jpg: 480x640 (no detections), 27.2ms\n",
      "image 523/1503 /Users/francesco/Repository/computer_vision_project/dataset/HAM10000/yolo_dataset/test/images/ISIC_0027991.jpg: 480x640 (no detections), 39.9ms\n",
      "image 524/1503 /Users/francesco/Repository/computer_vision_project/dataset/HAM10000/yolo_dataset/test/images/ISIC_0027997.jpg: 480x640 (no detections), 27.6ms\n",
      "image 525/1503 /Users/francesco/Repository/computer_vision_project/dataset/HAM10000/yolo_dataset/test/images/ISIC_0028001.jpg: 480x640 1 cat, 25.8ms\n",
      "image 526/1503 /Users/francesco/Repository/computer_vision_project/dataset/HAM10000/yolo_dataset/test/images/ISIC_0028007.jpg: 480x640 (no detections), 28.2ms\n",
      "image 527/1503 /Users/francesco/Repository/computer_vision_project/dataset/HAM10000/yolo_dataset/test/images/ISIC_0028019.jpg: 480x640 1 umbrella, 32.4ms\n",
      "image 528/1503 /Users/francesco/Repository/computer_vision_project/dataset/HAM10000/yolo_dataset/test/images/ISIC_0028020.jpg: 480x640 (no detections), 30.4ms\n",
      "image 529/1503 /Users/francesco/Repository/computer_vision_project/dataset/HAM10000/yolo_dataset/test/images/ISIC_0028025.jpg: 480x640 (no detections), 31.5ms\n",
      "image 530/1503 /Users/francesco/Repository/computer_vision_project/dataset/HAM10000/yolo_dataset/test/images/ISIC_0028032.jpg: 480x640 (no detections), 39.5ms\n",
      "image 531/1503 /Users/francesco/Repository/computer_vision_project/dataset/HAM10000/yolo_dataset/test/images/ISIC_0028034.jpg: 480x640 (no detections), 56.0ms\n",
      "image 532/1503 /Users/francesco/Repository/computer_vision_project/dataset/HAM10000/yolo_dataset/test/images/ISIC_0028039.jpg: 480x640 (no detections), 28.1ms\n",
      "image 533/1503 /Users/francesco/Repository/computer_vision_project/dataset/HAM10000/yolo_dataset/test/images/ISIC_0028049.jpg: 480x640 1 cat, 27.2ms\n",
      "image 534/1503 /Users/francesco/Repository/computer_vision_project/dataset/HAM10000/yolo_dataset/test/images/ISIC_0028052.jpg: 480x640 (no detections), 25.9ms\n",
      "image 535/1503 /Users/francesco/Repository/computer_vision_project/dataset/HAM10000/yolo_dataset/test/images/ISIC_0028064.jpg: 480x640 (no detections), 26.3ms\n",
      "image 536/1503 /Users/francesco/Repository/computer_vision_project/dataset/HAM10000/yolo_dataset/test/images/ISIC_0028066.jpg: 480x640 1 cat, 25.1ms\n",
      "image 537/1503 /Users/francesco/Repository/computer_vision_project/dataset/HAM10000/yolo_dataset/test/images/ISIC_0028068.jpg: 480x640 (no detections), 63.0ms\n",
      "image 538/1503 /Users/francesco/Repository/computer_vision_project/dataset/HAM10000/yolo_dataset/test/images/ISIC_0028070.jpg: 480x640 (no detections), 50.8ms\n",
      "image 539/1503 /Users/francesco/Repository/computer_vision_project/dataset/HAM10000/yolo_dataset/test/images/ISIC_0028071.jpg: 480x640 (no detections), 27.0ms\n",
      "image 540/1503 /Users/francesco/Repository/computer_vision_project/dataset/HAM10000/yolo_dataset/test/images/ISIC_0028078.jpg: 480x640 1 cat, 26.3ms\n",
      "image 541/1503 /Users/francesco/Repository/computer_vision_project/dataset/HAM10000/yolo_dataset/test/images/ISIC_0028090.jpg: 480x640 (no detections), 29.8ms\n",
      "image 542/1503 /Users/francesco/Repository/computer_vision_project/dataset/HAM10000/yolo_dataset/test/images/ISIC_0028097.jpg: 480x640 1 umbrella, 25.5ms\n",
      "image 543/1503 /Users/francesco/Repository/computer_vision_project/dataset/HAM10000/yolo_dataset/test/images/ISIC_0028107.jpg: 480x640 (no detections), 25.6ms\n",
      "image 544/1503 /Users/francesco/Repository/computer_vision_project/dataset/HAM10000/yolo_dataset/test/images/ISIC_0028110.jpg: 480x640 1 cat, 36.9ms\n",
      "image 545/1503 /Users/francesco/Repository/computer_vision_project/dataset/HAM10000/yolo_dataset/test/images/ISIC_0028111.jpg: 480x640 (no detections), 25.1ms\n",
      "image 546/1503 /Users/francesco/Repository/computer_vision_project/dataset/HAM10000/yolo_dataset/test/images/ISIC_0028119.jpg: 480x640 (no detections), 25.2ms\n",
      "image 547/1503 /Users/francesco/Repository/computer_vision_project/dataset/HAM10000/yolo_dataset/test/images/ISIC_0028125.jpg: 480x640 (no detections), 27.0ms\n",
      "image 548/1503 /Users/francesco/Repository/computer_vision_project/dataset/HAM10000/yolo_dataset/test/images/ISIC_0028131.jpg: 480x640 (no detections), 25.3ms\n",
      "image 549/1503 /Users/francesco/Repository/computer_vision_project/dataset/HAM10000/yolo_dataset/test/images/ISIC_0028140.jpg: 480x640 1 cat, 25.8ms\n",
      "image 550/1503 /Users/francesco/Repository/computer_vision_project/dataset/HAM10000/yolo_dataset/test/images/ISIC_0028150.jpg: 480x640 (no detections), 31.5ms\n",
      "image 551/1503 /Users/francesco/Repository/computer_vision_project/dataset/HAM10000/yolo_dataset/test/images/ISIC_0028166.jpg: 480x640 (no detections), 25.4ms\n",
      "image 552/1503 /Users/francesco/Repository/computer_vision_project/dataset/HAM10000/yolo_dataset/test/images/ISIC_0028168.jpg: 480x640 (no detections), 27.5ms\n",
      "image 553/1503 /Users/francesco/Repository/computer_vision_project/dataset/HAM10000/yolo_dataset/test/images/ISIC_0028173.jpg: 480x640 (no detections), 29.4ms\n",
      "image 554/1503 /Users/francesco/Repository/computer_vision_project/dataset/HAM10000/yolo_dataset/test/images/ISIC_0028175.jpg: 480x640 (no detections), 31.9ms\n",
      "image 555/1503 /Users/francesco/Repository/computer_vision_project/dataset/HAM10000/yolo_dataset/test/images/ISIC_0028186.jpg: 480x640 (no detections), 28.7ms\n",
      "image 556/1503 /Users/francesco/Repository/computer_vision_project/dataset/HAM10000/yolo_dataset/test/images/ISIC_0028192.jpg: 480x640 (no detections), 25.8ms\n",
      "image 557/1503 /Users/francesco/Repository/computer_vision_project/dataset/HAM10000/yolo_dataset/test/images/ISIC_0028195.jpg: 480x640 (no detections), 28.4ms\n",
      "image 558/1503 /Users/francesco/Repository/computer_vision_project/dataset/HAM10000/yolo_dataset/test/images/ISIC_0028203.jpg: 480x640 (no detections), 25.3ms\n",
      "image 559/1503 /Users/francesco/Repository/computer_vision_project/dataset/HAM10000/yolo_dataset/test/images/ISIC_0028206.jpg: 480x640 1 cat, 30.4ms\n",
      "image 560/1503 /Users/francesco/Repository/computer_vision_project/dataset/HAM10000/yolo_dataset/test/images/ISIC_0028210.jpg: 480x640 (no detections), 31.8ms\n",
      "image 561/1503 /Users/francesco/Repository/computer_vision_project/dataset/HAM10000/yolo_dataset/test/images/ISIC_0028214.jpg: 480x640 (no detections), 28.9ms\n",
      "image 562/1503 /Users/francesco/Repository/computer_vision_project/dataset/HAM10000/yolo_dataset/test/images/ISIC_0028216.jpg: 480x640 (no detections), 28.7ms\n",
      "image 563/1503 /Users/francesco/Repository/computer_vision_project/dataset/HAM10000/yolo_dataset/test/images/ISIC_0028217.jpg: 480x640 (no detections), 26.5ms\n",
      "image 564/1503 /Users/francesco/Repository/computer_vision_project/dataset/HAM10000/yolo_dataset/test/images/ISIC_0028218.jpg: 480x640 (no detections), 26.7ms\n",
      "image 565/1503 /Users/francesco/Repository/computer_vision_project/dataset/HAM10000/yolo_dataset/test/images/ISIC_0028220.jpg: 480x640 (no detections), 25.3ms\n",
      "image 566/1503 /Users/francesco/Repository/computer_vision_project/dataset/HAM10000/yolo_dataset/test/images/ISIC_0028239.jpg: 480x640 1 cat, 26.8ms\n",
      "image 567/1503 /Users/francesco/Repository/computer_vision_project/dataset/HAM10000/yolo_dataset/test/images/ISIC_0028241.jpg: 480x640 1 cat, 27.6ms\n",
      "image 568/1503 /Users/francesco/Repository/computer_vision_project/dataset/HAM10000/yolo_dataset/test/images/ISIC_0028244.jpg: 480x640 1 cat, 27.9ms\n",
      "image 569/1503 /Users/francesco/Repository/computer_vision_project/dataset/HAM10000/yolo_dataset/test/images/ISIC_0028246.jpg: 480x640 (no detections), 27.9ms\n",
      "image 570/1503 /Users/francesco/Repository/computer_vision_project/dataset/HAM10000/yolo_dataset/test/images/ISIC_0028256.jpg: 480x640 1 umbrella, 27.9ms\n",
      "image 571/1503 /Users/francesco/Repository/computer_vision_project/dataset/HAM10000/yolo_dataset/test/images/ISIC_0028264.jpg: 480x640 (no detections), 53.0ms\n",
      "image 572/1503 /Users/francesco/Repository/computer_vision_project/dataset/HAM10000/yolo_dataset/test/images/ISIC_0028275.jpg: 480x640 1 umbrella, 29.1ms\n",
      "image 573/1503 /Users/francesco/Repository/computer_vision_project/dataset/HAM10000/yolo_dataset/test/images/ISIC_0028285.jpg: 480x640 (no detections), 25.2ms\n",
      "image 574/1503 /Users/francesco/Repository/computer_vision_project/dataset/HAM10000/yolo_dataset/test/images/ISIC_0028288.jpg: 480x640 (no detections), 25.8ms\n",
      "image 575/1503 /Users/francesco/Repository/computer_vision_project/dataset/HAM10000/yolo_dataset/test/images/ISIC_0028290.jpg: 480x640 (no detections), 31.6ms\n",
      "image 576/1503 /Users/francesco/Repository/computer_vision_project/dataset/HAM10000/yolo_dataset/test/images/ISIC_0028299.jpg: 480x640 (no detections), 27.0ms\n",
      "image 577/1503 /Users/francesco/Repository/computer_vision_project/dataset/HAM10000/yolo_dataset/test/images/ISIC_0028309.jpg: 480x640 (no detections), 27.6ms\n",
      "image 578/1503 /Users/francesco/Repository/computer_vision_project/dataset/HAM10000/yolo_dataset/test/images/ISIC_0028310.jpg: 480x640 (no detections), 29.4ms\n",
      "image 579/1503 /Users/francesco/Repository/computer_vision_project/dataset/HAM10000/yolo_dataset/test/images/ISIC_0028312.jpg: 480x640 (no detections), 27.2ms\n",
      "image 580/1503 /Users/francesco/Repository/computer_vision_project/dataset/HAM10000/yolo_dataset/test/images/ISIC_0028317.jpg: 480x640 (no detections), 26.7ms\n",
      "image 581/1503 /Users/francesco/Repository/computer_vision_project/dataset/HAM10000/yolo_dataset/test/images/ISIC_0028332.jpg: 480x640 (no detections), 27.1ms\n",
      "image 582/1503 /Users/francesco/Repository/computer_vision_project/dataset/HAM10000/yolo_dataset/test/images/ISIC_0028336.jpg: 480x640 (no detections), 37.4ms\n",
      "image 583/1503 /Users/francesco/Repository/computer_vision_project/dataset/HAM10000/yolo_dataset/test/images/ISIC_0028342.jpg: 480x640 (no detections), 82.7ms\n",
      "image 584/1503 /Users/francesco/Repository/computer_vision_project/dataset/HAM10000/yolo_dataset/test/images/ISIC_0028371.jpg: 480x640 (no detections), 41.5ms\n",
      "image 585/1503 /Users/francesco/Repository/computer_vision_project/dataset/HAM10000/yolo_dataset/test/images/ISIC_0028374.jpg: 480x640 1 person, 1 cat, 28.1ms\n",
      "image 586/1503 /Users/francesco/Repository/computer_vision_project/dataset/HAM10000/yolo_dataset/test/images/ISIC_0028382.jpg: 480x640 1 cat, 38.1ms\n",
      "image 587/1503 /Users/francesco/Repository/computer_vision_project/dataset/HAM10000/yolo_dataset/test/images/ISIC_0028383.jpg: 480x640 (no detections), 29.5ms\n",
      "image 588/1503 /Users/francesco/Repository/computer_vision_project/dataset/HAM10000/yolo_dataset/test/images/ISIC_0028389.jpg: 480x640 (no detections), 27.9ms\n",
      "image 589/1503 /Users/francesco/Repository/computer_vision_project/dataset/HAM10000/yolo_dataset/test/images/ISIC_0028401.jpg: 480x640 1 donut, 1 cake, 31.0ms\n",
      "image 590/1503 /Users/francesco/Repository/computer_vision_project/dataset/HAM10000/yolo_dataset/test/images/ISIC_0028402.jpg: 480x640 (no detections), 25.2ms\n",
      "image 591/1503 /Users/francesco/Repository/computer_vision_project/dataset/HAM10000/yolo_dataset/test/images/ISIC_0028405.jpg: 480x640 (no detections), 25.4ms\n",
      "image 592/1503 /Users/francesco/Repository/computer_vision_project/dataset/HAM10000/yolo_dataset/test/images/ISIC_0028406.jpg: 480x640 (no detections), 26.7ms\n",
      "image 593/1503 /Users/francesco/Repository/computer_vision_project/dataset/HAM10000/yolo_dataset/test/images/ISIC_0028415.jpg: 480x640 1 donut, 25.6ms\n",
      "image 594/1503 /Users/francesco/Repository/computer_vision_project/dataset/HAM10000/yolo_dataset/test/images/ISIC_0028419.jpg: 480x640 (no detections), 28.5ms\n",
      "image 595/1503 /Users/francesco/Repository/computer_vision_project/dataset/HAM10000/yolo_dataset/test/images/ISIC_0028427.jpg: 480x640 1 umbrella, 28.6ms\n",
      "image 596/1503 /Users/francesco/Repository/computer_vision_project/dataset/HAM10000/yolo_dataset/test/images/ISIC_0028429.jpg: 480x640 (no detections), 29.5ms\n",
      "image 597/1503 /Users/francesco/Repository/computer_vision_project/dataset/HAM10000/yolo_dataset/test/images/ISIC_0028430.jpg: 480x640 1 teddy bear, 30.0ms\n",
      "image 598/1503 /Users/francesco/Repository/computer_vision_project/dataset/HAM10000/yolo_dataset/test/images/ISIC_0028437.jpg: 480x640 (no detections), 27.6ms\n",
      "image 599/1503 /Users/francesco/Repository/computer_vision_project/dataset/HAM10000/yolo_dataset/test/images/ISIC_0028441.jpg: 480x640 (no detections), 27.7ms\n",
      "image 600/1503 /Users/francesco/Repository/computer_vision_project/dataset/HAM10000/yolo_dataset/test/images/ISIC_0028447.jpg: 480x640 1 dog, 72.1ms\n",
      "image 601/1503 /Users/francesco/Repository/computer_vision_project/dataset/HAM10000/yolo_dataset/test/images/ISIC_0028450.jpg: 480x640 (no detections), 40.8ms\n",
      "image 602/1503 /Users/francesco/Repository/computer_vision_project/dataset/HAM10000/yolo_dataset/test/images/ISIC_0028455.jpg: 480x640 1 cat, 27.1ms\n",
      "image 603/1503 /Users/francesco/Repository/computer_vision_project/dataset/HAM10000/yolo_dataset/test/images/ISIC_0028468.jpg: 480x640 1 cat, 33.5ms\n",
      "image 604/1503 /Users/francesco/Repository/computer_vision_project/dataset/HAM10000/yolo_dataset/test/images/ISIC_0028470.jpg: 480x640 (no detections), 56.8ms\n",
      "image 605/1503 /Users/francesco/Repository/computer_vision_project/dataset/HAM10000/yolo_dataset/test/images/ISIC_0028473.jpg: 480x640 (no detections), 38.3ms\n",
      "image 606/1503 /Users/francesco/Repository/computer_vision_project/dataset/HAM10000/yolo_dataset/test/images/ISIC_0028476.jpg: 480x640 (no detections), 25.5ms\n",
      "image 607/1503 /Users/francesco/Repository/computer_vision_project/dataset/HAM10000/yolo_dataset/test/images/ISIC_0028483.jpg: 480x640 (no detections), 27.0ms\n",
      "image 608/1503 /Users/francesco/Repository/computer_vision_project/dataset/HAM10000/yolo_dataset/test/images/ISIC_0028484.jpg: 480x640 1 cake, 31.4ms\n",
      "image 609/1503 /Users/francesco/Repository/computer_vision_project/dataset/HAM10000/yolo_dataset/test/images/ISIC_0028488.jpg: 480x640 (no detections), 25.9ms\n",
      "image 610/1503 /Users/francesco/Repository/computer_vision_project/dataset/HAM10000/yolo_dataset/test/images/ISIC_0028507.jpg: 480x640 (no detections), 25.1ms\n",
      "image 611/1503 /Users/francesco/Repository/computer_vision_project/dataset/HAM10000/yolo_dataset/test/images/ISIC_0028515.jpg: 480x640 (no detections), 29.0ms\n",
      "image 612/1503 /Users/francesco/Repository/computer_vision_project/dataset/HAM10000/yolo_dataset/test/images/ISIC_0028518.jpg: 480x640 (no detections), 28.1ms\n",
      "image 613/1503 /Users/francesco/Repository/computer_vision_project/dataset/HAM10000/yolo_dataset/test/images/ISIC_0028531.jpg: 480x640 (no detections), 26.4ms\n",
      "image 614/1503 /Users/francesco/Repository/computer_vision_project/dataset/HAM10000/yolo_dataset/test/images/ISIC_0028538.jpg: 480x640 1 cake, 27.0ms\n",
      "image 615/1503 /Users/francesco/Repository/computer_vision_project/dataset/HAM10000/yolo_dataset/test/images/ISIC_0028545.jpg: 480x640 (no detections), 26.8ms\n",
      "image 616/1503 /Users/francesco/Repository/computer_vision_project/dataset/HAM10000/yolo_dataset/test/images/ISIC_0028546.jpg: 480x640 (no detections), 26.2ms\n",
      "image 617/1503 /Users/francesco/Repository/computer_vision_project/dataset/HAM10000/yolo_dataset/test/images/ISIC_0028558.jpg: 480x640 (no detections), 26.6ms\n",
      "image 618/1503 /Users/francesco/Repository/computer_vision_project/dataset/HAM10000/yolo_dataset/test/images/ISIC_0028563.jpg: 480x640 1 umbrella, 33.4ms\n",
      "image 619/1503 /Users/francesco/Repository/computer_vision_project/dataset/HAM10000/yolo_dataset/test/images/ISIC_0028567.jpg: 480x640 (no detections), 26.8ms\n",
      "image 620/1503 /Users/francesco/Repository/computer_vision_project/dataset/HAM10000/yolo_dataset/test/images/ISIC_0028568.jpg: 480x640 (no detections), 28.3ms\n",
      "image 621/1503 /Users/francesco/Repository/computer_vision_project/dataset/HAM10000/yolo_dataset/test/images/ISIC_0028572.jpg: 480x640 (no detections), 25.9ms\n",
      "image 622/1503 /Users/francesco/Repository/computer_vision_project/dataset/HAM10000/yolo_dataset/test/images/ISIC_0028575.jpg: 480x640 1 cat, 27.2ms\n",
      "image 623/1503 /Users/francesco/Repository/computer_vision_project/dataset/HAM10000/yolo_dataset/test/images/ISIC_0028589.jpg: 480x640 1 cat, 26.3ms\n",
      "image 624/1503 /Users/francesco/Repository/computer_vision_project/dataset/HAM10000/yolo_dataset/test/images/ISIC_0028593.jpg: 480x640 (no detections), 28.3ms\n",
      "image 625/1503 /Users/francesco/Repository/computer_vision_project/dataset/HAM10000/yolo_dataset/test/images/ISIC_0028595.jpg: 480x640 (no detections), 27.2ms\n",
      "image 626/1503 /Users/francesco/Repository/computer_vision_project/dataset/HAM10000/yolo_dataset/test/images/ISIC_0028596.jpg: 480x640 (no detections), 25.2ms\n",
      "image 627/1503 /Users/francesco/Repository/computer_vision_project/dataset/HAM10000/yolo_dataset/test/images/ISIC_0028597.jpg: 480x640 (no detections), 27.5ms\n",
      "image 628/1503 /Users/francesco/Repository/computer_vision_project/dataset/HAM10000/yolo_dataset/test/images/ISIC_0028605.jpg: 480x640 (no detections), 27.1ms\n",
      "image 629/1503 /Users/francesco/Repository/computer_vision_project/dataset/HAM10000/yolo_dataset/test/images/ISIC_0028607.jpg: 480x640 1 apple, 25.8ms\n",
      "image 630/1503 /Users/francesco/Repository/computer_vision_project/dataset/HAM10000/yolo_dataset/test/images/ISIC_0028610.jpg: 480x640 1 cat, 25.4ms\n",
      "image 631/1503 /Users/francesco/Repository/computer_vision_project/dataset/HAM10000/yolo_dataset/test/images/ISIC_0028613.jpg: 480x640 1 umbrella, 25.5ms\n",
      "image 632/1503 /Users/francesco/Repository/computer_vision_project/dataset/HAM10000/yolo_dataset/test/images/ISIC_0028619.jpg: 480x640 1 apple, 1 orange, 34.1ms\n",
      "image 633/1503 /Users/francesco/Repository/computer_vision_project/dataset/HAM10000/yolo_dataset/test/images/ISIC_0028622.jpg: 480x640 (no detections), 30.9ms\n",
      "image 634/1503 /Users/francesco/Repository/computer_vision_project/dataset/HAM10000/yolo_dataset/test/images/ISIC_0028627.jpg: 480x640 (no detections), 54.8ms\n",
      "image 635/1503 /Users/francesco/Repository/computer_vision_project/dataset/HAM10000/yolo_dataset/test/images/ISIC_0028631.jpg: 480x640 (no detections), 28.1ms\n",
      "image 636/1503 /Users/francesco/Repository/computer_vision_project/dataset/HAM10000/yolo_dataset/test/images/ISIC_0028632.jpg: 480x640 (no detections), 25.8ms\n",
      "image 637/1503 /Users/francesco/Repository/computer_vision_project/dataset/HAM10000/yolo_dataset/test/images/ISIC_0028643.jpg: 480x640 (no detections), 25.2ms\n",
      "image 638/1503 /Users/francesco/Repository/computer_vision_project/dataset/HAM10000/yolo_dataset/test/images/ISIC_0028653.jpg: 480x640 (no detections), 27.7ms\n",
      "image 639/1503 /Users/francesco/Repository/computer_vision_project/dataset/HAM10000/yolo_dataset/test/images/ISIC_0028656.jpg: 480x640 (no detections), 28.3ms\n",
      "image 640/1503 /Users/francesco/Repository/computer_vision_project/dataset/HAM10000/yolo_dataset/test/images/ISIC_0028658.jpg: 480x640 1 cat, 27.5ms\n",
      "image 641/1503 /Users/francesco/Repository/computer_vision_project/dataset/HAM10000/yolo_dataset/test/images/ISIC_0028660.jpg: 480x640 (no detections), 27.7ms\n",
      "image 642/1503 /Users/francesco/Repository/computer_vision_project/dataset/HAM10000/yolo_dataset/test/images/ISIC_0028664.jpg: 480x640 (no detections), 27.4ms\n",
      "image 643/1503 /Users/francesco/Repository/computer_vision_project/dataset/HAM10000/yolo_dataset/test/images/ISIC_0028665.jpg: 480x640 (no detections), 26.7ms\n",
      "image 644/1503 /Users/francesco/Repository/computer_vision_project/dataset/HAM10000/yolo_dataset/test/images/ISIC_0028672.jpg: 480x640 1 cat, 27.6ms\n",
      "image 645/1503 /Users/francesco/Repository/computer_vision_project/dataset/HAM10000/yolo_dataset/test/images/ISIC_0028690.jpg: 480x640 (no detections), 25.9ms\n",
      "image 646/1503 /Users/francesco/Repository/computer_vision_project/dataset/HAM10000/yolo_dataset/test/images/ISIC_0028693.jpg: 480x640 (no detections), 26.3ms\n",
      "image 647/1503 /Users/francesco/Repository/computer_vision_project/dataset/HAM10000/yolo_dataset/test/images/ISIC_0028696.jpg: 480x640 1 cat, 37.0ms\n",
      "image 648/1503 /Users/francesco/Repository/computer_vision_project/dataset/HAM10000/yolo_dataset/test/images/ISIC_0028713.jpg: 480x640 1 orange, 110.5ms\n",
      "image 649/1503 /Users/francesco/Repository/computer_vision_project/dataset/HAM10000/yolo_dataset/test/images/ISIC_0028717.jpg: 480x640 (no detections), 34.3ms\n",
      "image 650/1503 /Users/francesco/Repository/computer_vision_project/dataset/HAM10000/yolo_dataset/test/images/ISIC_0028720.jpg: 480x640 1 bowl, 1 apple, 28.6ms\n",
      "image 651/1503 /Users/francesco/Repository/computer_vision_project/dataset/HAM10000/yolo_dataset/test/images/ISIC_0028755.jpg: 480x640 1 cat, 41.2ms\n",
      "image 652/1503 /Users/francesco/Repository/computer_vision_project/dataset/HAM10000/yolo_dataset/test/images/ISIC_0028757.jpg: 480x640 (no detections), 75.5ms\n",
      "image 653/1503 /Users/francesco/Repository/computer_vision_project/dataset/HAM10000/yolo_dataset/test/images/ISIC_0028785.jpg: 480x640 1 cat, 41.5ms\n",
      "image 654/1503 /Users/francesco/Repository/computer_vision_project/dataset/HAM10000/yolo_dataset/test/images/ISIC_0028788.jpg: 480x640 (no detections), 28.5ms\n",
      "image 655/1503 /Users/francesco/Repository/computer_vision_project/dataset/HAM10000/yolo_dataset/test/images/ISIC_0028794.jpg: 480x640 1 cat, 29.7ms\n",
      "image 656/1503 /Users/francesco/Repository/computer_vision_project/dataset/HAM10000/yolo_dataset/test/images/ISIC_0028799.jpg: 480x640 (no detections), 25.8ms\n",
      "image 657/1503 /Users/francesco/Repository/computer_vision_project/dataset/HAM10000/yolo_dataset/test/images/ISIC_0028805.jpg: 480x640 (no detections), 27.3ms\n",
      "image 658/1503 /Users/francesco/Repository/computer_vision_project/dataset/HAM10000/yolo_dataset/test/images/ISIC_0028811.jpg: 480x640 (no detections), 27.9ms\n",
      "image 659/1503 /Users/francesco/Repository/computer_vision_project/dataset/HAM10000/yolo_dataset/test/images/ISIC_0028814.jpg: 480x640 (no detections), 25.2ms\n",
      "image 660/1503 /Users/francesco/Repository/computer_vision_project/dataset/HAM10000/yolo_dataset/test/images/ISIC_0028815.jpg: 480x640 (no detections), 28.5ms\n",
      "image 661/1503 /Users/francesco/Repository/computer_vision_project/dataset/HAM10000/yolo_dataset/test/images/ISIC_0028816.jpg: 480x640 (no detections), 32.8ms\n",
      "image 662/1503 /Users/francesco/Repository/computer_vision_project/dataset/HAM10000/yolo_dataset/test/images/ISIC_0028818.jpg: 480x640 (no detections), 30.2ms\n",
      "image 663/1503 /Users/francesco/Repository/computer_vision_project/dataset/HAM10000/yolo_dataset/test/images/ISIC_0028822.jpg: 480x640 1 donut, 30.8ms\n",
      "image 664/1503 /Users/francesco/Repository/computer_vision_project/dataset/HAM10000/yolo_dataset/test/images/ISIC_0028823.jpg: 480x640 (no detections), 28.4ms\n",
      "image 665/1503 /Users/francesco/Repository/computer_vision_project/dataset/HAM10000/yolo_dataset/test/images/ISIC_0028827.jpg: 480x640 (no detections), 31.5ms\n",
      "image 666/1503 /Users/francesco/Repository/computer_vision_project/dataset/HAM10000/yolo_dataset/test/images/ISIC_0028831.jpg: 480x640 1 cat, 29.5ms\n",
      "image 667/1503 /Users/francesco/Repository/computer_vision_project/dataset/HAM10000/yolo_dataset/test/images/ISIC_0028839.jpg: 480x640 (no detections), 53.2ms\n",
      "image 668/1503 /Users/francesco/Repository/computer_vision_project/dataset/HAM10000/yolo_dataset/test/images/ISIC_0028849.jpg: 480x640 (no detections), 26.9ms\n",
      "image 669/1503 /Users/francesco/Repository/computer_vision_project/dataset/HAM10000/yolo_dataset/test/images/ISIC_0028852.jpg: 480x640 1 orange, 26.3ms\n",
      "image 670/1503 /Users/francesco/Repository/computer_vision_project/dataset/HAM10000/yolo_dataset/test/images/ISIC_0028870.jpg: 480x640 1 bird, 28.4ms\n",
      "image 671/1503 /Users/francesco/Repository/computer_vision_project/dataset/HAM10000/yolo_dataset/test/images/ISIC_0028877.jpg: 480x640 (no detections), 26.0ms\n",
      "image 672/1503 /Users/francesco/Repository/computer_vision_project/dataset/HAM10000/yolo_dataset/test/images/ISIC_0028900.jpg: 480x640 1 cake, 29.4ms\n",
      "image 673/1503 /Users/francesco/Repository/computer_vision_project/dataset/HAM10000/yolo_dataset/test/images/ISIC_0028902.jpg: 480x640 (no detections), 27.2ms\n",
      "image 674/1503 /Users/francesco/Repository/computer_vision_project/dataset/HAM10000/yolo_dataset/test/images/ISIC_0028904.jpg: 480x640 (no detections), 26.0ms\n",
      "image 675/1503 /Users/francesco/Repository/computer_vision_project/dataset/HAM10000/yolo_dataset/test/images/ISIC_0028910.jpg: 480x640 2 cats, 33.0ms\n",
      "image 676/1503 /Users/francesco/Repository/computer_vision_project/dataset/HAM10000/yolo_dataset/test/images/ISIC_0028926.jpg: 480x640 (no detections), 25.5ms\n",
      "image 677/1503 /Users/francesco/Repository/computer_vision_project/dataset/HAM10000/yolo_dataset/test/images/ISIC_0028932.jpg: 480x640 (no detections), 29.3ms\n",
      "image 678/1503 /Users/francesco/Repository/computer_vision_project/dataset/HAM10000/yolo_dataset/test/images/ISIC_0028936.jpg: 480x640 1 umbrella, 27.5ms\n",
      "image 679/1503 /Users/francesco/Repository/computer_vision_project/dataset/HAM10000/yolo_dataset/test/images/ISIC_0028945.jpg: 480x640 (no detections), 34.2ms\n",
      "image 680/1503 /Users/francesco/Repository/computer_vision_project/dataset/HAM10000/yolo_dataset/test/images/ISIC_0028946.jpg: 480x640 1 cat, 28.6ms\n",
      "image 681/1503 /Users/francesco/Repository/computer_vision_project/dataset/HAM10000/yolo_dataset/test/images/ISIC_0028948.jpg: 480x640 (no detections), 27.0ms\n",
      "image 682/1503 /Users/francesco/Repository/computer_vision_project/dataset/HAM10000/yolo_dataset/test/images/ISIC_0028950.jpg: 480x640 1 cat, 33.4ms\n",
      "image 683/1503 /Users/francesco/Repository/computer_vision_project/dataset/HAM10000/yolo_dataset/test/images/ISIC_0028953.jpg: 480x640 1 cat, 25.8ms\n",
      "image 684/1503 /Users/francesco/Repository/computer_vision_project/dataset/HAM10000/yolo_dataset/test/images/ISIC_0028970.jpg: 480x640 (no detections), 28.1ms\n",
      "image 685/1503 /Users/francesco/Repository/computer_vision_project/dataset/HAM10000/yolo_dataset/test/images/ISIC_0028972.jpg: 480x640 (no detections), 30.9ms\n",
      "image 686/1503 /Users/francesco/Repository/computer_vision_project/dataset/HAM10000/yolo_dataset/test/images/ISIC_0028975.jpg: 480x640 (no detections), 26.7ms\n",
      "image 687/1503 /Users/francesco/Repository/computer_vision_project/dataset/HAM10000/yolo_dataset/test/images/ISIC_0028984.jpg: 480x640 (no detections), 26.2ms\n",
      "image 688/1503 /Users/francesco/Repository/computer_vision_project/dataset/HAM10000/yolo_dataset/test/images/ISIC_0028996.jpg: 480x640 (no detections), 31.6ms\n",
      "image 689/1503 /Users/francesco/Repository/computer_vision_project/dataset/HAM10000/yolo_dataset/test/images/ISIC_0029002.jpg: 480x640 (no detections), 26.0ms\n",
      "image 690/1503 /Users/francesco/Repository/computer_vision_project/dataset/HAM10000/yolo_dataset/test/images/ISIC_0029019.jpg: 480x640 1 umbrella, 30.1ms\n",
      "image 691/1503 /Users/francesco/Repository/computer_vision_project/dataset/HAM10000/yolo_dataset/test/images/ISIC_0029033.jpg: 480x640 (no detections), 26.8ms\n",
      "image 692/1503 /Users/francesco/Repository/computer_vision_project/dataset/HAM10000/yolo_dataset/test/images/ISIC_0029036.jpg: 480x640 (no detections), 31.3ms\n",
      "image 693/1503 /Users/francesco/Repository/computer_vision_project/dataset/HAM10000/yolo_dataset/test/images/ISIC_0029039.jpg: 480x640 (no detections), 27.6ms\n",
      "image 694/1503 /Users/francesco/Repository/computer_vision_project/dataset/HAM10000/yolo_dataset/test/images/ISIC_0029061.jpg: 480x640 (no detections), 25.1ms\n",
      "image 695/1503 /Users/francesco/Repository/computer_vision_project/dataset/HAM10000/yolo_dataset/test/images/ISIC_0029081.jpg: 480x640 1 cat, 25.9ms\n",
      "image 696/1503 /Users/francesco/Repository/computer_vision_project/dataset/HAM10000/yolo_dataset/test/images/ISIC_0029085.jpg: 480x640 (no detections), 53.0ms\n",
      "image 697/1503 /Users/francesco/Repository/computer_vision_project/dataset/HAM10000/yolo_dataset/test/images/ISIC_0029087.jpg: 480x640 1 cat, 27.3ms\n",
      "image 698/1503 /Users/francesco/Repository/computer_vision_project/dataset/HAM10000/yolo_dataset/test/images/ISIC_0029092.jpg: 480x640 (no detections), 26.3ms\n",
      "image 699/1503 /Users/francesco/Repository/computer_vision_project/dataset/HAM10000/yolo_dataset/test/images/ISIC_0029093.jpg: 480x640 (no detections), 28.1ms\n",
      "image 700/1503 /Users/francesco/Repository/computer_vision_project/dataset/HAM10000/yolo_dataset/test/images/ISIC_0029096.jpg: 480x640 (no detections), 31.3ms\n",
      "image 701/1503 /Users/francesco/Repository/computer_vision_project/dataset/HAM10000/yolo_dataset/test/images/ISIC_0029106.jpg: 480x640 (no detections), 29.3ms\n",
      "image 702/1503 /Users/francesco/Repository/computer_vision_project/dataset/HAM10000/yolo_dataset/test/images/ISIC_0029107.jpg: 480x640 (no detections), 26.8ms\n",
      "image 703/1503 /Users/francesco/Repository/computer_vision_project/dataset/HAM10000/yolo_dataset/test/images/ISIC_0029109.jpg: 480x640 (no detections), 26.2ms\n",
      "image 704/1503 /Users/francesco/Repository/computer_vision_project/dataset/HAM10000/yolo_dataset/test/images/ISIC_0029118.jpg: 480x640 (no detections), 29.8ms\n",
      "image 705/1503 /Users/francesco/Repository/computer_vision_project/dataset/HAM10000/yolo_dataset/test/images/ISIC_0029120.jpg: 480x640 (no detections), 26.5ms\n",
      "image 706/1503 /Users/francesco/Repository/computer_vision_project/dataset/HAM10000/yolo_dataset/test/images/ISIC_0029123.jpg: 480x640 1 cat, 30.3ms\n",
      "image 707/1503 /Users/francesco/Repository/computer_vision_project/dataset/HAM10000/yolo_dataset/test/images/ISIC_0029127.jpg: 480x640 (no detections), 27.2ms\n",
      "image 708/1503 /Users/francesco/Repository/computer_vision_project/dataset/HAM10000/yolo_dataset/test/images/ISIC_0029132.jpg: 480x640 (no detections), 24.9ms\n",
      "image 709/1503 /Users/francesco/Repository/computer_vision_project/dataset/HAM10000/yolo_dataset/test/images/ISIC_0029136.jpg: 480x640 1 cat, 25.8ms\n",
      "image 710/1503 /Users/francesco/Repository/computer_vision_project/dataset/HAM10000/yolo_dataset/test/images/ISIC_0029147.jpg: 480x640 (no detections), 28.3ms\n",
      "image 711/1503 /Users/francesco/Repository/computer_vision_project/dataset/HAM10000/yolo_dataset/test/images/ISIC_0029160.jpg: 480x640 2 airplanes, 1 cat, 26.1ms\n",
      "image 712/1503 /Users/francesco/Repository/computer_vision_project/dataset/HAM10000/yolo_dataset/test/images/ISIC_0029169.jpg: 480x640 (no detections), 25.9ms\n",
      "image 713/1503 /Users/francesco/Repository/computer_vision_project/dataset/HAM10000/yolo_dataset/test/images/ISIC_0029185.jpg: 480x640 (no detections), 32.9ms\n",
      "image 714/1503 /Users/francesco/Repository/computer_vision_project/dataset/HAM10000/yolo_dataset/test/images/ISIC_0029187.jpg: 480x640 (no detections), 27.0ms\n",
      "image 715/1503 /Users/francesco/Repository/computer_vision_project/dataset/HAM10000/yolo_dataset/test/images/ISIC_0029192.jpg: 480x640 1 cat, 25.2ms\n",
      "image 716/1503 /Users/francesco/Repository/computer_vision_project/dataset/HAM10000/yolo_dataset/test/images/ISIC_0029195.jpg: 480x640 (no detections), 29.8ms\n",
      "image 717/1503 /Users/francesco/Repository/computer_vision_project/dataset/HAM10000/yolo_dataset/test/images/ISIC_0029196.jpg: 480x640 (no detections), 31.6ms\n",
      "image 718/1503 /Users/francesco/Repository/computer_vision_project/dataset/HAM10000/yolo_dataset/test/images/ISIC_0029197.jpg: 480x640 (no detections), 50.4ms\n",
      "image 719/1503 /Users/francesco/Repository/computer_vision_project/dataset/HAM10000/yolo_dataset/test/images/ISIC_0029199.jpg: 480x640 (no detections), 107.8ms\n",
      "image 720/1503 /Users/francesco/Repository/computer_vision_project/dataset/HAM10000/yolo_dataset/test/images/ISIC_0029205.jpg: 480x640 (no detections), 39.5ms\n",
      "image 721/1503 /Users/francesco/Repository/computer_vision_project/dataset/HAM10000/yolo_dataset/test/images/ISIC_0029218.jpg: 480x640 (no detections), 32.3ms\n",
      "image 722/1503 /Users/francesco/Repository/computer_vision_project/dataset/HAM10000/yolo_dataset/test/images/ISIC_0029225.jpg: 480x640 1 umbrella, 32.5ms\n",
      "image 723/1503 /Users/francesco/Repository/computer_vision_project/dataset/HAM10000/yolo_dataset/test/images/ISIC_0029226.jpg: 480x640 1 cat, 26.5ms\n",
      "image 724/1503 /Users/francesco/Repository/computer_vision_project/dataset/HAM10000/yolo_dataset/test/images/ISIC_0029236.jpg: 480x640 (no detections), 28.0ms\n",
      "image 725/1503 /Users/francesco/Repository/computer_vision_project/dataset/HAM10000/yolo_dataset/test/images/ISIC_0029248.jpg: 480x640 (no detections), 27.3ms\n",
      "image 726/1503 /Users/francesco/Repository/computer_vision_project/dataset/HAM10000/yolo_dataset/test/images/ISIC_0029257.jpg: 480x640 1 cake, 40.5ms\n",
      "image 727/1503 /Users/francesco/Repository/computer_vision_project/dataset/HAM10000/yolo_dataset/test/images/ISIC_0029258.jpg: 480x640 (no detections), 45.9ms\n",
      "image 728/1503 /Users/francesco/Repository/computer_vision_project/dataset/HAM10000/yolo_dataset/test/images/ISIC_0029266.jpg: 480x640 (no detections), 35.6ms\n",
      "image 729/1503 /Users/francesco/Repository/computer_vision_project/dataset/HAM10000/yolo_dataset/test/images/ISIC_0029272.jpg: 480x640 1 donut, 31.9ms\n",
      "image 730/1503 /Users/francesco/Repository/computer_vision_project/dataset/HAM10000/yolo_dataset/test/images/ISIC_0029276.jpg: 480x640 (no detections), 26.0ms\n",
      "image 731/1503 /Users/francesco/Repository/computer_vision_project/dataset/HAM10000/yolo_dataset/test/images/ISIC_0029277.jpg: 480x640 (no detections), 29.6ms\n",
      "image 732/1503 /Users/francesco/Repository/computer_vision_project/dataset/HAM10000/yolo_dataset/test/images/ISIC_0029286.jpg: 480x640 (no detections), 25.1ms\n",
      "image 733/1503 /Users/francesco/Repository/computer_vision_project/dataset/HAM10000/yolo_dataset/test/images/ISIC_0029288.jpg: 480x640 1 cake, 28.9ms\n",
      "image 734/1503 /Users/francesco/Repository/computer_vision_project/dataset/HAM10000/yolo_dataset/test/images/ISIC_0029297.jpg: 480x640 (no detections), 28.5ms\n",
      "image 735/1503 /Users/francesco/Repository/computer_vision_project/dataset/HAM10000/yolo_dataset/test/images/ISIC_0029303.jpg: 480x640 (no detections), 46.5ms\n",
      "image 736/1503 /Users/francesco/Repository/computer_vision_project/dataset/HAM10000/yolo_dataset/test/images/ISIC_0029304.jpg: 480x640 (no detections), 29.8ms\n",
      "image 737/1503 /Users/francesco/Repository/computer_vision_project/dataset/HAM10000/yolo_dataset/test/images/ISIC_0029318.jpg: 480x640 (no detections), 31.5ms\n",
      "image 738/1503 /Users/francesco/Repository/computer_vision_project/dataset/HAM10000/yolo_dataset/test/images/ISIC_0029321.jpg: 480x640 1 umbrella, 37.0ms\n",
      "image 739/1503 /Users/francesco/Repository/computer_vision_project/dataset/HAM10000/yolo_dataset/test/images/ISIC_0029331.jpg: 480x640 (no detections), 25.6ms\n",
      "image 740/1503 /Users/francesco/Repository/computer_vision_project/dataset/HAM10000/yolo_dataset/test/images/ISIC_0029347.jpg: 480x640 1 cat, 25.9ms\n",
      "image 741/1503 /Users/francesco/Repository/computer_vision_project/dataset/HAM10000/yolo_dataset/test/images/ISIC_0029348.jpg: 480x640 1 pizza, 1 bed, 27.9ms\n",
      "image 742/1503 /Users/francesco/Repository/computer_vision_project/dataset/HAM10000/yolo_dataset/test/images/ISIC_0029358.jpg: 480x640 (no detections), 28.5ms\n",
      "image 743/1503 /Users/francesco/Repository/computer_vision_project/dataset/HAM10000/yolo_dataset/test/images/ISIC_0029366.jpg: 480x640 (no detections), 27.7ms\n",
      "image 744/1503 /Users/francesco/Repository/computer_vision_project/dataset/HAM10000/yolo_dataset/test/images/ISIC_0029368.jpg: 480x640 1 cat, 25.7ms\n",
      "image 745/1503 /Users/francesco/Repository/computer_vision_project/dataset/HAM10000/yolo_dataset/test/images/ISIC_0029371.jpg: 480x640 (no detections), 26.7ms\n",
      "image 746/1503 /Users/francesco/Repository/computer_vision_project/dataset/HAM10000/yolo_dataset/test/images/ISIC_0029382.jpg: 480x640 (no detections), 27.0ms\n",
      "image 747/1503 /Users/francesco/Repository/computer_vision_project/dataset/HAM10000/yolo_dataset/test/images/ISIC_0029386.jpg: 480x640 (no detections), 39.2ms\n",
      "image 748/1503 /Users/francesco/Repository/computer_vision_project/dataset/HAM10000/yolo_dataset/test/images/ISIC_0029393.jpg: 480x640 (no detections), 29.2ms\n",
      "image 749/1503 /Users/francesco/Repository/computer_vision_project/dataset/HAM10000/yolo_dataset/test/images/ISIC_0029402.jpg: 480x640 (no detections), 28.4ms\n",
      "image 750/1503 /Users/francesco/Repository/computer_vision_project/dataset/HAM10000/yolo_dataset/test/images/ISIC_0029415.jpg: 480x640 1 cat, 33.1ms\n",
      "image 751/1503 /Users/francesco/Repository/computer_vision_project/dataset/HAM10000/yolo_dataset/test/images/ISIC_0029419.jpg: 480x640 (no detections), 30.1ms\n",
      "image 752/1503 /Users/francesco/Repository/computer_vision_project/dataset/HAM10000/yolo_dataset/test/images/ISIC_0029430.jpg: 480x640 1 bed, 25.2ms\n",
      "image 753/1503 /Users/francesco/Repository/computer_vision_project/dataset/HAM10000/yolo_dataset/test/images/ISIC_0029439.jpg: 480x640 (no detections), 25.7ms\n",
      "image 754/1503 /Users/francesco/Repository/computer_vision_project/dataset/HAM10000/yolo_dataset/test/images/ISIC_0029443.jpg: 480x640 (no detections), 36.0ms\n",
      "image 755/1503 /Users/francesco/Repository/computer_vision_project/dataset/HAM10000/yolo_dataset/test/images/ISIC_0029447.jpg: 480x640 1 cat, 28.6ms\n",
      "image 756/1503 /Users/francesco/Repository/computer_vision_project/dataset/HAM10000/yolo_dataset/test/images/ISIC_0029460.jpg: 480x640 (no detections), 26.1ms\n",
      "image 757/1503 /Users/francesco/Repository/computer_vision_project/dataset/HAM10000/yolo_dataset/test/images/ISIC_0029476.jpg: 480x640 (no detections), 26.4ms\n",
      "image 758/1503 /Users/francesco/Repository/computer_vision_project/dataset/HAM10000/yolo_dataset/test/images/ISIC_0029477.jpg: 480x640 (no detections), 25.6ms\n",
      "image 759/1503 /Users/francesco/Repository/computer_vision_project/dataset/HAM10000/yolo_dataset/test/images/ISIC_0029480.jpg: 480x640 (no detections), 28.0ms\n",
      "image 760/1503 /Users/francesco/Repository/computer_vision_project/dataset/HAM10000/yolo_dataset/test/images/ISIC_0029490.jpg: 480x640 (no detections), 32.4ms\n",
      "image 761/1503 /Users/francesco/Repository/computer_vision_project/dataset/HAM10000/yolo_dataset/test/images/ISIC_0029492.jpg: 480x640 (no detections), 38.3ms\n",
      "image 762/1503 /Users/francesco/Repository/computer_vision_project/dataset/HAM10000/yolo_dataset/test/images/ISIC_0029499.jpg: 480x640 (no detections), 33.0ms\n",
      "image 763/1503 /Users/francesco/Repository/computer_vision_project/dataset/HAM10000/yolo_dataset/test/images/ISIC_0029508.jpg: 480x640 1 cat, 25.3ms\n",
      "image 764/1503 /Users/francesco/Repository/computer_vision_project/dataset/HAM10000/yolo_dataset/test/images/ISIC_0029522.jpg: 480x640 1 umbrella, 31.9ms\n",
      "image 765/1503 /Users/francesco/Repository/computer_vision_project/dataset/HAM10000/yolo_dataset/test/images/ISIC_0029523.jpg: 480x640 (no detections), 25.3ms\n",
      "image 766/1503 /Users/francesco/Repository/computer_vision_project/dataset/HAM10000/yolo_dataset/test/images/ISIC_0029527.jpg: 480x640 (no detections), 26.7ms\n",
      "image 767/1503 /Users/francesco/Repository/computer_vision_project/dataset/HAM10000/yolo_dataset/test/images/ISIC_0029528.jpg: 480x640 (no detections), 25.6ms\n",
      "image 768/1503 /Users/francesco/Repository/computer_vision_project/dataset/HAM10000/yolo_dataset/test/images/ISIC_0029529.jpg: 480x640 (no detections), 26.0ms\n",
      "image 769/1503 /Users/francesco/Repository/computer_vision_project/dataset/HAM10000/yolo_dataset/test/images/ISIC_0029534.jpg: 480x640 1 cat, 25.5ms\n",
      "image 770/1503 /Users/francesco/Repository/computer_vision_project/dataset/HAM10000/yolo_dataset/test/images/ISIC_0029543.jpg: 480x640 (no detections), 26.2ms\n",
      "image 771/1503 /Users/francesco/Repository/computer_vision_project/dataset/HAM10000/yolo_dataset/test/images/ISIC_0029550.jpg: 480x640 (no detections), 24.9ms\n",
      "image 772/1503 /Users/francesco/Repository/computer_vision_project/dataset/HAM10000/yolo_dataset/test/images/ISIC_0029551.jpg: 480x640 (no detections), 25.6ms\n",
      "image 773/1503 /Users/francesco/Repository/computer_vision_project/dataset/HAM10000/yolo_dataset/test/images/ISIC_0029567.jpg: 480x640 (no detections), 30.2ms\n",
      "image 774/1503 /Users/francesco/Repository/computer_vision_project/dataset/HAM10000/yolo_dataset/test/images/ISIC_0029584.jpg: 480x640 (no detections), 31.3ms\n",
      "image 775/1503 /Users/francesco/Repository/computer_vision_project/dataset/HAM10000/yolo_dataset/test/images/ISIC_0029586.jpg: 480x640 (no detections), 38.5ms\n",
      "image 776/1503 /Users/francesco/Repository/computer_vision_project/dataset/HAM10000/yolo_dataset/test/images/ISIC_0029587.jpg: 480x640 (no detections), 35.5ms\n",
      "image 777/1503 /Users/francesco/Repository/computer_vision_project/dataset/HAM10000/yolo_dataset/test/images/ISIC_0029601.jpg: 480x640 (no detections), 28.2ms\n",
      "image 778/1503 /Users/francesco/Repository/computer_vision_project/dataset/HAM10000/yolo_dataset/test/images/ISIC_0029607.jpg: 480x640 (no detections), 25.0ms\n",
      "image 779/1503 /Users/francesco/Repository/computer_vision_project/dataset/HAM10000/yolo_dataset/test/images/ISIC_0029617.jpg: 480x640 (no detections), 29.9ms\n",
      "image 780/1503 /Users/francesco/Repository/computer_vision_project/dataset/HAM10000/yolo_dataset/test/images/ISIC_0029633.jpg: 480x640 (no detections), 27.9ms\n",
      "image 781/1503 /Users/francesco/Repository/computer_vision_project/dataset/HAM10000/yolo_dataset/test/images/ISIC_0029636.jpg: 480x640 (no detections), 24.9ms\n",
      "image 782/1503 /Users/francesco/Repository/computer_vision_project/dataset/HAM10000/yolo_dataset/test/images/ISIC_0029642.jpg: 480x640 (no detections), 30.2ms\n",
      "image 783/1503 /Users/francesco/Repository/computer_vision_project/dataset/HAM10000/yolo_dataset/test/images/ISIC_0029660.jpg: 480x640 1 person, 1 apple, 26.0ms\n",
      "image 784/1503 /Users/francesco/Repository/computer_vision_project/dataset/HAM10000/yolo_dataset/test/images/ISIC_0029664.jpg: 480x640 (no detections), 25.8ms\n",
      "image 785/1503 /Users/francesco/Repository/computer_vision_project/dataset/HAM10000/yolo_dataset/test/images/ISIC_0029666.jpg: 480x640 1 cake, 26.4ms\n",
      "image 786/1503 /Users/francesco/Repository/computer_vision_project/dataset/HAM10000/yolo_dataset/test/images/ISIC_0029668.jpg: 480x640 1 person, 30.4ms\n",
      "image 787/1503 /Users/francesco/Repository/computer_vision_project/dataset/HAM10000/yolo_dataset/test/images/ISIC_0029676.jpg: 480x640 (no detections), 29.6ms\n",
      "image 788/1503 /Users/francesco/Repository/computer_vision_project/dataset/HAM10000/yolo_dataset/test/images/ISIC_0029692.jpg: 480x640 1 cat, 30.6ms\n",
      "image 789/1503 /Users/francesco/Repository/computer_vision_project/dataset/HAM10000/yolo_dataset/test/images/ISIC_0029703.jpg: 480x640 1 umbrella, 27.0ms\n",
      "image 790/1503 /Users/francesco/Repository/computer_vision_project/dataset/HAM10000/yolo_dataset/test/images/ISIC_0029704.jpg: 480x640 1 cake, 26.1ms\n",
      "image 791/1503 /Users/francesco/Repository/computer_vision_project/dataset/HAM10000/yolo_dataset/test/images/ISIC_0029720.jpg: 480x640 1 teddy bear, 28.6ms\n",
      "image 792/1503 /Users/francesco/Repository/computer_vision_project/dataset/HAM10000/yolo_dataset/test/images/ISIC_0029727.jpg: 480x640 (no detections), 27.5ms\n",
      "image 793/1503 /Users/francesco/Repository/computer_vision_project/dataset/HAM10000/yolo_dataset/test/images/ISIC_0029732.jpg: 480x640 (no detections), 27.7ms\n",
      "image 794/1503 /Users/francesco/Repository/computer_vision_project/dataset/HAM10000/yolo_dataset/test/images/ISIC_0029734.jpg: 480x640 2 cats, 26.4ms\n",
      "image 795/1503 /Users/francesco/Repository/computer_vision_project/dataset/HAM10000/yolo_dataset/test/images/ISIC_0029736.jpg: 480x640 1 cat, 29.2ms\n",
      "image 796/1503 /Users/francesco/Repository/computer_vision_project/dataset/HAM10000/yolo_dataset/test/images/ISIC_0029752.jpg: 480x640 1 donut, 31.2ms\n",
      "image 797/1503 /Users/francesco/Repository/computer_vision_project/dataset/HAM10000/yolo_dataset/test/images/ISIC_0029755.jpg: 480x640 (no detections), 27.4ms\n",
      "image 798/1503 /Users/francesco/Repository/computer_vision_project/dataset/HAM10000/yolo_dataset/test/images/ISIC_0029761.jpg: 480x640 (no detections), 27.6ms\n",
      "image 799/1503 /Users/francesco/Repository/computer_vision_project/dataset/HAM10000/yolo_dataset/test/images/ISIC_0029762.jpg: 480x640 (no detections), 27.4ms\n",
      "image 800/1503 /Users/francesco/Repository/computer_vision_project/dataset/HAM10000/yolo_dataset/test/images/ISIC_0029763.jpg: 480x640 (no detections), 27.1ms\n",
      "image 801/1503 /Users/francesco/Repository/computer_vision_project/dataset/HAM10000/yolo_dataset/test/images/ISIC_0029768.jpg: 480x640 (no detections), 28.4ms\n",
      "image 802/1503 /Users/francesco/Repository/computer_vision_project/dataset/HAM10000/yolo_dataset/test/images/ISIC_0029783.jpg: 480x640 (no detections), 29.9ms\n",
      "image 803/1503 /Users/francesco/Repository/computer_vision_project/dataset/HAM10000/yolo_dataset/test/images/ISIC_0029789.jpg: 480x640 (no detections), 28.9ms\n",
      "image 804/1503 /Users/francesco/Repository/computer_vision_project/dataset/HAM10000/yolo_dataset/test/images/ISIC_0029793.jpg: 480x640 (no detections), 73.5ms\n",
      "image 805/1503 /Users/francesco/Repository/computer_vision_project/dataset/HAM10000/yolo_dataset/test/images/ISIC_0029794.jpg: 480x640 (no detections), 31.4ms\n",
      "image 806/1503 /Users/francesco/Repository/computer_vision_project/dataset/HAM10000/yolo_dataset/test/images/ISIC_0029795.jpg: 480x640 1 cat, 25.8ms\n",
      "image 807/1503 /Users/francesco/Repository/computer_vision_project/dataset/HAM10000/yolo_dataset/test/images/ISIC_0029802.jpg: 480x640 (no detections), 33.3ms\n",
      "image 808/1503 /Users/francesco/Repository/computer_vision_project/dataset/HAM10000/yolo_dataset/test/images/ISIC_0029803.jpg: 480x640 1 cat, 39.2ms\n",
      "image 809/1503 /Users/francesco/Repository/computer_vision_project/dataset/HAM10000/yolo_dataset/test/images/ISIC_0029814.jpg: 480x640 1 cake, 93.0ms\n",
      "image 810/1503 /Users/francesco/Repository/computer_vision_project/dataset/HAM10000/yolo_dataset/test/images/ISIC_0029833.jpg: 480x640 1 donut, 1 cake, 27.7ms\n",
      "image 811/1503 /Users/francesco/Repository/computer_vision_project/dataset/HAM10000/yolo_dataset/test/images/ISIC_0029836.jpg: 480x640 1 umbrella, 1 donut, 29.1ms\n",
      "image 812/1503 /Users/francesco/Repository/computer_vision_project/dataset/HAM10000/yolo_dataset/test/images/ISIC_0029837.jpg: 480x640 1 umbrella, 94.8ms\n",
      "image 813/1503 /Users/francesco/Repository/computer_vision_project/dataset/HAM10000/yolo_dataset/test/images/ISIC_0029838.jpg: 480x640 (no detections), 42.4ms\n",
      "image 814/1503 /Users/francesco/Repository/computer_vision_project/dataset/HAM10000/yolo_dataset/test/images/ISIC_0029840.jpg: 480x640 (no detections), 40.3ms\n",
      "image 815/1503 /Users/francesco/Repository/computer_vision_project/dataset/HAM10000/yolo_dataset/test/images/ISIC_0029845.jpg: 480x640 1 person, 28.3ms\n",
      "image 816/1503 /Users/francesco/Repository/computer_vision_project/dataset/HAM10000/yolo_dataset/test/images/ISIC_0029846.jpg: 480x640 (no detections), 54.6ms\n",
      "image 817/1503 /Users/francesco/Repository/computer_vision_project/dataset/HAM10000/yolo_dataset/test/images/ISIC_0029847.jpg: 480x640 (no detections), 71.2ms\n",
      "image 818/1503 /Users/francesco/Repository/computer_vision_project/dataset/HAM10000/yolo_dataset/test/images/ISIC_0029848.jpg: 480x640 (no detections), 29.2ms\n",
      "image 819/1503 /Users/francesco/Repository/computer_vision_project/dataset/HAM10000/yolo_dataset/test/images/ISIC_0029851.jpg: 480x640 (no detections), 31.8ms\n",
      "image 820/1503 /Users/francesco/Repository/computer_vision_project/dataset/HAM10000/yolo_dataset/test/images/ISIC_0029852.jpg: 480x640 1 cat, 26.4ms\n",
      "image 821/1503 /Users/francesco/Repository/computer_vision_project/dataset/HAM10000/yolo_dataset/test/images/ISIC_0029856.jpg: 480x640 (no detections), 27.6ms\n",
      "image 822/1503 /Users/francesco/Repository/computer_vision_project/dataset/HAM10000/yolo_dataset/test/images/ISIC_0029858.jpg: 480x640 1 cat, 26.0ms\n",
      "image 823/1503 /Users/francesco/Repository/computer_vision_project/dataset/HAM10000/yolo_dataset/test/images/ISIC_0029873.jpg: 480x640 (no detections), 34.3ms\n",
      "image 824/1503 /Users/francesco/Repository/computer_vision_project/dataset/HAM10000/yolo_dataset/test/images/ISIC_0029875.jpg: 480x640 (no detections), 27.0ms\n",
      "image 825/1503 /Users/francesco/Repository/computer_vision_project/dataset/HAM10000/yolo_dataset/test/images/ISIC_0029879.jpg: 480x640 1 person, 26.7ms\n",
      "image 826/1503 /Users/francesco/Repository/computer_vision_project/dataset/HAM10000/yolo_dataset/test/images/ISIC_0029884.jpg: 480x640 1 cake, 27.1ms\n",
      "image 827/1503 /Users/francesco/Repository/computer_vision_project/dataset/HAM10000/yolo_dataset/test/images/ISIC_0029887.jpg: 480x640 (no detections), 26.4ms\n",
      "image 828/1503 /Users/francesco/Repository/computer_vision_project/dataset/HAM10000/yolo_dataset/test/images/ISIC_0029888.jpg: 480x640 1 cat, 28.9ms\n",
      "image 829/1503 /Users/francesco/Repository/computer_vision_project/dataset/HAM10000/yolo_dataset/test/images/ISIC_0029891.jpg: 480x640 (no detections), 32.0ms\n",
      "image 830/1503 /Users/francesco/Repository/computer_vision_project/dataset/HAM10000/yolo_dataset/test/images/ISIC_0029892.jpg: 480x640 1 cat, 28.3ms\n",
      "image 831/1503 /Users/francesco/Repository/computer_vision_project/dataset/HAM10000/yolo_dataset/test/images/ISIC_0029894.jpg: 480x640 1 donut, 30.1ms\n",
      "image 832/1503 /Users/francesco/Repository/computer_vision_project/dataset/HAM10000/yolo_dataset/test/images/ISIC_0029902.jpg: 480x640 (no detections), 36.4ms\n",
      "image 833/1503 /Users/francesco/Repository/computer_vision_project/dataset/HAM10000/yolo_dataset/test/images/ISIC_0029906.jpg: 480x640 (no detections), 29.3ms\n",
      "image 834/1503 /Users/francesco/Repository/computer_vision_project/dataset/HAM10000/yolo_dataset/test/images/ISIC_0029910.jpg: 480x640 (no detections), 31.3ms\n",
      "image 835/1503 /Users/francesco/Repository/computer_vision_project/dataset/HAM10000/yolo_dataset/test/images/ISIC_0029918.jpg: 480x640 1 cat, 29.1ms\n",
      "image 836/1503 /Users/francesco/Repository/computer_vision_project/dataset/HAM10000/yolo_dataset/test/images/ISIC_0029921.jpg: 480x640 (no detections), 25.9ms\n",
      "image 837/1503 /Users/francesco/Repository/computer_vision_project/dataset/HAM10000/yolo_dataset/test/images/ISIC_0029924.jpg: 480x640 (no detections), 25.2ms\n",
      "image 838/1503 /Users/francesco/Repository/computer_vision_project/dataset/HAM10000/yolo_dataset/test/images/ISIC_0029928.jpg: 480x640 1 cat, 27.4ms\n",
      "image 839/1503 /Users/francesco/Repository/computer_vision_project/dataset/HAM10000/yolo_dataset/test/images/ISIC_0029933.jpg: 480x640 (no detections), 29.1ms\n",
      "image 840/1503 /Users/francesco/Repository/computer_vision_project/dataset/HAM10000/yolo_dataset/test/images/ISIC_0029934.jpg: 480x640 1 cat, 31.4ms\n",
      "image 841/1503 /Users/francesco/Repository/computer_vision_project/dataset/HAM10000/yolo_dataset/test/images/ISIC_0029940.jpg: 480x640 (no detections), 26.0ms\n",
      "image 842/1503 /Users/francesco/Repository/computer_vision_project/dataset/HAM10000/yolo_dataset/test/images/ISIC_0029942.jpg: 480x640 1 cat, 25.1ms\n",
      "image 843/1503 /Users/francesco/Repository/computer_vision_project/dataset/HAM10000/yolo_dataset/test/images/ISIC_0029963.jpg: 480x640 1 donut, 1 bed, 27.3ms\n",
      "image 844/1503 /Users/francesco/Repository/computer_vision_project/dataset/HAM10000/yolo_dataset/test/images/ISIC_0029982.jpg: 480x640 1 cat, 29.5ms\n",
      "image 845/1503 /Users/francesco/Repository/computer_vision_project/dataset/HAM10000/yolo_dataset/test/images/ISIC_0029984.jpg: 480x640 1 cat, 30.6ms\n",
      "image 846/1503 /Users/francesco/Repository/computer_vision_project/dataset/HAM10000/yolo_dataset/test/images/ISIC_0029992.jpg: 480x640 1 kite, 25.3ms\n",
      "image 847/1503 /Users/francesco/Repository/computer_vision_project/dataset/HAM10000/yolo_dataset/test/images/ISIC_0030003.jpg: 480x640 (no detections), 29.8ms\n",
      "image 848/1503 /Users/francesco/Repository/computer_vision_project/dataset/HAM10000/yolo_dataset/test/images/ISIC_0030016.jpg: 480x640 (no detections), 28.4ms\n",
      "image 849/1503 /Users/francesco/Repository/computer_vision_project/dataset/HAM10000/yolo_dataset/test/images/ISIC_0030018.jpg: 480x640 (no detections), 27.7ms\n",
      "image 850/1503 /Users/francesco/Repository/computer_vision_project/dataset/HAM10000/yolo_dataset/test/images/ISIC_0030019.jpg: 480x640 1 cat, 27.5ms\n",
      "image 851/1503 /Users/francesco/Repository/computer_vision_project/dataset/HAM10000/yolo_dataset/test/images/ISIC_0030020.jpg: 480x640 1 cat, 30.1ms\n",
      "image 852/1503 /Users/francesco/Repository/computer_vision_project/dataset/HAM10000/yolo_dataset/test/images/ISIC_0030022.jpg: 480x640 1 cat, 33.0ms\n",
      "image 853/1503 /Users/francesco/Repository/computer_vision_project/dataset/HAM10000/yolo_dataset/test/images/ISIC_0030035.jpg: 480x640 1 cat, 32.4ms\n",
      "image 854/1503 /Users/francesco/Repository/computer_vision_project/dataset/HAM10000/yolo_dataset/test/images/ISIC_0030036.jpg: 480x640 (no detections), 29.5ms\n",
      "image 855/1503 /Users/francesco/Repository/computer_vision_project/dataset/HAM10000/yolo_dataset/test/images/ISIC_0030041.jpg: 480x640 (no detections), 45.4ms\n",
      "image 856/1503 /Users/francesco/Repository/computer_vision_project/dataset/HAM10000/yolo_dataset/test/images/ISIC_0030044.jpg: 480x640 (no detections), 27.6ms\n",
      "image 857/1503 /Users/francesco/Repository/computer_vision_project/dataset/HAM10000/yolo_dataset/test/images/ISIC_0030047.jpg: 480x640 (no detections), 25.8ms\n",
      "image 858/1503 /Users/francesco/Repository/computer_vision_project/dataset/HAM10000/yolo_dataset/test/images/ISIC_0030052.jpg: 480x640 (no detections), 28.8ms\n",
      "image 859/1503 /Users/francesco/Repository/computer_vision_project/dataset/HAM10000/yolo_dataset/test/images/ISIC_0030059.jpg: 480x640 (no detections), 28.9ms\n",
      "image 860/1503 /Users/francesco/Repository/computer_vision_project/dataset/HAM10000/yolo_dataset/test/images/ISIC_0030060.jpg: 480x640 (no detections), 31.1ms\n",
      "image 861/1503 /Users/francesco/Repository/computer_vision_project/dataset/HAM10000/yolo_dataset/test/images/ISIC_0030066.jpg: 480x640 1 cat, 1 dog, 27.5ms\n",
      "image 862/1503 /Users/francesco/Repository/computer_vision_project/dataset/HAM10000/yolo_dataset/test/images/ISIC_0030077.jpg: 480x640 (no detections), 32.0ms\n",
      "image 863/1503 /Users/francesco/Repository/computer_vision_project/dataset/HAM10000/yolo_dataset/test/images/ISIC_0030081.jpg: 480x640 (no detections), 27.3ms\n",
      "image 864/1503 /Users/francesco/Repository/computer_vision_project/dataset/HAM10000/yolo_dataset/test/images/ISIC_0030084.jpg: 480x640 (no detections), 32.4ms\n",
      "image 865/1503 /Users/francesco/Repository/computer_vision_project/dataset/HAM10000/yolo_dataset/test/images/ISIC_0030088.jpg: 480x640 (no detections), 28.6ms\n",
      "image 866/1503 /Users/francesco/Repository/computer_vision_project/dataset/HAM10000/yolo_dataset/test/images/ISIC_0030094.jpg: 480x640 (no detections), 28.7ms\n",
      "image 867/1503 /Users/francesco/Repository/computer_vision_project/dataset/HAM10000/yolo_dataset/test/images/ISIC_0030097.jpg: 480x640 1 umbrella, 27.5ms\n",
      "image 868/1503 /Users/francesco/Repository/computer_vision_project/dataset/HAM10000/yolo_dataset/test/images/ISIC_0030110.jpg: 480x640 (no detections), 28.3ms\n",
      "image 869/1503 /Users/francesco/Repository/computer_vision_project/dataset/HAM10000/yolo_dataset/test/images/ISIC_0030123.jpg: 480x640 (no detections), 27.8ms\n",
      "image 870/1503 /Users/francesco/Repository/computer_vision_project/dataset/HAM10000/yolo_dataset/test/images/ISIC_0030124.jpg: 480x640 (no detections), 28.0ms\n",
      "image 871/1503 /Users/francesco/Repository/computer_vision_project/dataset/HAM10000/yolo_dataset/test/images/ISIC_0030130.jpg: 480x640 1 tennis racket, 26.7ms\n",
      "image 872/1503 /Users/francesco/Repository/computer_vision_project/dataset/HAM10000/yolo_dataset/test/images/ISIC_0030148.jpg: 480x640 (no detections), 26.1ms\n",
      "image 873/1503 /Users/francesco/Repository/computer_vision_project/dataset/HAM10000/yolo_dataset/test/images/ISIC_0030152.jpg: 480x640 1 umbrella, 32.6ms\n",
      "image 874/1503 /Users/francesco/Repository/computer_vision_project/dataset/HAM10000/yolo_dataset/test/images/ISIC_0030155.jpg: 480x640 (no detections), 32.1ms\n",
      "image 875/1503 /Users/francesco/Repository/computer_vision_project/dataset/HAM10000/yolo_dataset/test/images/ISIC_0030156.jpg: 480x640 (no detections), 30.3ms\n",
      "image 876/1503 /Users/francesco/Repository/computer_vision_project/dataset/HAM10000/yolo_dataset/test/images/ISIC_0030158.jpg: 480x640 (no detections), 25.4ms\n",
      "image 877/1503 /Users/francesco/Repository/computer_vision_project/dataset/HAM10000/yolo_dataset/test/images/ISIC_0030159.jpg: 480x640 (no detections), 31.0ms\n",
      "image 878/1503 /Users/francesco/Repository/computer_vision_project/dataset/HAM10000/yolo_dataset/test/images/ISIC_0030165.jpg: 480x640 (no detections), 25.6ms\n",
      "image 879/1503 /Users/francesco/Repository/computer_vision_project/dataset/HAM10000/yolo_dataset/test/images/ISIC_0030166.jpg: 480x640 1 cat, 63.6ms\n",
      "image 880/1503 /Users/francesco/Repository/computer_vision_project/dataset/HAM10000/yolo_dataset/test/images/ISIC_0030178.jpg: 480x640 (no detections), 43.3ms\n",
      "image 881/1503 /Users/francesco/Repository/computer_vision_project/dataset/HAM10000/yolo_dataset/test/images/ISIC_0030183.jpg: 480x640 (no detections), 39.3ms\n",
      "image 882/1503 /Users/francesco/Repository/computer_vision_project/dataset/HAM10000/yolo_dataset/test/images/ISIC_0030199.jpg: 480x640 (no detections), 28.6ms\n",
      "image 883/1503 /Users/francesco/Repository/computer_vision_project/dataset/HAM10000/yolo_dataset/test/images/ISIC_0030202.jpg: 480x640 (no detections), 26.9ms\n",
      "image 884/1503 /Users/francesco/Repository/computer_vision_project/dataset/HAM10000/yolo_dataset/test/images/ISIC_0030209.jpg: 480x640 1 cat, 35.7ms\n",
      "image 885/1503 /Users/francesco/Repository/computer_vision_project/dataset/HAM10000/yolo_dataset/test/images/ISIC_0030214.jpg: 480x640 2 cats, 30.5ms\n",
      "image 886/1503 /Users/francesco/Repository/computer_vision_project/dataset/HAM10000/yolo_dataset/test/images/ISIC_0030225.jpg: 480x640 1 cake, 25.8ms\n",
      "image 887/1503 /Users/francesco/Repository/computer_vision_project/dataset/HAM10000/yolo_dataset/test/images/ISIC_0030229.jpg: 480x640 1 person, 25.1ms\n",
      "image 888/1503 /Users/francesco/Repository/computer_vision_project/dataset/HAM10000/yolo_dataset/test/images/ISIC_0030231.jpg: 480x640 (no detections), 26.8ms\n",
      "image 889/1503 /Users/francesco/Repository/computer_vision_project/dataset/HAM10000/yolo_dataset/test/images/ISIC_0030234.jpg: 480x640 1 umbrella, 26.6ms\n",
      "image 890/1503 /Users/francesco/Repository/computer_vision_project/dataset/HAM10000/yolo_dataset/test/images/ISIC_0030247.jpg: 480x640 (no detections), 26.3ms\n",
      "image 891/1503 /Users/francesco/Repository/computer_vision_project/dataset/HAM10000/yolo_dataset/test/images/ISIC_0030255.jpg: 480x640 (no detections), 35.9ms\n",
      "image 892/1503 /Users/francesco/Repository/computer_vision_project/dataset/HAM10000/yolo_dataset/test/images/ISIC_0030260.jpg: 480x640 (no detections), 66.1ms\n",
      "image 893/1503 /Users/francesco/Repository/computer_vision_project/dataset/HAM10000/yolo_dataset/test/images/ISIC_0030263.jpg: 480x640 (no detections), 31.1ms\n",
      "image 894/1503 /Users/francesco/Repository/computer_vision_project/dataset/HAM10000/yolo_dataset/test/images/ISIC_0030267.jpg: 480x640 (no detections), 37.4ms\n",
      "image 895/1503 /Users/francesco/Repository/computer_vision_project/dataset/HAM10000/yolo_dataset/test/images/ISIC_0030269.jpg: 480x640 1 cat, 56.6ms\n",
      "image 896/1503 /Users/francesco/Repository/computer_vision_project/dataset/HAM10000/yolo_dataset/test/images/ISIC_0030272.jpg: 480x640 1 orange, 45.3ms\n",
      "image 897/1503 /Users/francesco/Repository/computer_vision_project/dataset/HAM10000/yolo_dataset/test/images/ISIC_0030273.jpg: 480x640 (no detections), 27.2ms\n",
      "image 898/1503 /Users/francesco/Repository/computer_vision_project/dataset/HAM10000/yolo_dataset/test/images/ISIC_0030296.jpg: 480x640 (no detections), 26.5ms\n",
      "image 899/1503 /Users/francesco/Repository/computer_vision_project/dataset/HAM10000/yolo_dataset/test/images/ISIC_0030307.jpg: 480x640 1 bed, 27.6ms\n",
      "image 900/1503 /Users/francesco/Repository/computer_vision_project/dataset/HAM10000/yolo_dataset/test/images/ISIC_0030310.jpg: 480x640 (no detections), 26.1ms\n",
      "image 901/1503 /Users/francesco/Repository/computer_vision_project/dataset/HAM10000/yolo_dataset/test/images/ISIC_0030324.jpg: 480x640 1 donut, 29.2ms\n",
      "image 902/1503 /Users/francesco/Repository/computer_vision_project/dataset/HAM10000/yolo_dataset/test/images/ISIC_0030331.jpg: 480x640 (no detections), 31.4ms\n",
      "image 903/1503 /Users/francesco/Repository/computer_vision_project/dataset/HAM10000/yolo_dataset/test/images/ISIC_0030356.jpg: 480x640 (no detections), 27.6ms\n",
      "image 904/1503 /Users/francesco/Repository/computer_vision_project/dataset/HAM10000/yolo_dataset/test/images/ISIC_0030357.jpg: 480x640 1 cat, 36.6ms\n",
      "image 905/1503 /Users/francesco/Repository/computer_vision_project/dataset/HAM10000/yolo_dataset/test/images/ISIC_0030362.jpg: 480x640 1 umbrella, 25.2ms\n",
      "image 906/1503 /Users/francesco/Repository/computer_vision_project/dataset/HAM10000/yolo_dataset/test/images/ISIC_0030363.jpg: 480x640 (no detections), 34.4ms\n",
      "image 907/1503 /Users/francesco/Repository/computer_vision_project/dataset/HAM10000/yolo_dataset/test/images/ISIC_0030371.jpg: 480x640 (no detections), 28.6ms\n",
      "image 908/1503 /Users/francesco/Repository/computer_vision_project/dataset/HAM10000/yolo_dataset/test/images/ISIC_0030372.jpg: 480x640 (no detections), 29.2ms\n",
      "image 909/1503 /Users/francesco/Repository/computer_vision_project/dataset/HAM10000/yolo_dataset/test/images/ISIC_0030383.jpg: 480x640 (no detections), 34.9ms\n",
      "image 910/1503 /Users/francesco/Repository/computer_vision_project/dataset/HAM10000/yolo_dataset/test/images/ISIC_0030392.jpg: 480x640 1 umbrella, 32.4ms\n",
      "image 911/1503 /Users/francesco/Repository/computer_vision_project/dataset/HAM10000/yolo_dataset/test/images/ISIC_0030394.jpg: 480x640 (no detections), 26.4ms\n",
      "image 912/1503 /Users/francesco/Repository/computer_vision_project/dataset/HAM10000/yolo_dataset/test/images/ISIC_0030396.jpg: 480x640 1 airplane, 27.4ms\n",
      "image 913/1503 /Users/francesco/Repository/computer_vision_project/dataset/HAM10000/yolo_dataset/test/images/ISIC_0030403.jpg: 480x640 (no detections), 26.2ms\n",
      "image 914/1503 /Users/francesco/Repository/computer_vision_project/dataset/HAM10000/yolo_dataset/test/images/ISIC_0030405.jpg: 480x640 1 cat, 34.8ms\n",
      "image 915/1503 /Users/francesco/Repository/computer_vision_project/dataset/HAM10000/yolo_dataset/test/images/ISIC_0030412.jpg: 480x640 1 cat, 40.9ms\n",
      "image 916/1503 /Users/francesco/Repository/computer_vision_project/dataset/HAM10000/yolo_dataset/test/images/ISIC_0030413.jpg: 480x640 (no detections), 34.3ms\n",
      "image 917/1503 /Users/francesco/Repository/computer_vision_project/dataset/HAM10000/yolo_dataset/test/images/ISIC_0030414.jpg: 480x640 (no detections), 27.3ms\n",
      "image 918/1503 /Users/francesco/Repository/computer_vision_project/dataset/HAM10000/yolo_dataset/test/images/ISIC_0030421.jpg: 480x640 (no detections), 26.3ms\n",
      "image 919/1503 /Users/francesco/Repository/computer_vision_project/dataset/HAM10000/yolo_dataset/test/images/ISIC_0030423.jpg: 480x640 1 donut, 1 cake, 28.1ms\n",
      "image 920/1503 /Users/francesco/Repository/computer_vision_project/dataset/HAM10000/yolo_dataset/test/images/ISIC_0030427.jpg: 480x640 (no detections), 25.1ms\n",
      "image 921/1503 /Users/francesco/Repository/computer_vision_project/dataset/HAM10000/yolo_dataset/test/images/ISIC_0030431.jpg: 480x640 3 kites, 31.6ms\n",
      "image 922/1503 /Users/francesco/Repository/computer_vision_project/dataset/HAM10000/yolo_dataset/test/images/ISIC_0030433.jpg: 480x640 (no detections), 28.1ms\n",
      "image 923/1503 /Users/francesco/Repository/computer_vision_project/dataset/HAM10000/yolo_dataset/test/images/ISIC_0030438.jpg: 480x640 (no detections), 30.7ms\n",
      "image 924/1503 /Users/francesco/Repository/computer_vision_project/dataset/HAM10000/yolo_dataset/test/images/ISIC_0030465.jpg: 480x640 (no detections), 30.7ms\n",
      "image 925/1503 /Users/francesco/Repository/computer_vision_project/dataset/HAM10000/yolo_dataset/test/images/ISIC_0030474.jpg: 480x640 (no detections), 31.2ms\n",
      "image 926/1503 /Users/francesco/Repository/computer_vision_project/dataset/HAM10000/yolo_dataset/test/images/ISIC_0030499.jpg: 480x640 1 cat, 26.0ms\n",
      "image 927/1503 /Users/francesco/Repository/computer_vision_project/dataset/HAM10000/yolo_dataset/test/images/ISIC_0030502.jpg: 480x640 (no detections), 26.3ms\n",
      "image 928/1503 /Users/francesco/Repository/computer_vision_project/dataset/HAM10000/yolo_dataset/test/images/ISIC_0030513.jpg: 480x640 (no detections), 28.3ms\n",
      "image 929/1503 /Users/francesco/Repository/computer_vision_project/dataset/HAM10000/yolo_dataset/test/images/ISIC_0030515.jpg: 480x640 (no detections), 55.8ms\n",
      "image 930/1503 /Users/francesco/Repository/computer_vision_project/dataset/HAM10000/yolo_dataset/test/images/ISIC_0030518.jpg: 480x640 (no detections), 32.4ms\n",
      "image 931/1503 /Users/francesco/Repository/computer_vision_project/dataset/HAM10000/yolo_dataset/test/images/ISIC_0030523.jpg: 480x640 1 umbrella, 26.5ms\n",
      "image 932/1503 /Users/francesco/Repository/computer_vision_project/dataset/HAM10000/yolo_dataset/test/images/ISIC_0030529.jpg: 480x640 1 cat, 25.9ms\n",
      "image 933/1503 /Users/francesco/Repository/computer_vision_project/dataset/HAM10000/yolo_dataset/test/images/ISIC_0030542.jpg: 480x640 1 bear, 26.7ms\n",
      "image 934/1503 /Users/francesco/Repository/computer_vision_project/dataset/HAM10000/yolo_dataset/test/images/ISIC_0030547.jpg: 480x640 1 cat, 31.9ms\n",
      "image 935/1503 /Users/francesco/Repository/computer_vision_project/dataset/HAM10000/yolo_dataset/test/images/ISIC_0030552.jpg: 480x640 (no detections), 32.0ms\n",
      "image 936/1503 /Users/francesco/Repository/computer_vision_project/dataset/HAM10000/yolo_dataset/test/images/ISIC_0030569.jpg: 480x640 (no detections), 25.5ms\n",
      "image 937/1503 /Users/francesco/Repository/computer_vision_project/dataset/HAM10000/yolo_dataset/test/images/ISIC_0030578.jpg: 480x640 (no detections), 25.4ms\n",
      "image 938/1503 /Users/francesco/Repository/computer_vision_project/dataset/HAM10000/yolo_dataset/test/images/ISIC_0030579.jpg: 480x640 (no detections), 29.0ms\n",
      "image 939/1503 /Users/francesco/Repository/computer_vision_project/dataset/HAM10000/yolo_dataset/test/images/ISIC_0030582.jpg: 480x640 (no detections), 27.4ms\n",
      "image 940/1503 /Users/francesco/Repository/computer_vision_project/dataset/HAM10000/yolo_dataset/test/images/ISIC_0030590.jpg: 480x640 1 umbrella, 26.6ms\n",
      "image 941/1503 /Users/francesco/Repository/computer_vision_project/dataset/HAM10000/yolo_dataset/test/images/ISIC_0030605.jpg: 480x640 1 cat, 31.7ms\n",
      "image 942/1503 /Users/francesco/Repository/computer_vision_project/dataset/HAM10000/yolo_dataset/test/images/ISIC_0030611.jpg: 480x640 (no detections), 29.5ms\n",
      "image 943/1503 /Users/francesco/Repository/computer_vision_project/dataset/HAM10000/yolo_dataset/test/images/ISIC_0030619.jpg: 480x640 (no detections), 29.5ms\n",
      "image 944/1503 /Users/francesco/Repository/computer_vision_project/dataset/HAM10000/yolo_dataset/test/images/ISIC_0030627.jpg: 480x640 1 cat, 35.7ms\n",
      "image 945/1503 /Users/francesco/Repository/computer_vision_project/dataset/HAM10000/yolo_dataset/test/images/ISIC_0030637.jpg: 480x640 (no detections), 24.8ms\n",
      "image 946/1503 /Users/francesco/Repository/computer_vision_project/dataset/HAM10000/yolo_dataset/test/images/ISIC_0030639.jpg: 480x640 1 person, 26.4ms\n",
      "image 947/1503 /Users/francesco/Repository/computer_vision_project/dataset/HAM10000/yolo_dataset/test/images/ISIC_0030647.jpg: 480x640 (no detections), 38.4ms\n",
      "image 948/1503 /Users/francesco/Repository/computer_vision_project/dataset/HAM10000/yolo_dataset/test/images/ISIC_0030655.jpg: 480x640 (no detections), 24.7ms\n",
      "image 949/1503 /Users/francesco/Repository/computer_vision_project/dataset/HAM10000/yolo_dataset/test/images/ISIC_0030665.jpg: 480x640 (no detections), 29.4ms\n",
      "image 950/1503 /Users/francesco/Repository/computer_vision_project/dataset/HAM10000/yolo_dataset/test/images/ISIC_0030672.jpg: 480x640 (no detections), 31.3ms\n",
      "image 951/1503 /Users/francesco/Repository/computer_vision_project/dataset/HAM10000/yolo_dataset/test/images/ISIC_0030679.jpg: 480x640 (no detections), 27.7ms\n",
      "image 952/1503 /Users/francesco/Repository/computer_vision_project/dataset/HAM10000/yolo_dataset/test/images/ISIC_0030689.jpg: 480x640 (no detections), 31.8ms\n",
      "image 953/1503 /Users/francesco/Repository/computer_vision_project/dataset/HAM10000/yolo_dataset/test/images/ISIC_0030696.jpg: 480x640 (no detections), 28.4ms\n",
      "image 954/1503 /Users/francesco/Repository/computer_vision_project/dataset/HAM10000/yolo_dataset/test/images/ISIC_0030704.jpg: 480x640 (no detections), 33.0ms\n",
      "image 955/1503 /Users/francesco/Repository/computer_vision_project/dataset/HAM10000/yolo_dataset/test/images/ISIC_0030713.jpg: 480x640 1 cat, 28.9ms\n",
      "image 956/1503 /Users/francesco/Repository/computer_vision_project/dataset/HAM10000/yolo_dataset/test/images/ISIC_0030716.jpg: 480x640 1 cat, 25.0ms\n",
      "image 957/1503 /Users/francesco/Repository/computer_vision_project/dataset/HAM10000/yolo_dataset/test/images/ISIC_0030722.jpg: 480x640 1 donut, 26.7ms\n",
      "image 958/1503 /Users/francesco/Repository/computer_vision_project/dataset/HAM10000/yolo_dataset/test/images/ISIC_0030723.jpg: 480x640 (no detections), 25.8ms\n",
      "image 959/1503 /Users/francesco/Repository/computer_vision_project/dataset/HAM10000/yolo_dataset/test/images/ISIC_0030733.jpg: 480x640 (no detections), 29.3ms\n",
      "image 960/1503 /Users/francesco/Repository/computer_vision_project/dataset/HAM10000/yolo_dataset/test/images/ISIC_0030746.jpg: 480x640 (no detections), 26.4ms\n",
      "image 961/1503 /Users/francesco/Repository/computer_vision_project/dataset/HAM10000/yolo_dataset/test/images/ISIC_0030757.jpg: 480x640 (no detections), 24.9ms\n",
      "image 962/1503 /Users/francesco/Repository/computer_vision_project/dataset/HAM10000/yolo_dataset/test/images/ISIC_0030762.jpg: 480x640 1 cat, 30.2ms\n",
      "image 963/1503 /Users/francesco/Repository/computer_vision_project/dataset/HAM10000/yolo_dataset/test/images/ISIC_0030763.jpg: 480x640 (no detections), 26.1ms\n",
      "image 964/1503 /Users/francesco/Repository/computer_vision_project/dataset/HAM10000/yolo_dataset/test/images/ISIC_0030772.jpg: 480x640 1 cake, 31.4ms\n",
      "image 965/1503 /Users/francesco/Repository/computer_vision_project/dataset/HAM10000/yolo_dataset/test/images/ISIC_0030774.jpg: 480x640 (no detections), 50.9ms\n",
      "image 966/1503 /Users/francesco/Repository/computer_vision_project/dataset/HAM10000/yolo_dataset/test/images/ISIC_0030790.jpg: 480x640 (no detections), 37.8ms\n",
      "image 967/1503 /Users/francesco/Repository/computer_vision_project/dataset/HAM10000/yolo_dataset/test/images/ISIC_0030791.jpg: 480x640 (no detections), 26.9ms\n",
      "image 968/1503 /Users/francesco/Repository/computer_vision_project/dataset/HAM10000/yolo_dataset/test/images/ISIC_0030793.jpg: 480x640 (no detections), 26.9ms\n",
      "image 969/1503 /Users/francesco/Repository/computer_vision_project/dataset/HAM10000/yolo_dataset/test/images/ISIC_0030798.jpg: 480x640 1 cat, 26.1ms\n",
      "image 970/1503 /Users/francesco/Repository/computer_vision_project/dataset/HAM10000/yolo_dataset/test/images/ISIC_0030806.jpg: 480x640 (no detections), 27.6ms\n",
      "image 971/1503 /Users/francesco/Repository/computer_vision_project/dataset/HAM10000/yolo_dataset/test/images/ISIC_0030810.jpg: 480x640 1 airplane, 28.5ms\n",
      "image 972/1503 /Users/francesco/Repository/computer_vision_project/dataset/HAM10000/yolo_dataset/test/images/ISIC_0030827.jpg: 480x640 (no detections), 31.8ms\n",
      "image 973/1503 /Users/francesco/Repository/computer_vision_project/dataset/HAM10000/yolo_dataset/test/images/ISIC_0030842.jpg: 480x640 2 bowls, 28.5ms\n",
      "image 974/1503 /Users/francesco/Repository/computer_vision_project/dataset/HAM10000/yolo_dataset/test/images/ISIC_0030844.jpg: 480x640 (no detections), 25.3ms\n",
      "image 975/1503 /Users/francesco/Repository/computer_vision_project/dataset/HAM10000/yolo_dataset/test/images/ISIC_0030849.jpg: 480x640 (no detections), 26.8ms\n",
      "image 976/1503 /Users/francesco/Repository/computer_vision_project/dataset/HAM10000/yolo_dataset/test/images/ISIC_0030850.jpg: 480x640 (no detections), 27.8ms\n",
      "image 977/1503 /Users/francesco/Repository/computer_vision_project/dataset/HAM10000/yolo_dataset/test/images/ISIC_0030858.jpg: 480x640 1 person, 27.1ms\n",
      "image 978/1503 /Users/francesco/Repository/computer_vision_project/dataset/HAM10000/yolo_dataset/test/images/ISIC_0030865.jpg: 480x640 1 cat, 26.5ms\n",
      "image 979/1503 /Users/francesco/Repository/computer_vision_project/dataset/HAM10000/yolo_dataset/test/images/ISIC_0030870.jpg: 480x640 (no detections), 27.2ms\n",
      "image 980/1503 /Users/francesco/Repository/computer_vision_project/dataset/HAM10000/yolo_dataset/test/images/ISIC_0030871.jpg: 480x640 (no detections), 26.5ms\n",
      "image 981/1503 /Users/francesco/Repository/computer_vision_project/dataset/HAM10000/yolo_dataset/test/images/ISIC_0030876.jpg: 480x640 (no detections), 36.5ms\n",
      "image 982/1503 /Users/francesco/Repository/computer_vision_project/dataset/HAM10000/yolo_dataset/test/images/ISIC_0030879.jpg: 480x640 (no detections), 46.6ms\n",
      "image 983/1503 /Users/francesco/Repository/computer_vision_project/dataset/HAM10000/yolo_dataset/test/images/ISIC_0030882.jpg: 480x640 1 cat, 36.1ms\n",
      "image 984/1503 /Users/francesco/Repository/computer_vision_project/dataset/HAM10000/yolo_dataset/test/images/ISIC_0030883.jpg: 480x640 (no detections), 28.2ms\n",
      "image 985/1503 /Users/francesco/Repository/computer_vision_project/dataset/HAM10000/yolo_dataset/test/images/ISIC_0030891.jpg: 480x640 (no detections), 26.8ms\n",
      "image 986/1503 /Users/francesco/Repository/computer_vision_project/dataset/HAM10000/yolo_dataset/test/images/ISIC_0030892.jpg: 480x640 1 cat, 32.1ms\n",
      "image 987/1503 /Users/francesco/Repository/computer_vision_project/dataset/HAM10000/yolo_dataset/test/images/ISIC_0030893.jpg: 480x640 1 apple, 29.4ms\n",
      "image 988/1503 /Users/francesco/Repository/computer_vision_project/dataset/HAM10000/yolo_dataset/test/images/ISIC_0030896.jpg: 480x640 1 umbrella, 27.3ms\n",
      "image 989/1503 /Users/francesco/Repository/computer_vision_project/dataset/HAM10000/yolo_dataset/test/images/ISIC_0030897.jpg: 480x640 (no detections), 31.0ms\n",
      "image 990/1503 /Users/francesco/Repository/computer_vision_project/dataset/HAM10000/yolo_dataset/test/images/ISIC_0030898.jpg: 480x640 (no detections), 27.0ms\n",
      "image 991/1503 /Users/francesco/Repository/computer_vision_project/dataset/HAM10000/yolo_dataset/test/images/ISIC_0030914.jpg: 480x640 2 birds, 32.8ms\n",
      "image 992/1503 /Users/francesco/Repository/computer_vision_project/dataset/HAM10000/yolo_dataset/test/images/ISIC_0030915.jpg: 480x640 (no detections), 27.9ms\n",
      "image 993/1503 /Users/francesco/Repository/computer_vision_project/dataset/HAM10000/yolo_dataset/test/images/ISIC_0030919.jpg: 480x640 (no detections), 26.4ms\n",
      "image 994/1503 /Users/francesco/Repository/computer_vision_project/dataset/HAM10000/yolo_dataset/test/images/ISIC_0030943.jpg: 480x640 (no detections), 25.3ms\n",
      "image 995/1503 /Users/francesco/Repository/computer_vision_project/dataset/HAM10000/yolo_dataset/test/images/ISIC_0030947.jpg: 480x640 1 umbrella, 25.6ms\n",
      "image 996/1503 /Users/francesco/Repository/computer_vision_project/dataset/HAM10000/yolo_dataset/test/images/ISIC_0030954.jpg: 480x640 (no detections), 27.2ms\n",
      "image 997/1503 /Users/francesco/Repository/computer_vision_project/dataset/HAM10000/yolo_dataset/test/images/ISIC_0030963.jpg: 480x640 (no detections), 30.4ms\n",
      "image 998/1503 /Users/francesco/Repository/computer_vision_project/dataset/HAM10000/yolo_dataset/test/images/ISIC_0030969.jpg: 480x640 (no detections), 32.4ms\n",
      "image 999/1503 /Users/francesco/Repository/computer_vision_project/dataset/HAM10000/yolo_dataset/test/images/ISIC_0030970.jpg: 480x640 (no detections), 38.8ms\n",
      "image 1000/1503 /Users/francesco/Repository/computer_vision_project/dataset/HAM10000/yolo_dataset/test/images/ISIC_0030978.jpg: 480x640 (no detections), 30.9ms\n",
      "image 1001/1503 /Users/francesco/Repository/computer_vision_project/dataset/HAM10000/yolo_dataset/test/images/ISIC_0030979.jpg: 480x640 (no detections), 27.2ms\n",
      "image 1002/1503 /Users/francesco/Repository/computer_vision_project/dataset/HAM10000/yolo_dataset/test/images/ISIC_0030988.jpg: 480x640 (no detections), 25.2ms\n",
      "image 1003/1503 /Users/francesco/Repository/computer_vision_project/dataset/HAM10000/yolo_dataset/test/images/ISIC_0030989.jpg: 480x640 (no detections), 25.9ms\n",
      "image 1004/1503 /Users/francesco/Repository/computer_vision_project/dataset/HAM10000/yolo_dataset/test/images/ISIC_0030998.jpg: 480x640 1 bowl, 1 apple, 1 donut, 24.5ms\n",
      "image 1005/1503 /Users/francesco/Repository/computer_vision_project/dataset/HAM10000/yolo_dataset/test/images/ISIC_0031025.jpg: 480x640 (no detections), 25.0ms\n",
      "image 1006/1503 /Users/francesco/Repository/computer_vision_project/dataset/HAM10000/yolo_dataset/test/images/ISIC_0031032.jpg: 480x640 (no detections), 25.4ms\n",
      "image 1007/1503 /Users/francesco/Repository/computer_vision_project/dataset/HAM10000/yolo_dataset/test/images/ISIC_0031051.jpg: 480x640 (no detections), 71.0ms\n",
      "image 1008/1503 /Users/francesco/Repository/computer_vision_project/dataset/HAM10000/yolo_dataset/test/images/ISIC_0031075.jpg: 480x640 (no detections), 80.1ms\n",
      "image 1009/1503 /Users/francesco/Repository/computer_vision_project/dataset/HAM10000/yolo_dataset/test/images/ISIC_0031080.jpg: 480x640 (no detections), 32.1ms\n",
      "image 1010/1503 /Users/francesco/Repository/computer_vision_project/dataset/HAM10000/yolo_dataset/test/images/ISIC_0031087.jpg: 480x640 (no detections), 52.9ms\n",
      "image 1011/1503 /Users/francesco/Repository/computer_vision_project/dataset/HAM10000/yolo_dataset/test/images/ISIC_0031088.jpg: 480x640 1 donut, 86.0ms\n",
      "image 1012/1503 /Users/francesco/Repository/computer_vision_project/dataset/HAM10000/yolo_dataset/test/images/ISIC_0031092.jpg: 480x640 1 cat, 33.6ms\n",
      "image 1013/1503 /Users/francesco/Repository/computer_vision_project/dataset/HAM10000/yolo_dataset/test/images/ISIC_0031093.jpg: 480x640 1 sports ball, 45.2ms\n",
      "image 1014/1503 /Users/francesco/Repository/computer_vision_project/dataset/HAM10000/yolo_dataset/test/images/ISIC_0031094.jpg: 480x640 (no detections), 39.1ms\n",
      "image 1015/1503 /Users/francesco/Repository/computer_vision_project/dataset/HAM10000/yolo_dataset/test/images/ISIC_0031095.jpg: 480x640 (no detections), 25.3ms\n",
      "image 1016/1503 /Users/francesco/Repository/computer_vision_project/dataset/HAM10000/yolo_dataset/test/images/ISIC_0031096.jpg: 480x640 (no detections), 42.9ms\n",
      "image 1017/1503 /Users/francesco/Repository/computer_vision_project/dataset/HAM10000/yolo_dataset/test/images/ISIC_0031102.jpg: 480x640 (no detections), 44.6ms\n",
      "image 1018/1503 /Users/francesco/Repository/computer_vision_project/dataset/HAM10000/yolo_dataset/test/images/ISIC_0031113.jpg: 480x640 1 cat, 30.0ms\n",
      "image 1019/1503 /Users/francesco/Repository/computer_vision_project/dataset/HAM10000/yolo_dataset/test/images/ISIC_0031114.jpg: 480x640 (no detections), 57.9ms\n",
      "image 1020/1503 /Users/francesco/Repository/computer_vision_project/dataset/HAM10000/yolo_dataset/test/images/ISIC_0031130.jpg: 480x640 1 donut, 43.3ms\n",
      "image 1021/1503 /Users/francesco/Repository/computer_vision_project/dataset/HAM10000/yolo_dataset/test/images/ISIC_0031132.jpg: 480x640 1 apple, 27.5ms\n",
      "image 1022/1503 /Users/francesco/Repository/computer_vision_project/dataset/HAM10000/yolo_dataset/test/images/ISIC_0031144.jpg: 480x640 (no detections), 31.7ms\n",
      "image 1023/1503 /Users/francesco/Repository/computer_vision_project/dataset/HAM10000/yolo_dataset/test/images/ISIC_0031161.jpg: 480x640 (no detections), 26.1ms\n",
      "image 1024/1503 /Users/francesco/Repository/computer_vision_project/dataset/HAM10000/yolo_dataset/test/images/ISIC_0031167.jpg: 480x640 (no detections), 31.5ms\n",
      "image 1025/1503 /Users/francesco/Repository/computer_vision_project/dataset/HAM10000/yolo_dataset/test/images/ISIC_0031168.jpg: 480x640 (no detections), 31.9ms\n",
      "image 1026/1503 /Users/francesco/Repository/computer_vision_project/dataset/HAM10000/yolo_dataset/test/images/ISIC_0031171.jpg: 480x640 1 umbrella, 30.2ms\n",
      "image 1027/1503 /Users/francesco/Repository/computer_vision_project/dataset/HAM10000/yolo_dataset/test/images/ISIC_0031174.jpg: 480x640 (no detections), 26.5ms\n",
      "image 1028/1503 /Users/francesco/Repository/computer_vision_project/dataset/HAM10000/yolo_dataset/test/images/ISIC_0031175.jpg: 480x640 (no detections), 34.8ms\n",
      "image 1029/1503 /Users/francesco/Repository/computer_vision_project/dataset/HAM10000/yolo_dataset/test/images/ISIC_0031192.jpg: 480x640 (no detections), 27.0ms\n",
      "image 1030/1503 /Users/francesco/Repository/computer_vision_project/dataset/HAM10000/yolo_dataset/test/images/ISIC_0031205.jpg: 480x640 1 cat, 30.7ms\n",
      "image 1031/1503 /Users/francesco/Repository/computer_vision_project/dataset/HAM10000/yolo_dataset/test/images/ISIC_0031222.jpg: 480x640 1 cat, 57.9ms\n",
      "image 1032/1503 /Users/francesco/Repository/computer_vision_project/dataset/HAM10000/yolo_dataset/test/images/ISIC_0031224.jpg: 480x640 (no detections), 37.6ms\n",
      "image 1033/1503 /Users/francesco/Repository/computer_vision_project/dataset/HAM10000/yolo_dataset/test/images/ISIC_0031237.jpg: 480x640 1 cat, 34.5ms\n",
      "image 1034/1503 /Users/francesco/Repository/computer_vision_project/dataset/HAM10000/yolo_dataset/test/images/ISIC_0031242.jpg: 480x640 1 cat, 36.2ms\n",
      "image 1035/1503 /Users/francesco/Repository/computer_vision_project/dataset/HAM10000/yolo_dataset/test/images/ISIC_0031243.jpg: 480x640 (no detections), 27.0ms\n",
      "image 1036/1503 /Users/francesco/Repository/computer_vision_project/dataset/HAM10000/yolo_dataset/test/images/ISIC_0031248.jpg: 480x640 1 cat, 29.6ms\n",
      "image 1037/1503 /Users/francesco/Repository/computer_vision_project/dataset/HAM10000/yolo_dataset/test/images/ISIC_0031257.jpg: 480x640 (no detections), 31.2ms\n",
      "image 1038/1503 /Users/francesco/Repository/computer_vision_project/dataset/HAM10000/yolo_dataset/test/images/ISIC_0031260.jpg: 480x640 1 umbrella, 60.9ms\n",
      "image 1039/1503 /Users/francesco/Repository/computer_vision_project/dataset/HAM10000/yolo_dataset/test/images/ISIC_0031263.jpg: 480x640 (no detections), 45.7ms\n",
      "image 1040/1503 /Users/francesco/Repository/computer_vision_project/dataset/HAM10000/yolo_dataset/test/images/ISIC_0031267.jpg: 480x640 (no detections), 64.9ms\n",
      "image 1041/1503 /Users/francesco/Repository/computer_vision_project/dataset/HAM10000/yolo_dataset/test/images/ISIC_0031268.jpg: 480x640 1 cat, 39.0ms\n",
      "image 1042/1503 /Users/francesco/Repository/computer_vision_project/dataset/HAM10000/yolo_dataset/test/images/ISIC_0031269.jpg: 480x640 (no detections), 25.9ms\n",
      "image 1043/1503 /Users/francesco/Repository/computer_vision_project/dataset/HAM10000/yolo_dataset/test/images/ISIC_0031272.jpg: 480x640 (no detections), 25.3ms\n",
      "image 1044/1503 /Users/francesco/Repository/computer_vision_project/dataset/HAM10000/yolo_dataset/test/images/ISIC_0031286.jpg: 480x640 1 airplane, 24.8ms\n",
      "image 1045/1503 /Users/francesco/Repository/computer_vision_project/dataset/HAM10000/yolo_dataset/test/images/ISIC_0031291.jpg: 480x640 (no detections), 25.0ms\n",
      "image 1046/1503 /Users/francesco/Repository/computer_vision_project/dataset/HAM10000/yolo_dataset/test/images/ISIC_0031295.jpg: 480x640 (no detections), 34.8ms\n",
      "image 1047/1503 /Users/francesco/Repository/computer_vision_project/dataset/HAM10000/yolo_dataset/test/images/ISIC_0031296.jpg: 480x640 (no detections), 26.9ms\n",
      "image 1048/1503 /Users/francesco/Repository/computer_vision_project/dataset/HAM10000/yolo_dataset/test/images/ISIC_0031298.jpg: 480x640 (no detections), 29.0ms\n",
      "image 1049/1503 /Users/francesco/Repository/computer_vision_project/dataset/HAM10000/yolo_dataset/test/images/ISIC_0031317.jpg: 480x640 (no detections), 45.0ms\n",
      "image 1050/1503 /Users/francesco/Repository/computer_vision_project/dataset/HAM10000/yolo_dataset/test/images/ISIC_0031320.jpg: 480x640 1 umbrella, 52.8ms\n",
      "image 1051/1503 /Users/francesco/Repository/computer_vision_project/dataset/HAM10000/yolo_dataset/test/images/ISIC_0031327.jpg: 480x640 1 umbrella, 47.1ms\n",
      "image 1052/1503 /Users/francesco/Repository/computer_vision_project/dataset/HAM10000/yolo_dataset/test/images/ISIC_0031328.jpg: 480x640 (no detections), 63.5ms\n",
      "image 1053/1503 /Users/francesco/Repository/computer_vision_project/dataset/HAM10000/yolo_dataset/test/images/ISIC_0031330.jpg: 480x640 (no detections), 58.9ms\n",
      "image 1054/1503 /Users/francesco/Repository/computer_vision_project/dataset/HAM10000/yolo_dataset/test/images/ISIC_0031331.jpg: 480x640 1 cat, 36.9ms\n",
      "image 1055/1503 /Users/francesco/Repository/computer_vision_project/dataset/HAM10000/yolo_dataset/test/images/ISIC_0031335.jpg: 480x640 (no detections), 45.2ms\n",
      "image 1056/1503 /Users/francesco/Repository/computer_vision_project/dataset/HAM10000/yolo_dataset/test/images/ISIC_0031337.jpg: 480x640 1 donut, 31.3ms\n",
      "image 1057/1503 /Users/francesco/Repository/computer_vision_project/dataset/HAM10000/yolo_dataset/test/images/ISIC_0031356.jpg: 480x640 (no detections), 34.9ms\n",
      "image 1058/1503 /Users/francesco/Repository/computer_vision_project/dataset/HAM10000/yolo_dataset/test/images/ISIC_0031362.jpg: 480x640 (no detections), 27.8ms\n",
      "image 1059/1503 /Users/francesco/Repository/computer_vision_project/dataset/HAM10000/yolo_dataset/test/images/ISIC_0031363.jpg: 480x640 (no detections), 27.5ms\n",
      "image 1060/1503 /Users/francesco/Repository/computer_vision_project/dataset/HAM10000/yolo_dataset/test/images/ISIC_0031388.jpg: 480x640 1 umbrella, 29.4ms\n",
      "image 1061/1503 /Users/francesco/Repository/computer_vision_project/dataset/HAM10000/yolo_dataset/test/images/ISIC_0031398.jpg: 480x640 1 cat, 32.9ms\n",
      "image 1062/1503 /Users/francesco/Repository/computer_vision_project/dataset/HAM10000/yolo_dataset/test/images/ISIC_0031413.jpg: 480x640 (no detections), 29.4ms\n",
      "image 1063/1503 /Users/francesco/Repository/computer_vision_project/dataset/HAM10000/yolo_dataset/test/images/ISIC_0031422.jpg: 480x640 (no detections), 46.6ms\n",
      "image 1064/1503 /Users/francesco/Repository/computer_vision_project/dataset/HAM10000/yolo_dataset/test/images/ISIC_0031426.jpg: 480x640 2 cats, 49.3ms\n",
      "image 1065/1503 /Users/francesco/Repository/computer_vision_project/dataset/HAM10000/yolo_dataset/test/images/ISIC_0031433.jpg: 480x640 (no detections), 33.9ms\n",
      "image 1066/1503 /Users/francesco/Repository/computer_vision_project/dataset/HAM10000/yolo_dataset/test/images/ISIC_0031435.jpg: 480x640 (no detections), 27.3ms\n",
      "image 1067/1503 /Users/francesco/Repository/computer_vision_project/dataset/HAM10000/yolo_dataset/test/images/ISIC_0031440.jpg: 480x640 (no detections), 55.6ms\n",
      "image 1068/1503 /Users/francesco/Repository/computer_vision_project/dataset/HAM10000/yolo_dataset/test/images/ISIC_0031464.jpg: 480x640 (no detections), 34.5ms\n",
      "image 1069/1503 /Users/francesco/Repository/computer_vision_project/dataset/HAM10000/yolo_dataset/test/images/ISIC_0031468.jpg: 480x640 1 apple, 32.2ms\n",
      "image 1070/1503 /Users/francesco/Repository/computer_vision_project/dataset/HAM10000/yolo_dataset/test/images/ISIC_0031475.jpg: 480x640 (no detections), 27.1ms\n",
      "image 1071/1503 /Users/francesco/Repository/computer_vision_project/dataset/HAM10000/yolo_dataset/test/images/ISIC_0031491.jpg: 480x640 (no detections), 25.6ms\n",
      "image 1072/1503 /Users/francesco/Repository/computer_vision_project/dataset/HAM10000/yolo_dataset/test/images/ISIC_0031503.jpg: 480x640 (no detections), 26.8ms\n",
      "image 1073/1503 /Users/francesco/Repository/computer_vision_project/dataset/HAM10000/yolo_dataset/test/images/ISIC_0031508.jpg: 480x640 1 cat, 32.6ms\n",
      "image 1074/1503 /Users/francesco/Repository/computer_vision_project/dataset/HAM10000/yolo_dataset/test/images/ISIC_0031522.jpg: 480x640 1 person, 1 apple, 30.2ms\n",
      "image 1075/1503 /Users/francesco/Repository/computer_vision_project/dataset/HAM10000/yolo_dataset/test/images/ISIC_0031524.jpg: 480x640 1 cat, 32.3ms\n",
      "image 1076/1503 /Users/francesco/Repository/computer_vision_project/dataset/HAM10000/yolo_dataset/test/images/ISIC_0031525.jpg: 480x640 (no detections), 39.0ms\n",
      "image 1077/1503 /Users/francesco/Repository/computer_vision_project/dataset/HAM10000/yolo_dataset/test/images/ISIC_0031526.jpg: 480x640 (no detections), 61.2ms\n",
      "image 1078/1503 /Users/francesco/Repository/computer_vision_project/dataset/HAM10000/yolo_dataset/test/images/ISIC_0031533.jpg: 480x640 1 umbrella, 40.6ms\n",
      "image 1079/1503 /Users/francesco/Repository/computer_vision_project/dataset/HAM10000/yolo_dataset/test/images/ISIC_0031535.jpg: 480x640 1 cat, 36.3ms\n",
      "image 1080/1503 /Users/francesco/Repository/computer_vision_project/dataset/HAM10000/yolo_dataset/test/images/ISIC_0031542.jpg: 480x640 (no detections), 30.3ms\n",
      "image 1081/1503 /Users/francesco/Repository/computer_vision_project/dataset/HAM10000/yolo_dataset/test/images/ISIC_0031545.jpg: 480x640 (no detections), 34.3ms\n",
      "image 1082/1503 /Users/francesco/Repository/computer_vision_project/dataset/HAM10000/yolo_dataset/test/images/ISIC_0031546.jpg: 480x640 1 bowl, 1 sink, 37.9ms\n",
      "image 1083/1503 /Users/francesco/Repository/computer_vision_project/dataset/HAM10000/yolo_dataset/test/images/ISIC_0031550.jpg: 480x640 (no detections), 55.1ms\n",
      "image 1084/1503 /Users/francesco/Repository/computer_vision_project/dataset/HAM10000/yolo_dataset/test/images/ISIC_0031554.jpg: 480x640 1 donut, 1 cake, 29.5ms\n",
      "image 1085/1503 /Users/francesco/Repository/computer_vision_project/dataset/HAM10000/yolo_dataset/test/images/ISIC_0031555.jpg: 480x640 1 bowl, 1 apple, 30.1ms\n",
      "image 1086/1503 /Users/francesco/Repository/computer_vision_project/dataset/HAM10000/yolo_dataset/test/images/ISIC_0031560.jpg: 480x640 1 cat, 37.4ms\n",
      "image 1087/1503 /Users/francesco/Repository/computer_vision_project/dataset/HAM10000/yolo_dataset/test/images/ISIC_0031561.jpg: 480x640 1 cat, 29.0ms\n",
      "image 1088/1503 /Users/francesco/Repository/computer_vision_project/dataset/HAM10000/yolo_dataset/test/images/ISIC_0031562.jpg: 480x640 1 cat, 35.3ms\n",
      "image 1089/1503 /Users/francesco/Repository/computer_vision_project/dataset/HAM10000/yolo_dataset/test/images/ISIC_0031572.jpg: 480x640 (no detections), 35.9ms\n",
      "image 1090/1503 /Users/francesco/Repository/computer_vision_project/dataset/HAM10000/yolo_dataset/test/images/ISIC_0031577.jpg: 480x640 (no detections), 71.9ms\n",
      "image 1091/1503 /Users/francesco/Repository/computer_vision_project/dataset/HAM10000/yolo_dataset/test/images/ISIC_0031586.jpg: 480x640 (no detections), 42.1ms\n",
      "image 1092/1503 /Users/francesco/Repository/computer_vision_project/dataset/HAM10000/yolo_dataset/test/images/ISIC_0031587.jpg: 480x640 (no detections), 49.5ms\n",
      "image 1093/1503 /Users/francesco/Repository/computer_vision_project/dataset/HAM10000/yolo_dataset/test/images/ISIC_0031597.jpg: 480x640 (no detections), 41.4ms\n",
      "image 1094/1503 /Users/francesco/Repository/computer_vision_project/dataset/HAM10000/yolo_dataset/test/images/ISIC_0031603.jpg: 480x640 (no detections), 39.1ms\n",
      "image 1095/1503 /Users/francesco/Repository/computer_vision_project/dataset/HAM10000/yolo_dataset/test/images/ISIC_0031616.jpg: 480x640 (no detections), 36.3ms\n",
      "image 1096/1503 /Users/francesco/Repository/computer_vision_project/dataset/HAM10000/yolo_dataset/test/images/ISIC_0031621.jpg: 480x640 1 cat, 29.1ms\n",
      "image 1097/1503 /Users/francesco/Repository/computer_vision_project/dataset/HAM10000/yolo_dataset/test/images/ISIC_0031623.jpg: 480x640 1 cat, 30.0ms\n",
      "image 1098/1503 /Users/francesco/Repository/computer_vision_project/dataset/HAM10000/yolo_dataset/test/images/ISIC_0031627.jpg: 480x640 (no detections), 39.9ms\n",
      "image 1099/1503 /Users/francesco/Repository/computer_vision_project/dataset/HAM10000/yolo_dataset/test/images/ISIC_0031639.jpg: 480x640 (no detections), 35.1ms\n",
      "image 1100/1503 /Users/francesco/Repository/computer_vision_project/dataset/HAM10000/yolo_dataset/test/images/ISIC_0031646.jpg: 480x640 1 apple, 32.5ms\n",
      "image 1101/1503 /Users/francesco/Repository/computer_vision_project/dataset/HAM10000/yolo_dataset/test/images/ISIC_0031662.jpg: 480x640 (no detections), 25.9ms\n",
      "image 1102/1503 /Users/francesco/Repository/computer_vision_project/dataset/HAM10000/yolo_dataset/test/images/ISIC_0031663.jpg: 480x640 (no detections), 28.1ms\n",
      "image 1103/1503 /Users/francesco/Repository/computer_vision_project/dataset/HAM10000/yolo_dataset/test/images/ISIC_0031670.jpg: 480x640 2 birds, 33.5ms\n",
      "image 1104/1503 /Users/francesco/Repository/computer_vision_project/dataset/HAM10000/yolo_dataset/test/images/ISIC_0031676.jpg: 480x640 (no detections), 31.0ms\n",
      "image 1105/1503 /Users/francesco/Repository/computer_vision_project/dataset/HAM10000/yolo_dataset/test/images/ISIC_0031696.jpg: 480x640 1 cat, 32.2ms\n",
      "image 1106/1503 /Users/francesco/Repository/computer_vision_project/dataset/HAM10000/yolo_dataset/test/images/ISIC_0031699.jpg: 480x640 (no detections), 25.4ms\n",
      "image 1107/1503 /Users/francesco/Repository/computer_vision_project/dataset/HAM10000/yolo_dataset/test/images/ISIC_0031704.jpg: 480x640 (no detections), 29.7ms\n",
      "image 1108/1503 /Users/francesco/Repository/computer_vision_project/dataset/HAM10000/yolo_dataset/test/images/ISIC_0031708.jpg: 480x640 2 airplanes, 1 cat, 35.8ms\n",
      "image 1109/1503 /Users/francesco/Repository/computer_vision_project/dataset/HAM10000/yolo_dataset/test/images/ISIC_0031715.jpg: 480x640 (no detections), 77.3ms\n",
      "image 1110/1503 /Users/francesco/Repository/computer_vision_project/dataset/HAM10000/yolo_dataset/test/images/ISIC_0031725.jpg: 480x640 1 cat, 39.3ms\n",
      "image 1111/1503 /Users/francesco/Repository/computer_vision_project/dataset/HAM10000/yolo_dataset/test/images/ISIC_0031732.jpg: 480x640 (no detections), 31.8ms\n",
      "image 1112/1503 /Users/francesco/Repository/computer_vision_project/dataset/HAM10000/yolo_dataset/test/images/ISIC_0031738.jpg: 480x640 1 cat, 27.2ms\n",
      "image 1113/1503 /Users/francesco/Repository/computer_vision_project/dataset/HAM10000/yolo_dataset/test/images/ISIC_0031742.jpg: 480x640 1 cat, 31.6ms\n",
      "image 1114/1503 /Users/francesco/Repository/computer_vision_project/dataset/HAM10000/yolo_dataset/test/images/ISIC_0031745.jpg: 480x640 1 person, 26.9ms\n",
      "image 1115/1503 /Users/francesco/Repository/computer_vision_project/dataset/HAM10000/yolo_dataset/test/images/ISIC_0031764.jpg: 480x640 (no detections), 25.6ms\n",
      "image 1116/1503 /Users/francesco/Repository/computer_vision_project/dataset/HAM10000/yolo_dataset/test/images/ISIC_0031765.jpg: 480x640 (no detections), 33.9ms\n",
      "image 1117/1503 /Users/francesco/Repository/computer_vision_project/dataset/HAM10000/yolo_dataset/test/images/ISIC_0031774.jpg: 480x640 (no detections), 25.4ms\n",
      "image 1118/1503 /Users/francesco/Repository/computer_vision_project/dataset/HAM10000/yolo_dataset/test/images/ISIC_0031797.jpg: 480x640 (no detections), 26.5ms\n",
      "image 1119/1503 /Users/francesco/Repository/computer_vision_project/dataset/HAM10000/yolo_dataset/test/images/ISIC_0031800.jpg: 480x640 (no detections), 32.2ms\n",
      "image 1120/1503 /Users/francesco/Repository/computer_vision_project/dataset/HAM10000/yolo_dataset/test/images/ISIC_0031829.jpg: 480x640 (no detections), 34.5ms\n",
      "image 1121/1503 /Users/francesco/Repository/computer_vision_project/dataset/HAM10000/yolo_dataset/test/images/ISIC_0031832.jpg: 480x640 (no detections), 31.0ms\n",
      "image 1122/1503 /Users/francesco/Repository/computer_vision_project/dataset/HAM10000/yolo_dataset/test/images/ISIC_0031837.jpg: 480x640 1 cat, 35.1ms\n",
      "image 1123/1503 /Users/francesco/Repository/computer_vision_project/dataset/HAM10000/yolo_dataset/test/images/ISIC_0031850.jpg: 480x640 (no detections), 34.7ms\n",
      "image 1124/1503 /Users/francesco/Repository/computer_vision_project/dataset/HAM10000/yolo_dataset/test/images/ISIC_0031851.jpg: 480x640 (no detections), 24.9ms\n",
      "image 1125/1503 /Users/francesco/Repository/computer_vision_project/dataset/HAM10000/yolo_dataset/test/images/ISIC_0031852.jpg: 480x640 (no detections), 33.6ms\n",
      "image 1126/1503 /Users/francesco/Repository/computer_vision_project/dataset/HAM10000/yolo_dataset/test/images/ISIC_0031857.jpg: 480x640 (no detections), 26.2ms\n",
      "image 1127/1503 /Users/francesco/Repository/computer_vision_project/dataset/HAM10000/yolo_dataset/test/images/ISIC_0031860.jpg: 480x640 (no detections), 29.9ms\n",
      "image 1128/1503 /Users/francesco/Repository/computer_vision_project/dataset/HAM10000/yolo_dataset/test/images/ISIC_0031874.jpg: 480x640 (no detections), 25.6ms\n",
      "image 1129/1503 /Users/francesco/Repository/computer_vision_project/dataset/HAM10000/yolo_dataset/test/images/ISIC_0031879.jpg: 480x640 1 cat, 26.4ms\n",
      "image 1130/1503 /Users/francesco/Repository/computer_vision_project/dataset/HAM10000/yolo_dataset/test/images/ISIC_0031881.jpg: 480x640 1 cat, 27.5ms\n",
      "image 1131/1503 /Users/francesco/Repository/computer_vision_project/dataset/HAM10000/yolo_dataset/test/images/ISIC_0031884.jpg: 480x640 1 cat, 25.2ms\n",
      "image 1132/1503 /Users/francesco/Repository/computer_vision_project/dataset/HAM10000/yolo_dataset/test/images/ISIC_0031891.jpg: 480x640 1 cat, 38.4ms\n",
      "image 1133/1503 /Users/francesco/Repository/computer_vision_project/dataset/HAM10000/yolo_dataset/test/images/ISIC_0031899.jpg: 480x640 (no detections), 32.0ms\n",
      "image 1134/1503 /Users/francesco/Repository/computer_vision_project/dataset/HAM10000/yolo_dataset/test/images/ISIC_0031944.jpg: 480x640 (no detections), 33.3ms\n",
      "image 1135/1503 /Users/francesco/Repository/computer_vision_project/dataset/HAM10000/yolo_dataset/test/images/ISIC_0031954.jpg: 480x640 2 cats, 36.7ms\n",
      "image 1136/1503 /Users/francesco/Repository/computer_vision_project/dataset/HAM10000/yolo_dataset/test/images/ISIC_0031968.jpg: 480x640 (no detections), 34.7ms\n",
      "image 1137/1503 /Users/francesco/Repository/computer_vision_project/dataset/HAM10000/yolo_dataset/test/images/ISIC_0031970.jpg: 480x640 (no detections), 26.1ms\n",
      "image 1138/1503 /Users/francesco/Repository/computer_vision_project/dataset/HAM10000/yolo_dataset/test/images/ISIC_0031973.jpg: 480x640 1 umbrella, 37.3ms\n",
      "image 1139/1503 /Users/francesco/Repository/computer_vision_project/dataset/HAM10000/yolo_dataset/test/images/ISIC_0031992.jpg: 480x640 1 cat, 29.5ms\n",
      "image 1140/1503 /Users/francesco/Repository/computer_vision_project/dataset/HAM10000/yolo_dataset/test/images/ISIC_0031997.jpg: 480x640 1 cat, 41.0ms\n",
      "image 1141/1503 /Users/francesco/Repository/computer_vision_project/dataset/HAM10000/yolo_dataset/test/images/ISIC_0032015.jpg: 480x640 1 airplane, 31.8ms\n",
      "image 1142/1503 /Users/francesco/Repository/computer_vision_project/dataset/HAM10000/yolo_dataset/test/images/ISIC_0032019.jpg: 480x640 (no detections), 32.7ms\n",
      "image 1143/1503 /Users/francesco/Repository/computer_vision_project/dataset/HAM10000/yolo_dataset/test/images/ISIC_0032035.jpg: 480x640 1 cat, 25.3ms\n",
      "image 1144/1503 /Users/francesco/Repository/computer_vision_project/dataset/HAM10000/yolo_dataset/test/images/ISIC_0032052.jpg: 480x640 (no detections), 42.3ms\n",
      "image 1145/1503 /Users/francesco/Repository/computer_vision_project/dataset/HAM10000/yolo_dataset/test/images/ISIC_0032053.jpg: 480x640 (no detections), 25.8ms\n",
      "image 1146/1503 /Users/francesco/Repository/computer_vision_project/dataset/HAM10000/yolo_dataset/test/images/ISIC_0032059.jpg: 480x640 (no detections), 27.6ms\n",
      "image 1147/1503 /Users/francesco/Repository/computer_vision_project/dataset/HAM10000/yolo_dataset/test/images/ISIC_0032062.jpg: 480x640 (no detections), 25.2ms\n",
      "image 1148/1503 /Users/francesco/Repository/computer_vision_project/dataset/HAM10000/yolo_dataset/test/images/ISIC_0032065.jpg: 480x640 (no detections), 44.3ms\n",
      "image 1149/1503 /Users/francesco/Repository/computer_vision_project/dataset/HAM10000/yolo_dataset/test/images/ISIC_0032067.jpg: 480x640 (no detections), 30.9ms\n",
      "image 1150/1503 /Users/francesco/Repository/computer_vision_project/dataset/HAM10000/yolo_dataset/test/images/ISIC_0032071.jpg: 480x640 (no detections), 36.5ms\n",
      "image 1151/1503 /Users/francesco/Repository/computer_vision_project/dataset/HAM10000/yolo_dataset/test/images/ISIC_0032073.jpg: 480x640 1 cat, 27.1ms\n",
      "image 1152/1503 /Users/francesco/Repository/computer_vision_project/dataset/HAM10000/yolo_dataset/test/images/ISIC_0032078.jpg: 480x640 1 donut, 33.2ms\n",
      "image 1153/1503 /Users/francesco/Repository/computer_vision_project/dataset/HAM10000/yolo_dataset/test/images/ISIC_0032079.jpg: 480x640 (no detections), 24.9ms\n",
      "image 1154/1503 /Users/francesco/Repository/computer_vision_project/dataset/HAM10000/yolo_dataset/test/images/ISIC_0032081.jpg: 480x640 1 cat, 30.7ms\n",
      "image 1155/1503 /Users/francesco/Repository/computer_vision_project/dataset/HAM10000/yolo_dataset/test/images/ISIC_0032092.jpg: 480x640 (no detections), 28.3ms\n",
      "image 1156/1503 /Users/francesco/Repository/computer_vision_project/dataset/HAM10000/yolo_dataset/test/images/ISIC_0032097.jpg: 480x640 1 cat, 30.8ms\n",
      "image 1157/1503 /Users/francesco/Repository/computer_vision_project/dataset/HAM10000/yolo_dataset/test/images/ISIC_0032099.jpg: 480x640 (no detections), 30.1ms\n",
      "image 1158/1503 /Users/francesco/Repository/computer_vision_project/dataset/HAM10000/yolo_dataset/test/images/ISIC_0032104.jpg: 480x640 (no detections), 27.3ms\n",
      "image 1159/1503 /Users/francesco/Repository/computer_vision_project/dataset/HAM10000/yolo_dataset/test/images/ISIC_0032108.jpg: 480x640 1 cat, 49.9ms\n",
      "image 1160/1503 /Users/francesco/Repository/computer_vision_project/dataset/HAM10000/yolo_dataset/test/images/ISIC_0032109.jpg: 480x640 (no detections), 32.3ms\n",
      "image 1161/1503 /Users/francesco/Repository/computer_vision_project/dataset/HAM10000/yolo_dataset/test/images/ISIC_0032113.jpg: 480x640 (no detections), 48.9ms\n",
      "image 1162/1503 /Users/francesco/Repository/computer_vision_project/dataset/HAM10000/yolo_dataset/test/images/ISIC_0032117.jpg: 480x640 (no detections), 30.1ms\n",
      "image 1163/1503 /Users/francesco/Repository/computer_vision_project/dataset/HAM10000/yolo_dataset/test/images/ISIC_0032126.jpg: 480x640 (no detections), 40.8ms\n",
      "image 1164/1503 /Users/francesco/Repository/computer_vision_project/dataset/HAM10000/yolo_dataset/test/images/ISIC_0032127.jpg: 480x640 (no detections), 36.0ms\n",
      "image 1165/1503 /Users/francesco/Repository/computer_vision_project/dataset/HAM10000/yolo_dataset/test/images/ISIC_0032129.jpg: 480x640 2 donuts, 25.8ms\n",
      "image 1166/1503 /Users/francesco/Repository/computer_vision_project/dataset/HAM10000/yolo_dataset/test/images/ISIC_0032133.jpg: 480x640 (no detections), 30.3ms\n",
      "image 1167/1503 /Users/francesco/Repository/computer_vision_project/dataset/HAM10000/yolo_dataset/test/images/ISIC_0032142.jpg: 480x640 (no detections), 27.5ms\n",
      "image 1168/1503 /Users/francesco/Repository/computer_vision_project/dataset/HAM10000/yolo_dataset/test/images/ISIC_0032144.jpg: 480x640 1 cat, 33.4ms\n",
      "image 1169/1503 /Users/francesco/Repository/computer_vision_project/dataset/HAM10000/yolo_dataset/test/images/ISIC_0032145.jpg: 480x640 (no detections), 27.5ms\n",
      "image 1170/1503 /Users/francesco/Repository/computer_vision_project/dataset/HAM10000/yolo_dataset/test/images/ISIC_0032149.jpg: 480x640 1 cup, 28.6ms\n",
      "image 1171/1503 /Users/francesco/Repository/computer_vision_project/dataset/HAM10000/yolo_dataset/test/images/ISIC_0032153.jpg: 480x640 1 cat, 25.2ms\n",
      "image 1172/1503 /Users/francesco/Repository/computer_vision_project/dataset/HAM10000/yolo_dataset/test/images/ISIC_0032161.jpg: 480x640 1 cat, 34.8ms\n",
      "image 1173/1503 /Users/francesco/Repository/computer_vision_project/dataset/HAM10000/yolo_dataset/test/images/ISIC_0032162.jpg: 480x640 1 cat, 25.1ms\n",
      "image 1174/1503 /Users/francesco/Repository/computer_vision_project/dataset/HAM10000/yolo_dataset/test/images/ISIC_0032170.jpg: 480x640 (no detections), 31.7ms\n",
      "image 1175/1503 /Users/francesco/Repository/computer_vision_project/dataset/HAM10000/yolo_dataset/test/images/ISIC_0032172.jpg: 480x640 (no detections), 29.1ms\n",
      "image 1176/1503 /Users/francesco/Repository/computer_vision_project/dataset/HAM10000/yolo_dataset/test/images/ISIC_0032176.jpg: 480x640 1 cat, 28.3ms\n",
      "image 1177/1503 /Users/francesco/Repository/computer_vision_project/dataset/HAM10000/yolo_dataset/test/images/ISIC_0032187.jpg: 480x640 (no detections), 25.8ms\n",
      "image 1178/1503 /Users/francesco/Repository/computer_vision_project/dataset/HAM10000/yolo_dataset/test/images/ISIC_0032194.jpg: 480x640 (no detections), 34.2ms\n",
      "image 1179/1503 /Users/francesco/Repository/computer_vision_project/dataset/HAM10000/yolo_dataset/test/images/ISIC_0032201.jpg: 480x640 (no detections), 28.3ms\n",
      "image 1180/1503 /Users/francesco/Repository/computer_vision_project/dataset/HAM10000/yolo_dataset/test/images/ISIC_0032208.jpg: 480x640 (no detections), 34.7ms\n",
      "image 1181/1503 /Users/francesco/Repository/computer_vision_project/dataset/HAM10000/yolo_dataset/test/images/ISIC_0032218.jpg: 480x640 (no detections), 33.2ms\n",
      "image 1182/1503 /Users/francesco/Repository/computer_vision_project/dataset/HAM10000/yolo_dataset/test/images/ISIC_0032234.jpg: 480x640 (no detections), 32.9ms\n",
      "image 1183/1503 /Users/francesco/Repository/computer_vision_project/dataset/HAM10000/yolo_dataset/test/images/ISIC_0032241.jpg: 480x640 (no detections), 28.0ms\n",
      "image 1184/1503 /Users/francesco/Repository/computer_vision_project/dataset/HAM10000/yolo_dataset/test/images/ISIC_0032242.jpg: 480x640 1 donut, 28.9ms\n",
      "image 1185/1503 /Users/francesco/Repository/computer_vision_project/dataset/HAM10000/yolo_dataset/test/images/ISIC_0032249.jpg: 480x640 (no detections), 35.7ms\n",
      "image 1186/1503 /Users/francesco/Repository/computer_vision_project/dataset/HAM10000/yolo_dataset/test/images/ISIC_0032262.jpg: 480x640 (no detections), 42.8ms\n",
      "image 1187/1503 /Users/francesco/Repository/computer_vision_project/dataset/HAM10000/yolo_dataset/test/images/ISIC_0032264.jpg: 480x640 1 umbrella, 53.7ms\n",
      "image 1188/1503 /Users/francesco/Repository/computer_vision_project/dataset/HAM10000/yolo_dataset/test/images/ISIC_0032269.jpg: 480x640 (no detections), 36.2ms\n",
      "image 1189/1503 /Users/francesco/Repository/computer_vision_project/dataset/HAM10000/yolo_dataset/test/images/ISIC_0032274.jpg: 480x640 (no detections), 33.5ms\n",
      "image 1190/1503 /Users/francesco/Repository/computer_vision_project/dataset/HAM10000/yolo_dataset/test/images/ISIC_0032283.jpg: 480x640 (no detections), 29.0ms\n",
      "image 1191/1503 /Users/francesco/Repository/computer_vision_project/dataset/HAM10000/yolo_dataset/test/images/ISIC_0032285.jpg: 480x640 (no detections), 38.0ms\n",
      "image 1192/1503 /Users/francesco/Repository/computer_vision_project/dataset/HAM10000/yolo_dataset/test/images/ISIC_0032288.jpg: 480x640 (no detections), 31.1ms\n",
      "image 1193/1503 /Users/francesco/Repository/computer_vision_project/dataset/HAM10000/yolo_dataset/test/images/ISIC_0032290.jpg: 480x640 (no detections), 39.1ms\n",
      "image 1194/1503 /Users/francesco/Repository/computer_vision_project/dataset/HAM10000/yolo_dataset/test/images/ISIC_0032291.jpg: 480x640 (no detections), 48.4ms\n",
      "image 1195/1503 /Users/francesco/Repository/computer_vision_project/dataset/HAM10000/yolo_dataset/test/images/ISIC_0032294.jpg: 480x640 (no detections), 54.1ms\n",
      "image 1196/1503 /Users/francesco/Repository/computer_vision_project/dataset/HAM10000/yolo_dataset/test/images/ISIC_0032301.jpg: 480x640 (no detections), 135.0ms\n",
      "image 1197/1503 /Users/francesco/Repository/computer_vision_project/dataset/HAM10000/yolo_dataset/test/images/ISIC_0032318.jpg: 480x640 (no detections), 45.0ms\n",
      "image 1198/1503 /Users/francesco/Repository/computer_vision_project/dataset/HAM10000/yolo_dataset/test/images/ISIC_0032320.jpg: 480x640 (no detections), 38.4ms\n",
      "image 1199/1503 /Users/francesco/Repository/computer_vision_project/dataset/HAM10000/yolo_dataset/test/images/ISIC_0032323.jpg: 480x640 1 cat, 41.7ms\n",
      "image 1200/1503 /Users/francesco/Repository/computer_vision_project/dataset/HAM10000/yolo_dataset/test/images/ISIC_0032332.jpg: 480x640 (no detections), 42.2ms\n",
      "image 1201/1503 /Users/francesco/Repository/computer_vision_project/dataset/HAM10000/yolo_dataset/test/images/ISIC_0032348.jpg: 480x640 (no detections), 82.9ms\n",
      "image 1202/1503 /Users/francesco/Repository/computer_vision_project/dataset/HAM10000/yolo_dataset/test/images/ISIC_0032361.jpg: 480x640 1 cat, 43.5ms\n",
      "image 1203/1503 /Users/francesco/Repository/computer_vision_project/dataset/HAM10000/yolo_dataset/test/images/ISIC_0032375.jpg: 480x640 (no detections), 48.5ms\n",
      "image 1204/1503 /Users/francesco/Repository/computer_vision_project/dataset/HAM10000/yolo_dataset/test/images/ISIC_0032377.jpg: 480x640 (no detections), 43.9ms\n",
      "image 1205/1503 /Users/francesco/Repository/computer_vision_project/dataset/HAM10000/yolo_dataset/test/images/ISIC_0032381.jpg: 480x640 (no detections), 49.8ms\n",
      "image 1206/1503 /Users/francesco/Repository/computer_vision_project/dataset/HAM10000/yolo_dataset/test/images/ISIC_0032386.jpg: 480x640 1 cat, 41.6ms\n",
      "image 1207/1503 /Users/francesco/Repository/computer_vision_project/dataset/HAM10000/yolo_dataset/test/images/ISIC_0032389.jpg: 480x640 (no detections), 42.6ms\n",
      "image 1208/1503 /Users/francesco/Repository/computer_vision_project/dataset/HAM10000/yolo_dataset/test/images/ISIC_0032402.jpg: 480x640 (no detections), 51.7ms\n",
      "image 1209/1503 /Users/francesco/Repository/computer_vision_project/dataset/HAM10000/yolo_dataset/test/images/ISIC_0032405.jpg: 480x640 1 donut, 50.0ms\n",
      "image 1210/1503 /Users/francesco/Repository/computer_vision_project/dataset/HAM10000/yolo_dataset/test/images/ISIC_0032406.jpg: 480x640 1 umbrella, 67.4ms\n",
      "image 1211/1503 /Users/francesco/Repository/computer_vision_project/dataset/HAM10000/yolo_dataset/test/images/ISIC_0032414.jpg: 480x640 (no detections), 50.4ms\n",
      "image 1212/1503 /Users/francesco/Repository/computer_vision_project/dataset/HAM10000/yolo_dataset/test/images/ISIC_0032426.jpg: 480x640 (no detections), 67.5ms\n",
      "image 1213/1503 /Users/francesco/Repository/computer_vision_project/dataset/HAM10000/yolo_dataset/test/images/ISIC_0032427.jpg: 480x640 (no detections), 51.0ms\n",
      "image 1214/1503 /Users/francesco/Repository/computer_vision_project/dataset/HAM10000/yolo_dataset/test/images/ISIC_0032428.jpg: 480x640 (no detections), 64.0ms\n",
      "image 1215/1503 /Users/francesco/Repository/computer_vision_project/dataset/HAM10000/yolo_dataset/test/images/ISIC_0032433.jpg: 480x640 (no detections), 55.4ms\n",
      "image 1216/1503 /Users/francesco/Repository/computer_vision_project/dataset/HAM10000/yolo_dataset/test/images/ISIC_0032459.jpg: 480x640 1 apple, 59.1ms\n",
      "image 1217/1503 /Users/francesco/Repository/computer_vision_project/dataset/HAM10000/yolo_dataset/test/images/ISIC_0032460.jpg: 480x640 (no detections), 85.4ms\n",
      "image 1218/1503 /Users/francesco/Repository/computer_vision_project/dataset/HAM10000/yolo_dataset/test/images/ISIC_0032465.jpg: 480x640 (no detections), 53.0ms\n",
      "image 1219/1503 /Users/francesco/Repository/computer_vision_project/dataset/HAM10000/yolo_dataset/test/images/ISIC_0032466.jpg: 480x640 1 bowl, 65.8ms\n",
      "image 1220/1503 /Users/francesco/Repository/computer_vision_project/dataset/HAM10000/yolo_dataset/test/images/ISIC_0032478.jpg: 480x640 1 cake, 52.8ms\n",
      "image 1221/1503 /Users/francesco/Repository/computer_vision_project/dataset/HAM10000/yolo_dataset/test/images/ISIC_0032479.jpg: 480x640 1 cat, 48.1ms\n",
      "image 1222/1503 /Users/francesco/Repository/computer_vision_project/dataset/HAM10000/yolo_dataset/test/images/ISIC_0032480.jpg: 480x640 (no detections), 47.8ms\n",
      "image 1223/1503 /Users/francesco/Repository/computer_vision_project/dataset/HAM10000/yolo_dataset/test/images/ISIC_0032482.jpg: 480x640 (no detections), 42.7ms\n",
      "image 1224/1503 /Users/francesco/Repository/computer_vision_project/dataset/HAM10000/yolo_dataset/test/images/ISIC_0032483.jpg: 480x640 (no detections), 41.5ms\n",
      "image 1225/1503 /Users/francesco/Repository/computer_vision_project/dataset/HAM10000/yolo_dataset/test/images/ISIC_0032490.jpg: 480x640 (no detections), 38.8ms\n",
      "image 1226/1503 /Users/francesco/Repository/computer_vision_project/dataset/HAM10000/yolo_dataset/test/images/ISIC_0032491.jpg: 480x640 (no detections), 67.5ms\n",
      "image 1227/1503 /Users/francesco/Repository/computer_vision_project/dataset/HAM10000/yolo_dataset/test/images/ISIC_0032499.jpg: 480x640 (no detections), 72.2ms\n",
      "image 1228/1503 /Users/francesco/Repository/computer_vision_project/dataset/HAM10000/yolo_dataset/test/images/ISIC_0032501.jpg: 480x640 (no detections), 52.1ms\n",
      "image 1229/1503 /Users/francesco/Repository/computer_vision_project/dataset/HAM10000/yolo_dataset/test/images/ISIC_0032506.jpg: 480x640 1 umbrella, 39.0ms\n",
      "image 1230/1503 /Users/francesco/Repository/computer_vision_project/dataset/HAM10000/yolo_dataset/test/images/ISIC_0032517.jpg: 480x640 1 person, 1 donut, 47.4ms\n",
      "image 1231/1503 /Users/francesco/Repository/computer_vision_project/dataset/HAM10000/yolo_dataset/test/images/ISIC_0032523.jpg: 480x640 1 cat, 48.9ms\n",
      "image 1232/1503 /Users/francesco/Repository/computer_vision_project/dataset/HAM10000/yolo_dataset/test/images/ISIC_0032537.jpg: 480x640 (no detections), 36.7ms\n",
      "image 1233/1503 /Users/francesco/Repository/computer_vision_project/dataset/HAM10000/yolo_dataset/test/images/ISIC_0032549.jpg: 480x640 1 person, 1 donut, 62.3ms\n",
      "image 1234/1503 /Users/francesco/Repository/computer_vision_project/dataset/HAM10000/yolo_dataset/test/images/ISIC_0032555.jpg: 480x640 1 cat, 1 apple, 42.3ms\n",
      "image 1235/1503 /Users/francesco/Repository/computer_vision_project/dataset/HAM10000/yolo_dataset/test/images/ISIC_0032556.jpg: 480x640 1 donut, 31.0ms\n",
      "image 1236/1503 /Users/francesco/Repository/computer_vision_project/dataset/HAM10000/yolo_dataset/test/images/ISIC_0032560.jpg: 480x640 1 person, 38.2ms\n",
      "image 1237/1503 /Users/francesco/Repository/computer_vision_project/dataset/HAM10000/yolo_dataset/test/images/ISIC_0032564.jpg: 480x640 (no detections), 36.2ms\n",
      "image 1238/1503 /Users/francesco/Repository/computer_vision_project/dataset/HAM10000/yolo_dataset/test/images/ISIC_0032585.jpg: 480x640 (no detections), 42.4ms\n",
      "image 1239/1503 /Users/francesco/Repository/computer_vision_project/dataset/HAM10000/yolo_dataset/test/images/ISIC_0032591.jpg: 480x640 1 donut, 42.7ms\n",
      "image 1240/1503 /Users/francesco/Repository/computer_vision_project/dataset/HAM10000/yolo_dataset/test/images/ISIC_0032600.jpg: 480x640 1 cat, 47.0ms\n",
      "image 1241/1503 /Users/francesco/Repository/computer_vision_project/dataset/HAM10000/yolo_dataset/test/images/ISIC_0032605.jpg: 480x640 (no detections), 79.4ms\n",
      "image 1242/1503 /Users/francesco/Repository/computer_vision_project/dataset/HAM10000/yolo_dataset/test/images/ISIC_0032610.jpg: 480x640 1 person, 30.7ms\n",
      "image 1243/1503 /Users/francesco/Repository/computer_vision_project/dataset/HAM10000/yolo_dataset/test/images/ISIC_0032613.jpg: 480x640 1 cat, 30.4ms\n",
      "image 1244/1503 /Users/francesco/Repository/computer_vision_project/dataset/HAM10000/yolo_dataset/test/images/ISIC_0032617.jpg: 480x640 1 pizza, 58.0ms\n",
      "image 1245/1503 /Users/francesco/Repository/computer_vision_project/dataset/HAM10000/yolo_dataset/test/images/ISIC_0032637.jpg: 480x640 (no detections), 138.6ms\n",
      "image 1246/1503 /Users/francesco/Repository/computer_vision_project/dataset/HAM10000/yolo_dataset/test/images/ISIC_0032639.jpg: 480x640 1 cat, 49.6ms\n",
      "image 1247/1503 /Users/francesco/Repository/computer_vision_project/dataset/HAM10000/yolo_dataset/test/images/ISIC_0032648.jpg: 480x640 1 person, 36.7ms\n",
      "image 1248/1503 /Users/francesco/Repository/computer_vision_project/dataset/HAM10000/yolo_dataset/test/images/ISIC_0032653.jpg: 480x640 1 apple, 31.5ms\n",
      "image 1249/1503 /Users/francesco/Repository/computer_vision_project/dataset/HAM10000/yolo_dataset/test/images/ISIC_0032661.jpg: 480x640 (no detections), 234.1ms\n",
      "image 1250/1503 /Users/francesco/Repository/computer_vision_project/dataset/HAM10000/yolo_dataset/test/images/ISIC_0032667.jpg: 480x640 1 person, 1 bed, 47.4ms\n",
      "image 1251/1503 /Users/francesco/Repository/computer_vision_project/dataset/HAM10000/yolo_dataset/test/images/ISIC_0032669.jpg: 480x640 (no detections), 48.9ms\n",
      "image 1252/1503 /Users/francesco/Repository/computer_vision_project/dataset/HAM10000/yolo_dataset/test/images/ISIC_0032670.jpg: 480x640 (no detections), 31.1ms\n",
      "image 1253/1503 /Users/francesco/Repository/computer_vision_project/dataset/HAM10000/yolo_dataset/test/images/ISIC_0032687.jpg: 480x640 1 person, 1 donut, 33.9ms\n",
      "image 1254/1503 /Users/francesco/Repository/computer_vision_project/dataset/HAM10000/yolo_dataset/test/images/ISIC_0032688.jpg: 480x640 (no detections), 37.1ms\n",
      "image 1255/1503 /Users/francesco/Repository/computer_vision_project/dataset/HAM10000/yolo_dataset/test/images/ISIC_0032690.jpg: 480x640 1 cake, 56.1ms\n",
      "image 1256/1503 /Users/francesco/Repository/computer_vision_project/dataset/HAM10000/yolo_dataset/test/images/ISIC_0032698.jpg: 480x640 (no detections), 39.7ms\n",
      "image 1257/1503 /Users/francesco/Repository/computer_vision_project/dataset/HAM10000/yolo_dataset/test/images/ISIC_0032706.jpg: 480x640 1 cat, 36.9ms\n",
      "image 1258/1503 /Users/francesco/Repository/computer_vision_project/dataset/HAM10000/yolo_dataset/test/images/ISIC_0032709.jpg: 480x640 (no detections), 55.5ms\n",
      "image 1259/1503 /Users/francesco/Repository/computer_vision_project/dataset/HAM10000/yolo_dataset/test/images/ISIC_0032721.jpg: 480x640 (no detections), 42.5ms\n",
      "image 1260/1503 /Users/francesco/Repository/computer_vision_project/dataset/HAM10000/yolo_dataset/test/images/ISIC_0032725.jpg: 480x640 (no detections), 37.6ms\n",
      "image 1261/1503 /Users/francesco/Repository/computer_vision_project/dataset/HAM10000/yolo_dataset/test/images/ISIC_0032732.jpg: 480x640 1 person, 1 pizza, 33.7ms\n",
      "image 1262/1503 /Users/francesco/Repository/computer_vision_project/dataset/HAM10000/yolo_dataset/test/images/ISIC_0032740.jpg: 480x640 (no detections), 31.3ms\n",
      "image 1263/1503 /Users/francesco/Repository/computer_vision_project/dataset/HAM10000/yolo_dataset/test/images/ISIC_0032742.jpg: 480x640 1 cat, 45.0ms\n",
      "image 1264/1503 /Users/francesco/Repository/computer_vision_project/dataset/HAM10000/yolo_dataset/test/images/ISIC_0032757.jpg: 480x640 1 person, 37.4ms\n",
      "image 1265/1503 /Users/francesco/Repository/computer_vision_project/dataset/HAM10000/yolo_dataset/test/images/ISIC_0032759.jpg: 480x640 (no detections), 38.1ms\n",
      "image 1266/1503 /Users/francesco/Repository/computer_vision_project/dataset/HAM10000/yolo_dataset/test/images/ISIC_0032760.jpg: 480x640 (no detections), 40.5ms\n",
      "image 1267/1503 /Users/francesco/Repository/computer_vision_project/dataset/HAM10000/yolo_dataset/test/images/ISIC_0032761.jpg: 480x640 1 cake, 41.6ms\n",
      "image 1268/1503 /Users/francesco/Repository/computer_vision_project/dataset/HAM10000/yolo_dataset/test/images/ISIC_0032762.jpg: 480x640 1 cat, 36.9ms\n",
      "image 1269/1503 /Users/francesco/Repository/computer_vision_project/dataset/HAM10000/yolo_dataset/test/images/ISIC_0032769.jpg: 480x640 1 cat, 37.8ms\n",
      "image 1270/1503 /Users/francesco/Repository/computer_vision_project/dataset/HAM10000/yolo_dataset/test/images/ISIC_0032794.jpg: 480x640 1 donut, 1 teddy bear, 30.1ms\n",
      "image 1271/1503 /Users/francesco/Repository/computer_vision_project/dataset/HAM10000/yolo_dataset/test/images/ISIC_0032797.jpg: 480x640 (no detections), 52.4ms\n",
      "image 1272/1503 /Users/francesco/Repository/computer_vision_project/dataset/HAM10000/yolo_dataset/test/images/ISIC_0032802.jpg: 480x640 (no detections), 38.6ms\n",
      "image 1273/1503 /Users/francesco/Repository/computer_vision_project/dataset/HAM10000/yolo_dataset/test/images/ISIC_0032805.jpg: 480x640 (no detections), 35.3ms\n",
      "image 1274/1503 /Users/francesco/Repository/computer_vision_project/dataset/HAM10000/yolo_dataset/test/images/ISIC_0032820.jpg: 480x640 1 cat, 1 bed, 39.9ms\n",
      "image 1275/1503 /Users/francesco/Repository/computer_vision_project/dataset/HAM10000/yolo_dataset/test/images/ISIC_0032830.jpg: 480x640 1 cake, 32.0ms\n",
      "image 1276/1503 /Users/francesco/Repository/computer_vision_project/dataset/HAM10000/yolo_dataset/test/images/ISIC_0032831.jpg: 480x640 1 cat, 39.1ms\n",
      "image 1277/1503 /Users/francesco/Repository/computer_vision_project/dataset/HAM10000/yolo_dataset/test/images/ISIC_0032839.jpg: 480x640 1 orange, 53.7ms\n",
      "image 1278/1503 /Users/francesco/Repository/computer_vision_project/dataset/HAM10000/yolo_dataset/test/images/ISIC_0032844.jpg: 480x640 1 person, 40.8ms\n",
      "image 1279/1503 /Users/francesco/Repository/computer_vision_project/dataset/HAM10000/yolo_dataset/test/images/ISIC_0032845.jpg: 480x640 1 cat, 35.7ms\n",
      "image 1280/1503 /Users/francesco/Repository/computer_vision_project/dataset/HAM10000/yolo_dataset/test/images/ISIC_0032861.jpg: 480x640 1 donut, 27.2ms\n",
      "image 1281/1503 /Users/francesco/Repository/computer_vision_project/dataset/HAM10000/yolo_dataset/test/images/ISIC_0032865.jpg: 480x640 (no detections), 33.2ms\n",
      "image 1282/1503 /Users/francesco/Repository/computer_vision_project/dataset/HAM10000/yolo_dataset/test/images/ISIC_0032866.jpg: 480x640 (no detections), 30.3ms\n",
      "image 1283/1503 /Users/francesco/Repository/computer_vision_project/dataset/HAM10000/yolo_dataset/test/images/ISIC_0032868.jpg: 480x640 (no detections), 46.8ms\n",
      "image 1284/1503 /Users/francesco/Repository/computer_vision_project/dataset/HAM10000/yolo_dataset/test/images/ISIC_0032872.jpg: 480x640 (no detections), 33.3ms\n",
      "image 1285/1503 /Users/francesco/Repository/computer_vision_project/dataset/HAM10000/yolo_dataset/test/images/ISIC_0032881.jpg: 480x640 (no detections), 43.4ms\n",
      "image 1286/1503 /Users/francesco/Repository/computer_vision_project/dataset/HAM10000/yolo_dataset/test/images/ISIC_0032883.jpg: 480x640 (no detections), 38.2ms\n",
      "image 1287/1503 /Users/francesco/Repository/computer_vision_project/dataset/HAM10000/yolo_dataset/test/images/ISIC_0032885.jpg: 480x640 2 cats, 40.5ms\n",
      "image 1288/1503 /Users/francesco/Repository/computer_vision_project/dataset/HAM10000/yolo_dataset/test/images/ISIC_0032896.jpg: 480x640 (no detections), 36.1ms\n",
      "image 1289/1503 /Users/francesco/Repository/computer_vision_project/dataset/HAM10000/yolo_dataset/test/images/ISIC_0032901.jpg: 480x640 1 cat, 1 bed, 30.7ms\n",
      "image 1290/1503 /Users/francesco/Repository/computer_vision_project/dataset/HAM10000/yolo_dataset/test/images/ISIC_0032914.jpg: 480x640 (no detections), 68.5ms\n",
      "image 1291/1503 /Users/francesco/Repository/computer_vision_project/dataset/HAM10000/yolo_dataset/test/images/ISIC_0032924.jpg: 480x640 (no detections), 32.8ms\n",
      "image 1292/1503 /Users/francesco/Repository/computer_vision_project/dataset/HAM10000/yolo_dataset/test/images/ISIC_0032930.jpg: 480x640 (no detections), 30.1ms\n",
      "image 1293/1503 /Users/francesco/Repository/computer_vision_project/dataset/HAM10000/yolo_dataset/test/images/ISIC_0032934.jpg: 480x640 1 cake, 36.8ms\n",
      "image 1294/1503 /Users/francesco/Repository/computer_vision_project/dataset/HAM10000/yolo_dataset/test/images/ISIC_0032940.jpg: 480x640 1 pizza, 105.9ms\n",
      "image 1295/1503 /Users/francesco/Repository/computer_vision_project/dataset/HAM10000/yolo_dataset/test/images/ISIC_0032947.jpg: 480x640 (no detections), 43.6ms\n",
      "image 1296/1503 /Users/francesco/Repository/computer_vision_project/dataset/HAM10000/yolo_dataset/test/images/ISIC_0032953.jpg: 480x640 1 person, 92.8ms\n",
      "image 1297/1503 /Users/francesco/Repository/computer_vision_project/dataset/HAM10000/yolo_dataset/test/images/ISIC_0032955.jpg: 480x640 1 cat, 60.0ms\n",
      "image 1298/1503 /Users/francesco/Repository/computer_vision_project/dataset/HAM10000/yolo_dataset/test/images/ISIC_0032989.jpg: 480x640 1 person, 1 donut, 36.6ms\n",
      "image 1299/1503 /Users/francesco/Repository/computer_vision_project/dataset/HAM10000/yolo_dataset/test/images/ISIC_0033004.jpg: 480x640 (no detections), 26.5ms\n",
      "image 1300/1503 /Users/francesco/Repository/computer_vision_project/dataset/HAM10000/yolo_dataset/test/images/ISIC_0033012.jpg: 480x640 (no detections), 80.8ms\n",
      "image 1301/1503 /Users/francesco/Repository/computer_vision_project/dataset/HAM10000/yolo_dataset/test/images/ISIC_0033013.jpg: 480x640 1 cake, 79.3ms\n",
      "image 1302/1503 /Users/francesco/Repository/computer_vision_project/dataset/HAM10000/yolo_dataset/test/images/ISIC_0033020.jpg: 480x640 (no detections), 39.6ms\n",
      "image 1303/1503 /Users/francesco/Repository/computer_vision_project/dataset/HAM10000/yolo_dataset/test/images/ISIC_0033022.jpg: 480x640 1 cat, 38.4ms\n",
      "image 1304/1503 /Users/francesco/Repository/computer_vision_project/dataset/HAM10000/yolo_dataset/test/images/ISIC_0033026.jpg: 480x640 2 cats, 35.4ms\n",
      "image 1305/1503 /Users/francesco/Repository/computer_vision_project/dataset/HAM10000/yolo_dataset/test/images/ISIC_0033036.jpg: 480x640 1 cat, 35.6ms\n",
      "image 1306/1503 /Users/francesco/Repository/computer_vision_project/dataset/HAM10000/yolo_dataset/test/images/ISIC_0033043.jpg: 480x640 1 cat, 27.9ms\n",
      "image 1307/1503 /Users/francesco/Repository/computer_vision_project/dataset/HAM10000/yolo_dataset/test/images/ISIC_0033082.jpg: 480x640 1 cat, 30.7ms\n",
      "image 1308/1503 /Users/francesco/Repository/computer_vision_project/dataset/HAM10000/yolo_dataset/test/images/ISIC_0033097.jpg: 480x640 (no detections), 58.2ms\n",
      "image 1309/1503 /Users/francesco/Repository/computer_vision_project/dataset/HAM10000/yolo_dataset/test/images/ISIC_0033107.jpg: 480x640 (no detections), 36.7ms\n",
      "image 1310/1503 /Users/francesco/Repository/computer_vision_project/dataset/HAM10000/yolo_dataset/test/images/ISIC_0033111.jpg: 480x640 1 cat, 1 bed, 35.9ms\n",
      "image 1311/1503 /Users/francesco/Repository/computer_vision_project/dataset/HAM10000/yolo_dataset/test/images/ISIC_0033125.jpg: 480x640 1 cat, 28.7ms\n",
      "image 1312/1503 /Users/francesco/Repository/computer_vision_project/dataset/HAM10000/yolo_dataset/test/images/ISIC_0033141.jpg: 480x640 1 cat, 38.2ms\n",
      "image 1313/1503 /Users/francesco/Repository/computer_vision_project/dataset/HAM10000/yolo_dataset/test/images/ISIC_0033144.jpg: 480x640 (no detections), 44.8ms\n",
      "image 1314/1503 /Users/francesco/Repository/computer_vision_project/dataset/HAM10000/yolo_dataset/test/images/ISIC_0033147.jpg: 480x640 1 cat, 32.2ms\n",
      "image 1315/1503 /Users/francesco/Repository/computer_vision_project/dataset/HAM10000/yolo_dataset/test/images/ISIC_0033149.jpg: 480x640 1 cat, 44.2ms\n",
      "image 1316/1503 /Users/francesco/Repository/computer_vision_project/dataset/HAM10000/yolo_dataset/test/images/ISIC_0033166.jpg: 480x640 1 person, 28.8ms\n",
      "image 1317/1503 /Users/francesco/Repository/computer_vision_project/dataset/HAM10000/yolo_dataset/test/images/ISIC_0033170.jpg: 480x640 (no detections), 47.0ms\n",
      "image 1318/1503 /Users/francesco/Repository/computer_vision_project/dataset/HAM10000/yolo_dataset/test/images/ISIC_0033182.jpg: 480x640 1 person, 38.2ms\n",
      "image 1319/1503 /Users/francesco/Repository/computer_vision_project/dataset/HAM10000/yolo_dataset/test/images/ISIC_0033183.jpg: 480x640 (no detections), 33.7ms\n",
      "image 1320/1503 /Users/francesco/Repository/computer_vision_project/dataset/HAM10000/yolo_dataset/test/images/ISIC_0033191.jpg: 480x640 1 cat, 47.2ms\n",
      "image 1321/1503 /Users/francesco/Repository/computer_vision_project/dataset/HAM10000/yolo_dataset/test/images/ISIC_0033195.jpg: 480x640 1 donut, 32.5ms\n",
      "image 1322/1503 /Users/francesco/Repository/computer_vision_project/dataset/HAM10000/yolo_dataset/test/images/ISIC_0033199.jpg: 480x640 (no detections), 38.4ms\n",
      "image 1323/1503 /Users/francesco/Repository/computer_vision_project/dataset/HAM10000/yolo_dataset/test/images/ISIC_0033203.jpg: 480x640 (no detections), 35.6ms\n",
      "image 1324/1503 /Users/francesco/Repository/computer_vision_project/dataset/HAM10000/yolo_dataset/test/images/ISIC_0033206.jpg: 480x640 1 person, 53.3ms\n",
      "image 1325/1503 /Users/francesco/Repository/computer_vision_project/dataset/HAM10000/yolo_dataset/test/images/ISIC_0033210.jpg: 480x640 1 cat, 34.2ms\n",
      "image 1326/1503 /Users/francesco/Repository/computer_vision_project/dataset/HAM10000/yolo_dataset/test/images/ISIC_0033212.jpg: 480x640 1 donut, 1 dining table, 37.4ms\n",
      "image 1327/1503 /Users/francesco/Repository/computer_vision_project/dataset/HAM10000/yolo_dataset/test/images/ISIC_0033220.jpg: 480x640 1 cat, 1 bed, 34.0ms\n",
      "image 1328/1503 /Users/francesco/Repository/computer_vision_project/dataset/HAM10000/yolo_dataset/test/images/ISIC_0033242.jpg: 480x640 (no detections), 55.8ms\n",
      "image 1329/1503 /Users/francesco/Repository/computer_vision_project/dataset/HAM10000/yolo_dataset/test/images/ISIC_0033243.jpg: 480x640 (no detections), 37.4ms\n",
      "image 1330/1503 /Users/francesco/Repository/computer_vision_project/dataset/HAM10000/yolo_dataset/test/images/ISIC_0033253.jpg: 480x640 (no detections), 34.1ms\n",
      "image 1331/1503 /Users/francesco/Repository/computer_vision_project/dataset/HAM10000/yolo_dataset/test/images/ISIC_0033260.jpg: 480x640 1 donut, 34.8ms\n",
      "image 1332/1503 /Users/francesco/Repository/computer_vision_project/dataset/HAM10000/yolo_dataset/test/images/ISIC_0033262.jpg: 480x640 (no detections), 40.5ms\n",
      "image 1333/1503 /Users/francesco/Repository/computer_vision_project/dataset/HAM10000/yolo_dataset/test/images/ISIC_0033263.jpg: 480x640 (no detections), 37.1ms\n",
      "image 1334/1503 /Users/francesco/Repository/computer_vision_project/dataset/HAM10000/yolo_dataset/test/images/ISIC_0033272.jpg: 480x640 (no detections), 32.1ms\n",
      "image 1335/1503 /Users/francesco/Repository/computer_vision_project/dataset/HAM10000/yolo_dataset/test/images/ISIC_0033278.jpg: 480x640 (no detections), 33.5ms\n",
      "image 1336/1503 /Users/francesco/Repository/computer_vision_project/dataset/HAM10000/yolo_dataset/test/images/ISIC_0033280.jpg: 480x640 1 person, 1 donut, 34.9ms\n",
      "image 1337/1503 /Users/francesco/Repository/computer_vision_project/dataset/HAM10000/yolo_dataset/test/images/ISIC_0033284.jpg: 480x640 1 person, 1 donut, 39.8ms\n",
      "image 1338/1503 /Users/francesco/Repository/computer_vision_project/dataset/HAM10000/yolo_dataset/test/images/ISIC_0033291.jpg: 480x640 1 cat, 66.5ms\n",
      "image 1339/1503 /Users/francesco/Repository/computer_vision_project/dataset/HAM10000/yolo_dataset/test/images/ISIC_0033294.jpg: 480x640 1 donut, 63.6ms\n",
      "image 1340/1503 /Users/francesco/Repository/computer_vision_project/dataset/HAM10000/yolo_dataset/test/images/ISIC_0033299.jpg: 480x640 (no detections), 41.3ms\n",
      "image 1341/1503 /Users/francesco/Repository/computer_vision_project/dataset/HAM10000/yolo_dataset/test/images/ISIC_0033306.jpg: 480x640 (no detections), 37.3ms\n",
      "image 1342/1503 /Users/francesco/Repository/computer_vision_project/dataset/HAM10000/yolo_dataset/test/images/ISIC_0033311.jpg: 480x640 1 donut, 31.8ms\n",
      "image 1343/1503 /Users/francesco/Repository/computer_vision_project/dataset/HAM10000/yolo_dataset/test/images/ISIC_0033314.jpg: 480x640 (no detections), 41.2ms\n",
      "image 1344/1503 /Users/francesco/Repository/computer_vision_project/dataset/HAM10000/yolo_dataset/test/images/ISIC_0033325.jpg: 480x640 1 cat, 40.2ms\n",
      "image 1345/1503 /Users/francesco/Repository/computer_vision_project/dataset/HAM10000/yolo_dataset/test/images/ISIC_0033326.jpg: 480x640 1 person, 1 cake, 28.5ms\n",
      "image 1346/1503 /Users/francesco/Repository/computer_vision_project/dataset/HAM10000/yolo_dataset/test/images/ISIC_0033327.jpg: 480x640 1 donut, 57.3ms\n",
      "image 1347/1503 /Users/francesco/Repository/computer_vision_project/dataset/HAM10000/yolo_dataset/test/images/ISIC_0033330.jpg: 480x640 (no detections), 36.7ms\n",
      "image 1348/1503 /Users/francesco/Repository/computer_vision_project/dataset/HAM10000/yolo_dataset/test/images/ISIC_0033332.jpg: 480x640 (no detections), 45.5ms\n",
      "image 1349/1503 /Users/francesco/Repository/computer_vision_project/dataset/HAM10000/yolo_dataset/test/images/ISIC_0033341.jpg: 480x640 (no detections), 57.8ms\n",
      "image 1350/1503 /Users/francesco/Repository/computer_vision_project/dataset/HAM10000/yolo_dataset/test/images/ISIC_0033347.jpg: 480x640 1 cat, 33.5ms\n",
      "image 1351/1503 /Users/francesco/Repository/computer_vision_project/dataset/HAM10000/yolo_dataset/test/images/ISIC_0033363.jpg: 480x640 1 donut, 52.7ms\n",
      "image 1352/1503 /Users/francesco/Repository/computer_vision_project/dataset/HAM10000/yolo_dataset/test/images/ISIC_0033368.jpg: 480x640 1 cat, 42.4ms\n",
      "image 1353/1503 /Users/francesco/Repository/computer_vision_project/dataset/HAM10000/yolo_dataset/test/images/ISIC_0033375.jpg: 480x640 1 person, 42.9ms\n",
      "image 1354/1503 /Users/francesco/Repository/computer_vision_project/dataset/HAM10000/yolo_dataset/test/images/ISIC_0033381.jpg: 480x640 (no detections), 36.2ms\n",
      "image 1355/1503 /Users/francesco/Repository/computer_vision_project/dataset/HAM10000/yolo_dataset/test/images/ISIC_0033386.jpg: 480x640 (no detections), 35.8ms\n",
      "image 1356/1503 /Users/francesco/Repository/computer_vision_project/dataset/HAM10000/yolo_dataset/test/images/ISIC_0033390.jpg: 480x640 (no detections), 29.6ms\n",
      "image 1357/1503 /Users/francesco/Repository/computer_vision_project/dataset/HAM10000/yolo_dataset/test/images/ISIC_0033399.jpg: 480x640 (no detections), 45.3ms\n",
      "image 1358/1503 /Users/francesco/Repository/computer_vision_project/dataset/HAM10000/yolo_dataset/test/images/ISIC_0033406.jpg: 480x640 1 cat, 46.2ms\n",
      "image 1359/1503 /Users/francesco/Repository/computer_vision_project/dataset/HAM10000/yolo_dataset/test/images/ISIC_0033412.jpg: 480x640 (no detections), 48.4ms\n",
      "image 1360/1503 /Users/francesco/Repository/computer_vision_project/dataset/HAM10000/yolo_dataset/test/images/ISIC_0033413.jpg: 480x640 (no detections), 48.9ms\n",
      "image 1361/1503 /Users/francesco/Repository/computer_vision_project/dataset/HAM10000/yolo_dataset/test/images/ISIC_0033418.jpg: 480x640 1 bed, 54.8ms\n",
      "image 1362/1503 /Users/francesco/Repository/computer_vision_project/dataset/HAM10000/yolo_dataset/test/images/ISIC_0033420.jpg: 480x640 1 cake, 58.7ms\n",
      "image 1363/1503 /Users/francesco/Repository/computer_vision_project/dataset/HAM10000/yolo_dataset/test/images/ISIC_0033438.jpg: 480x640 (no detections), 36.2ms\n",
      "image 1364/1503 /Users/francesco/Repository/computer_vision_project/dataset/HAM10000/yolo_dataset/test/images/ISIC_0033442.jpg: 480x640 1 cat, 45.6ms\n",
      "image 1365/1503 /Users/francesco/Repository/computer_vision_project/dataset/HAM10000/yolo_dataset/test/images/ISIC_0033443.jpg: 480x640 1 cat, 34.3ms\n",
      "image 1366/1503 /Users/francesco/Repository/computer_vision_project/dataset/HAM10000/yolo_dataset/test/images/ISIC_0033451.jpg: 480x640 1 cat, 52.9ms\n",
      "image 1367/1503 /Users/francesco/Repository/computer_vision_project/dataset/HAM10000/yolo_dataset/test/images/ISIC_0033468.jpg: 480x640 (no detections), 128.8ms\n",
      "image 1368/1503 /Users/francesco/Repository/computer_vision_project/dataset/HAM10000/yolo_dataset/test/images/ISIC_0033469.jpg: 480x640 (no detections), 31.2ms\n",
      "image 1369/1503 /Users/francesco/Repository/computer_vision_project/dataset/HAM10000/yolo_dataset/test/images/ISIC_0033474.jpg: 480x640 (no detections), 34.7ms\n",
      "image 1370/1503 /Users/francesco/Repository/computer_vision_project/dataset/HAM10000/yolo_dataset/test/images/ISIC_0033477.jpg: 480x640 (no detections), 65.9ms\n",
      "image 1371/1503 /Users/francesco/Repository/computer_vision_project/dataset/HAM10000/yolo_dataset/test/images/ISIC_0033478.jpg: 480x640 (no detections), 53.2ms\n",
      "image 1372/1503 /Users/francesco/Repository/computer_vision_project/dataset/HAM10000/yolo_dataset/test/images/ISIC_0033481.jpg: 480x640 1 cat, 32.7ms\n",
      "image 1373/1503 /Users/francesco/Repository/computer_vision_project/dataset/HAM10000/yolo_dataset/test/images/ISIC_0033493.jpg: 480x640 1 apple, 80.6ms\n",
      "image 1374/1503 /Users/francesco/Repository/computer_vision_project/dataset/HAM10000/yolo_dataset/test/images/ISIC_0033500.jpg: 480x640 (no detections), 58.3ms\n",
      "image 1375/1503 /Users/francesco/Repository/computer_vision_project/dataset/HAM10000/yolo_dataset/test/images/ISIC_0033502.jpg: 480x640 (no detections), 32.0ms\n",
      "image 1376/1503 /Users/francesco/Repository/computer_vision_project/dataset/HAM10000/yolo_dataset/test/images/ISIC_0033503.jpg: 480x640 (no detections), 31.5ms\n",
      "image 1377/1503 /Users/francesco/Repository/computer_vision_project/dataset/HAM10000/yolo_dataset/test/images/ISIC_0033515.jpg: 480x640 (no detections), 121.3ms\n",
      "image 1378/1503 /Users/francesco/Repository/computer_vision_project/dataset/HAM10000/yolo_dataset/test/images/ISIC_0033534.jpg: 480x640 (no detections), 37.4ms\n",
      "image 1379/1503 /Users/francesco/Repository/computer_vision_project/dataset/HAM10000/yolo_dataset/test/images/ISIC_0033538.jpg: 480x640 1 donut, 36.7ms\n",
      "image 1380/1503 /Users/francesco/Repository/computer_vision_project/dataset/HAM10000/yolo_dataset/test/images/ISIC_0033539.jpg: 480x640 1 person, 1 orange, 37.7ms\n",
      "image 1381/1503 /Users/francesco/Repository/computer_vision_project/dataset/HAM10000/yolo_dataset/test/images/ISIC_0033547.jpg: 480x640 1 bowl, 1 apple, 39.4ms\n",
      "image 1382/1503 /Users/francesco/Repository/computer_vision_project/dataset/HAM10000/yolo_dataset/test/images/ISIC_0033548.jpg: 480x640 1 cake, 51.4ms\n",
      "image 1383/1503 /Users/francesco/Repository/computer_vision_project/dataset/HAM10000/yolo_dataset/test/images/ISIC_0033551.jpg: 480x640 (no detections), 35.9ms\n",
      "image 1384/1503 /Users/francesco/Repository/computer_vision_project/dataset/HAM10000/yolo_dataset/test/images/ISIC_0033556.jpg: 480x640 1 donut, 42.6ms\n",
      "image 1385/1503 /Users/francesco/Repository/computer_vision_project/dataset/HAM10000/yolo_dataset/test/images/ISIC_0033560.jpg: 480x640 1 donut, 33.8ms\n",
      "image 1386/1503 /Users/francesco/Repository/computer_vision_project/dataset/HAM10000/yolo_dataset/test/images/ISIC_0033564.jpg: 480x640 1 pizza, 30.9ms\n",
      "image 1387/1503 /Users/francesco/Repository/computer_vision_project/dataset/HAM10000/yolo_dataset/test/images/ISIC_0033572.jpg: 480x640 1 cat, 1 pizza, 35.3ms\n",
      "image 1388/1503 /Users/francesco/Repository/computer_vision_project/dataset/HAM10000/yolo_dataset/test/images/ISIC_0033577.jpg: 480x640 (no detections), 39.7ms\n",
      "image 1389/1503 /Users/francesco/Repository/computer_vision_project/dataset/HAM10000/yolo_dataset/test/images/ISIC_0033578.jpg: 480x640 (no detections), 45.2ms\n",
      "image 1390/1503 /Users/francesco/Repository/computer_vision_project/dataset/HAM10000/yolo_dataset/test/images/ISIC_0033590.jpg: 480x640 1 cat, 42.0ms\n",
      "image 1391/1503 /Users/francesco/Repository/computer_vision_project/dataset/HAM10000/yolo_dataset/test/images/ISIC_0033594.jpg: 480x640 1 person, 1 cat, 113.0ms\n",
      "image 1392/1503 /Users/francesco/Repository/computer_vision_project/dataset/HAM10000/yolo_dataset/test/images/ISIC_0033602.jpg: 480x640 1 cat, 68.2ms\n",
      "image 1393/1503 /Users/francesco/Repository/computer_vision_project/dataset/HAM10000/yolo_dataset/test/images/ISIC_0033609.jpg: 480x640 (no detections), 44.0ms\n",
      "image 1394/1503 /Users/francesco/Repository/computer_vision_project/dataset/HAM10000/yolo_dataset/test/images/ISIC_0033618.jpg: 480x640 (no detections), 70.1ms\n",
      "image 1395/1503 /Users/francesco/Repository/computer_vision_project/dataset/HAM10000/yolo_dataset/test/images/ISIC_0033625.jpg: 480x640 1 cat, 57.5ms\n",
      "image 1396/1503 /Users/francesco/Repository/computer_vision_project/dataset/HAM10000/yolo_dataset/test/images/ISIC_0033634.jpg: 480x640 (no detections), 68.3ms\n",
      "image 1397/1503 /Users/francesco/Repository/computer_vision_project/dataset/HAM10000/yolo_dataset/test/images/ISIC_0033639.jpg: 480x640 1 pizza, 1 donut, 62.1ms\n",
      "image 1398/1503 /Users/francesco/Repository/computer_vision_project/dataset/HAM10000/yolo_dataset/test/images/ISIC_0033647.jpg: 480x640 (no detections), 48.5ms\n",
      "image 1399/1503 /Users/francesco/Repository/computer_vision_project/dataset/HAM10000/yolo_dataset/test/images/ISIC_0033649.jpg: 480x640 1 cake, 66.9ms\n",
      "image 1400/1503 /Users/francesco/Repository/computer_vision_project/dataset/HAM10000/yolo_dataset/test/images/ISIC_0033652.jpg: 480x640 (no detections), 41.3ms\n",
      "image 1401/1503 /Users/francesco/Repository/computer_vision_project/dataset/HAM10000/yolo_dataset/test/images/ISIC_0033654.jpg: 480x640 (no detections), 36.7ms\n",
      "image 1402/1503 /Users/francesco/Repository/computer_vision_project/dataset/HAM10000/yolo_dataset/test/images/ISIC_0033659.jpg: 480x640 (no detections), 56.9ms\n",
      "image 1403/1503 /Users/francesco/Repository/computer_vision_project/dataset/HAM10000/yolo_dataset/test/images/ISIC_0033661.jpg: 480x640 (no detections), 44.9ms\n",
      "image 1404/1503 /Users/francesco/Repository/computer_vision_project/dataset/HAM10000/yolo_dataset/test/images/ISIC_0033663.jpg: 480x640 1 cat, 58.5ms\n",
      "image 1405/1503 /Users/francesco/Repository/computer_vision_project/dataset/HAM10000/yolo_dataset/test/images/ISIC_0033669.jpg: 480x640 (no detections), 46.8ms\n",
      "image 1406/1503 /Users/francesco/Repository/computer_vision_project/dataset/HAM10000/yolo_dataset/test/images/ISIC_0033693.jpg: 480x640 1 person, 1 donut, 46.7ms\n",
      "image 1407/1503 /Users/francesco/Repository/computer_vision_project/dataset/HAM10000/yolo_dataset/test/images/ISIC_0033702.jpg: 480x640 2 cats, 52.8ms\n",
      "image 1408/1503 /Users/francesco/Repository/computer_vision_project/dataset/HAM10000/yolo_dataset/test/images/ISIC_0033710.jpg: 480x640 (no detections), 32.7ms\n",
      "image 1409/1503 /Users/francesco/Repository/computer_vision_project/dataset/HAM10000/yolo_dataset/test/images/ISIC_0033715.jpg: 480x640 1 donut, 38.3ms\n",
      "image 1410/1503 /Users/francesco/Repository/computer_vision_project/dataset/HAM10000/yolo_dataset/test/images/ISIC_0033717.jpg: 480x640 1 person, 36.5ms\n",
      "image 1411/1503 /Users/francesco/Repository/computer_vision_project/dataset/HAM10000/yolo_dataset/test/images/ISIC_0033719.jpg: 480x640 (no detections), 42.8ms\n",
      "image 1412/1503 /Users/francesco/Repository/computer_vision_project/dataset/HAM10000/yolo_dataset/test/images/ISIC_0033740.jpg: 480x640 (no detections), 29.2ms\n",
      "image 1413/1503 /Users/francesco/Repository/computer_vision_project/dataset/HAM10000/yolo_dataset/test/images/ISIC_0033751.jpg: 480x640 (no detections), 28.9ms\n",
      "image 1414/1503 /Users/francesco/Repository/computer_vision_project/dataset/HAM10000/yolo_dataset/test/images/ISIC_0033756.jpg: 480x640 1 cat, 27.7ms\n",
      "image 1415/1503 /Users/francesco/Repository/computer_vision_project/dataset/HAM10000/yolo_dataset/test/images/ISIC_0033761.jpg: 480x640 1 person, 1 donut, 27.4ms\n",
      "image 1416/1503 /Users/francesco/Repository/computer_vision_project/dataset/HAM10000/yolo_dataset/test/images/ISIC_0033773.jpg: 480x640 1 cat, 31.5ms\n",
      "image 1417/1503 /Users/francesco/Repository/computer_vision_project/dataset/HAM10000/yolo_dataset/test/images/ISIC_0033776.jpg: 480x640 1 donut, 30.0ms\n",
      "image 1418/1503 /Users/francesco/Repository/computer_vision_project/dataset/HAM10000/yolo_dataset/test/images/ISIC_0033781.jpg: 480x640 1 person, 36.8ms\n",
      "image 1419/1503 /Users/francesco/Repository/computer_vision_project/dataset/HAM10000/yolo_dataset/test/images/ISIC_0033787.jpg: 480x640 1 cat, 45.5ms\n",
      "image 1420/1503 /Users/francesco/Repository/computer_vision_project/dataset/HAM10000/yolo_dataset/test/images/ISIC_0033792.jpg: 480x640 (no detections), 39.1ms\n",
      "image 1421/1503 /Users/francesco/Repository/computer_vision_project/dataset/HAM10000/yolo_dataset/test/images/ISIC_0033802.jpg: 480x640 1 cat, 27.9ms\n",
      "image 1422/1503 /Users/francesco/Repository/computer_vision_project/dataset/HAM10000/yolo_dataset/test/images/ISIC_0033809.jpg: 480x640 (no detections), 37.5ms\n",
      "image 1423/1503 /Users/francesco/Repository/computer_vision_project/dataset/HAM10000/yolo_dataset/test/images/ISIC_0033815.jpg: 480x640 (no detections), 36.6ms\n",
      "image 1424/1503 /Users/francesco/Repository/computer_vision_project/dataset/HAM10000/yolo_dataset/test/images/ISIC_0033822.jpg: 480x640 (no detections), 32.7ms\n",
      "image 1425/1503 /Users/francesco/Repository/computer_vision_project/dataset/HAM10000/yolo_dataset/test/images/ISIC_0033824.jpg: 480x640 1 person, 37.9ms\n",
      "image 1426/1503 /Users/francesco/Repository/computer_vision_project/dataset/HAM10000/yolo_dataset/test/images/ISIC_0033832.jpg: 480x640 (no detections), 26.8ms\n",
      "image 1427/1503 /Users/francesco/Repository/computer_vision_project/dataset/HAM10000/yolo_dataset/test/images/ISIC_0033845.jpg: 480x640 1 cat, 27.5ms\n",
      "image 1428/1503 /Users/francesco/Repository/computer_vision_project/dataset/HAM10000/yolo_dataset/test/images/ISIC_0033846.jpg: 480x640 (no detections), 42.0ms\n",
      "image 1429/1503 /Users/francesco/Repository/computer_vision_project/dataset/HAM10000/yolo_dataset/test/images/ISIC_0033857.jpg: 480x640 1 person, 32.6ms\n",
      "image 1430/1503 /Users/francesco/Repository/computer_vision_project/dataset/HAM10000/yolo_dataset/test/images/ISIC_0033861.jpg: 480x640 (no detections), 36.6ms\n",
      "image 1431/1503 /Users/francesco/Repository/computer_vision_project/dataset/HAM10000/yolo_dataset/test/images/ISIC_0033872.jpg: 480x640 1 apple, 1 orange, 29.5ms\n",
      "image 1432/1503 /Users/francesco/Repository/computer_vision_project/dataset/HAM10000/yolo_dataset/test/images/ISIC_0033875.jpg: 480x640 1 cat, 41.5ms\n",
      "image 1433/1503 /Users/francesco/Repository/computer_vision_project/dataset/HAM10000/yolo_dataset/test/images/ISIC_0033884.jpg: 480x640 (no detections), 30.8ms\n",
      "image 1434/1503 /Users/francesco/Repository/computer_vision_project/dataset/HAM10000/yolo_dataset/test/images/ISIC_0033885.jpg: 480x640 1 donut, 33.9ms\n",
      "image 1435/1503 /Users/francesco/Repository/computer_vision_project/dataset/HAM10000/yolo_dataset/test/images/ISIC_0033891.jpg: 480x640 (no detections), 39.6ms\n",
      "image 1436/1503 /Users/francesco/Repository/computer_vision_project/dataset/HAM10000/yolo_dataset/test/images/ISIC_0033892.jpg: 480x640 1 apple, 32.6ms\n",
      "image 1437/1503 /Users/francesco/Repository/computer_vision_project/dataset/HAM10000/yolo_dataset/test/images/ISIC_0033895.jpg: 480x640 1 cat, 37.3ms\n",
      "image 1438/1503 /Users/francesco/Repository/computer_vision_project/dataset/HAM10000/yolo_dataset/test/images/ISIC_0033931.jpg: 480x640 (no detections), 28.6ms\n",
      "image 1439/1503 /Users/francesco/Repository/computer_vision_project/dataset/HAM10000/yolo_dataset/test/images/ISIC_0033933.jpg: 480x640 1 pizza, 44.1ms\n",
      "image 1440/1503 /Users/francesco/Repository/computer_vision_project/dataset/HAM10000/yolo_dataset/test/images/ISIC_0033935.jpg: 480x640 1 cat, 1 bed, 40.3ms\n",
      "image 1441/1503 /Users/francesco/Repository/computer_vision_project/dataset/HAM10000/yolo_dataset/test/images/ISIC_0033938.jpg: 480x640 1 cat, 45.0ms\n",
      "image 1442/1503 /Users/francesco/Repository/computer_vision_project/dataset/HAM10000/yolo_dataset/test/images/ISIC_0033943.jpg: 480x640 (no detections), 42.3ms\n",
      "image 1443/1503 /Users/francesco/Repository/computer_vision_project/dataset/HAM10000/yolo_dataset/test/images/ISIC_0033946.jpg: 480x640 1 person, 1 cat, 36.9ms\n",
      "image 1444/1503 /Users/francesco/Repository/computer_vision_project/dataset/HAM10000/yolo_dataset/test/images/ISIC_0033948.jpg: 480x640 1 cat, 65.9ms\n",
      "image 1445/1503 /Users/francesco/Repository/computer_vision_project/dataset/HAM10000/yolo_dataset/test/images/ISIC_0033956.jpg: 480x640 (no detections), 37.9ms\n",
      "image 1446/1503 /Users/francesco/Repository/computer_vision_project/dataset/HAM10000/yolo_dataset/test/images/ISIC_0033963.jpg: 480x640 (no detections), 46.2ms\n",
      "image 1447/1503 /Users/francesco/Repository/computer_vision_project/dataset/HAM10000/yolo_dataset/test/images/ISIC_0033967.jpg: 480x640 1 donut, 40.0ms\n",
      "image 1448/1503 /Users/francesco/Repository/computer_vision_project/dataset/HAM10000/yolo_dataset/test/images/ISIC_0033975.jpg: 480x640 (no detections), 47.9ms\n",
      "image 1449/1503 /Users/francesco/Repository/computer_vision_project/dataset/HAM10000/yolo_dataset/test/images/ISIC_0033980.jpg: 480x640 (no detections), 34.3ms\n",
      "image 1450/1503 /Users/francesco/Repository/computer_vision_project/dataset/HAM10000/yolo_dataset/test/images/ISIC_0033989.jpg: 480x640 1 cat, 42.0ms\n",
      "image 1451/1503 /Users/francesco/Repository/computer_vision_project/dataset/HAM10000/yolo_dataset/test/images/ISIC_0034004.jpg: 480x640 1 person, 32.0ms\n",
      "image 1452/1503 /Users/francesco/Repository/computer_vision_project/dataset/HAM10000/yolo_dataset/test/images/ISIC_0034005.jpg: 480x640 (no detections), 33.1ms\n",
      "image 1453/1503 /Users/francesco/Repository/computer_vision_project/dataset/HAM10000/yolo_dataset/test/images/ISIC_0034012.jpg: 480x640 (no detections), 28.0ms\n",
      "image 1454/1503 /Users/francesco/Repository/computer_vision_project/dataset/HAM10000/yolo_dataset/test/images/ISIC_0034017.jpg: 480x640 1 person, 1 apple, 1 orange, 1 donut, 49.0ms\n",
      "image 1455/1503 /Users/francesco/Repository/computer_vision_project/dataset/HAM10000/yolo_dataset/test/images/ISIC_0034025.jpg: 480x640 1 person, 33.2ms\n",
      "image 1456/1503 /Users/francesco/Repository/computer_vision_project/dataset/HAM10000/yolo_dataset/test/images/ISIC_0034049.jpg: 480x640 (no detections), 28.5ms\n",
      "image 1457/1503 /Users/francesco/Repository/computer_vision_project/dataset/HAM10000/yolo_dataset/test/images/ISIC_0034051.jpg: 480x640 1 cup, 29.8ms\n",
      "image 1458/1503 /Users/francesco/Repository/computer_vision_project/dataset/HAM10000/yolo_dataset/test/images/ISIC_0034052.jpg: 480x640 1 dog, 1 teddy bear, 34.3ms\n",
      "image 1459/1503 /Users/francesco/Repository/computer_vision_project/dataset/HAM10000/yolo_dataset/test/images/ISIC_0034053.jpg: 480x640 (no detections), 38.6ms\n",
      "image 1460/1503 /Users/francesco/Repository/computer_vision_project/dataset/HAM10000/yolo_dataset/test/images/ISIC_0034059.jpg: 480x640 (no detections), 29.8ms\n",
      "image 1461/1503 /Users/francesco/Repository/computer_vision_project/dataset/HAM10000/yolo_dataset/test/images/ISIC_0034060.jpg: 480x640 (no detections), 31.1ms\n",
      "image 1462/1503 /Users/francesco/Repository/computer_vision_project/dataset/HAM10000/yolo_dataset/test/images/ISIC_0034073.jpg: 480x640 (no detections), 25.8ms\n",
      "image 1463/1503 /Users/francesco/Repository/computer_vision_project/dataset/HAM10000/yolo_dataset/test/images/ISIC_0034078.jpg: 480x640 (no detections), 44.1ms\n",
      "image 1464/1503 /Users/francesco/Repository/computer_vision_project/dataset/HAM10000/yolo_dataset/test/images/ISIC_0034079.jpg: 480x640 1 person, 1 bowl, 1 donut, 36.4ms\n",
      "image 1465/1503 /Users/francesco/Repository/computer_vision_project/dataset/HAM10000/yolo_dataset/test/images/ISIC_0034080.jpg: 480x640 1 cat, 28.0ms\n",
      "image 1466/1503 /Users/francesco/Repository/computer_vision_project/dataset/HAM10000/yolo_dataset/test/images/ISIC_0034096.jpg: 480x640 (no detections), 41.6ms\n",
      "image 1467/1503 /Users/francesco/Repository/computer_vision_project/dataset/HAM10000/yolo_dataset/test/images/ISIC_0034097.jpg: 480x640 1 cat, 34.9ms\n",
      "image 1468/1503 /Users/francesco/Repository/computer_vision_project/dataset/HAM10000/yolo_dataset/test/images/ISIC_0034103.jpg: 480x640 1 cat, 30.0ms\n",
      "image 1469/1503 /Users/francesco/Repository/computer_vision_project/dataset/HAM10000/yolo_dataset/test/images/ISIC_0034105.jpg: 480x640 1 cat, 28.0ms\n",
      "image 1470/1503 /Users/francesco/Repository/computer_vision_project/dataset/HAM10000/yolo_dataset/test/images/ISIC_0034113.jpg: 480x640 (no detections), 28.4ms\n",
      "image 1471/1503 /Users/francesco/Repository/computer_vision_project/dataset/HAM10000/yolo_dataset/test/images/ISIC_0034120.jpg: 480x640 1 cat, 27.0ms\n",
      "image 1472/1503 /Users/francesco/Repository/computer_vision_project/dataset/HAM10000/yolo_dataset/test/images/ISIC_0034128.jpg: 480x640 1 cat, 33.2ms\n",
      "image 1473/1503 /Users/francesco/Repository/computer_vision_project/dataset/HAM10000/yolo_dataset/test/images/ISIC_0034129.jpg: 480x640 1 cake, 35.8ms\n",
      "image 1474/1503 /Users/francesco/Repository/computer_vision_project/dataset/HAM10000/yolo_dataset/test/images/ISIC_0034134.jpg: 480x640 (no detections), 27.5ms\n",
      "image 1475/1503 /Users/francesco/Repository/computer_vision_project/dataset/HAM10000/yolo_dataset/test/images/ISIC_0034136.jpg: 480x640 1 apple, 28.4ms\n",
      "image 1476/1503 /Users/francesco/Repository/computer_vision_project/dataset/HAM10000/yolo_dataset/test/images/ISIC_0034137.jpg: 480x640 1 person, 31.6ms\n",
      "image 1477/1503 /Users/francesco/Repository/computer_vision_project/dataset/HAM10000/yolo_dataset/test/images/ISIC_0034141.jpg: 480x640 (no detections), 29.7ms\n",
      "image 1478/1503 /Users/francesco/Repository/computer_vision_project/dataset/HAM10000/yolo_dataset/test/images/ISIC_0034155.jpg: 480x640 (no detections), 29.6ms\n",
      "image 1479/1503 /Users/francesco/Repository/computer_vision_project/dataset/HAM10000/yolo_dataset/test/images/ISIC_0034163.jpg: 480x640 (no detections), 48.2ms\n",
      "image 1480/1503 /Users/francesco/Repository/computer_vision_project/dataset/HAM10000/yolo_dataset/test/images/ISIC_0034164.jpg: 480x640 1 cat, 28.5ms\n",
      "image 1481/1503 /Users/francesco/Repository/computer_vision_project/dataset/HAM10000/yolo_dataset/test/images/ISIC_0034166.jpg: 480x640 1 cat, 29.5ms\n",
      "image 1482/1503 /Users/francesco/Repository/computer_vision_project/dataset/HAM10000/yolo_dataset/test/images/ISIC_0034173.jpg: 480x640 (no detections), 33.1ms\n",
      "image 1483/1503 /Users/francesco/Repository/computer_vision_project/dataset/HAM10000/yolo_dataset/test/images/ISIC_0034174.jpg: 480x640 (no detections), 27.0ms\n",
      "image 1484/1503 /Users/francesco/Repository/computer_vision_project/dataset/HAM10000/yolo_dataset/test/images/ISIC_0034177.jpg: 480x640 (no detections), 37.5ms\n",
      "image 1485/1503 /Users/francesco/Repository/computer_vision_project/dataset/HAM10000/yolo_dataset/test/images/ISIC_0034184.jpg: 480x640 (no detections), 33.3ms\n",
      "image 1486/1503 /Users/francesco/Repository/computer_vision_project/dataset/HAM10000/yolo_dataset/test/images/ISIC_0034195.jpg: 480x640 1 person, 1 cat, 1 donut, 25.5ms\n",
      "image 1487/1503 /Users/francesco/Repository/computer_vision_project/dataset/HAM10000/yolo_dataset/test/images/ISIC_0034199.jpg: 480x640 (no detections), 26.4ms\n",
      "image 1488/1503 /Users/francesco/Repository/computer_vision_project/dataset/HAM10000/yolo_dataset/test/images/ISIC_0034202.jpg: 480x640 1 cat, 25.4ms\n",
      "image 1489/1503 /Users/francesco/Repository/computer_vision_project/dataset/HAM10000/yolo_dataset/test/images/ISIC_0034225.jpg: 480x640 1 cat, 29.9ms\n",
      "image 1490/1503 /Users/francesco/Repository/computer_vision_project/dataset/HAM10000/yolo_dataset/test/images/ISIC_0034230.jpg: 480x640 1 cat, 27.9ms\n",
      "image 1491/1503 /Users/francesco/Repository/computer_vision_project/dataset/HAM10000/yolo_dataset/test/images/ISIC_0034235.jpg: 480x640 1 cat, 31.6ms\n",
      "image 1492/1503 /Users/francesco/Repository/computer_vision_project/dataset/HAM10000/yolo_dataset/test/images/ISIC_0034253.jpg: 480x640 1 cat, 25.5ms\n",
      "image 1493/1503 /Users/francesco/Repository/computer_vision_project/dataset/HAM10000/yolo_dataset/test/images/ISIC_0034257.jpg: 480x640 1 person, 1 cat, 25.1ms\n",
      "image 1494/1503 /Users/francesco/Repository/computer_vision_project/dataset/HAM10000/yolo_dataset/test/images/ISIC_0034265.jpg: 480x640 (no detections), 29.5ms\n",
      "image 1495/1503 /Users/francesco/Repository/computer_vision_project/dataset/HAM10000/yolo_dataset/test/images/ISIC_0034271.jpg: 480x640 1 cat, 27.4ms\n",
      "image 1496/1503 /Users/francesco/Repository/computer_vision_project/dataset/HAM10000/yolo_dataset/test/images/ISIC_0034285.jpg: 480x640 1 cake, 27.2ms\n",
      "image 1497/1503 /Users/francesco/Repository/computer_vision_project/dataset/HAM10000/yolo_dataset/test/images/ISIC_0034286.jpg: 480x640 (no detections), 35.0ms\n",
      "image 1498/1503 /Users/francesco/Repository/computer_vision_project/dataset/HAM10000/yolo_dataset/test/images/ISIC_0034295.jpg: 480x640 1 cat, 32.3ms\n",
      "image 1499/1503 /Users/francesco/Repository/computer_vision_project/dataset/HAM10000/yolo_dataset/test/images/ISIC_0034304.jpg: 480x640 (no detections), 26.5ms\n",
      "image 1500/1503 /Users/francesco/Repository/computer_vision_project/dataset/HAM10000/yolo_dataset/test/images/ISIC_0034305.jpg: 480x640 (no detections), 25.6ms\n",
      "image 1501/1503 /Users/francesco/Repository/computer_vision_project/dataset/HAM10000/yolo_dataset/test/images/ISIC_0034313.jpg: 480x640 1 cat, 28.2ms\n",
      "image 1502/1503 /Users/francesco/Repository/computer_vision_project/dataset/HAM10000/yolo_dataset/test/images/ISIC_0034314.jpg: 480x640 1 pizza, 1 donut, 1 bed, 24.8ms\n",
      "image 1503/1503 /Users/francesco/Repository/computer_vision_project/dataset/HAM10000/yolo_dataset/test/images/ISIC_0034317.jpg: 480x640 (no detections), 28.5ms\n",
      "Speed: 1.3ms preprocess, 34.9ms inference, 0.3ms postprocess per image at shape (1, 3, 480, 640)\n",
      "Results saved to \u001b[1mruns/detect/predict\u001b[0m\n",
      "564 labels saved to runs/detect/predict/labels\n"
     ]
    }
   ],
   "source": [
    "# model = YOLO(\"/home/francesco/repos/computer_vision_project/skc_src/mole_detector/yolo11n.pt\")\n",
    "model = YOLO(\"/Users/francesco/Repository/computer_vision_project/skc_src/mole_detector/yolo11n.pt\")\n",
    "\n",
    "metrics = model.val(data='/Users/francesco/Repository/computer_vision_project/dataset/HAM10000/yolo_dataset/dataset.yaml')\n",
    "\n",
    "results = model.predict(\n",
    "    # source=\"/home/francesco/Desktop/archive/yolo_dataset/yolo_dataset/test\",\n",
    "    source=\"/Users/francesco/Repository/computer_vision_project/dataset/HAM10000/yolo_dataset/test/images\",\n",
    "    conf=0.2,\n",
    "    iou=0.3,\n",
    "    max_det=5,\n",
    "    save_txt=True,\n",
    "    save_conf=True,\n",
    "    save=True\n",
    ")\n",
    "\n",
    "for r in results:\n",
    "    boxes = r.boxes\n",
    "    masks = r.masks\n",
    "    probs = r.probs\n"
   ]
  }
 ],
 "metadata": {
  "kernelspec": {
   "display_name": "cvproj",
   "language": "python",
   "name": "python3"
  },
  "language_info": {
   "codemirror_mode": {
    "name": "ipython",
    "version": 3
   },
   "file_extension": ".py",
   "mimetype": "text/x-python",
   "name": "python",
   "nbconvert_exporter": "python",
   "pygments_lexer": "ipython3",
   "version": "3.12.4"
  }
 },
 "nbformat": 4,
 "nbformat_minor": 2
}
